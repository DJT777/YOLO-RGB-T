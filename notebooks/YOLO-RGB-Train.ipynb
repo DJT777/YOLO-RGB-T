{
 "cells": [
  {
   "cell_type": "code",
   "execution_count": 1,
   "id": "178a8b68",
   "metadata": {},
   "outputs": [
    {
     "name": "stdout",
     "output_type": "stream",
     "text": [
      "WARNING ⚠️ torchvision==0.20 is incompatible with torch==2.4.\n",
      "Run 'pip install torchvision==0.19' to fix torchvision or 'pip install -U torch torchvision' to update both.\n",
      "For a full compatibility table see https://github.com/pytorch/vision#installation\n",
      "Transferred 1015/1015 items from pretrained weights\n",
      "New https://pypi.org/project/ultralytics/8.3.51 available 😃 Update with 'pip install -U ultralytics'\n",
      "Ultralytics 8.3.33 🚀 Python-3.8.20 torch-2.4.1 CUDA:0 (NVIDIA GeForce RTX 4060 Ti, 16073MiB)\n",
      "\u001b[34m\u001b[1mengine/trainer: \u001b[0mtask=detect, mode=train, model=yolo11x.yaml, data=/home/dylan/projects/YOLO-RGB-T/data-RGB.yaml, epochs=100, time=None, patience=100, batch=8, imgsz=640, save=True, save_period=-1, cache=False, device=None, workers=8, project=None, name=train10, exist_ok=False, pretrained=yolo11x.pt, optimizer=auto, verbose=True, seed=0, deterministic=True, single_cls=False, rect=False, cos_lr=False, close_mosaic=10, resume=False, amp=True, fraction=1.0, profile=False, freeze=None, multi_scale=False, overlap_mask=True, mask_ratio=4, dropout=0.0, val=True, split=val, save_json=False, save_hybrid=False, conf=None, iou=0.7, max_det=300, half=False, dnn=False, plots=True, source=None, vid_stride=1, stream_buffer=False, visualize=False, augment=False, agnostic_nms=False, classes=None, retina_masks=False, embed=None, show=False, save_frames=False, save_txt=False, save_conf=False, save_crop=False, show_labels=True, show_conf=True, show_boxes=True, line_width=None, format=torchscript, keras=False, optimize=False, int8=False, dynamic=False, simplify=True, opset=None, workspace=4, nms=False, lr0=0.01, lrf=0.01, momentum=0.937, weight_decay=0.0005, warmup_epochs=3.0, warmup_momentum=0.8, warmup_bias_lr=0.1, box=7.5, cls=0.5, dfl=1.5, pose=12.0, kobj=1.0, label_smoothing=0.0, nbs=64, hsv_h=0.0, hsv_s=0.0, hsv_v=0.0, degrees=0.0, translate=0.0, scale=0.0, shear=0.0, perspective=0.0, flipud=0.0, fliplr=0.0, bgr=0.0, mosaic=0.0, mixup=0.0, copy_paste=0.0, copy_paste_mode=flip, auto_augment=None, erasing=0.0, crop_fraction=1.0, cfg=None, tracker=botsort.yaml, save_dir=runs/detect/train10\n",
      "Overriding model.yaml nc=80 with nc=15\n",
      "\n",
      "                   from  n    params  module                                       arguments                     \n",
      "  0                  -1  1      2784  ultralytics.nn.modules.conv.Conv             [3, 96, 3, 2]                 \n",
      "  1                  -1  1    166272  ultralytics.nn.modules.conv.Conv             [96, 192, 3, 2]               \n",
      "  2                  -1  2    389760  ultralytics.nn.modules.block.C3k2            [192, 384, 2, True, 0.25]     \n",
      "  3                  -1  1   1327872  ultralytics.nn.modules.conv.Conv             [384, 384, 3, 2]              \n",
      "  4                  -1  2   1553664  ultralytics.nn.modules.block.C3k2            [384, 768, 2, True, 0.25]     \n",
      "  5                  -1  1   5309952  ultralytics.nn.modules.conv.Conv             [768, 768, 3, 2]              \n",
      "  6                  -1  2   5022720  ultralytics.nn.modules.block.C3k2            [768, 768, 2, True]           \n",
      "  7                  -1  1   5309952  ultralytics.nn.modules.conv.Conv             [768, 768, 3, 2]              \n",
      "  8                  -1  2   5022720  ultralytics.nn.modules.block.C3k2            [768, 768, 2, True]           \n",
      "  9                  -1  1   1476864  ultralytics.nn.modules.block.SPPF            [768, 768, 5]                 \n",
      " 10                  -1  2   3264768  ultralytics.nn.modules.block.C2PSA           [768, 768, 2]                 \n",
      " 11                  -1  1         0  torch.nn.modules.upsampling.Upsample         [None, 2, 'nearest']          \n",
      " 12             [-1, 6]  1         0  ultralytics.nn.modules.conv.Concat           [1]                           \n",
      " 13                  -1  2   5612544  ultralytics.nn.modules.block.C3k2            [1536, 768, 2, True]          \n",
      " 14                  -1  1         0  torch.nn.modules.upsampling.Upsample         [None, 2, 'nearest']          \n",
      " 15             [-1, 4]  1         0  ultralytics.nn.modules.conv.Concat           [1]                           \n",
      " 16                  -1  2   1700352  ultralytics.nn.modules.block.C3k2            [1536, 384, 2, True]          \n",
      " 17                  -1  1   1327872  ultralytics.nn.modules.conv.Conv             [384, 384, 3, 2]              \n",
      " 18            [-1, 13]  1         0  ultralytics.nn.modules.conv.Concat           [1]                           \n",
      " 19                  -1  2   5317632  ultralytics.nn.modules.block.C3k2            [1152, 768, 2, True]          \n",
      " 20                  -1  1   5309952  ultralytics.nn.modules.conv.Conv             [768, 768, 3, 2]              \n",
      " 21            [-1, 10]  1         0  ultralytics.nn.modules.conv.Concat           [1]                           \n",
      " 22                  -1  2   5612544  ultralytics.nn.modules.block.C3k2            [1536, 768, 2, True]          \n",
      " 23        [16, 19, 22]  1   3162877  ultralytics.nn.modules.head.Detect           [15, [384, 768, 768]]         \n",
      "YOLO11x summary: 631 layers, 56,891,101 parameters, 56,891,085 gradients, 195.5 GFLOPs\n",
      "\n",
      "Transferred 1009/1015 items from pretrained weights\n",
      "\u001b[34m\u001b[1mTensorBoard: \u001b[0mStart with 'tensorboard --logdir runs/detect/train10', view at http://localhost:6006/\n",
      "Freezing layer 'model.23.dfl.conv.weight'\n",
      "\u001b[34m\u001b[1mAMP: \u001b[0mrunning Automatic Mixed Precision (AMP) checks...\n",
      "\u001b[34m\u001b[1mAMP: \u001b[0mchecks passed ✅\n"
     ]
    },
    {
     "name": "stderr",
     "output_type": "stream",
     "text": [
      "\u001b[34m\u001b[1mtrain: \u001b[0mScanning /home/dylan/projects/YOLO-RGB-T/notebooks/FLIR/RGB/labels/train.cache... 10318 images, 265 backgrounds, 794 corrupt: 100%|██████████| 10318/10318 [00:00<?, ?it/s]"
     ]
    },
    {
     "name": "stdout",
     "output_type": "stream",
     "text": [
      "\u001b[34m\u001b[1mtrain: \u001b[0mWARNING ⚠️ /home/dylan/projects/YOLO-RGB-T/notebooks/FLIR/RGB/images/train/video-2FTpJaGZLDBCcJfa7-frame-000993-WRmzA7fcimBp7dgC4.jpg: ignoring corrupt image/label: Label class 78 exceeds dataset class count 15. Possible class labels are 0-14\n",
      "\u001b[34m\u001b[1mtrain: \u001b[0mWARNING ⚠️ /home/dylan/projects/YOLO-RGB-T/notebooks/FLIR/RGB/images/train/video-2FTpJaGZLDBCcJfa7-frame-001293-asWrkcwP7AvbzdRie.jpg: ignoring corrupt image/label: Label class 78 exceeds dataset class count 15. Possible class labels are 0-14\n",
      "\u001b[34m\u001b[1mtrain: \u001b[0mWARNING ⚠️ /home/dylan/projects/YOLO-RGB-T/notebooks/FLIR/RGB/images/train/video-2FTpJaGZLDBCcJfa7-frame-001624-v4AyfNpFrAiYcR5kt.jpg: ignoring corrupt image/label: Label class 72 exceeds dataset class count 15. Possible class labels are 0-14\n",
      "\u001b[34m\u001b[1mtrain: \u001b[0mWARNING ⚠️ /home/dylan/projects/YOLO-RGB-T/notebooks/FLIR/RGB/images/train/video-2FTpJaGZLDBCcJfa7-frame-001639-bHr4mJmEEW7HSLjkb.jpg: ignoring corrupt image/label: Label class 72 exceeds dataset class count 15. Possible class labels are 0-14\n",
      "\u001b[34m\u001b[1mtrain: \u001b[0mWARNING ⚠️ /home/dylan/projects/YOLO-RGB-T/notebooks/FLIR/RGB/images/train/video-2FTpJaGZLDBCcJfa7-frame-001654-zQ4WCTnnFZqb3eLZa.jpg: ignoring corrupt image/label: Label class 72 exceeds dataset class count 15. Possible class labels are 0-14\n",
      "\u001b[34m\u001b[1mtrain: \u001b[0mWARNING ⚠️ /home/dylan/projects/YOLO-RGB-T/notebooks/FLIR/RGB/images/train/video-2FTpJaGZLDBCcJfa7-frame-001669-zCfKN5p5JhrgTDbax.jpg: ignoring corrupt image/label: Label class 72 exceeds dataset class count 15. Possible class labels are 0-14\n",
      "\u001b[34m\u001b[1mtrain: \u001b[0mWARNING ⚠️ /home/dylan/projects/YOLO-RGB-T/notebooks/FLIR/RGB/images/train/video-2FTpJaGZLDBCcJfa7-frame-001684-QJLBLxwvM3zrpn95Q.jpg: ignoring corrupt image/label: Label class 72 exceeds dataset class count 15. Possible class labels are 0-14\n",
      "\u001b[34m\u001b[1mtrain: \u001b[0mWARNING ⚠️ /home/dylan/projects/YOLO-RGB-T/notebooks/FLIR/RGB/images/train/video-2FTpJaGZLDBCcJfa7-frame-001699-4qDCfytFiBNLzAWfF.jpg: ignoring corrupt image/label: Label class 72 exceeds dataset class count 15. Possible class labels are 0-14\n",
      "\u001b[34m\u001b[1mtrain: \u001b[0mWARNING ⚠️ /home/dylan/projects/YOLO-RGB-T/notebooks/FLIR/RGB/images/train/video-2FTpJaGZLDBCcJfa7-frame-002468-GjmbbZyQtEpySL6SC.jpg: ignoring corrupt image/label: Label class 78 exceeds dataset class count 15. Possible class labels are 0-14\n",
      "\u001b[34m\u001b[1mtrain: \u001b[0mWARNING ⚠️ /home/dylan/projects/YOLO-RGB-T/notebooks/FLIR/RGB/images/train/video-2FTpJaGZLDBCcJfa7-frame-002483-hhXqivJRMfgHkMrAA.jpg: ignoring corrupt image/label: Label class 78 exceeds dataset class count 15. Possible class labels are 0-14\n",
      "\u001b[34m\u001b[1mtrain: \u001b[0mWARNING ⚠️ /home/dylan/projects/YOLO-RGB-T/notebooks/FLIR/RGB/images/train/video-2FTpJaGZLDBCcJfa7-frame-002498-Z5qLTeGugYiLWjPNa.jpg: ignoring corrupt image/label: Label class 78 exceeds dataset class count 15. Possible class labels are 0-14\n",
      "\u001b[34m\u001b[1mtrain: \u001b[0mWARNING ⚠️ /home/dylan/projects/YOLO-RGB-T/notebooks/FLIR/RGB/images/train/video-2FTpJaGZLDBCcJfa7-frame-002513-txZgH632DnDNxfEiF.jpg: ignoring corrupt image/label: Label class 78 exceeds dataset class count 15. Possible class labels are 0-14\n",
      "\u001b[34m\u001b[1mtrain: \u001b[0mWARNING ⚠️ /home/dylan/projects/YOLO-RGB-T/notebooks/FLIR/RGB/images/train/video-2FTpJaGZLDBCcJfa7-frame-002528-P32nGa9t3ZD5xMru6.jpg: ignoring corrupt image/label: Label class 78 exceeds dataset class count 15. Possible class labels are 0-14\n",
      "\u001b[34m\u001b[1mtrain: \u001b[0mWARNING ⚠️ /home/dylan/projects/YOLO-RGB-T/notebooks/FLIR/RGB/images/train/video-2FTpJaGZLDBCcJfa7-frame-003211-NLvcMmif3FyhcpaXC.jpg: ignoring corrupt image/label: Label class 78 exceeds dataset class count 15. Possible class labels are 0-14\n",
      "\u001b[34m\u001b[1mtrain: \u001b[0mWARNING ⚠️ /home/dylan/projects/YOLO-RGB-T/notebooks/FLIR/RGB/images/train/video-2FTpJaGZLDBCcJfa7-frame-003226-Tv85ZzCytDndZbjC5.jpg: ignoring corrupt image/label: Label class 78 exceeds dataset class count 15. Possible class labels are 0-14\n",
      "\u001b[34m\u001b[1mtrain: \u001b[0mWARNING ⚠️ /home/dylan/projects/YOLO-RGB-T/notebooks/FLIR/RGB/images/train/video-2FTpJaGZLDBCcJfa7-frame-003241-TjNtGfyqAXeTi7u26.jpg: ignoring corrupt image/label: Label class 78 exceeds dataset class count 15. Possible class labels are 0-14\n",
      "\u001b[34m\u001b[1mtrain: \u001b[0mWARNING ⚠️ /home/dylan/projects/YOLO-RGB-T/notebooks/FLIR/RGB/images/train/video-2FTpJaGZLDBCcJfa7-frame-003256-qudPorYNbQfcdXadS.jpg: ignoring corrupt image/label: Label class 78 exceeds dataset class count 15. Possible class labels are 0-14\n",
      "\u001b[34m\u001b[1mtrain: \u001b[0mWARNING ⚠️ /home/dylan/projects/YOLO-RGB-T/notebooks/FLIR/RGB/images/train/video-2FTpJaGZLDBCcJfa7-frame-003271-TBNYL9iGwdLPHdPD6.jpg: ignoring corrupt image/label: Label class 78 exceeds dataset class count 15. Possible class labels are 0-14\n",
      "\u001b[34m\u001b[1mtrain: \u001b[0mWARNING ⚠️ /home/dylan/projects/YOLO-RGB-T/notebooks/FLIR/RGB/images/train/video-2FTpJaGZLDBCcJfa7-frame-003286-ypWqffrtduQYphdCi.jpg: ignoring corrupt image/label: Label class 78 exceeds dataset class count 15. Possible class labels are 0-14\n",
      "\u001b[34m\u001b[1mtrain: \u001b[0mWARNING ⚠️ /home/dylan/projects/YOLO-RGB-T/notebooks/FLIR/RGB/images/train/video-2FTpJaGZLDBCcJfa7-frame-003496-pQzSC5tBwxNQQ4bbg.jpg: ignoring corrupt image/label: Label class 78 exceeds dataset class count 15. Possible class labels are 0-14\n",
      "\u001b[34m\u001b[1mtrain: \u001b[0mWARNING ⚠️ /home/dylan/projects/YOLO-RGB-T/notebooks/FLIR/RGB/images/train/video-3ETNX4cLQZDk7faJz-frame-010800-78okNFxitgdKkDALm.jpg: ignoring corrupt image/label: Label class 78 exceeds dataset class count 15. Possible class labels are 0-14\n",
      "\u001b[34m\u001b[1mtrain: \u001b[0mWARNING ⚠️ /home/dylan/projects/YOLO-RGB-T/notebooks/FLIR/RGB/images/train/video-3S5epHQCkv6wkCYzm-frame-002615-kWDtxJjvKmG8N6wSv.jpg: ignoring corrupt image/label: Label class 78 exceeds dataset class count 15. Possible class labels are 0-14\n",
      "\u001b[34m\u001b[1mtrain: \u001b[0mWARNING ⚠️ /home/dylan/projects/YOLO-RGB-T/notebooks/FLIR/RGB/images/train/video-3S5epHQCkv6wkCYzm-frame-004842-TjBZatDnkcDoQqXbz.jpg: ignoring corrupt image/label: Label class 78 exceeds dataset class count 15. Possible class labels are 0-14\n",
      "\u001b[34m\u001b[1mtrain: \u001b[0mWARNING ⚠️ /home/dylan/projects/YOLO-RGB-T/notebooks/FLIR/RGB/images/train/video-5QoXuQGyxSHRA2w6Q-frame-000900-LLCA2gGnT4twQsbdj.jpg: ignoring corrupt image/label: Label class 78 exceeds dataset class count 15. Possible class labels are 0-14\n",
      "\u001b[34m\u001b[1mtrain: \u001b[0mWARNING ⚠️ /home/dylan/projects/YOLO-RGB-T/notebooks/FLIR/RGB/images/train/video-5QoXuQGyxSHRA2w6Q-frame-002137-AyHjrADzQRfgqW65s.jpg: ignoring corrupt image/label: Label class 72 exceeds dataset class count 15. Possible class labels are 0-14\n",
      "\u001b[34m\u001b[1mtrain: \u001b[0mWARNING ⚠️ /home/dylan/projects/YOLO-RGB-T/notebooks/FLIR/RGB/images/train/video-5cjYEXHzgSozgiMjY-frame-003248-wNyYhtGbdyY8ZeDpi.jpg: ignoring corrupt image/label: Label class 78 exceeds dataset class count 15. Possible class labels are 0-14\n",
      "\u001b[34m\u001b[1mtrain: \u001b[0mWARNING ⚠️ /home/dylan/projects/YOLO-RGB-T/notebooks/FLIR/RGB/images/train/video-5cjYEXHzgSozgiMjY-frame-003278-HH64viksg44tvXP3i.jpg: ignoring corrupt image/label: Label class 78 exceeds dataset class count 15. Possible class labels are 0-14\n",
      "\u001b[34m\u001b[1mtrain: \u001b[0mWARNING ⚠️ /home/dylan/projects/YOLO-RGB-T/notebooks/FLIR/RGB/images/train/video-5cjYEXHzgSozgiMjY-frame-003293-BozeP53qNkcK6rzFX.jpg: ignoring corrupt image/label: Label class 78 exceeds dataset class count 15. Possible class labels are 0-14\n",
      "\u001b[34m\u001b[1mtrain: \u001b[0mWARNING ⚠️ /home/dylan/projects/YOLO-RGB-T/notebooks/FLIR/RGB/images/train/video-5cjYEXHzgSozgiMjY-frame-003338-tRZmBxtZhdQfBZ7gm.jpg: ignoring corrupt image/label: Label class 78 exceeds dataset class count 15. Possible class labels are 0-14\n",
      "\u001b[34m\u001b[1mtrain: \u001b[0mWARNING ⚠️ /home/dylan/projects/YOLO-RGB-T/notebooks/FLIR/RGB/images/train/video-5cjYEXHzgSozgiMjY-frame-003353-PPfvoi9EDEcs547Kp.jpg: ignoring corrupt image/label: Label class 78 exceeds dataset class count 15. Possible class labels are 0-14\n",
      "\u001b[34m\u001b[1mtrain: \u001b[0mWARNING ⚠️ /home/dylan/projects/YOLO-RGB-T/notebooks/FLIR/RGB/images/train/video-5cjYEXHzgSozgiMjY-frame-003368-SHhnTR5MBLTniFSx6.jpg: ignoring corrupt image/label: Label class 78 exceeds dataset class count 15. Possible class labels are 0-14\n",
      "\u001b[34m\u001b[1mtrain: \u001b[0mWARNING ⚠️ /home/dylan/projects/YOLO-RGB-T/notebooks/FLIR/RGB/images/train/video-5cjYEXHzgSozgiMjY-frame-003383-nKPXexDCfX49BdhMy.jpg: ignoring corrupt image/label: Label class 78 exceeds dataset class count 15. Possible class labels are 0-14\n",
      "\u001b[34m\u001b[1mtrain: \u001b[0mWARNING ⚠️ /home/dylan/projects/YOLO-RGB-T/notebooks/FLIR/RGB/images/train/video-5cjYEXHzgSozgiMjY-frame-003413-GSePimgfa3CWWSdYE.jpg: ignoring corrupt image/label: Label class 78 exceeds dataset class count 15. Possible class labels are 0-14\n",
      "\u001b[34m\u001b[1mtrain: \u001b[0mWARNING ⚠️ /home/dylan/projects/YOLO-RGB-T/notebooks/FLIR/RGB/images/train/video-5cjYEXHzgSozgiMjY-frame-003428-csnaT87n4FeEszm3R.jpg: ignoring corrupt image/label: Label class 78 exceeds dataset class count 15. Possible class labels are 0-14\n",
      "\u001b[34m\u001b[1mtrain: \u001b[0mWARNING ⚠️ /home/dylan/projects/YOLO-RGB-T/notebooks/FLIR/RGB/images/train/video-5cjYEXHzgSozgiMjY-frame-003443-PR77CCwtsb7z6msZv.jpg: ignoring corrupt image/label: Label class 78 exceeds dataset class count 15. Possible class labels are 0-14\n",
      "\u001b[34m\u001b[1mtrain: \u001b[0mWARNING ⚠️ /home/dylan/projects/YOLO-RGB-T/notebooks/FLIR/RGB/images/train/video-5cjYEXHzgSozgiMjY-frame-003458-mNqjuzyakJLmBGuCW.jpg: ignoring corrupt image/label: Label class 78 exceeds dataset class count 15. Possible class labels are 0-14\n",
      "\u001b[34m\u001b[1mtrain: \u001b[0mWARNING ⚠️ /home/dylan/projects/YOLO-RGB-T/notebooks/FLIR/RGB/images/train/video-5cjYEXHzgSozgiMjY-frame-003488-6Wg55bsjJ49uoX9T7.jpg: ignoring corrupt image/label: Label class 78 exceeds dataset class count 15. Possible class labels are 0-14\n",
      "\u001b[34m\u001b[1mtrain: \u001b[0mWARNING ⚠️ /home/dylan/projects/YOLO-RGB-T/notebooks/FLIR/RGB/images/train/video-5tYghHhFktjq4nQ5R-frame-002735-HgvDCDE6vHDNGpkET.jpg: ignoring corrupt image/label: Label class 78 exceeds dataset class count 15. Possible class labels are 0-14\n",
      "\u001b[34m\u001b[1mtrain: \u001b[0mWARNING ⚠️ /home/dylan/projects/YOLO-RGB-T/notebooks/FLIR/RGB/images/train/video-5tYghHhFktjq4nQ5R-frame-005564-Yhj9XzdmK7htDE7nb.jpg: ignoring corrupt image/label: Label class 78 exceeds dataset class count 15. Possible class labels are 0-14\n",
      "\u001b[34m\u001b[1mtrain: \u001b[0mWARNING ⚠️ /home/dylan/projects/YOLO-RGB-T/notebooks/FLIR/RGB/images/train/video-5tYghHhFktjq4nQ5R-frame-005579-SjJyiBcoYQbiQBdyT.jpg: ignoring corrupt image/label: Label class 78 exceeds dataset class count 15. Possible class labels are 0-14\n",
      "\u001b[34m\u001b[1mtrain: \u001b[0mWARNING ⚠️ /home/dylan/projects/YOLO-RGB-T/notebooks/FLIR/RGB/images/train/video-5tYghHhFktjq4nQ5R-frame-005594-YN52YDA2t6hDDy57y.jpg: ignoring corrupt image/label: Label class 78 exceeds dataset class count 15. Possible class labels are 0-14\n",
      "\u001b[34m\u001b[1mtrain: \u001b[0mWARNING ⚠️ /home/dylan/projects/YOLO-RGB-T/notebooks/FLIR/RGB/images/train/video-5tYghHhFktjq4nQ5R-frame-005609-vufftoRrgXpQqrapf.jpg: ignoring corrupt image/label: Label class 78 exceeds dataset class count 15. Possible class labels are 0-14\n",
      "\u001b[34m\u001b[1mtrain: \u001b[0mWARNING ⚠️ /home/dylan/projects/YOLO-RGB-T/notebooks/FLIR/RGB/images/train/video-5tYghHhFktjq4nQ5R-frame-005624-BgerxfiAHt58asp3X.jpg: ignoring corrupt image/label: Label class 78 exceeds dataset class count 15. Possible class labels are 0-14\n",
      "\u001b[34m\u001b[1mtrain: \u001b[0mWARNING ⚠️ /home/dylan/projects/YOLO-RGB-T/notebooks/FLIR/RGB/images/train/video-5tYghHhFktjq4nQ5R-frame-005639-nB6Ez3gDsKzd6Wfhy.jpg: ignoring corrupt image/label: Label class 78 exceeds dataset class count 15. Possible class labels are 0-14\n",
      "\u001b[34m\u001b[1mtrain: \u001b[0mWARNING ⚠️ /home/dylan/projects/YOLO-RGB-T/notebooks/FLIR/RGB/images/train/video-5tYghHhFktjq4nQ5R-frame-005654-Qth2HybuX2wFcLkms.jpg: ignoring corrupt image/label: Label class 78 exceeds dataset class count 15. Possible class labels are 0-14\n",
      "\u001b[34m\u001b[1mtrain: \u001b[0mWARNING ⚠️ /home/dylan/projects/YOLO-RGB-T/notebooks/FLIR/RGB/images/train/video-5zpwfwcv9hXTFxw8m-frame-002657-ZSuea9RvBKpD9duTz.jpg: ignoring corrupt image/label: Label class 36 exceeds dataset class count 15. Possible class labels are 0-14\n",
      "\u001b[34m\u001b[1mtrain: \u001b[0mWARNING ⚠️ /home/dylan/projects/YOLO-RGB-T/notebooks/FLIR/RGB/images/train/video-5zpwfwcv9hXTFxw8m-frame-002667-J5A29HuxQzAtbAmQb.jpg: ignoring corrupt image/label: Label class 36 exceeds dataset class count 15. Possible class labels are 0-14\n",
      "\u001b[34m\u001b[1mtrain: \u001b[0mWARNING ⚠️ /home/dylan/projects/YOLO-RGB-T/notebooks/FLIR/RGB/images/train/video-5zpwfwcv9hXTFxw8m-frame-002677-WAapTapoq4vrk5qjK.jpg: ignoring corrupt image/label: Label class 36 exceeds dataset class count 15. Possible class labels are 0-14\n",
      "\u001b[34m\u001b[1mtrain: \u001b[0mWARNING ⚠️ /home/dylan/projects/YOLO-RGB-T/notebooks/FLIR/RGB/images/train/video-5zpwfwcv9hXTFxw8m-frame-002687-5HMTFNvXgKDauAStB.jpg: ignoring corrupt image/label: Label class 36 exceeds dataset class count 15. Possible class labels are 0-14\n",
      "\u001b[34m\u001b[1mtrain: \u001b[0mWARNING ⚠️ /home/dylan/projects/YOLO-RGB-T/notebooks/FLIR/RGB/images/train/video-5zpwfwcv9hXTFxw8m-frame-002697-A7LKao38t9M3xyaHc.jpg: ignoring corrupt image/label: Label class 36 exceeds dataset class count 15. Possible class labels are 0-14\n",
      "\u001b[34m\u001b[1mtrain: \u001b[0mWARNING ⚠️ /home/dylan/projects/YOLO-RGB-T/notebooks/FLIR/RGB/images/train/video-5zpwfwcv9hXTFxw8m-frame-002717-MPC63gnJGfbCFQgpp.jpg: ignoring corrupt image/label: Label class 36 exceeds dataset class count 15. Possible class labels are 0-14\n",
      "\u001b[34m\u001b[1mtrain: \u001b[0mWARNING ⚠️ /home/dylan/projects/YOLO-RGB-T/notebooks/FLIR/RGB/images/train/video-5zpwfwcv9hXTFxw8m-frame-002727-MaqKxDuAvCWxdLAf5.jpg: ignoring corrupt image/label: Label class 36 exceeds dataset class count 15. Possible class labels are 0-14\n",
      "\u001b[34m\u001b[1mtrain: \u001b[0mWARNING ⚠️ /home/dylan/projects/YOLO-RGB-T/notebooks/FLIR/RGB/images/train/video-5zpwfwcv9hXTFxw8m-frame-002737-BA6B9HBJQAaTvX4ki.jpg: ignoring corrupt image/label: Label class 36 exceeds dataset class count 15. Possible class labels are 0-14\n",
      "\u001b[34m\u001b[1mtrain: \u001b[0mWARNING ⚠️ /home/dylan/projects/YOLO-RGB-T/notebooks/FLIR/RGB/images/train/video-5zpwfwcv9hXTFxw8m-frame-002747-pQQmsjrhyQZXbp8w9.jpg: ignoring corrupt image/label: Label class 36 exceeds dataset class count 15. Possible class labels are 0-14\n",
      "\u001b[34m\u001b[1mtrain: \u001b[0mWARNING ⚠️ /home/dylan/projects/YOLO-RGB-T/notebooks/FLIR/RGB/images/train/video-5zpwfwcv9hXTFxw8m-frame-002757-awj9Zkdh8HHkXuqfh.jpg: ignoring corrupt image/label: Label class 36 exceeds dataset class count 15. Possible class labels are 0-14\n",
      "\u001b[34m\u001b[1mtrain: \u001b[0mWARNING ⚠️ /home/dylan/projects/YOLO-RGB-T/notebooks/FLIR/RGB/images/train/video-5zpwfwcv9hXTFxw8m-frame-002767-SBXudCFezbJZGcuAM.jpg: ignoring corrupt image/label: Label class 36 exceeds dataset class count 15. Possible class labels are 0-14\n",
      "\u001b[34m\u001b[1mtrain: \u001b[0mWARNING ⚠️ /home/dylan/projects/YOLO-RGB-T/notebooks/FLIR/RGB/images/train/video-5zpwfwcv9hXTFxw8m-frame-002777-Cmmgv9DxuW6AFgy7R.jpg: ignoring corrupt image/label: Label class 36 exceeds dataset class count 15. Possible class labels are 0-14\n",
      "\u001b[34m\u001b[1mtrain: \u001b[0mWARNING ⚠️ /home/dylan/projects/YOLO-RGB-T/notebooks/FLIR/RGB/images/train/video-5zpwfwcv9hXTFxw8m-frame-002787-yKKkmHoh9mpuMjQRK.jpg: ignoring corrupt image/label: Label class 36 exceeds dataset class count 15. Possible class labels are 0-14\n",
      "\u001b[34m\u001b[1mtrain: \u001b[0mWARNING ⚠️ /home/dylan/projects/YOLO-RGB-T/notebooks/FLIR/RGB/images/train/video-5zpwfwcv9hXTFxw8m-frame-002797-hGgdZYd3TJQck2L4Q.jpg: ignoring corrupt image/label: Label class 36 exceeds dataset class count 15. Possible class labels are 0-14\n",
      "\u001b[34m\u001b[1mtrain: \u001b[0mWARNING ⚠️ /home/dylan/projects/YOLO-RGB-T/notebooks/FLIR/RGB/images/train/video-5zpwfwcv9hXTFxw8m-frame-002807-tDoCpPjvsvAZLyHJr.jpg: ignoring corrupt image/label: Label class 36 exceeds dataset class count 15. Possible class labels are 0-14\n",
      "\u001b[34m\u001b[1mtrain: \u001b[0mWARNING ⚠️ /home/dylan/projects/YOLO-RGB-T/notebooks/FLIR/RGB/images/train/video-5zpwfwcv9hXTFxw8m-frame-002817-xM6Bpn3b63ji858Y9.jpg: ignoring corrupt image/label: Label class 36 exceeds dataset class count 15. Possible class labels are 0-14\n",
      "\u001b[34m\u001b[1mtrain: \u001b[0mWARNING ⚠️ /home/dylan/projects/YOLO-RGB-T/notebooks/FLIR/RGB/images/train/video-5zpwfwcv9hXTFxw8m-frame-002827-exdmaqW8HZEdjpxWd.jpg: ignoring corrupt image/label: Label class 36 exceeds dataset class count 15. Possible class labels are 0-14\n",
      "\u001b[34m\u001b[1mtrain: \u001b[0mWARNING ⚠️ /home/dylan/projects/YOLO-RGB-T/notebooks/FLIR/RGB/images/train/video-5zpwfwcv9hXTFxw8m-frame-002837-u4nRX2fcEzZocWsFT.jpg: ignoring corrupt image/label: Label class 36 exceeds dataset class count 15. Possible class labels are 0-14\n",
      "\u001b[34m\u001b[1mtrain: \u001b[0mWARNING ⚠️ /home/dylan/projects/YOLO-RGB-T/notebooks/FLIR/RGB/images/train/video-5zpwfwcv9hXTFxw8m-frame-002847-7kG2n7Fke75eDxyYY.jpg: ignoring corrupt image/label: Label class 36 exceeds dataset class count 15. Possible class labels are 0-14\n",
      "\u001b[34m\u001b[1mtrain: \u001b[0mWARNING ⚠️ /home/dylan/projects/YOLO-RGB-T/notebooks/FLIR/RGB/images/train/video-5zpwfwcv9hXTFxw8m-frame-002857-L8F4cXZTH8htn7CA4.jpg: ignoring corrupt image/label: Label class 36 exceeds dataset class count 15. Possible class labels are 0-14\n",
      "\u001b[34m\u001b[1mtrain: \u001b[0mWARNING ⚠️ /home/dylan/projects/YOLO-RGB-T/notebooks/FLIR/RGB/images/train/video-5zpwfwcv9hXTFxw8m-frame-002867-3RseSu8csWAY5P9pd.jpg: ignoring corrupt image/label: Label class 36 exceeds dataset class count 15. Possible class labels are 0-14\n",
      "\u001b[34m\u001b[1mtrain: \u001b[0mWARNING ⚠️ /home/dylan/projects/YOLO-RGB-T/notebooks/FLIR/RGB/images/train/video-5zpwfwcv9hXTFxw8m-frame-003697-N8AE7KPANiwARJDcj.jpg: ignoring corrupt image/label: Label class 78 exceeds dataset class count 15. Possible class labels are 0-14\n",
      "\u001b[34m\u001b[1mtrain: \u001b[0mWARNING ⚠️ /home/dylan/projects/YOLO-RGB-T/notebooks/FLIR/RGB/images/train/video-5zpwfwcv9hXTFxw8m-frame-003707-y8wx2FA895a2wiMRg.jpg: ignoring corrupt image/label: Label class 78 exceeds dataset class count 15. Possible class labels are 0-14\n",
      "\u001b[34m\u001b[1mtrain: \u001b[0mWARNING ⚠️ /home/dylan/projects/YOLO-RGB-T/notebooks/FLIR/RGB/images/train/video-5zpwfwcv9hXTFxw8m-frame-003717-436gSYfsfuNyun8Qf.jpg: ignoring corrupt image/label: Label class 78 exceeds dataset class count 15. Possible class labels are 0-14\n",
      "\u001b[34m\u001b[1mtrain: \u001b[0mWARNING ⚠️ /home/dylan/projects/YOLO-RGB-T/notebooks/FLIR/RGB/images/train/video-5zpwfwcv9hXTFxw8m-frame-003727-63xH4CYMfbTnXJe5K.jpg: ignoring corrupt image/label: Label class 78 exceeds dataset class count 15. Possible class labels are 0-14\n",
      "\u001b[34m\u001b[1mtrain: \u001b[0mWARNING ⚠️ /home/dylan/projects/YOLO-RGB-T/notebooks/FLIR/RGB/images/train/video-5zpwfwcv9hXTFxw8m-frame-004467-phZuWjiRrCwFx5Eum.jpg: ignoring corrupt image/label: Label class 36 exceeds dataset class count 15. Possible class labels are 0-14\n",
      "\u001b[34m\u001b[1mtrain: \u001b[0mWARNING ⚠️ /home/dylan/projects/YOLO-RGB-T/notebooks/FLIR/RGB/images/train/video-5zpwfwcv9hXTFxw8m-frame-004477-Rb2pJDjavz8yN723C.jpg: ignoring corrupt image/label: Label class 36 exceeds dataset class count 15. Possible class labels are 0-14\n",
      "\u001b[34m\u001b[1mtrain: \u001b[0mWARNING ⚠️ /home/dylan/projects/YOLO-RGB-T/notebooks/FLIR/RGB/images/train/video-5zpwfwcv9hXTFxw8m-frame-004487-aANaRF5MxY3y87CWC.jpg: ignoring corrupt image/label: Label class 36 exceeds dataset class count 15. Possible class labels are 0-14\n",
      "\u001b[34m\u001b[1mtrain: \u001b[0mWARNING ⚠️ /home/dylan/projects/YOLO-RGB-T/notebooks/FLIR/RGB/images/train/video-5zpwfwcv9hXTFxw8m-frame-004497-FKYCjjWiXxt2NYiTe.jpg: ignoring corrupt image/label: Label class 36 exceeds dataset class count 15. Possible class labels are 0-14\n",
      "\u001b[34m\u001b[1mtrain: \u001b[0mWARNING ⚠️ /home/dylan/projects/YOLO-RGB-T/notebooks/FLIR/RGB/images/train/video-5zpwfwcv9hXTFxw8m-frame-004507-bKTxW8rfbKttDps32.jpg: ignoring corrupt image/label: Label class 36 exceeds dataset class count 15. Possible class labels are 0-14\n",
      "\u001b[34m\u001b[1mtrain: \u001b[0mWARNING ⚠️ /home/dylan/projects/YOLO-RGB-T/notebooks/FLIR/RGB/images/train/video-5zpwfwcv9hXTFxw8m-frame-004517-AhKQ2zGpP7ZKGnnoY.jpg: ignoring corrupt image/label: Label class 36 exceeds dataset class count 15. Possible class labels are 0-14\n",
      "\u001b[34m\u001b[1mtrain: \u001b[0mWARNING ⚠️ /home/dylan/projects/YOLO-RGB-T/notebooks/FLIR/RGB/images/train/video-5zpwfwcv9hXTFxw8m-frame-004527-Gq534jFcjEr4zqKNK.jpg: ignoring corrupt image/label: Label class 36 exceeds dataset class count 15. Possible class labels are 0-14\n",
      "\u001b[34m\u001b[1mtrain: \u001b[0mWARNING ⚠️ /home/dylan/projects/YOLO-RGB-T/notebooks/FLIR/RGB/images/train/video-5zpwfwcv9hXTFxw8m-frame-004537-obXkNxNaPfvCwA5Ej.jpg: ignoring corrupt image/label: Label class 36 exceeds dataset class count 15. Possible class labels are 0-14\n",
      "\u001b[34m\u001b[1mtrain: \u001b[0mWARNING ⚠️ /home/dylan/projects/YOLO-RGB-T/notebooks/FLIR/RGB/images/train/video-5zpwfwcv9hXTFxw8m-frame-004547-Wvx59kemBGmJ9tfCx.jpg: ignoring corrupt image/label: Label class 36 exceeds dataset class count 15. Possible class labels are 0-14\n",
      "\u001b[34m\u001b[1mtrain: \u001b[0mWARNING ⚠️ /home/dylan/projects/YOLO-RGB-T/notebooks/FLIR/RGB/images/train/video-5zpwfwcv9hXTFxw8m-frame-004557-dj4hr4Av4EyAv9Ra9.jpg: ignoring corrupt image/label: Label class 36 exceeds dataset class count 15. Possible class labels are 0-14\n",
      "\u001b[34m\u001b[1mtrain: \u001b[0mWARNING ⚠️ /home/dylan/projects/YOLO-RGB-T/notebooks/FLIR/RGB/images/train/video-5zpwfwcv9hXTFxw8m-frame-004567-79FWzp4vNtjbPPQws.jpg: ignoring corrupt image/label: Label class 36 exceeds dataset class count 15. Possible class labels are 0-14\n",
      "\u001b[34m\u001b[1mtrain: \u001b[0mWARNING ⚠️ /home/dylan/projects/YOLO-RGB-T/notebooks/FLIR/RGB/images/train/video-5zpwfwcv9hXTFxw8m-frame-004577-5zcdu9cMXuiJBGCov.jpg: ignoring corrupt image/label: Label class 36 exceeds dataset class count 15. Possible class labels are 0-14\n",
      "\u001b[34m\u001b[1mtrain: \u001b[0mWARNING ⚠️ /home/dylan/projects/YOLO-RGB-T/notebooks/FLIR/RGB/images/train/video-5zpwfwcv9hXTFxw8m-frame-004587-PeXbm8oeTYEHrtfqd.jpg: ignoring corrupt image/label: Label class 36 exceeds dataset class count 15. Possible class labels are 0-14\n",
      "\u001b[34m\u001b[1mtrain: \u001b[0mWARNING ⚠️ /home/dylan/projects/YOLO-RGB-T/notebooks/FLIR/RGB/images/train/video-5zpwfwcv9hXTFxw8m-frame-004597-nN4WZtGhR5zczyv9W.jpg: ignoring corrupt image/label: Label class 36 exceeds dataset class count 15. Possible class labels are 0-14\n",
      "\u001b[34m\u001b[1mtrain: \u001b[0mWARNING ⚠️ /home/dylan/projects/YOLO-RGB-T/notebooks/FLIR/RGB/images/train/video-5zpwfwcv9hXTFxw8m-frame-004607-XRJoGvvESXXTMYuhp.jpg: ignoring corrupt image/label: Label class 36 exceeds dataset class count 15. Possible class labels are 0-14\n",
      "\u001b[34m\u001b[1mtrain: \u001b[0mWARNING ⚠️ /home/dylan/projects/YOLO-RGB-T/notebooks/FLIR/RGB/images/train/video-5zpwfwcv9hXTFxw8m-frame-004617-f9bhnrLcvJ9y2pnpi.jpg: ignoring corrupt image/label: Label class 36 exceeds dataset class count 15. Possible class labels are 0-14\n",
      "\u001b[34m\u001b[1mtrain: \u001b[0mWARNING ⚠️ /home/dylan/projects/YOLO-RGB-T/notebooks/FLIR/RGB/images/train/video-5zpwfwcv9hXTFxw8m-frame-004627-X6ckW49aYud8ubsMS.jpg: ignoring corrupt image/label: Label class 36 exceeds dataset class count 15. Possible class labels are 0-14\n",
      "\u001b[34m\u001b[1mtrain: \u001b[0mWARNING ⚠️ /home/dylan/projects/YOLO-RGB-T/notebooks/FLIR/RGB/images/train/video-5zpwfwcv9hXTFxw8m-frame-004637-u7MsWC5jkjaHL3LZw.jpg: ignoring corrupt image/label: Label class 36 exceeds dataset class count 15. Possible class labels are 0-14\n",
      "\u001b[34m\u001b[1mtrain: \u001b[0mWARNING ⚠️ /home/dylan/projects/YOLO-RGB-T/notebooks/FLIR/RGB/images/train/video-5zpwfwcv9hXTFxw8m-frame-004647-fYxd3Cq6H4mtzyk4f.jpg: ignoring corrupt image/label: Label class 36 exceeds dataset class count 15. Possible class labels are 0-14\n",
      "\u001b[34m\u001b[1mtrain: \u001b[0mWARNING ⚠️ /home/dylan/projects/YOLO-RGB-T/notebooks/FLIR/RGB/images/train/video-5zpwfwcv9hXTFxw8m-frame-004657-zvSJxN73kCmxiaM8R.jpg: ignoring corrupt image/label: Label class 36 exceeds dataset class count 15. Possible class labels are 0-14\n",
      "\u001b[34m\u001b[1mtrain: \u001b[0mWARNING ⚠️ /home/dylan/projects/YOLO-RGB-T/notebooks/FLIR/RGB/images/train/video-5zpwfwcv9hXTFxw8m-frame-004667-zrDjWAAzBuyQCrbw6.jpg: ignoring corrupt image/label: Label class 36 exceeds dataset class count 15. Possible class labels are 0-14\n",
      "\u001b[34m\u001b[1mtrain: \u001b[0mWARNING ⚠️ /home/dylan/projects/YOLO-RGB-T/notebooks/FLIR/RGB/images/train/video-5zpwfwcv9hXTFxw8m-frame-004677-6oRDtf6tJrrnGRSa9.jpg: ignoring corrupt image/label: Label class 36 exceeds dataset class count 15. Possible class labels are 0-14\n",
      "\u001b[34m\u001b[1mtrain: \u001b[0mWARNING ⚠️ /home/dylan/projects/YOLO-RGB-T/notebooks/FLIR/RGB/images/train/video-5zpwfwcv9hXTFxw8m-frame-004687-8ne8Dw4bNcfa4LnvB.jpg: ignoring corrupt image/label: Label class 36 exceeds dataset class count 15. Possible class labels are 0-14\n",
      "\u001b[34m\u001b[1mtrain: \u001b[0mWARNING ⚠️ /home/dylan/projects/YOLO-RGB-T/notebooks/FLIR/RGB/images/train/video-5zpwfwcv9hXTFxw8m-frame-004717-DfTkpAagzri5uqayN.jpg: ignoring corrupt image/label: Label class 36 exceeds dataset class count 15. Possible class labels are 0-14\n",
      "\u001b[34m\u001b[1mtrain: \u001b[0mWARNING ⚠️ /home/dylan/projects/YOLO-RGB-T/notebooks/FLIR/RGB/images/train/video-5zpwfwcv9hXTFxw8m-frame-007471-AyBKemgS9YkeS3GAS.jpg: ignoring corrupt image/label: Label class 78 exceeds dataset class count 15. Possible class labels are 0-14\n",
      "\u001b[34m\u001b[1mtrain: \u001b[0mWARNING ⚠️ /home/dylan/projects/YOLO-RGB-T/notebooks/FLIR/RGB/images/train/video-5zpwfwcv9hXTFxw8m-frame-007481-u7vaHaZLYRiacGTFQ.jpg: ignoring corrupt image/label: Label class 78 exceeds dataset class count 15. Possible class labels are 0-14\n",
      "\u001b[34m\u001b[1mtrain: \u001b[0mWARNING ⚠️ /home/dylan/projects/YOLO-RGB-T/notebooks/FLIR/RGB/images/train/video-5zpwfwcv9hXTFxw8m-frame-007491-JEoN4G4ML3sYMp2ue.jpg: ignoring corrupt image/label: Label class 78 exceeds dataset class count 15. Possible class labels are 0-14\n",
      "\u001b[34m\u001b[1mtrain: \u001b[0mWARNING ⚠️ /home/dylan/projects/YOLO-RGB-T/notebooks/FLIR/RGB/images/train/video-5zpwfwcv9hXTFxw8m-frame-007501-skiHAAhsQqrHnf5R4.jpg: ignoring corrupt image/label: Label class 78 exceeds dataset class count 15. Possible class labels are 0-14\n",
      "\u001b[34m\u001b[1mtrain: \u001b[0mWARNING ⚠️ /home/dylan/projects/YOLO-RGB-T/notebooks/FLIR/RGB/images/train/video-5zpwfwcv9hXTFxw8m-frame-007511-wK8QykEGuttbtGfBQ.jpg: ignoring corrupt image/label: Label class 78 exceeds dataset class count 15. Possible class labels are 0-14\n",
      "\u001b[34m\u001b[1mtrain: \u001b[0mWARNING ⚠️ /home/dylan/projects/YOLO-RGB-T/notebooks/FLIR/RGB/images/train/video-5zpwfwcv9hXTFxw8m-frame-007521-92D2C9CNYaj2Tof2D.jpg: ignoring corrupt image/label: Label class 78 exceeds dataset class count 15. Possible class labels are 0-14\n",
      "\u001b[34m\u001b[1mtrain: \u001b[0mWARNING ⚠️ /home/dylan/projects/YOLO-RGB-T/notebooks/FLIR/RGB/images/train/video-6JEtSEw5FSuqcp7iS-frame-005420-QFnxQkaTaMqZqaemJ.jpg: ignoring corrupt image/label: Label class 78 exceeds dataset class count 15. Possible class labels are 0-14\n",
      "\u001b[34m\u001b[1mtrain: \u001b[0mWARNING ⚠️ /home/dylan/projects/YOLO-RGB-T/notebooks/FLIR/RGB/images/train/video-6JEtSEw5FSuqcp7iS-frame-005435-Bw5qxWxQnY6ZwSxHe.jpg: ignoring corrupt image/label: Label class 78 exceeds dataset class count 15. Possible class labels are 0-14\n",
      "\u001b[34m\u001b[1mtrain: \u001b[0mWARNING ⚠️ /home/dylan/projects/YOLO-RGB-T/notebooks/FLIR/RGB/images/train/video-6JEtSEw5FSuqcp7iS-frame-005705-wpAaYRCTQaXHzXpjY.jpg: ignoring corrupt image/label: Label class 78 exceeds dataset class count 15. Possible class labels are 0-14\n",
      "\u001b[34m\u001b[1mtrain: \u001b[0mWARNING ⚠️ /home/dylan/projects/YOLO-RGB-T/notebooks/FLIR/RGB/images/train/video-6JEtSEw5FSuqcp7iS-frame-006070-dN2TChQwvxnb3mhR6.jpg: ignoring corrupt image/label: Label class 78 exceeds dataset class count 15. Possible class labels are 0-14\n",
      "\u001b[34m\u001b[1mtrain: \u001b[0mWARNING ⚠️ /home/dylan/projects/YOLO-RGB-T/notebooks/FLIR/RGB/images/train/video-6JEtSEw5FSuqcp7iS-frame-006085-bBA3LN5iqFrDHdTSS.jpg: ignoring corrupt image/label: Label class 78 exceeds dataset class count 15. Possible class labels are 0-14\n",
      "\u001b[34m\u001b[1mtrain: \u001b[0mWARNING ⚠️ /home/dylan/projects/YOLO-RGB-T/notebooks/FLIR/RGB/images/train/video-6JEtSEw5FSuqcp7iS-frame-006100-ohineGq3KmtCKz5uc.jpg: ignoring corrupt image/label: Label class 78 exceeds dataset class count 15. Possible class labels are 0-14\n",
      "\u001b[34m\u001b[1mtrain: \u001b[0mWARNING ⚠️ /home/dylan/projects/YOLO-RGB-T/notebooks/FLIR/RGB/images/train/video-6JEtSEw5FSuqcp7iS-frame-006130-6F8CTSB58tH6ohBM3.jpg: ignoring corrupt image/label: Label class 78 exceeds dataset class count 15. Possible class labels are 0-14\n",
      "\u001b[34m\u001b[1mtrain: \u001b[0mWARNING ⚠️ /home/dylan/projects/YOLO-RGB-T/notebooks/FLIR/RGB/images/train/video-6JEtSEw5FSuqcp7iS-frame-006145-Eza35rwY4nwkuWSQq.jpg: ignoring corrupt image/label: Label class 78 exceeds dataset class count 15. Possible class labels are 0-14\n",
      "\u001b[34m\u001b[1mtrain: \u001b[0mWARNING ⚠️ /home/dylan/projects/YOLO-RGB-T/notebooks/FLIR/RGB/images/train/video-6JEtSEw5FSuqcp7iS-frame-006160-GJhm9ypCm92xmxnby.jpg: ignoring corrupt image/label: Label class 78 exceeds dataset class count 15. Possible class labels are 0-14\n",
      "\u001b[34m\u001b[1mtrain: \u001b[0mWARNING ⚠️ /home/dylan/projects/YOLO-RGB-T/notebooks/FLIR/RGB/images/train/video-6JEtSEw5FSuqcp7iS-frame-006175-HmqyQYf7swruu6WTk.jpg: ignoring corrupt image/label: Label class 78 exceeds dataset class count 15. Possible class labels are 0-14\n",
      "\u001b[34m\u001b[1mtrain: \u001b[0mWARNING ⚠️ /home/dylan/projects/YOLO-RGB-T/notebooks/FLIR/RGB/images/train/video-6JEtSEw5FSuqcp7iS-frame-006180-aHTGwgqDPQDmPgMAW.jpg: ignoring corrupt image/label: Label class 78 exceeds dataset class count 15. Possible class labels are 0-14\n",
      "\u001b[34m\u001b[1mtrain: \u001b[0mWARNING ⚠️ /home/dylan/projects/YOLO-RGB-T/notebooks/FLIR/RGB/images/train/video-7WYdRWZX2v24qsQZd-frame-001500-b7n382CScshQwXgvN.jpg: ignoring corrupt image/label: Label class 78 exceeds dataset class count 15. Possible class labels are 0-14\n",
      "\u001b[34m\u001b[1mtrain: \u001b[0mWARNING ⚠️ /home/dylan/projects/YOLO-RGB-T/notebooks/FLIR/RGB/images/train/video-8KRMCF9A6qNTkjzSw-frame-000300-AY69E2GJarBkhdPNS.jpg: ignoring corrupt image/label: Label class 78 exceeds dataset class count 15. Possible class labels are 0-14\n",
      "\u001b[34m\u001b[1mtrain: \u001b[0mWARNING ⚠️ /home/dylan/projects/YOLO-RGB-T/notebooks/FLIR/RGB/images/train/video-8f3KiMkRxps65SRC8-frame-001896-8ypKaQtQkSHpYveWX.jpg: ignoring corrupt image/label: Label class 78 exceeds dataset class count 15. Possible class labels are 0-14\n",
      "\u001b[34m\u001b[1mtrain: \u001b[0mWARNING ⚠️ /home/dylan/projects/YOLO-RGB-T/notebooks/FLIR/RGB/images/train/video-8f3KiMkRxps65SRC8-frame-002094-qgcD7L4qFqdyyiott.jpg: ignoring corrupt image/label: Label class 78 exceeds dataset class count 15. Possible class labels are 0-14\n",
      "\u001b[34m\u001b[1mtrain: \u001b[0mWARNING ⚠️ /home/dylan/projects/YOLO-RGB-T/notebooks/FLIR/RGB/images/train/video-8f3KiMkRxps65SRC8-frame-002109-yzPfuXFduuJ7NRQKY.jpg: ignoring corrupt image/label: Label class 78 exceeds dataset class count 15. Possible class labels are 0-14\n",
      "\u001b[34m\u001b[1mtrain: \u001b[0mWARNING ⚠️ /home/dylan/projects/YOLO-RGB-T/notebooks/FLIR/RGB/images/train/video-8f3KiMkRxps65SRC8-frame-002169-EYs7cdEXny4xQfDFK.jpg: ignoring corrupt image/label: Label class 78 exceeds dataset class count 15. Possible class labels are 0-14\n",
      "\u001b[34m\u001b[1mtrain: \u001b[0mWARNING ⚠️ /home/dylan/projects/YOLO-RGB-T/notebooks/FLIR/RGB/images/train/video-8f3KiMkRxps65SRC8-frame-002184-HjCWf5uFTDJS4nQDj.jpg: ignoring corrupt image/label: Label class 78 exceeds dataset class count 15. Possible class labels are 0-14\n",
      "\u001b[34m\u001b[1mtrain: \u001b[0mWARNING ⚠️ /home/dylan/projects/YOLO-RGB-T/notebooks/FLIR/RGB/images/train/video-8f3KiMkRxps65SRC8-frame-002199-tciM6RMNCaeeJGcME.jpg: ignoring corrupt image/label: Label class 78 exceeds dataset class count 15. Possible class labels are 0-14\n",
      "\u001b[34m\u001b[1mtrain: \u001b[0mWARNING ⚠️ /home/dylan/projects/YOLO-RGB-T/notebooks/FLIR/RGB/images/train/video-8f3KiMkRxps65SRC8-frame-002214-nEmRjw2fo3FStSqL4.jpg: ignoring corrupt image/label: Label class 78 exceeds dataset class count 15. Possible class labels are 0-14\n",
      "\u001b[34m\u001b[1mtrain: \u001b[0mWARNING ⚠️ /home/dylan/projects/YOLO-RGB-T/notebooks/FLIR/RGB/images/train/video-8f3KiMkRxps65SRC8-frame-002229-5ndaqiXRtNPGb4jAC.jpg: ignoring corrupt image/label: Label class 78 exceeds dataset class count 15. Possible class labels are 0-14\n",
      "\u001b[34m\u001b[1mtrain: \u001b[0mWARNING ⚠️ /home/dylan/projects/YOLO-RGB-T/notebooks/FLIR/RGB/images/train/video-8f3KiMkRxps65SRC8-frame-003638-Fhzk3DY7PJptpPZCa.jpg: ignoring corrupt image/label: Label class 78 exceeds dataset class count 15. Possible class labels are 0-14\n",
      "\u001b[34m\u001b[1mtrain: \u001b[0mWARNING ⚠️ /home/dylan/projects/YOLO-RGB-T/notebooks/FLIR/RGB/images/train/video-8f3KiMkRxps65SRC8-frame-003653-JNQRwaRf5XNNAF9dS.jpg: ignoring corrupt image/label: Label class 78 exceeds dataset class count 15. Possible class labels are 0-14\n",
      "\u001b[34m\u001b[1mtrain: \u001b[0mWARNING ⚠️ /home/dylan/projects/YOLO-RGB-T/notebooks/FLIR/RGB/images/train/video-8f3KiMkRxps65SRC8-frame-003668-kZeoZz4DG8ncHJnBH.jpg: ignoring corrupt image/label: Label class 78 exceeds dataset class count 15. Possible class labels are 0-14\n",
      "\u001b[34m\u001b[1mtrain: \u001b[0mWARNING ⚠️ /home/dylan/projects/YOLO-RGB-T/notebooks/FLIR/RGB/images/train/video-8f3KiMkRxps65SRC8-frame-003683-8KWcu6KCN9tBSiRtf.jpg: ignoring corrupt image/label: Label class 78 exceeds dataset class count 15. Possible class labels are 0-14\n",
      "\u001b[34m\u001b[1mtrain: \u001b[0mWARNING ⚠️ /home/dylan/projects/YOLO-RGB-T/notebooks/FLIR/RGB/images/train/video-8f3KiMkRxps65SRC8-frame-003698-re9CsfoStcrrpJrhm.jpg: ignoring corrupt image/label: Label class 78 exceeds dataset class count 15. Possible class labels are 0-14\n",
      "\u001b[34m\u001b[1mtrain: \u001b[0mWARNING ⚠️ /home/dylan/projects/YOLO-RGB-T/notebooks/FLIR/RGB/images/train/video-8f3KiMkRxps65SRC8-frame-003713-i3ArLEZe4H5iv7dtY.jpg: ignoring corrupt image/label: Label class 78 exceeds dataset class count 15. Possible class labels are 0-14\n",
      "\u001b[34m\u001b[1mtrain: \u001b[0mWARNING ⚠️ /home/dylan/projects/YOLO-RGB-T/notebooks/FLIR/RGB/images/train/video-8f3KiMkRxps65SRC8-frame-003728-FCLrhYKx3fL5BiLBx.jpg: ignoring corrupt image/label: Label class 78 exceeds dataset class count 15. Possible class labels are 0-14\n",
      "\u001b[34m\u001b[1mtrain: \u001b[0mWARNING ⚠️ /home/dylan/projects/YOLO-RGB-T/notebooks/FLIR/RGB/images/train/video-8f3KiMkRxps65SRC8-frame-003743-aBTmPfuC5XMfXAMAb.jpg: ignoring corrupt image/label: Label class 78 exceeds dataset class count 15. Possible class labels are 0-14\n",
      "\u001b[34m\u001b[1mtrain: \u001b[0mWARNING ⚠️ /home/dylan/projects/YOLO-RGB-T/notebooks/FLIR/RGB/images/train/video-8f3KiMkRxps65SRC8-frame-003758-s7Zoj8uXyAdDhDxYr.jpg: ignoring corrupt image/label: Label class 78 exceeds dataset class count 15. Possible class labels are 0-14\n",
      "\u001b[34m\u001b[1mtrain: \u001b[0mWARNING ⚠️ /home/dylan/projects/YOLO-RGB-T/notebooks/FLIR/RGB/images/train/video-8gS7sgEfDMFXxDZEz-frame-005949-QqDt4qFG3HiNZLBZs.jpg: ignoring corrupt image/label: Label class 78 exceeds dataset class count 15. Possible class labels are 0-14\n",
      "\u001b[34m\u001b[1mtrain: \u001b[0mWARNING ⚠️ /home/dylan/projects/YOLO-RGB-T/notebooks/FLIR/RGB/images/train/video-8gS7sgEfDMFXxDZEz-frame-005964-RhiB2JkZpDzHbCArJ.jpg: ignoring corrupt image/label: Label class 78 exceeds dataset class count 15. Possible class labels are 0-14\n",
      "\u001b[34m\u001b[1mtrain: \u001b[0mWARNING ⚠️ /home/dylan/projects/YOLO-RGB-T/notebooks/FLIR/RGB/images/train/video-8gS7sgEfDMFXxDZEz-frame-005979-sAa9ftxt7zBFcEcon.jpg: ignoring corrupt image/label: Label class 78 exceeds dataset class count 15. Possible class labels are 0-14\n",
      "\u001b[34m\u001b[1mtrain: \u001b[0mWARNING ⚠️ /home/dylan/projects/YOLO-RGB-T/notebooks/FLIR/RGB/images/train/video-8gS7sgEfDMFXxDZEz-frame-005994-fMLHyAxALzb3kkCug.jpg: ignoring corrupt image/label: Label class 78 exceeds dataset class count 15. Possible class labels are 0-14\n",
      "\u001b[34m\u001b[1mtrain: \u001b[0mWARNING ⚠️ /home/dylan/projects/YOLO-RGB-T/notebooks/FLIR/RGB/images/train/video-8gS7sgEfDMFXxDZEz-frame-006009-wSmeJWx8CHXhzE9Nx.jpg: ignoring corrupt image/label: Label class 78 exceeds dataset class count 15. Possible class labels are 0-14\n",
      "\u001b[34m\u001b[1mtrain: \u001b[0mWARNING ⚠️ /home/dylan/projects/YOLO-RGB-T/notebooks/FLIR/RGB/images/train/video-8gS7sgEfDMFXxDZEz-frame-006054-MhGxGfrw5TMdZnG37.jpg: ignoring corrupt image/label: Label class 78 exceeds dataset class count 15. Possible class labels are 0-14\n",
      "\u001b[34m\u001b[1mtrain: \u001b[0mWARNING ⚠️ /home/dylan/projects/YOLO-RGB-T/notebooks/FLIR/RGB/images/train/video-8gS7sgEfDMFXxDZEz-frame-006069-csAnCRrfxesyggFAs.jpg: ignoring corrupt image/label: Label class 78 exceeds dataset class count 15. Possible class labels are 0-14\n",
      "\u001b[34m\u001b[1mtrain: \u001b[0mWARNING ⚠️ /home/dylan/projects/YOLO-RGB-T/notebooks/FLIR/RGB/images/train/video-8gS7sgEfDMFXxDZEz-frame-006084-PhGoRa7dMCyZFLqSP.jpg: ignoring corrupt image/label: Label class 78 exceeds dataset class count 15. Possible class labels are 0-14\n",
      "\u001b[34m\u001b[1mtrain: \u001b[0mWARNING ⚠️ /home/dylan/projects/YOLO-RGB-T/notebooks/FLIR/RGB/images/train/video-8gS7sgEfDMFXxDZEz-frame-006099-jLG9XTzpsefpipQzT.jpg: ignoring corrupt image/label: Label class 78 exceeds dataset class count 15. Possible class labels are 0-14\n",
      "\u001b[34m\u001b[1mtrain: \u001b[0mWARNING ⚠️ /home/dylan/projects/YOLO-RGB-T/notebooks/FLIR/RGB/images/train/video-8gS7sgEfDMFXxDZEz-frame-007138-e8YtLo4qBNkPZqsXh.jpg: ignoring corrupt image/label: Label class 78 exceeds dataset class count 15. Possible class labels are 0-14\n",
      "\u001b[34m\u001b[1mtrain: \u001b[0mWARNING ⚠️ /home/dylan/projects/YOLO-RGB-T/notebooks/FLIR/RGB/images/train/video-8gS7sgEfDMFXxDZEz-frame-007153-RtQbr4t4hgjfu8tja.jpg: ignoring corrupt image/label: Label class 78 exceeds dataset class count 15. Possible class labels are 0-14\n",
      "\u001b[34m\u001b[1mtrain: \u001b[0mWARNING ⚠️ /home/dylan/projects/YOLO-RGB-T/notebooks/FLIR/RGB/images/train/video-8gS7sgEfDMFXxDZEz-frame-007168-uLWQFMEBLTtM9FpzP.jpg: ignoring corrupt image/label: Label class 78 exceeds dataset class count 15. Possible class labels are 0-14\n",
      "\u001b[34m\u001b[1mtrain: \u001b[0mWARNING ⚠️ /home/dylan/projects/YOLO-RGB-T/notebooks/FLIR/RGB/images/train/video-8gS7sgEfDMFXxDZEz-frame-007183-Htkh58ciWkQcq3Mqe.jpg: ignoring corrupt image/label: Label class 78 exceeds dataset class count 15. Possible class labels are 0-14\n",
      "\u001b[34m\u001b[1mtrain: \u001b[0mWARNING ⚠️ /home/dylan/projects/YOLO-RGB-T/notebooks/FLIR/RGB/images/train/video-8gS7sgEfDMFXxDZEz-frame-007198-BAqm79hce2AoAHMAC.jpg: ignoring corrupt image/label: Label class 78 exceeds dataset class count 15. Possible class labels are 0-14\n",
      "\u001b[34m\u001b[1mtrain: \u001b[0mWARNING ⚠️ /home/dylan/projects/YOLO-RGB-T/notebooks/FLIR/RGB/images/train/video-8gS7sgEfDMFXxDZEz-frame-007213-rmemeFPootEAeeRFe.jpg: ignoring corrupt image/label: Label class 78 exceeds dataset class count 15. Possible class labels are 0-14\n",
      "\u001b[34m\u001b[1mtrain: \u001b[0mWARNING ⚠️ /home/dylan/projects/YOLO-RGB-T/notebooks/FLIR/RGB/images/train/video-8gS7sgEfDMFXxDZEz-frame-007228-HKHDSEGYPRAMGh2fj.jpg: ignoring corrupt image/label: Label class 78 exceeds dataset class count 15. Possible class labels are 0-14\n",
      "\u001b[34m\u001b[1mtrain: \u001b[0mWARNING ⚠️ /home/dylan/projects/YOLO-RGB-T/notebooks/FLIR/RGB/images/train/video-8gS7sgEfDMFXxDZEz-frame-007243-EfZTBCEZQBwP2HbvA.jpg: ignoring corrupt image/label: Label class 78 exceeds dataset class count 15. Possible class labels are 0-14\n",
      "\u001b[34m\u001b[1mtrain: \u001b[0mWARNING ⚠️ /home/dylan/projects/YOLO-RGB-T/notebooks/FLIR/RGB/images/train/video-8gS7sgEfDMFXxDZEz-frame-007258-nzSsCYN9oHZpm9a6y.jpg: ignoring corrupt image/label: Label class 78 exceeds dataset class count 15. Possible class labels are 0-14\n",
      "\u001b[34m\u001b[1mtrain: \u001b[0mWARNING ⚠️ /home/dylan/projects/YOLO-RGB-T/notebooks/FLIR/RGB/images/train/video-8gS7sgEfDMFXxDZEz-frame-007288-NL6djb6H5LqicDjHx.jpg: ignoring corrupt image/label: Label class 78 exceeds dataset class count 15. Possible class labels are 0-14\n",
      "\u001b[34m\u001b[1mtrain: \u001b[0mWARNING ⚠️ /home/dylan/projects/YOLO-RGB-T/notebooks/FLIR/RGB/images/train/video-8gS7sgEfDMFXxDZEz-frame-007303-aLwxKDMHdhPizsEiy.jpg: ignoring corrupt image/label: Label class 78 exceeds dataset class count 15. Possible class labels are 0-14\n",
      "\u001b[34m\u001b[1mtrain: \u001b[0mWARNING ⚠️ /home/dylan/projects/YOLO-RGB-T/notebooks/FLIR/RGB/images/train/video-8gS7sgEfDMFXxDZEz-frame-007318-CDeGtnvEsvAcL29nE.jpg: ignoring corrupt image/label: Label class 78 exceeds dataset class count 15. Possible class labels are 0-14\n",
      "\u001b[34m\u001b[1mtrain: \u001b[0mWARNING ⚠️ /home/dylan/projects/YOLO-RGB-T/notebooks/FLIR/RGB/images/train/video-8gS7sgEfDMFXxDZEz-frame-007333-hjyNgagv7uW9PkD5d.jpg: ignoring corrupt image/label: Label class 78 exceeds dataset class count 15. Possible class labels are 0-14\n",
      "\u001b[34m\u001b[1mtrain: \u001b[0mWARNING ⚠️ /home/dylan/projects/YOLO-RGB-T/notebooks/FLIR/RGB/images/train/video-8gS7sgEfDMFXxDZEz-frame-007348-ivXBzg7W8tBfaskzG.jpg: ignoring corrupt image/label: Label class 78 exceeds dataset class count 15. Possible class labels are 0-14\n",
      "\u001b[34m\u001b[1mtrain: \u001b[0mWARNING ⚠️ /home/dylan/projects/YOLO-RGB-T/notebooks/FLIR/RGB/images/train/video-8gS7sgEfDMFXxDZEz-frame-007363-wf3Z5MACM9vKC6iGA.jpg: ignoring corrupt image/label: Label class 78 exceeds dataset class count 15. Possible class labels are 0-14\n",
      "\u001b[34m\u001b[1mtrain: \u001b[0mWARNING ⚠️ /home/dylan/projects/YOLO-RGB-T/notebooks/FLIR/RGB/images/train/video-8gS7sgEfDMFXxDZEz-frame-007378-iRfZuXdKmTy8v5cM8.jpg: ignoring corrupt image/label: Label class 78 exceeds dataset class count 15. Possible class labels are 0-14\n",
      "\u001b[34m\u001b[1mtrain: \u001b[0mWARNING ⚠️ /home/dylan/projects/YOLO-RGB-T/notebooks/FLIR/RGB/images/train/video-8gS7sgEfDMFXxDZEz-frame-007393-Xid3u98m4835YPhGb.jpg: ignoring corrupt image/label: Label class 78 exceeds dataset class count 15. Possible class labels are 0-14\n",
      "\u001b[34m\u001b[1mtrain: \u001b[0mWARNING ⚠️ /home/dylan/projects/YOLO-RGB-T/notebooks/FLIR/RGB/images/train/video-8gS7sgEfDMFXxDZEz-frame-007408-m4hGdLZYe9DsxHKPx.jpg: ignoring corrupt image/label: Label class 78 exceeds dataset class count 15. Possible class labels are 0-14\n",
      "\u001b[34m\u001b[1mtrain: \u001b[0mWARNING ⚠️ /home/dylan/projects/YOLO-RGB-T/notebooks/FLIR/RGB/images/train/video-8gS7sgEfDMFXxDZEz-frame-007423-sLKvzGavX5JFcTrKD.jpg: ignoring corrupt image/label: Label class 78 exceeds dataset class count 15. Possible class labels are 0-14\n",
      "\u001b[34m\u001b[1mtrain: \u001b[0mWARNING ⚠️ /home/dylan/projects/YOLO-RGB-T/notebooks/FLIR/RGB/images/train/video-8gS7sgEfDMFXxDZEz-frame-007438-9t3DmmKnMYTBf7AAS.jpg: ignoring corrupt image/label: Label class 78 exceeds dataset class count 15. Possible class labels are 0-14\n",
      "\u001b[34m\u001b[1mtrain: \u001b[0mWARNING ⚠️ /home/dylan/projects/YOLO-RGB-T/notebooks/FLIR/RGB/images/train/video-8gS7sgEfDMFXxDZEz-frame-007453-tQ9GBmniusJDYu5Yk.jpg: ignoring corrupt image/label: Label class 78 exceeds dataset class count 15. Possible class labels are 0-14\n",
      "\u001b[34m\u001b[1mtrain: \u001b[0mWARNING ⚠️ /home/dylan/projects/YOLO-RGB-T/notebooks/FLIR/RGB/images/train/video-8gS7sgEfDMFXxDZEz-frame-007468-k4EtAfP6Kn9PeTRu4.jpg: ignoring corrupt image/label: Label class 78 exceeds dataset class count 15. Possible class labels are 0-14\n",
      "\u001b[34m\u001b[1mtrain: \u001b[0mWARNING ⚠️ /home/dylan/projects/YOLO-RGB-T/notebooks/FLIR/RGB/images/train/video-8gS7sgEfDMFXxDZEz-frame-007481-bEmyszA7fdmcHCBkC.jpg: ignoring corrupt image/label: Label class 78 exceeds dataset class count 15. Possible class labels are 0-14\n",
      "\u001b[34m\u001b[1mtrain: \u001b[0mWARNING ⚠️ /home/dylan/projects/YOLO-RGB-T/notebooks/FLIR/RGB/images/train/video-8gS7sgEfDMFXxDZEz-frame-008081-NtaQ2TpJicMKkKBkC.jpg: ignoring corrupt image/label: Label class 78 exceeds dataset class count 15. Possible class labels are 0-14\n",
      "\u001b[34m\u001b[1mtrain: \u001b[0mWARNING ⚠️ /home/dylan/projects/YOLO-RGB-T/notebooks/FLIR/RGB/images/train/video-9KoZ64Pm9SjLLuDD7-frame-001839-mQvrqp4tsoGdZC4XN.jpg: ignoring corrupt image/label: Label class 78 exceeds dataset class count 15. Possible class labels are 0-14\n",
      "\u001b[34m\u001b[1mtrain: \u001b[0mWARNING ⚠️ /home/dylan/projects/YOLO-RGB-T/notebooks/FLIR/RGB/images/train/video-9KoZ64Pm9SjLLuDD7-frame-002628-wcq3iBQkFFmNNek8R.jpg: ignoring corrupt image/label: Label class 78 exceeds dataset class count 15. Possible class labels are 0-14\n",
      "\u001b[34m\u001b[1mtrain: \u001b[0mWARNING ⚠️ /home/dylan/projects/YOLO-RGB-T/notebooks/FLIR/RGB/images/train/video-9KoZ64Pm9SjLLuDD7-frame-002876-vCHbrBHKWJ5gpr5A4.jpg: ignoring corrupt image/label: Label class 78 exceeds dataset class count 15. Possible class labels are 0-14\n",
      "\u001b[34m\u001b[1mtrain: \u001b[0mWARNING ⚠️ /home/dylan/projects/YOLO-RGB-T/notebooks/FLIR/RGB/images/train/video-9KoZ64Pm9SjLLuDD7-frame-003686-CBmYH6ZhaDxzS3T3F.jpg: ignoring corrupt image/label: Label class 78 exceeds dataset class count 15. Possible class labels are 0-14\n",
      "\u001b[34m\u001b[1mtrain: \u001b[0mWARNING ⚠️ /home/dylan/projects/YOLO-RGB-T/notebooks/FLIR/RGB/images/train/video-9KoZ64Pm9SjLLuDD7-frame-004101-25G2nECkyhGmzPnTB.jpg: ignoring corrupt image/label: Label class 78 exceeds dataset class count 15. Possible class labels are 0-14\n",
      "\u001b[34m\u001b[1mtrain: \u001b[0mWARNING ⚠️ /home/dylan/projects/YOLO-RGB-T/notebooks/FLIR/RGB/images/train/video-9KoZ64Pm9SjLLuDD7-frame-004494-BqT6qkyf9owT9S4KH.jpg: ignoring corrupt image/label: Label class 78 exceeds dataset class count 15. Possible class labels are 0-14\n",
      "\u001b[34m\u001b[1mtrain: \u001b[0mWARNING ⚠️ /home/dylan/projects/YOLO-RGB-T/notebooks/FLIR/RGB/images/train/video-9KoZ64Pm9SjLLuDD7-frame-004628-6pG7ssBjHGf3LWJdR.jpg: ignoring corrupt image/label: Label class 78 exceeds dataset class count 15. Possible class labels are 0-14\n",
      "\u001b[34m\u001b[1mtrain: \u001b[0mWARNING ⚠️ /home/dylan/projects/YOLO-RGB-T/notebooks/FLIR/RGB/images/train/video-9KoZ64Pm9SjLLuDD7-frame-005030-ZwjTk6mXgWQYuJds3.jpg: ignoring corrupt image/label: Label class 78 exceeds dataset class count 15. Possible class labels are 0-14\n",
      "\u001b[34m\u001b[1mtrain: \u001b[0mWARNING ⚠️ /home/dylan/projects/YOLO-RGB-T/notebooks/FLIR/RGB/images/train/video-Dwy3bAXtYeAQvEEpT-frame-000600-iupBBrNnbyj7LQ3Da.jpg: ignoring corrupt image/label: Label class 78 exceeds dataset class count 15. Possible class labels are 0-14\n",
      "\u001b[34m\u001b[1mtrain: \u001b[0mWARNING ⚠️ /home/dylan/projects/YOLO-RGB-T/notebooks/FLIR/RGB/images/train/video-Dwy3bAXtYeAQvEEpT-frame-000750-SsX9CGiwYHcWuWofi.jpg: ignoring corrupt image/label: Label class 78 exceeds dataset class count 15. Possible class labels are 0-14\n",
      "\u001b[34m\u001b[1mtrain: \u001b[0mWARNING ⚠️ /home/dylan/projects/YOLO-RGB-T/notebooks/FLIR/RGB/images/train/video-Dwy3bAXtYeAQvEEpT-frame-001350-cJy9BDdYaaJZiMuzf.jpg: ignoring corrupt image/label: Label class 78 exceeds dataset class count 15. Possible class labels are 0-14\n",
      "\u001b[34m\u001b[1mtrain: \u001b[0mWARNING ⚠️ /home/dylan/projects/YOLO-RGB-T/notebooks/FLIR/RGB/images/train/video-GRTvaQikDNNCdCnZW-frame-003049-XPZeCv6Drpvg4jrPv.jpg: ignoring corrupt image/label: Label class 78 exceeds dataset class count 15. Possible class labels are 0-14\n",
      "\u001b[34m\u001b[1mtrain: \u001b[0mWARNING ⚠️ /home/dylan/projects/YOLO-RGB-T/notebooks/FLIR/RGB/images/train/video-GRTvaQikDNNCdCnZW-frame-003064-fdnf9jqdscCDgjJLk.jpg: ignoring corrupt image/label: Label class 78 exceeds dataset class count 15. Possible class labels are 0-14\n",
      "\u001b[34m\u001b[1mtrain: \u001b[0mWARNING ⚠️ /home/dylan/projects/YOLO-RGB-T/notebooks/FLIR/RGB/images/train/video-GRTvaQikDNNCdCnZW-frame-003079-mHZC4gBCLMcLsiFxt.jpg: ignoring corrupt image/label: Label class 78 exceeds dataset class count 15. Possible class labels are 0-14\n",
      "\u001b[34m\u001b[1mtrain: \u001b[0mWARNING ⚠️ /home/dylan/projects/YOLO-RGB-T/notebooks/FLIR/RGB/images/train/video-GRTvaQikDNNCdCnZW-frame-003094-b4gF9kYgq5E7hSCAq.jpg: ignoring corrupt image/label: Label class 78 exceeds dataset class count 15. Possible class labels are 0-14\n",
      "\u001b[34m\u001b[1mtrain: \u001b[0mWARNING ⚠️ /home/dylan/projects/YOLO-RGB-T/notebooks/FLIR/RGB/images/train/video-GRTvaQikDNNCdCnZW-frame-003109-bFLEAGkj2igfBB3b2.jpg: ignoring corrupt image/label: Label class 78 exceeds dataset class count 15. Possible class labels are 0-14\n",
      "\u001b[34m\u001b[1mtrain: \u001b[0mWARNING ⚠️ /home/dylan/projects/YOLO-RGB-T/notebooks/FLIR/RGB/images/train/video-GRTvaQikDNNCdCnZW-frame-003199-eGeMfXcmkTbMDMsuP.jpg: ignoring corrupt image/label: Label class 78 exceeds dataset class count 15. Possible class labels are 0-14\n",
      "\u001b[34m\u001b[1mtrain: \u001b[0mWARNING ⚠️ /home/dylan/projects/YOLO-RGB-T/notebooks/FLIR/RGB/images/train/video-GRTvaQikDNNCdCnZW-frame-003259-4AzHfcvSjpL3stFtu.jpg: ignoring corrupt image/label: Label class 78 exceeds dataset class count 15. Possible class labels are 0-14\n",
      "\u001b[34m\u001b[1mtrain: \u001b[0mWARNING ⚠️ /home/dylan/projects/YOLO-RGB-T/notebooks/FLIR/RGB/images/train/video-GRTvaQikDNNCdCnZW-frame-003274-ov6M7LD6XStZS8yc8.jpg: ignoring corrupt image/label: Label class 78 exceeds dataset class count 15. Possible class labels are 0-14\n",
      "\u001b[34m\u001b[1mtrain: \u001b[0mWARNING ⚠️ /home/dylan/projects/YOLO-RGB-T/notebooks/FLIR/RGB/images/train/video-GRTvaQikDNNCdCnZW-frame-003284-Pjyrg2jpwPmoYF62J.jpg: ignoring corrupt image/label: Label class 78 exceeds dataset class count 15. Possible class labels are 0-14\n",
      "\u001b[34m\u001b[1mtrain: \u001b[0mWARNING ⚠️ /home/dylan/projects/YOLO-RGB-T/notebooks/FLIR/RGB/images/train/video-GRTvaQikDNNCdCnZW-frame-004296-Rg6wYf4C84XoDEJmB.jpg: ignoring corrupt image/label: Label class 78 exceeds dataset class count 15. Possible class labels are 0-14\n",
      "\u001b[34m\u001b[1mtrain: \u001b[0mWARNING ⚠️ /home/dylan/projects/YOLO-RGB-T/notebooks/FLIR/RGB/images/train/video-GRTvaQikDNNCdCnZW-frame-004311-Dyf9cfjoZXmtnz4gv.jpg: ignoring corrupt image/label: Label class 78 exceeds dataset class count 15. Possible class labels are 0-14\n",
      "\u001b[34m\u001b[1mtrain: \u001b[0mWARNING ⚠️ /home/dylan/projects/YOLO-RGB-T/notebooks/FLIR/RGB/images/train/video-GRTvaQikDNNCdCnZW-frame-004326-b8iqTguqajyWuBpn8.jpg: ignoring corrupt image/label: Label class 78 exceeds dataset class count 15. Possible class labels are 0-14\n",
      "\u001b[34m\u001b[1mtrain: \u001b[0mWARNING ⚠️ /home/dylan/projects/YOLO-RGB-T/notebooks/FLIR/RGB/images/train/video-GRTvaQikDNNCdCnZW-frame-004341-eWFgRpBSqd9jMCNCD.jpg: ignoring corrupt image/label: Label class 78 exceeds dataset class count 15. Possible class labels are 0-14\n",
      "\u001b[34m\u001b[1mtrain: \u001b[0mWARNING ⚠️ /home/dylan/projects/YOLO-RGB-T/notebooks/FLIR/RGB/images/train/video-GRTvaQikDNNCdCnZW-frame-004356-v46xoiT3phTetrEWN.jpg: ignoring corrupt image/label: Label class 78 exceeds dataset class count 15. Possible class labels are 0-14\n",
      "\u001b[34m\u001b[1mtrain: \u001b[0mWARNING ⚠️ /home/dylan/projects/YOLO-RGB-T/notebooks/FLIR/RGB/images/train/video-GRTvaQikDNNCdCnZW-frame-004371-8SPm8fNPNtQ8txgLt.jpg: ignoring corrupt image/label: Label class 78 exceeds dataset class count 15. Possible class labels are 0-14\n",
      "\u001b[34m\u001b[1mtrain: \u001b[0mWARNING ⚠️ /home/dylan/projects/YOLO-RGB-T/notebooks/FLIR/RGB/images/train/video-GRTvaQikDNNCdCnZW-frame-004401-NkEjR5tvGjqfeP5LM.jpg: ignoring corrupt image/label: Label class 78 exceeds dataset class count 15. Possible class labels are 0-14\n",
      "\u001b[34m\u001b[1mtrain: \u001b[0mWARNING ⚠️ /home/dylan/projects/YOLO-RGB-T/notebooks/FLIR/RGB/images/train/video-GRTvaQikDNNCdCnZW-frame-004416-fXNWeoTErRWiMu7Gm.jpg: ignoring corrupt image/label: Label class 78 exceeds dataset class count 15. Possible class labels are 0-14\n",
      "\u001b[34m\u001b[1mtrain: \u001b[0mWARNING ⚠️ /home/dylan/projects/YOLO-RGB-T/notebooks/FLIR/RGB/images/train/video-GRTvaQikDNNCdCnZW-frame-004431-HcxeYNJwRB8zDXDFf.jpg: ignoring corrupt image/label: Label class 78 exceeds dataset class count 15. Possible class labels are 0-14\n",
      "\u001b[34m\u001b[1mtrain: \u001b[0mWARNING ⚠️ /home/dylan/projects/YOLO-RGB-T/notebooks/FLIR/RGB/images/train/video-GRTvaQikDNNCdCnZW-frame-004446-LbkXzrWMREfrT42Rw.jpg: ignoring corrupt image/label: Label class 78 exceeds dataset class count 15. Possible class labels are 0-14\n",
      "\u001b[34m\u001b[1mtrain: \u001b[0mWARNING ⚠️ /home/dylan/projects/YOLO-RGB-T/notebooks/FLIR/RGB/images/train/video-GRTvaQikDNNCdCnZW-frame-004461-xLbgJkMwjx2MipciT.jpg: ignoring corrupt image/label: Label class 78 exceeds dataset class count 15. Possible class labels are 0-14\n",
      "\u001b[34m\u001b[1mtrain: \u001b[0mWARNING ⚠️ /home/dylan/projects/YOLO-RGB-T/notebooks/FLIR/RGB/images/train/video-GRTvaQikDNNCdCnZW-frame-004476-WDLZZktvN92cwi6Bi.jpg: ignoring corrupt image/label: Label class 78 exceeds dataset class count 15. Possible class labels are 0-14\n",
      "\u001b[34m\u001b[1mtrain: \u001b[0mWARNING ⚠️ /home/dylan/projects/YOLO-RGB-T/notebooks/FLIR/RGB/images/train/video-GRTvaQikDNNCdCnZW-frame-004491-zPN3Edkx9E7LyZpjf.jpg: ignoring corrupt image/label: Label class 78 exceeds dataset class count 15. Possible class labels are 0-14\n",
      "\u001b[34m\u001b[1mtrain: \u001b[0mWARNING ⚠️ /home/dylan/projects/YOLO-RGB-T/notebooks/FLIR/RGB/images/train/video-GRTvaQikDNNCdCnZW-frame-004506-vEiZtgQ6NtH5RLqjC.jpg: ignoring corrupt image/label: Label class 78 exceeds dataset class count 15. Possible class labels are 0-14\n",
      "\u001b[34m\u001b[1mtrain: \u001b[0mWARNING ⚠️ /home/dylan/projects/YOLO-RGB-T/notebooks/FLIR/RGB/images/train/video-GRTvaQikDNNCdCnZW-frame-004596-2Sz5hDLLxtZQbvkog.jpg: ignoring corrupt image/label: Label class 78 exceeds dataset class count 15. Possible class labels are 0-14\n",
      "\u001b[34m\u001b[1mtrain: \u001b[0mWARNING ⚠️ /home/dylan/projects/YOLO-RGB-T/notebooks/FLIR/RGB/images/train/video-GRTvaQikDNNCdCnZW-frame-004611-xS9gA7YqmpqQNQtjL.jpg: ignoring corrupt image/label: Label class 78 exceeds dataset class count 15. Possible class labels are 0-14\n",
      "\u001b[34m\u001b[1mtrain: \u001b[0mWARNING ⚠️ /home/dylan/projects/YOLO-RGB-T/notebooks/FLIR/RGB/images/train/video-GRTvaQikDNNCdCnZW-frame-004626-KLeNEoo7DqDJPjPM9.jpg: ignoring corrupt image/label: Label class 78 exceeds dataset class count 15. Possible class labels are 0-14\n",
      "\u001b[34m\u001b[1mtrain: \u001b[0mWARNING ⚠️ /home/dylan/projects/YOLO-RGB-T/notebooks/FLIR/RGB/images/train/video-GRTvaQikDNNCdCnZW-frame-004641-E2a3tPdk88Kyqafka.jpg: ignoring corrupt image/label: Label class 78 exceeds dataset class count 15. Possible class labels are 0-14\n",
      "\u001b[34m\u001b[1mtrain: \u001b[0mWARNING ⚠️ /home/dylan/projects/YOLO-RGB-T/notebooks/FLIR/RGB/images/train/video-GiDQGbWeWwtNTQEnG-frame-000206-qDGz6ktg4gjkFzBcN.jpg: ignoring corrupt image/label: Label class 78 exceeds dataset class count 15. Possible class labels are 0-14\n",
      "\u001b[34m\u001b[1mtrain: \u001b[0mWARNING ⚠️ /home/dylan/projects/YOLO-RGB-T/notebooks/FLIR/RGB/images/train/video-GiDQGbWeWwtNTQEnG-frame-000826-D6oPnrn9sAPAM5kq5.jpg: ignoring corrupt image/label: Label class 78 exceeds dataset class count 15. Possible class labels are 0-14\n",
      "\u001b[34m\u001b[1mtrain: \u001b[0mWARNING ⚠️ /home/dylan/projects/YOLO-RGB-T/notebooks/FLIR/RGB/images/train/video-GiDQGbWeWwtNTQEnG-frame-004956-SWdzKXtjamh5JyxsP.jpg: ignoring corrupt image/label: Label class 78 exceeds dataset class count 15. Possible class labels are 0-14\n",
      "\u001b[34m\u001b[1mtrain: \u001b[0mWARNING ⚠️ /home/dylan/projects/YOLO-RGB-T/notebooks/FLIR/RGB/images/train/video-H4LTfF4eGmFxZL6ZS-frame-009459-WniicbuyLQFfyWAML.jpg: ignoring corrupt image/label: Label class 36 exceeds dataset class count 15. Possible class labels are 0-14\n",
      "\u001b[34m\u001b[1mtrain: \u001b[0mWARNING ⚠️ /home/dylan/projects/YOLO-RGB-T/notebooks/FLIR/RGB/images/train/video-H4LTfF4eGmFxZL6ZS-frame-009469-DmnPYxT7aXi5GC4Ng.jpg: ignoring corrupt image/label: Label class 36 exceeds dataset class count 15. Possible class labels are 0-14\n",
      "\u001b[34m\u001b[1mtrain: \u001b[0mWARNING ⚠️ /home/dylan/projects/YOLO-RGB-T/notebooks/FLIR/RGB/images/train/video-H4LTfF4eGmFxZL6ZS-frame-009479-6cSzCcyj35TrbCrCD.jpg: ignoring corrupt image/label: Label class 36 exceeds dataset class count 15. Possible class labels are 0-14\n",
      "\u001b[34m\u001b[1mtrain: \u001b[0mWARNING ⚠️ /home/dylan/projects/YOLO-RGB-T/notebooks/FLIR/RGB/images/train/video-H4LTfF4eGmFxZL6ZS-frame-009489-uGKPEF3CvnLYW86eo.jpg: ignoring corrupt image/label: Label class 36 exceeds dataset class count 15. Possible class labels are 0-14\n",
      "\u001b[34m\u001b[1mtrain: \u001b[0mWARNING ⚠️ /home/dylan/projects/YOLO-RGB-T/notebooks/FLIR/RGB/images/train/video-H4LTfF4eGmFxZL6ZS-frame-009499-keJdAcBjGDT8Kj9DJ.jpg: ignoring corrupt image/label: Label class 36 exceeds dataset class count 15. Possible class labels are 0-14\n",
      "\u001b[34m\u001b[1mtrain: \u001b[0mWARNING ⚠️ /home/dylan/projects/YOLO-RGB-T/notebooks/FLIR/RGB/images/train/video-H4LTfF4eGmFxZL6ZS-frame-015351-noGWpJdrnLygJLz8F.jpg: ignoring corrupt image/label: Label class 74 exceeds dataset class count 15. Possible class labels are 0-14\n",
      "\u001b[34m\u001b[1mtrain: \u001b[0mWARNING ⚠️ /home/dylan/projects/YOLO-RGB-T/notebooks/FLIR/RGB/images/train/video-H4LTfF4eGmFxZL6ZS-frame-015361-uT76MXxwuqWimdd9q.jpg: ignoring corrupt image/label: Label class 74 exceeds dataset class count 15. Possible class labels are 0-14\n",
      "\u001b[34m\u001b[1mtrain: \u001b[0mWARNING ⚠️ /home/dylan/projects/YOLO-RGB-T/notebooks/FLIR/RGB/images/train/video-H4LTfF4eGmFxZL6ZS-frame-015381-Kg9ZuDjbeDYzs2GhX.jpg: ignoring corrupt image/label: Label class 74 exceeds dataset class count 15. Possible class labels are 0-14\n",
      "\u001b[34m\u001b[1mtrain: \u001b[0mWARNING ⚠️ /home/dylan/projects/YOLO-RGB-T/notebooks/FLIR/RGB/images/train/video-H4LTfF4eGmFxZL6ZS-frame-015401-De6vjnLxQ46PntMeG.jpg: ignoring corrupt image/label: Label class 74 exceeds dataset class count 15. Possible class labels are 0-14\n",
      "\u001b[34m\u001b[1mtrain: \u001b[0mWARNING ⚠️ /home/dylan/projects/YOLO-RGB-T/notebooks/FLIR/RGB/images/train/video-H4LTfF4eGmFxZL6ZS-frame-015411-F4tJNYMQ85hyoPmYc.jpg: ignoring corrupt image/label: Label class 74 exceeds dataset class count 15. Possible class labels are 0-14\n",
      "\u001b[34m\u001b[1mtrain: \u001b[0mWARNING ⚠️ /home/dylan/projects/YOLO-RGB-T/notebooks/FLIR/RGB/images/train/video-H4LTfF4eGmFxZL6ZS-frame-015421-uBbpu5ixvFbQH3bGn.jpg: ignoring corrupt image/label: Label class 74 exceeds dataset class count 15. Possible class labels are 0-14\n",
      "\u001b[34m\u001b[1mtrain: \u001b[0mWARNING ⚠️ /home/dylan/projects/YOLO-RGB-T/notebooks/FLIR/RGB/images/train/video-H4LTfF4eGmFxZL6ZS-frame-015431-HW8khKyzZ5Lf9WMBA.jpg: ignoring corrupt image/label: Label class 74 exceeds dataset class count 15. Possible class labels are 0-14\n",
      "\u001b[34m\u001b[1mtrain: \u001b[0mWARNING ⚠️ /home/dylan/projects/YOLO-RGB-T/notebooks/FLIR/RGB/images/train/video-H4LTfF4eGmFxZL6ZS-frame-015441-2DZEai6iQ4Tejevfp.jpg: ignoring corrupt image/label: Label class 74 exceeds dataset class count 15. Possible class labels are 0-14\n",
      "\u001b[34m\u001b[1mtrain: \u001b[0mWARNING ⚠️ /home/dylan/projects/YOLO-RGB-T/notebooks/FLIR/RGB/images/train/video-H4LTfF4eGmFxZL6ZS-frame-015511-LAgbPww9NbayHNveN.jpg: ignoring corrupt image/label: Label class 36 exceeds dataset class count 15. Possible class labels are 0-14\n",
      "\u001b[34m\u001b[1mtrain: \u001b[0mWARNING ⚠️ /home/dylan/projects/YOLO-RGB-T/notebooks/FLIR/RGB/images/train/video-H4LTfF4eGmFxZL6ZS-frame-015531-KRSa3SJ6AgmZJSEgL.jpg: ignoring corrupt image/label: Label class 36 exceeds dataset class count 15. Possible class labels are 0-14\n",
      "\u001b[34m\u001b[1mtrain: \u001b[0mWARNING ⚠️ /home/dylan/projects/YOLO-RGB-T/notebooks/FLIR/RGB/images/train/video-H4LTfF4eGmFxZL6ZS-frame-015541-qm4a3GrNBtox94bXs.jpg: ignoring corrupt image/label: Label class 36 exceeds dataset class count 15. Possible class labels are 0-14\n",
      "\u001b[34m\u001b[1mtrain: \u001b[0mWARNING ⚠️ /home/dylan/projects/YOLO-RGB-T/notebooks/FLIR/RGB/images/train/video-H4LTfF4eGmFxZL6ZS-frame-015551-x9kmgaaA8TArBuon7.jpg: ignoring corrupt image/label: Label class 36 exceeds dataset class count 15. Possible class labels are 0-14\n",
      "\u001b[34m\u001b[1mtrain: \u001b[0mWARNING ⚠️ /home/dylan/projects/YOLO-RGB-T/notebooks/FLIR/RGB/images/train/video-H4LTfF4eGmFxZL6ZS-frame-015561-G3mng2JWkiBrj7CTM.jpg: ignoring corrupt image/label: Label class 36 exceeds dataset class count 15. Possible class labels are 0-14\n",
      "\u001b[34m\u001b[1mtrain: \u001b[0mWARNING ⚠️ /home/dylan/projects/YOLO-RGB-T/notebooks/FLIR/RGB/images/train/video-H4LTfF4eGmFxZL6ZS-frame-015571-YLmDYjzMYxcoPFXfc.jpg: ignoring corrupt image/label: Label class 36 exceeds dataset class count 15. Possible class labels are 0-14\n",
      "\u001b[34m\u001b[1mtrain: \u001b[0mWARNING ⚠️ /home/dylan/projects/YOLO-RGB-T/notebooks/FLIR/RGB/images/train/video-H4LTfF4eGmFxZL6ZS-frame-015581-uTWsY4jGtASjNgE3e.jpg: ignoring corrupt image/label: Label class 36 exceeds dataset class count 15. Possible class labels are 0-14\n",
      "\u001b[34m\u001b[1mtrain: \u001b[0mWARNING ⚠️ /home/dylan/projects/YOLO-RGB-T/notebooks/FLIR/RGB/images/train/video-H4LTfF4eGmFxZL6ZS-frame-015591-cC6gNDCDS3dnGdsR6.jpg: ignoring corrupt image/label: Label class 36 exceeds dataset class count 15. Possible class labels are 0-14\n",
      "\u001b[34m\u001b[1mtrain: \u001b[0mWARNING ⚠️ /home/dylan/projects/YOLO-RGB-T/notebooks/FLIR/RGB/images/train/video-H4LTfF4eGmFxZL6ZS-frame-015601-TfnFLW7zhtwzxjYhw.jpg: ignoring corrupt image/label: Label class 36 exceeds dataset class count 15. Possible class labels are 0-14\n",
      "\u001b[34m\u001b[1mtrain: \u001b[0mWARNING ⚠️ /home/dylan/projects/YOLO-RGB-T/notebooks/FLIR/RGB/images/train/video-H4LTfF4eGmFxZL6ZS-frame-015611-2FsyAJmumHjkSWqAx.jpg: ignoring corrupt image/label: Label class 36 exceeds dataset class count 15. Possible class labels are 0-14\n",
      "\u001b[34m\u001b[1mtrain: \u001b[0mWARNING ⚠️ /home/dylan/projects/YOLO-RGB-T/notebooks/FLIR/RGB/images/train/video-H4LTfF4eGmFxZL6ZS-frame-015621-kdgY5gmbxCQ9t9CJn.jpg: ignoring corrupt image/label: Label class 36 exceeds dataset class count 15. Possible class labels are 0-14\n",
      "\u001b[34m\u001b[1mtrain: \u001b[0mWARNING ⚠️ /home/dylan/projects/YOLO-RGB-T/notebooks/FLIR/RGB/images/train/video-H4LTfF4eGmFxZL6ZS-frame-015631-CFgfJGN2RKQfjnAcN.jpg: ignoring corrupt image/label: Label class 36 exceeds dataset class count 15. Possible class labels are 0-14\n",
      "\u001b[34m\u001b[1mtrain: \u001b[0mWARNING ⚠️ /home/dylan/projects/YOLO-RGB-T/notebooks/FLIR/RGB/images/train/video-H4LTfF4eGmFxZL6ZS-frame-015641-B85wm2MH2mY5oivGn.jpg: ignoring corrupt image/label: Label class 36 exceeds dataset class count 15. Possible class labels are 0-14\n",
      "\u001b[34m\u001b[1mtrain: \u001b[0mWARNING ⚠️ /home/dylan/projects/YOLO-RGB-T/notebooks/FLIR/RGB/images/train/video-H4LTfF4eGmFxZL6ZS-frame-015651-DynTbKeMzh4hJ5W5J.jpg: ignoring corrupt image/label: Label class 36 exceeds dataset class count 15. Possible class labels are 0-14\n",
      "\u001b[34m\u001b[1mtrain: \u001b[0mWARNING ⚠️ /home/dylan/projects/YOLO-RGB-T/notebooks/FLIR/RGB/images/train/video-H4LTfF4eGmFxZL6ZS-frame-015661-3jgA6rFtCSqgWaFgv.jpg: ignoring corrupt image/label: Label class 36 exceeds dataset class count 15. Possible class labels are 0-14\n",
      "\u001b[34m\u001b[1mtrain: \u001b[0mWARNING ⚠️ /home/dylan/projects/YOLO-RGB-T/notebooks/FLIR/RGB/images/train/video-H4LTfF4eGmFxZL6ZS-frame-015671-mBrMz3P9fzpPEF44H.jpg: ignoring corrupt image/label: Label class 36 exceeds dataset class count 15. Possible class labels are 0-14\n",
      "\u001b[34m\u001b[1mtrain: \u001b[0mWARNING ⚠️ /home/dylan/projects/YOLO-RGB-T/notebooks/FLIR/RGB/images/train/video-H4LTfF4eGmFxZL6ZS-frame-015681-pNuBs2otbAn5j6MAP.jpg: ignoring corrupt image/label: Label class 36 exceeds dataset class count 15. Possible class labels are 0-14\n",
      "\u001b[34m\u001b[1mtrain: \u001b[0mWARNING ⚠️ /home/dylan/projects/YOLO-RGB-T/notebooks/FLIR/RGB/images/train/video-H4LTfF4eGmFxZL6ZS-frame-015691-nHaHZQcyQsmhfxp4P.jpg: ignoring corrupt image/label: Label class 36 exceeds dataset class count 15. Possible class labels are 0-14\n",
      "\u001b[34m\u001b[1mtrain: \u001b[0mWARNING ⚠️ /home/dylan/projects/YOLO-RGB-T/notebooks/FLIR/RGB/images/train/video-H4LTfF4eGmFxZL6ZS-frame-015701-R8gcMzPPmcyXN9hBZ.jpg: ignoring corrupt image/label: Label class 36 exceeds dataset class count 15. Possible class labels are 0-14\n",
      "\u001b[34m\u001b[1mtrain: \u001b[0mWARNING ⚠️ /home/dylan/projects/YOLO-RGB-T/notebooks/FLIR/RGB/images/train/video-H4LTfF4eGmFxZL6ZS-frame-015711-DhNGbzThYQtancG97.jpg: ignoring corrupt image/label: Label class 36 exceeds dataset class count 15. Possible class labels are 0-14\n",
      "\u001b[34m\u001b[1mtrain: \u001b[0mWARNING ⚠️ /home/dylan/projects/YOLO-RGB-T/notebooks/FLIR/RGB/images/train/video-H4LTfF4eGmFxZL6ZS-frame-015721-FFLGKKNtREoqFYJ9P.jpg: ignoring corrupt image/label: Label class 36 exceeds dataset class count 15. Possible class labels are 0-14\n",
      "\u001b[34m\u001b[1mtrain: \u001b[0mWARNING ⚠️ /home/dylan/projects/YOLO-RGB-T/notebooks/FLIR/RGB/images/train/video-H4LTfF4eGmFxZL6ZS-frame-015731-ryadsoSLJF2geNKgb.jpg: ignoring corrupt image/label: Label class 36 exceeds dataset class count 15. Possible class labels are 0-14\n",
      "\u001b[34m\u001b[1mtrain: \u001b[0mWARNING ⚠️ /home/dylan/projects/YOLO-RGB-T/notebooks/FLIR/RGB/images/train/video-H4LTfF4eGmFxZL6ZS-frame-015741-MvLxosGtLuAadJAu3.jpg: ignoring corrupt image/label: Label class 36 exceeds dataset class count 15. Possible class labels are 0-14\n",
      "\u001b[34m\u001b[1mtrain: \u001b[0mWARNING ⚠️ /home/dylan/projects/YOLO-RGB-T/notebooks/FLIR/RGB/images/train/video-H4LTfF4eGmFxZL6ZS-frame-015751-ub2n5KGQ85rqsnnwY.jpg: ignoring corrupt image/label: Label class 36 exceeds dataset class count 15. Possible class labels are 0-14\n",
      "\u001b[34m\u001b[1mtrain: \u001b[0mWARNING ⚠️ /home/dylan/projects/YOLO-RGB-T/notebooks/FLIR/RGB/images/train/video-H4LTfF4eGmFxZL6ZS-frame-015761-jMWNDp4ZJi5vYssiN.jpg: ignoring corrupt image/label: Label class 36 exceeds dataset class count 15. Possible class labels are 0-14\n",
      "\u001b[34m\u001b[1mtrain: \u001b[0mWARNING ⚠️ /home/dylan/projects/YOLO-RGB-T/notebooks/FLIR/RGB/images/train/video-H4LTfF4eGmFxZL6ZS-frame-015771-vFBDNqMm2z9HGDrLR.jpg: ignoring corrupt image/label: Label class 36 exceeds dataset class count 15. Possible class labels are 0-14\n",
      "\u001b[34m\u001b[1mtrain: \u001b[0mWARNING ⚠️ /home/dylan/projects/YOLO-RGB-T/notebooks/FLIR/RGB/images/train/video-H4LTfF4eGmFxZL6ZS-frame-015781-6RebHswMZM8D4hNZ9.jpg: ignoring corrupt image/label: Label class 36 exceeds dataset class count 15. Possible class labels are 0-14\n",
      "\u001b[34m\u001b[1mtrain: \u001b[0mWARNING ⚠️ /home/dylan/projects/YOLO-RGB-T/notebooks/FLIR/RGB/images/train/video-H4LTfF4eGmFxZL6ZS-frame-015791-gGzgzxRJ2gfQtxran.jpg: ignoring corrupt image/label: Label class 36 exceeds dataset class count 15. Possible class labels are 0-14\n",
      "\u001b[34m\u001b[1mtrain: \u001b[0mWARNING ⚠️ /home/dylan/projects/YOLO-RGB-T/notebooks/FLIR/RGB/images/train/video-H4LTfF4eGmFxZL6ZS-frame-015801-ZhJ4g3KoZ9YjCoxZv.jpg: ignoring corrupt image/label: Label class 36 exceeds dataset class count 15. Possible class labels are 0-14\n",
      "\u001b[34m\u001b[1mtrain: \u001b[0mWARNING ⚠️ /home/dylan/projects/YOLO-RGB-T/notebooks/FLIR/RGB/images/train/video-H4LTfF4eGmFxZL6ZS-frame-015811-ZesXmTjquL677GPY6.jpg: ignoring corrupt image/label: Label class 36 exceeds dataset class count 15. Possible class labels are 0-14\n",
      "\u001b[34m\u001b[1mtrain: \u001b[0mWARNING ⚠️ /home/dylan/projects/YOLO-RGB-T/notebooks/FLIR/RGB/images/train/video-H4LTfF4eGmFxZL6ZS-frame-015821-2BjnSqGq5xhYtCFrC.jpg: ignoring corrupt image/label: Label class 36 exceeds dataset class count 15. Possible class labels are 0-14\n",
      "\u001b[34m\u001b[1mtrain: \u001b[0mWARNING ⚠️ /home/dylan/projects/YOLO-RGB-T/notebooks/FLIR/RGB/images/train/video-H4LTfF4eGmFxZL6ZS-frame-015831-MexKv9GeJKQcSvLeS.jpg: ignoring corrupt image/label: Label class 36 exceeds dataset class count 15. Possible class labels are 0-14\n",
      "\u001b[34m\u001b[1mtrain: \u001b[0mWARNING ⚠️ /home/dylan/projects/YOLO-RGB-T/notebooks/FLIR/RGB/images/train/video-H4LTfF4eGmFxZL6ZS-frame-015841-Mf3LSvreA9t6wDQPJ.jpg: ignoring corrupt image/label: Label class 36 exceeds dataset class count 15. Possible class labels are 0-14\n",
      "\u001b[34m\u001b[1mtrain: \u001b[0mWARNING ⚠️ /home/dylan/projects/YOLO-RGB-T/notebooks/FLIR/RGB/images/train/video-H4LTfF4eGmFxZL6ZS-frame-015851-KC3RqB2AJ8wmGmeRc.jpg: ignoring corrupt image/label: Label class 36 exceeds dataset class count 15. Possible class labels are 0-14\n",
      "\u001b[34m\u001b[1mtrain: \u001b[0mWARNING ⚠️ /home/dylan/projects/YOLO-RGB-T/notebooks/FLIR/RGB/images/train/video-H4LTfF4eGmFxZL6ZS-frame-015861-WD7qRxQRMQospgHmY.jpg: ignoring corrupt image/label: Label class 36 exceeds dataset class count 15. Possible class labels are 0-14\n",
      "\u001b[34m\u001b[1mtrain: \u001b[0mWARNING ⚠️ /home/dylan/projects/YOLO-RGB-T/notebooks/FLIR/RGB/images/train/video-H4LTfF4eGmFxZL6ZS-frame-015871-itEzdmjuPd3E5vGEM.jpg: ignoring corrupt image/label: Label class 36 exceeds dataset class count 15. Possible class labels are 0-14\n",
      "\u001b[34m\u001b[1mtrain: \u001b[0mWARNING ⚠️ /home/dylan/projects/YOLO-RGB-T/notebooks/FLIR/RGB/images/train/video-H4LTfF4eGmFxZL6ZS-frame-015881-e8cLgY3aEdcPDQ3vX.jpg: ignoring corrupt image/label: Label class 36 exceeds dataset class count 15. Possible class labels are 0-14\n",
      "\u001b[34m\u001b[1mtrain: \u001b[0mWARNING ⚠️ /home/dylan/projects/YOLO-RGB-T/notebooks/FLIR/RGB/images/train/video-H4LTfF4eGmFxZL6ZS-frame-015891-kEJ6a7bFM7wYvxYA3.jpg: ignoring corrupt image/label: Label class 36 exceeds dataset class count 15. Possible class labels are 0-14\n",
      "\u001b[34m\u001b[1mtrain: \u001b[0mWARNING ⚠️ /home/dylan/projects/YOLO-RGB-T/notebooks/FLIR/RGB/images/train/video-H4LTfF4eGmFxZL6ZS-frame-015901-eojuKEA6B6ZRu42WX.jpg: ignoring corrupt image/label: Label class 36 exceeds dataset class count 15. Possible class labels are 0-14\n",
      "\u001b[34m\u001b[1mtrain: \u001b[0mWARNING ⚠️ /home/dylan/projects/YOLO-RGB-T/notebooks/FLIR/RGB/images/train/video-H4LTfF4eGmFxZL6ZS-frame-015911-PDKb5weaJPiAXok5w.jpg: ignoring corrupt image/label: Label class 36 exceeds dataset class count 15. Possible class labels are 0-14\n",
      "\u001b[34m\u001b[1mtrain: \u001b[0mWARNING ⚠️ /home/dylan/projects/YOLO-RGB-T/notebooks/FLIR/RGB/images/train/video-H4LTfF4eGmFxZL6ZS-frame-015921-nNpsTfj7gLATq7oh3.jpg: ignoring corrupt image/label: Label class 36 exceeds dataset class count 15. Possible class labels are 0-14\n",
      "\u001b[34m\u001b[1mtrain: \u001b[0mWARNING ⚠️ /home/dylan/projects/YOLO-RGB-T/notebooks/FLIR/RGB/images/train/video-H4LTfF4eGmFxZL6ZS-frame-015931-hvRkRdQSejGc6uZ8P.jpg: ignoring corrupt image/label: Label class 36 exceeds dataset class count 15. Possible class labels are 0-14\n",
      "\u001b[34m\u001b[1mtrain: \u001b[0mWARNING ⚠️ /home/dylan/projects/YOLO-RGB-T/notebooks/FLIR/RGB/images/train/video-H4LTfF4eGmFxZL6ZS-frame-015941-uXfztMr7Mb4mqKbHr.jpg: ignoring corrupt image/label: Label class 36 exceeds dataset class count 15. Possible class labels are 0-14\n",
      "\u001b[34m\u001b[1mtrain: \u001b[0mWARNING ⚠️ /home/dylan/projects/YOLO-RGB-T/notebooks/FLIR/RGB/images/train/video-H4LTfF4eGmFxZL6ZS-frame-015951-t93Fnybv5MuuiojGM.jpg: ignoring corrupt image/label: Label class 36 exceeds dataset class count 15. Possible class labels are 0-14\n",
      "\u001b[34m\u001b[1mtrain: \u001b[0mWARNING ⚠️ /home/dylan/projects/YOLO-RGB-T/notebooks/FLIR/RGB/images/train/video-H4LTfF4eGmFxZL6ZS-frame-015961-z7oxbqFfXRNbZXdkJ.jpg: ignoring corrupt image/label: Label class 36 exceeds dataset class count 15. Possible class labels are 0-14\n",
      "\u001b[34m\u001b[1mtrain: \u001b[0mWARNING ⚠️ /home/dylan/projects/YOLO-RGB-T/notebooks/FLIR/RGB/images/train/video-H4LTfF4eGmFxZL6ZS-frame-015971-ShD68v8xd3nC6vxYL.jpg: ignoring corrupt image/label: Label class 36 exceeds dataset class count 15. Possible class labels are 0-14\n",
      "\u001b[34m\u001b[1mtrain: \u001b[0mWARNING ⚠️ /home/dylan/projects/YOLO-RGB-T/notebooks/FLIR/RGB/images/train/video-H4LTfF4eGmFxZL6ZS-frame-015981-f4NeTtEgQLu2w9fqa.jpg: ignoring corrupt image/label: Label class 36 exceeds dataset class count 15. Possible class labels are 0-14\n",
      "\u001b[34m\u001b[1mtrain: \u001b[0mWARNING ⚠️ /home/dylan/projects/YOLO-RGB-T/notebooks/FLIR/RGB/images/train/video-H4LTfF4eGmFxZL6ZS-frame-015991-E8uNxLjhTbmnhJGsm.jpg: ignoring corrupt image/label: Label class 36 exceeds dataset class count 15. Possible class labels are 0-14\n",
      "\u001b[34m\u001b[1mtrain: \u001b[0mWARNING ⚠️ /home/dylan/projects/YOLO-RGB-T/notebooks/FLIR/RGB/images/train/video-H4LTfF4eGmFxZL6ZS-frame-016001-jX63DsAAak2dMiMm6.jpg: ignoring corrupt image/label: Label class 36 exceeds dataset class count 15. Possible class labels are 0-14\n",
      "\u001b[34m\u001b[1mtrain: \u001b[0mWARNING ⚠️ /home/dylan/projects/YOLO-RGB-T/notebooks/FLIR/RGB/images/train/video-H4LTfF4eGmFxZL6ZS-frame-016011-6GPzs4Ygz6WDhZYng.jpg: ignoring corrupt image/label: Label class 36 exceeds dataset class count 15. Possible class labels are 0-14\n",
      "\u001b[34m\u001b[1mtrain: \u001b[0mWARNING ⚠️ /home/dylan/projects/YOLO-RGB-T/notebooks/FLIR/RGB/images/train/video-H4LTfF4eGmFxZL6ZS-frame-016021-Lw5QdBvHT3EJFsLvg.jpg: ignoring corrupt image/label: Label class 36 exceeds dataset class count 15. Possible class labels are 0-14\n",
      "\u001b[34m\u001b[1mtrain: \u001b[0mWARNING ⚠️ /home/dylan/projects/YOLO-RGB-T/notebooks/FLIR/RGB/images/train/video-H4LTfF4eGmFxZL6ZS-frame-016031-dq4ArcaGrWT5fB2YF.jpg: ignoring corrupt image/label: Label class 36 exceeds dataset class count 15. Possible class labels are 0-14\n",
      "\u001b[34m\u001b[1mtrain: \u001b[0mWARNING ⚠️ /home/dylan/projects/YOLO-RGB-T/notebooks/FLIR/RGB/images/train/video-H4LTfF4eGmFxZL6ZS-frame-016041-gxRJookFLsseyviFc.jpg: ignoring corrupt image/label: Label class 36 exceeds dataset class count 15. Possible class labels are 0-14\n",
      "\u001b[34m\u001b[1mtrain: \u001b[0mWARNING ⚠️ /home/dylan/projects/YOLO-RGB-T/notebooks/FLIR/RGB/images/train/video-H4LTfF4eGmFxZL6ZS-frame-016051-FhFv3iyAhP8LtsuvH.jpg: ignoring corrupt image/label: Label class 36 exceeds dataset class count 15. Possible class labels are 0-14\n",
      "\u001b[34m\u001b[1mtrain: \u001b[0mWARNING ⚠️ /home/dylan/projects/YOLO-RGB-T/notebooks/FLIR/RGB/images/train/video-H4LTfF4eGmFxZL6ZS-frame-016061-hbv2bPJnvdcWYraEN.jpg: ignoring corrupt image/label: Label class 36 exceeds dataset class count 15. Possible class labels are 0-14\n",
      "\u001b[34m\u001b[1mtrain: \u001b[0mWARNING ⚠️ /home/dylan/projects/YOLO-RGB-T/notebooks/FLIR/RGB/images/train/video-H4LTfF4eGmFxZL6ZS-frame-016071-EwjH8Jv5KGdiw8gWa.jpg: ignoring corrupt image/label: Label class 36 exceeds dataset class count 15. Possible class labels are 0-14\n",
      "\u001b[34m\u001b[1mtrain: \u001b[0mWARNING ⚠️ /home/dylan/projects/YOLO-RGB-T/notebooks/FLIR/RGB/images/train/video-H4LTfF4eGmFxZL6ZS-frame-016081-vEPB34wFk3TL5bZk8.jpg: ignoring corrupt image/label: Label class 36 exceeds dataset class count 15. Possible class labels are 0-14\n",
      "\u001b[34m\u001b[1mtrain: \u001b[0mWARNING ⚠️ /home/dylan/projects/YOLO-RGB-T/notebooks/FLIR/RGB/images/train/video-H4LTfF4eGmFxZL6ZS-frame-016091-TLFh6vQh25MknLCs5.jpg: ignoring corrupt image/label: Label class 36 exceeds dataset class count 15. Possible class labels are 0-14\n",
      "\u001b[34m\u001b[1mtrain: \u001b[0mWARNING ⚠️ /home/dylan/projects/YOLO-RGB-T/notebooks/FLIR/RGB/images/train/video-H4LTfF4eGmFxZL6ZS-frame-016101-pXGXG7hCioSY9TnCC.jpg: ignoring corrupt image/label: Label class 36 exceeds dataset class count 15. Possible class labels are 0-14\n",
      "\u001b[34m\u001b[1mtrain: \u001b[0mWARNING ⚠️ /home/dylan/projects/YOLO-RGB-T/notebooks/FLIR/RGB/images/train/video-H4LTfF4eGmFxZL6ZS-frame-016111-M54P2XXZtoe4uZLFa.jpg: ignoring corrupt image/label: Label class 36 exceeds dataset class count 15. Possible class labels are 0-14\n",
      "\u001b[34m\u001b[1mtrain: \u001b[0mWARNING ⚠️ /home/dylan/projects/YOLO-RGB-T/notebooks/FLIR/RGB/images/train/video-H4LTfF4eGmFxZL6ZS-frame-016121-nfd4zRjpEYtbyaxFX.jpg: ignoring corrupt image/label: Label class 36 exceeds dataset class count 15. Possible class labels are 0-14\n",
      "\u001b[34m\u001b[1mtrain: \u001b[0mWARNING ⚠️ /home/dylan/projects/YOLO-RGB-T/notebooks/FLIR/RGB/images/train/video-H4LTfF4eGmFxZL6ZS-frame-016131-HXuGmSjW829puRRHu.jpg: ignoring corrupt image/label: Label class 36 exceeds dataset class count 15. Possible class labels are 0-14\n",
      "\u001b[34m\u001b[1mtrain: \u001b[0mWARNING ⚠️ /home/dylan/projects/YOLO-RGB-T/notebooks/FLIR/RGB/images/train/video-H4LTfF4eGmFxZL6ZS-frame-016141-3rrrZCHxEtZ36b35S.jpg: ignoring corrupt image/label: Label class 36 exceeds dataset class count 15. Possible class labels are 0-14\n",
      "\u001b[34m\u001b[1mtrain: \u001b[0mWARNING ⚠️ /home/dylan/projects/YOLO-RGB-T/notebooks/FLIR/RGB/images/train/video-H4LTfF4eGmFxZL6ZS-frame-016151-TasmfPrvS6o6GWdva.jpg: ignoring corrupt image/label: Label class 36 exceeds dataset class count 15. Possible class labels are 0-14\n",
      "\u001b[34m\u001b[1mtrain: \u001b[0mWARNING ⚠️ /home/dylan/projects/YOLO-RGB-T/notebooks/FLIR/RGB/images/train/video-H4LTfF4eGmFxZL6ZS-frame-016161-jgd89tt7kJXZj8oCW.jpg: ignoring corrupt image/label: Label class 36 exceeds dataset class count 15. Possible class labels are 0-14\n",
      "\u001b[34m\u001b[1mtrain: \u001b[0mWARNING ⚠️ /home/dylan/projects/YOLO-RGB-T/notebooks/FLIR/RGB/images/train/video-H4LTfF4eGmFxZL6ZS-frame-016171-va3KTFHjseY5YKf5G.jpg: ignoring corrupt image/label: Label class 36 exceeds dataset class count 15. Possible class labels are 0-14\n",
      "\u001b[34m\u001b[1mtrain: \u001b[0mWARNING ⚠️ /home/dylan/projects/YOLO-RGB-T/notebooks/FLIR/RGB/images/train/video-H4LTfF4eGmFxZL6ZS-frame-016181-g6iwHsq6idtZybtKH.jpg: ignoring corrupt image/label: Label class 36 exceeds dataset class count 15. Possible class labels are 0-14\n",
      "\u001b[34m\u001b[1mtrain: \u001b[0mWARNING ⚠️ /home/dylan/projects/YOLO-RGB-T/notebooks/FLIR/RGB/images/train/video-H4LTfF4eGmFxZL6ZS-frame-016191-ivw4mi2cqaE5kqw5n.jpg: ignoring corrupt image/label: Label class 36 exceeds dataset class count 15. Possible class labels are 0-14\n",
      "\u001b[34m\u001b[1mtrain: \u001b[0mWARNING ⚠️ /home/dylan/projects/YOLO-RGB-T/notebooks/FLIR/RGB/images/train/video-H4LTfF4eGmFxZL6ZS-frame-016201-jFXY7fNPW89ASjeoq.jpg: ignoring corrupt image/label: Label class 36 exceeds dataset class count 15. Possible class labels are 0-14\n",
      "\u001b[34m\u001b[1mtrain: \u001b[0mWARNING ⚠️ /home/dylan/projects/YOLO-RGB-T/notebooks/FLIR/RGB/images/train/video-H4LTfF4eGmFxZL6ZS-frame-016211-ebXJBEro5qHeoEy25.jpg: ignoring corrupt image/label: Label class 36 exceeds dataset class count 15. Possible class labels are 0-14\n",
      "\u001b[34m\u001b[1mtrain: \u001b[0mWARNING ⚠️ /home/dylan/projects/YOLO-RGB-T/notebooks/FLIR/RGB/images/train/video-H4LTfF4eGmFxZL6ZS-frame-016221-6zDof7uinQh6pXgRT.jpg: ignoring corrupt image/label: Label class 36 exceeds dataset class count 15. Possible class labels are 0-14\n",
      "\u001b[34m\u001b[1mtrain: \u001b[0mWARNING ⚠️ /home/dylan/projects/YOLO-RGB-T/notebooks/FLIR/RGB/images/train/video-H4LTfF4eGmFxZL6ZS-frame-016231-9z5h7gaqT9yi7udyu.jpg: ignoring corrupt image/label: Label class 36 exceeds dataset class count 15. Possible class labels are 0-14\n",
      "\u001b[34m\u001b[1mtrain: \u001b[0mWARNING ⚠️ /home/dylan/projects/YOLO-RGB-T/notebooks/FLIR/RGB/images/train/video-H4LTfF4eGmFxZL6ZS-frame-016241-ihMujJbEgMpgzj4ar.jpg: ignoring corrupt image/label: Label class 36 exceeds dataset class count 15. Possible class labels are 0-14\n",
      "\u001b[34m\u001b[1mtrain: \u001b[0mWARNING ⚠️ /home/dylan/projects/YOLO-RGB-T/notebooks/FLIR/RGB/images/train/video-H4LTfF4eGmFxZL6ZS-frame-016251-s6e5SHJStAEegv8yJ.jpg: ignoring corrupt image/label: Label class 36 exceeds dataset class count 15. Possible class labels are 0-14\n",
      "\u001b[34m\u001b[1mtrain: \u001b[0mWARNING ⚠️ /home/dylan/projects/YOLO-RGB-T/notebooks/FLIR/RGB/images/train/video-H4LTfF4eGmFxZL6ZS-frame-016261-L6QCmb5K2ojNubyBH.jpg: ignoring corrupt image/label: Label class 36 exceeds dataset class count 15. Possible class labels are 0-14\n",
      "\u001b[34m\u001b[1mtrain: \u001b[0mWARNING ⚠️ /home/dylan/projects/YOLO-RGB-T/notebooks/FLIR/RGB/images/train/video-H4LTfF4eGmFxZL6ZS-frame-016271-oHC7LGpvjFZskPwLS.jpg: ignoring corrupt image/label: Label class 36 exceeds dataset class count 15. Possible class labels are 0-14\n",
      "\u001b[34m\u001b[1mtrain: \u001b[0mWARNING ⚠️ /home/dylan/projects/YOLO-RGB-T/notebooks/FLIR/RGB/images/train/video-H4LTfF4eGmFxZL6ZS-frame-016281-S5XjZZ4XHeGwLqioZ.jpg: ignoring corrupt image/label: Label class 36 exceeds dataset class count 15. Possible class labels are 0-14\n",
      "\u001b[34m\u001b[1mtrain: \u001b[0mWARNING ⚠️ /home/dylan/projects/YOLO-RGB-T/notebooks/FLIR/RGB/images/train/video-H4LTfF4eGmFxZL6ZS-frame-016291-qTF7Gw58i6NDoo5v9.jpg: ignoring corrupt image/label: Label class 36 exceeds dataset class count 15. Possible class labels are 0-14\n",
      "\u001b[34m\u001b[1mtrain: \u001b[0mWARNING ⚠️ /home/dylan/projects/YOLO-RGB-T/notebooks/FLIR/RGB/images/train/video-H4LTfF4eGmFxZL6ZS-frame-016301-X34ESeL5a5ddoxujL.jpg: ignoring corrupt image/label: Label class 36 exceeds dataset class count 15. Possible class labels are 0-14\n",
      "\u001b[34m\u001b[1mtrain: \u001b[0mWARNING ⚠️ /home/dylan/projects/YOLO-RGB-T/notebooks/FLIR/RGB/images/train/video-H4LTfF4eGmFxZL6ZS-frame-016311-dNgKY9uwJkmEuojcu.jpg: ignoring corrupt image/label: Label class 36 exceeds dataset class count 15. Possible class labels are 0-14\n",
      "\u001b[34m\u001b[1mtrain: \u001b[0mWARNING ⚠️ /home/dylan/projects/YOLO-RGB-T/notebooks/FLIR/RGB/images/train/video-H4LTfF4eGmFxZL6ZS-frame-016321-PAmiAoJKBzo8A5qCR.jpg: ignoring corrupt image/label: Label class 36 exceeds dataset class count 15. Possible class labels are 0-14\n",
      "\u001b[34m\u001b[1mtrain: \u001b[0mWARNING ⚠️ /home/dylan/projects/YOLO-RGB-T/notebooks/FLIR/RGB/images/train/video-H4LTfF4eGmFxZL6ZS-frame-016331-huuMvshuy8xsF9QZ8.jpg: ignoring corrupt image/label: Label class 36 exceeds dataset class count 15. Possible class labels are 0-14\n",
      "\u001b[34m\u001b[1mtrain: \u001b[0mWARNING ⚠️ /home/dylan/projects/YOLO-RGB-T/notebooks/FLIR/RGB/images/train/video-H4LTfF4eGmFxZL6ZS-frame-016341-p4K4PoKGMxcwaWKPo.jpg: ignoring corrupt image/label: Label class 36 exceeds dataset class count 15. Possible class labels are 0-14\n",
      "\u001b[34m\u001b[1mtrain: \u001b[0mWARNING ⚠️ /home/dylan/projects/YOLO-RGB-T/notebooks/FLIR/RGB/images/train/video-H4LTfF4eGmFxZL6ZS-frame-016351-EeCaFB5gZ2ywC2Hd5.jpg: ignoring corrupt image/label: Label class 36 exceeds dataset class count 15. Possible class labels are 0-14\n",
      "\u001b[34m\u001b[1mtrain: \u001b[0mWARNING ⚠️ /home/dylan/projects/YOLO-RGB-T/notebooks/FLIR/RGB/images/train/video-H4LTfF4eGmFxZL6ZS-frame-016361-Ws2gpzByQqRTZGSf5.jpg: ignoring corrupt image/label: Label class 36 exceeds dataset class count 15. Possible class labels are 0-14\n",
      "\u001b[34m\u001b[1mtrain: \u001b[0mWARNING ⚠️ /home/dylan/projects/YOLO-RGB-T/notebooks/FLIR/RGB/images/train/video-H4LTfF4eGmFxZL6ZS-frame-016371-nk3pQcxmawpP32x6a.jpg: ignoring corrupt image/label: Label class 36 exceeds dataset class count 15. Possible class labels are 0-14\n",
      "\u001b[34m\u001b[1mtrain: \u001b[0mWARNING ⚠️ /home/dylan/projects/YOLO-RGB-T/notebooks/FLIR/RGB/images/train/video-H4LTfF4eGmFxZL6ZS-frame-016381-wxTKKMnhXjgssbdAc.jpg: ignoring corrupt image/label: Label class 36 exceeds dataset class count 15. Possible class labels are 0-14\n",
      "\u001b[34m\u001b[1mtrain: \u001b[0mWARNING ⚠️ /home/dylan/projects/YOLO-RGB-T/notebooks/FLIR/RGB/images/train/video-H4LTfF4eGmFxZL6ZS-frame-016391-KEtmYrxF5uNMsjkrM.jpg: ignoring corrupt image/label: Label class 36 exceeds dataset class count 15. Possible class labels are 0-14\n",
      "\u001b[34m\u001b[1mtrain: \u001b[0mWARNING ⚠️ /home/dylan/projects/YOLO-RGB-T/notebooks/FLIR/RGB/images/train/video-JYCsbmv923hDD7acn-frame-000720-zPWeQCTFcCQWfR9Dj.jpg: ignoring corrupt image/label: Label class 78 exceeds dataset class count 15. Possible class labels are 0-14\n",
      "\u001b[34m\u001b[1mtrain: \u001b[0mWARNING ⚠️ /home/dylan/projects/YOLO-RGB-T/notebooks/FLIR/RGB/images/train/video-JYCsbmv923hDD7acn-frame-000917-RHDvrEn5Qo5rWBF76.jpg: ignoring corrupt image/label: Label class 78 exceeds dataset class count 15. Possible class labels are 0-14\n",
      "\u001b[34m\u001b[1mtrain: \u001b[0mWARNING ⚠️ /home/dylan/projects/YOLO-RGB-T/notebooks/FLIR/RGB/images/train/video-JYCsbmv923hDD7acn-frame-001057-kgNj6MrR6Bs5dJPif.jpg: ignoring corrupt image/label: Label class 78 exceeds dataset class count 15. Possible class labels are 0-14\n",
      "\u001b[34m\u001b[1mtrain: \u001b[0mWARNING ⚠️ /home/dylan/projects/YOLO-RGB-T/notebooks/FLIR/RGB/images/train/video-JYCsbmv923hDD7acn-frame-001066-Crxjt7PGf64PMHkEY.jpg: ignoring corrupt image/label: Label class 78 exceeds dataset class count 15. Possible class labels are 0-14\n",
      "\u001b[34m\u001b[1mtrain: \u001b[0mWARNING ⚠️ /home/dylan/projects/YOLO-RGB-T/notebooks/FLIR/RGB/images/train/video-JYCsbmv923hDD7acn-frame-009311-rwG7A8gpugkW52v6D.jpg: ignoring corrupt image/label: Label class 78 exceeds dataset class count 15. Possible class labels are 0-14\n",
      "\u001b[34m\u001b[1mtrain: \u001b[0mWARNING ⚠️ /home/dylan/projects/YOLO-RGB-T/notebooks/FLIR/RGB/images/train/video-JYCsbmv923hDD7acn-frame-009931-GKmyxZLZDYKMS34bo.jpg: ignoring corrupt image/label: Label class 74 exceeds dataset class count 15. Possible class labels are 0-14\n",
      "\u001b[34m\u001b[1mtrain: \u001b[0mWARNING ⚠️ /home/dylan/projects/YOLO-RGB-T/notebooks/FLIR/RGB/images/train/video-JbQjHwPbbMvLcuoYg-frame-000566-SKkJE4bgEkicASSor.jpg: ignoring corrupt image/label: Label class 78 exceeds dataset class count 15. Possible class labels are 0-14\n",
      "\u001b[34m\u001b[1mtrain: \u001b[0mWARNING ⚠️ /home/dylan/projects/YOLO-RGB-T/notebooks/FLIR/RGB/images/train/video-JbQjHwPbbMvLcuoYg-frame-000581-MNuZFoPbAgBAjXYrb.jpg: ignoring corrupt image/label: Label class 78 exceeds dataset class count 15. Possible class labels are 0-14\n",
      "\u001b[34m\u001b[1mtrain: \u001b[0mWARNING ⚠️ /home/dylan/projects/YOLO-RGB-T/notebooks/FLIR/RGB/images/train/video-JbQjHwPbbMvLcuoYg-frame-000596-wwoQxbsADMEjZnwkq.jpg: ignoring corrupt image/label: Label class 78 exceeds dataset class count 15. Possible class labels are 0-14\n",
      "\u001b[34m\u001b[1mtrain: \u001b[0mWARNING ⚠️ /home/dylan/projects/YOLO-RGB-T/notebooks/FLIR/RGB/images/train/video-JbQjHwPbbMvLcuoYg-frame-000611-6yLmtEbtJQsB3AAwt.jpg: ignoring corrupt image/label: Label class 78 exceeds dataset class count 15. Possible class labels are 0-14\n",
      "\u001b[34m\u001b[1mtrain: \u001b[0mWARNING ⚠️ /home/dylan/projects/YOLO-RGB-T/notebooks/FLIR/RGB/images/train/video-JbQjHwPbbMvLcuoYg-frame-000626-2AdNJkZwkf4z5xvQH.jpg: ignoring corrupt image/label: Label class 78 exceeds dataset class count 15. Possible class labels are 0-14\n",
      "\u001b[34m\u001b[1mtrain: \u001b[0mWARNING ⚠️ /home/dylan/projects/YOLO-RGB-T/notebooks/FLIR/RGB/images/train/video-JbQjHwPbbMvLcuoYg-frame-000641-T3SJq6aHnq6mHZ4YZ.jpg: ignoring corrupt image/label: Label class 78 exceeds dataset class count 15. Possible class labels are 0-14\n",
      "\u001b[34m\u001b[1mtrain: \u001b[0mWARNING ⚠️ /home/dylan/projects/YOLO-RGB-T/notebooks/FLIR/RGB/images/train/video-JbQjHwPbbMvLcuoYg-frame-001527-7xPtDAWBhZcSWPopd.jpg: ignoring corrupt image/label: Label class 78 exceeds dataset class count 15. Possible class labels are 0-14\n",
      "\u001b[34m\u001b[1mtrain: \u001b[0mWARNING ⚠️ /home/dylan/projects/YOLO-RGB-T/notebooks/FLIR/RGB/images/train/video-JbQjHwPbbMvLcuoYg-frame-001542-JQaNnygmduW5TXxaN.jpg: ignoring corrupt image/label: Label class 78 exceeds dataset class count 15. Possible class labels are 0-14\n",
      "\u001b[34m\u001b[1mtrain: \u001b[0mWARNING ⚠️ /home/dylan/projects/YOLO-RGB-T/notebooks/FLIR/RGB/images/train/video-JbQjHwPbbMvLcuoYg-frame-001557-RWh9scWb2xcu8kicZ.jpg: ignoring corrupt image/label: Label class 78 exceeds dataset class count 15. Possible class labels are 0-14\n",
      "\u001b[34m\u001b[1mtrain: \u001b[0mWARNING ⚠️ /home/dylan/projects/YOLO-RGB-T/notebooks/FLIR/RGB/images/train/video-JbQjHwPbbMvLcuoYg-frame-001602-SPSrMPXALG7YZRPAk.jpg: ignoring corrupt image/label: Label class 78 exceeds dataset class count 15. Possible class labels are 0-14\n",
      "\u001b[34m\u001b[1mtrain: \u001b[0mWARNING ⚠️ /home/dylan/projects/YOLO-RGB-T/notebooks/FLIR/RGB/images/train/video-JbQjHwPbbMvLcuoYg-frame-001692-XTCkKWduYfQhedA9f.jpg: ignoring corrupt image/label: Label class 72 exceeds dataset class count 15. Possible class labels are 0-14\n",
      "\u001b[34m\u001b[1mtrain: \u001b[0mWARNING ⚠️ /home/dylan/projects/YOLO-RGB-T/notebooks/FLIR/RGB/images/train/video-JbQjHwPbbMvLcuoYg-frame-001707-AsqWeMg8rNxxaWqPz.jpg: ignoring corrupt image/label: Label class 72 exceeds dataset class count 15. Possible class labels are 0-14\n",
      "\u001b[34m\u001b[1mtrain: \u001b[0mWARNING ⚠️ /home/dylan/projects/YOLO-RGB-T/notebooks/FLIR/RGB/images/train/video-JbQjHwPbbMvLcuoYg-frame-001722-Jr6T55hrLrFYRyTTn.jpg: ignoring corrupt image/label: Label class 72 exceeds dataset class count 15. Possible class labels are 0-14\n",
      "\u001b[34m\u001b[1mtrain: \u001b[0mWARNING ⚠️ /home/dylan/projects/YOLO-RGB-T/notebooks/FLIR/RGB/images/train/video-JbQjHwPbbMvLcuoYg-frame-001737-3svjWKcBqEkWmWoES.jpg: ignoring corrupt image/label: Label class 72 exceeds dataset class count 15. Possible class labels are 0-14\n",
      "\u001b[34m\u001b[1mtrain: \u001b[0mWARNING ⚠️ /home/dylan/projects/YOLO-RGB-T/notebooks/FLIR/RGB/images/train/video-JbQjHwPbbMvLcuoYg-frame-001752-MqWRN8f9zhCSJdTPu.jpg: ignoring corrupt image/label: Label class 72 exceeds dataset class count 15. Possible class labels are 0-14\n",
      "\u001b[34m\u001b[1mtrain: \u001b[0mWARNING ⚠️ /home/dylan/projects/YOLO-RGB-T/notebooks/FLIR/RGB/images/train/video-JbQjHwPbbMvLcuoYg-frame-002202-Sgegwg6jZ4EHxidZ3.jpg: ignoring corrupt image/label: Label class 78 exceeds dataset class count 15. Possible class labels are 0-14\n",
      "\u001b[34m\u001b[1mtrain: \u001b[0mWARNING ⚠️ /home/dylan/projects/YOLO-RGB-T/notebooks/FLIR/RGB/images/train/video-JbQjHwPbbMvLcuoYg-frame-002217-jb2mPNRGkBkpuAGyj.jpg: ignoring corrupt image/label: Label class 78 exceeds dataset class count 15. Possible class labels are 0-14\n",
      "\u001b[34m\u001b[1mtrain: \u001b[0mWARNING ⚠️ /home/dylan/projects/YOLO-RGB-T/notebooks/FLIR/RGB/images/train/video-JbQjHwPbbMvLcuoYg-frame-002232-WQ4jYqpoKzYWz6Cii.jpg: ignoring corrupt image/label: Label class 78 exceeds dataset class count 15. Possible class labels are 0-14\n",
      "\u001b[34m\u001b[1mtrain: \u001b[0mWARNING ⚠️ /home/dylan/projects/YOLO-RGB-T/notebooks/FLIR/RGB/images/train/video-JbQjHwPbbMvLcuoYg-frame-002247-Y4d4jwPDyRNnq4kMZ.jpg: ignoring corrupt image/label: Label class 78 exceeds dataset class count 15. Possible class labels are 0-14\n",
      "\u001b[34m\u001b[1mtrain: \u001b[0mWARNING ⚠️ /home/dylan/projects/YOLO-RGB-T/notebooks/FLIR/RGB/images/train/video-JbQjHwPbbMvLcuoYg-frame-002262-3WaKy8kZosdmvNqQp.jpg: ignoring corrupt image/label: Label class 78 exceeds dataset class count 15. Possible class labels are 0-14\n",
      "\u001b[34m\u001b[1mtrain: \u001b[0mWARNING ⚠️ /home/dylan/projects/YOLO-RGB-T/notebooks/FLIR/RGB/images/train/video-JbQjHwPbbMvLcuoYg-frame-002277-ziTgFRf7fNYEpCy4d.jpg: ignoring corrupt image/label: Label class 78 exceeds dataset class count 15. Possible class labels are 0-14\n",
      "\u001b[34m\u001b[1mtrain: \u001b[0mWARNING ⚠️ /home/dylan/projects/YOLO-RGB-T/notebooks/FLIR/RGB/images/train/video-JbQjHwPbbMvLcuoYg-frame-002292-QvirM4ywoaEcutY8d.jpg: ignoring corrupt image/label: Label class 78 exceeds dataset class count 15. Possible class labels are 0-14\n",
      "\u001b[34m\u001b[1mtrain: \u001b[0mWARNING ⚠️ /home/dylan/projects/YOLO-RGB-T/notebooks/FLIR/RGB/images/train/video-JbQjHwPbbMvLcuoYg-frame-002307-YFsFtaootRvef9oCK.jpg: ignoring corrupt image/label: Label class 78 exceeds dataset class count 15. Possible class labels are 0-14\n",
      "\u001b[34m\u001b[1mtrain: \u001b[0mWARNING ⚠️ /home/dylan/projects/YOLO-RGB-T/notebooks/FLIR/RGB/images/train/video-JbQjHwPbbMvLcuoYg-frame-002322-dopPjzNPGxDCvz5K6.jpg: ignoring corrupt image/label: Label class 78 exceeds dataset class count 15. Possible class labels are 0-14\n",
      "\u001b[34m\u001b[1mtrain: \u001b[0mWARNING ⚠️ /home/dylan/projects/YOLO-RGB-T/notebooks/FLIR/RGB/images/train/video-JbQjHwPbbMvLcuoYg-frame-002337-4imGTJatu9kt3RAXp.jpg: ignoring corrupt image/label: Label class 78 exceeds dataset class count 15. Possible class labels are 0-14\n",
      "\u001b[34m\u001b[1mtrain: \u001b[0mWARNING ⚠️ /home/dylan/projects/YOLO-RGB-T/notebooks/FLIR/RGB/images/train/video-JbQjHwPbbMvLcuoYg-frame-002352-fhSECgChEEALiczgt.jpg: ignoring corrupt image/label: Label class 78 exceeds dataset class count 15. Possible class labels are 0-14\n",
      "\u001b[34m\u001b[1mtrain: \u001b[0mWARNING ⚠️ /home/dylan/projects/YOLO-RGB-T/notebooks/FLIR/RGB/images/train/video-JbQjHwPbbMvLcuoYg-frame-002367-uHPwHCeeJmfsYuv6R.jpg: ignoring corrupt image/label: Label class 72 exceeds dataset class count 15. Possible class labels are 0-14\n",
      "\u001b[34m\u001b[1mtrain: \u001b[0mWARNING ⚠️ /home/dylan/projects/YOLO-RGB-T/notebooks/FLIR/RGB/images/train/video-JbQjHwPbbMvLcuoYg-frame-002382-MbR2bvDg2mCNJFDiJ.jpg: ignoring corrupt image/label: Label class 72 exceeds dataset class count 15. Possible class labels are 0-14\n",
      "\u001b[34m\u001b[1mtrain: \u001b[0mWARNING ⚠️ /home/dylan/projects/YOLO-RGB-T/notebooks/FLIR/RGB/images/train/video-JbQjHwPbbMvLcuoYg-frame-002397-tdBwZqEjLRCdNwETz.jpg: ignoring corrupt image/label: Label class 72 exceeds dataset class count 15. Possible class labels are 0-14\n",
      "\u001b[34m\u001b[1mtrain: \u001b[0mWARNING ⚠️ /home/dylan/projects/YOLO-RGB-T/notebooks/FLIR/RGB/images/train/video-JbQjHwPbbMvLcuoYg-frame-002412-iJaY2TzY8MT2Mu7aR.jpg: ignoring corrupt image/label: Label class 72 exceeds dataset class count 15. Possible class labels are 0-14\n",
      "\u001b[34m\u001b[1mtrain: \u001b[0mWARNING ⚠️ /home/dylan/projects/YOLO-RGB-T/notebooks/FLIR/RGB/images/train/video-JbQjHwPbbMvLcuoYg-frame-002427-3mfxzksQQEpf8DmS7.jpg: ignoring corrupt image/label: Label class 72 exceeds dataset class count 15. Possible class labels are 0-14\n",
      "\u001b[34m\u001b[1mtrain: \u001b[0mWARNING ⚠️ /home/dylan/projects/YOLO-RGB-T/notebooks/FLIR/RGB/images/train/video-JbQjHwPbbMvLcuoYg-frame-002442-Hfp7fFu8bo3xnTW7h.jpg: ignoring corrupt image/label: Label class 72 exceeds dataset class count 15. Possible class labels are 0-14\n",
      "\u001b[34m\u001b[1mtrain: \u001b[0mWARNING ⚠️ /home/dylan/projects/YOLO-RGB-T/notebooks/FLIR/RGB/images/train/video-JbQjHwPbbMvLcuoYg-frame-002457-3wdKdhLcunyk6axmQ.jpg: ignoring corrupt image/label: Label class 72 exceeds dataset class count 15. Possible class labels are 0-14\n",
      "\u001b[34m\u001b[1mtrain: \u001b[0mWARNING ⚠️ /home/dylan/projects/YOLO-RGB-T/notebooks/FLIR/RGB/images/train/video-JbQjHwPbbMvLcuoYg-frame-002472-zrejvckDxtQ78RKs6.jpg: ignoring corrupt image/label: Label class 72 exceeds dataset class count 15. Possible class labels are 0-14\n",
      "\u001b[34m\u001b[1mtrain: \u001b[0mWARNING ⚠️ /home/dylan/projects/YOLO-RGB-T/notebooks/FLIR/RGB/images/train/video-JbQjHwPbbMvLcuoYg-frame-002487-t86mNDDc3T5cNeiZ4.jpg: ignoring corrupt image/label: Label class 72 exceeds dataset class count 15. Possible class labels are 0-14\n",
      "\u001b[34m\u001b[1mtrain: \u001b[0mWARNING ⚠️ /home/dylan/projects/YOLO-RGB-T/notebooks/FLIR/RGB/images/train/video-JbQjHwPbbMvLcuoYg-frame-003217-uHHQSZeqW5XPQdFkk.jpg: ignoring corrupt image/label: Label class 78 exceeds dataset class count 15. Possible class labels are 0-14\n",
      "\u001b[34m\u001b[1mtrain: \u001b[0mWARNING ⚠️ /home/dylan/projects/YOLO-RGB-T/notebooks/FLIR/RGB/images/train/video-JbQjHwPbbMvLcuoYg-frame-003232-8RTWtxZjeBL9dvpZ2.jpg: ignoring corrupt image/label: Label class 78 exceeds dataset class count 15. Possible class labels are 0-14\n",
      "\u001b[34m\u001b[1mtrain: \u001b[0mWARNING ⚠️ /home/dylan/projects/YOLO-RGB-T/notebooks/FLIR/RGB/images/train/video-JbQjHwPbbMvLcuoYg-frame-003247-ioDoZt6GoW5AxaDxb.jpg: ignoring corrupt image/label: Label class 78 exceeds dataset class count 15. Possible class labels are 0-14\n",
      "\u001b[34m\u001b[1mtrain: \u001b[0mWARNING ⚠️ /home/dylan/projects/YOLO-RGB-T/notebooks/FLIR/RGB/images/train/video-JbQjHwPbbMvLcuoYg-frame-003262-DPetwv8L5EhQvjDdL.jpg: ignoring corrupt image/label: Label class 78 exceeds dataset class count 15. Possible class labels are 0-14\n",
      "\u001b[34m\u001b[1mtrain: \u001b[0mWARNING ⚠️ /home/dylan/projects/YOLO-RGB-T/notebooks/FLIR/RGB/images/train/video-JbQjHwPbbMvLcuoYg-frame-003277-ATuQFjGgrZLkAxAji.jpg: ignoring corrupt image/label: Label class 78 exceeds dataset class count 15. Possible class labels are 0-14\n",
      "\u001b[34m\u001b[1mtrain: \u001b[0mWARNING ⚠️ /home/dylan/projects/YOLO-RGB-T/notebooks/FLIR/RGB/images/train/video-JbQjHwPbbMvLcuoYg-frame-003292-BH2ZQhMWdy4ZZCK4X.jpg: ignoring corrupt image/label: Label class 78 exceeds dataset class count 15. Possible class labels are 0-14\n",
      "\u001b[34m\u001b[1mtrain: \u001b[0mWARNING ⚠️ /home/dylan/projects/YOLO-RGB-T/notebooks/FLIR/RGB/images/train/video-JbQjHwPbbMvLcuoYg-frame-003307-YEif5YWtux5XNwpT4.jpg: ignoring corrupt image/label: Label class 78 exceeds dataset class count 15. Possible class labels are 0-14\n",
      "\u001b[34m\u001b[1mtrain: \u001b[0mWARNING ⚠️ /home/dylan/projects/YOLO-RGB-T/notebooks/FLIR/RGB/images/train/video-JbQjHwPbbMvLcuoYg-frame-003322-wu5iMTw4ZCyqCsKds.jpg: ignoring corrupt image/label: Label class 78 exceeds dataset class count 15. Possible class labels are 0-14\n",
      "\u001b[34m\u001b[1mtrain: \u001b[0mWARNING ⚠️ /home/dylan/projects/YOLO-RGB-T/notebooks/FLIR/RGB/images/train/video-JbQjHwPbbMvLcuoYg-frame-003337-NnSEcRCjMTHQw5gfg.jpg: ignoring corrupt image/label: Label class 78 exceeds dataset class count 15. Possible class labels are 0-14\n",
      "\u001b[34m\u001b[1mtrain: \u001b[0mWARNING ⚠️ /home/dylan/projects/YOLO-RGB-T/notebooks/FLIR/RGB/images/train/video-JbQjHwPbbMvLcuoYg-frame-003352-XTng7uxpuo3uCkxXk.jpg: ignoring corrupt image/label: Label class 78 exceeds dataset class count 15. Possible class labels are 0-14\n",
      "\u001b[34m\u001b[1mtrain: \u001b[0mWARNING ⚠️ /home/dylan/projects/YOLO-RGB-T/notebooks/FLIR/RGB/images/train/video-JbQjHwPbbMvLcuoYg-frame-003367-RvBFAQ8zhToQ6rKtx.jpg: ignoring corrupt image/label: Label class 78 exceeds dataset class count 15. Possible class labels are 0-14\n",
      "\u001b[34m\u001b[1mtrain: \u001b[0mWARNING ⚠️ /home/dylan/projects/YOLO-RGB-T/notebooks/FLIR/RGB/images/train/video-JbQjHwPbbMvLcuoYg-frame-003382-eY3oBTEotWZS69cLH.jpg: ignoring corrupt image/label: Label class 78 exceeds dataset class count 15. Possible class labels are 0-14\n",
      "\u001b[34m\u001b[1mtrain: \u001b[0mWARNING ⚠️ /home/dylan/projects/YOLO-RGB-T/notebooks/FLIR/RGB/images/train/video-JbQjHwPbbMvLcuoYg-frame-003397-yeJBW5CZFzHekv6CC.jpg: ignoring corrupt image/label: Label class 78 exceeds dataset class count 15. Possible class labels are 0-14\n",
      "\u001b[34m\u001b[1mtrain: \u001b[0mWARNING ⚠️ /home/dylan/projects/YOLO-RGB-T/notebooks/FLIR/RGB/images/train/video-JbQjHwPbbMvLcuoYg-frame-003923-idps9kTjSJx6w6Loy.jpg: ignoring corrupt image/label: Label class 78 exceeds dataset class count 15. Possible class labels are 0-14\n",
      "\u001b[34m\u001b[1mtrain: \u001b[0mWARNING ⚠️ /home/dylan/projects/YOLO-RGB-T/notebooks/FLIR/RGB/images/train/video-JbQjHwPbbMvLcuoYg-frame-003938-sCM38Gc4fP92ydpqJ.jpg: ignoring corrupt image/label: Label class 78 exceeds dataset class count 15. Possible class labels are 0-14\n",
      "\u001b[34m\u001b[1mtrain: \u001b[0mWARNING ⚠️ /home/dylan/projects/YOLO-RGB-T/notebooks/FLIR/RGB/images/train/video-JbQjHwPbbMvLcuoYg-frame-003953-u72FkJ536XqDdLWRB.jpg: ignoring corrupt image/label: Label class 78 exceeds dataset class count 15. Possible class labels are 0-14\n",
      "\u001b[34m\u001b[1mtrain: \u001b[0mWARNING ⚠️ /home/dylan/projects/YOLO-RGB-T/notebooks/FLIR/RGB/images/train/video-JbQjHwPbbMvLcuoYg-frame-003968-SbBKnDuBeXB3kjrTJ.jpg: ignoring corrupt image/label: Label class 78 exceeds dataset class count 15. Possible class labels are 0-14\n",
      "\u001b[34m\u001b[1mtrain: \u001b[0mWARNING ⚠️ /home/dylan/projects/YOLO-RGB-T/notebooks/FLIR/RGB/images/train/video-JbQjHwPbbMvLcuoYg-frame-003983-EuY3CNSuTHqG4ptnh.jpg: ignoring corrupt image/label: Label class 78 exceeds dataset class count 15. Possible class labels are 0-14\n",
      "\u001b[34m\u001b[1mtrain: \u001b[0mWARNING ⚠️ /home/dylan/projects/YOLO-RGB-T/notebooks/FLIR/RGB/images/train/video-JbQjHwPbbMvLcuoYg-frame-003998-pbs4ERN5z99ophoii.jpg: ignoring corrupt image/label: Label class 78 exceeds dataset class count 15. Possible class labels are 0-14\n",
      "\u001b[34m\u001b[1mtrain: \u001b[0mWARNING ⚠️ /home/dylan/projects/YOLO-RGB-T/notebooks/FLIR/RGB/images/train/video-JbQjHwPbbMvLcuoYg-frame-004013-kHp3a9gjrMhQY22PC.jpg: ignoring corrupt image/label: Label class 78 exceeds dataset class count 15. Possible class labels are 0-14\n",
      "\u001b[34m\u001b[1mtrain: \u001b[0mWARNING ⚠️ /home/dylan/projects/YOLO-RGB-T/notebooks/FLIR/RGB/images/train/video-JbQjHwPbbMvLcuoYg-frame-004028-tpxDw5YhdZdFPs844.jpg: ignoring corrupt image/label: Label class 78 exceeds dataset class count 15. Possible class labels are 0-14\n",
      "\u001b[34m\u001b[1mtrain: \u001b[0mWARNING ⚠️ /home/dylan/projects/YOLO-RGB-T/notebooks/FLIR/RGB/images/train/video-JbQjHwPbbMvLcuoYg-frame-004043-vCXaFztX3H82NwWqP.jpg: ignoring corrupt image/label: Label class 78 exceeds dataset class count 15. Possible class labels are 0-14\n",
      "\u001b[34m\u001b[1mtrain: \u001b[0mWARNING ⚠️ /home/dylan/projects/YOLO-RGB-T/notebooks/FLIR/RGB/images/train/video-JbQjHwPbbMvLcuoYg-frame-004058-a542baZy6GLxRYYpG.jpg: ignoring corrupt image/label: Label class 78 exceeds dataset class count 15. Possible class labels are 0-14\n",
      "\u001b[34m\u001b[1mtrain: \u001b[0mWARNING ⚠️ /home/dylan/projects/YOLO-RGB-T/notebooks/FLIR/RGB/images/train/video-JbQjHwPbbMvLcuoYg-frame-004073-wDR9LqgHbGSH4JapZ.jpg: ignoring corrupt image/label: Label class 78 exceeds dataset class count 15. Possible class labels are 0-14\n",
      "\u001b[34m\u001b[1mtrain: \u001b[0mWARNING ⚠️ /home/dylan/projects/YOLO-RGB-T/notebooks/FLIR/RGB/images/train/video-JbQjHwPbbMvLcuoYg-frame-004088-ozNezsGP8CbjxxCD3.jpg: ignoring corrupt image/label: Label class 78 exceeds dataset class count 15. Possible class labels are 0-14\n",
      "\u001b[34m\u001b[1mtrain: \u001b[0mWARNING ⚠️ /home/dylan/projects/YOLO-RGB-T/notebooks/FLIR/RGB/images/train/video-JbQjHwPbbMvLcuoYg-frame-004103-uvKaahZmmq8b3BWjp.jpg: ignoring corrupt image/label: Label class 78 exceeds dataset class count 15. Possible class labels are 0-14\n",
      "\u001b[34m\u001b[1mtrain: \u001b[0mWARNING ⚠️ /home/dylan/projects/YOLO-RGB-T/notebooks/FLIR/RGB/images/train/video-JbQjHwPbbMvLcuoYg-frame-004118-m5qMYMQZeFNsbCNCe.jpg: ignoring corrupt image/label: Label class 78 exceeds dataset class count 15. Possible class labels are 0-14\n",
      "\u001b[34m\u001b[1mtrain: \u001b[0mWARNING ⚠️ /home/dylan/projects/YOLO-RGB-T/notebooks/FLIR/RGB/images/train/video-JbQjHwPbbMvLcuoYg-frame-004133-GEnMbjApDygim4fDv.jpg: ignoring corrupt image/label: Label class 78 exceeds dataset class count 15. Possible class labels are 0-14\n",
      "\u001b[34m\u001b[1mtrain: \u001b[0mWARNING ⚠️ /home/dylan/projects/YOLO-RGB-T/notebooks/FLIR/RGB/images/train/video-JbQjHwPbbMvLcuoYg-frame-004276-bbLYqLBkSn4Q6sor7.jpg: ignoring corrupt image/label: Label class 78 exceeds dataset class count 15. Possible class labels are 0-14\n",
      "\u001b[34m\u001b[1mtrain: \u001b[0mWARNING ⚠️ /home/dylan/projects/YOLO-RGB-T/notebooks/FLIR/RGB/images/train/video-JbQjHwPbbMvLcuoYg-frame-004291-7NbsHRcpSqCp5Pfa3.jpg: ignoring corrupt image/label: Label class 78 exceeds dataset class count 15. Possible class labels are 0-14\n",
      "\u001b[34m\u001b[1mtrain: \u001b[0mWARNING ⚠️ /home/dylan/projects/YOLO-RGB-T/notebooks/FLIR/RGB/images/train/video-JbQjHwPbbMvLcuoYg-frame-004306-nMbBzDiRBZNt5LyHj.jpg: ignoring corrupt image/label: Label class 78 exceeds dataset class count 15. Possible class labels are 0-14\n",
      "\u001b[34m\u001b[1mtrain: \u001b[0mWARNING ⚠️ /home/dylan/projects/YOLO-RGB-T/notebooks/FLIR/RGB/images/train/video-JbQjHwPbbMvLcuoYg-frame-004321-6hTdrz8aJKBpu92ze.jpg: ignoring corrupt image/label: Label class 78 exceeds dataset class count 15. Possible class labels are 0-14\n",
      "\u001b[34m\u001b[1mtrain: \u001b[0mWARNING ⚠️ /home/dylan/projects/YOLO-RGB-T/notebooks/FLIR/RGB/images/train/video-JbQjHwPbbMvLcuoYg-frame-004336-E2dDpPMb7d3Z5KJeT.jpg: ignoring corrupt image/label: Label class 78 exceeds dataset class count 15. Possible class labels are 0-14\n",
      "\u001b[34m\u001b[1mtrain: \u001b[0mWARNING ⚠️ /home/dylan/projects/YOLO-RGB-T/notebooks/FLIR/RGB/images/train/video-JbQjHwPbbMvLcuoYg-frame-004351-vrQJeJigK7fXKMrMX.jpg: ignoring corrupt image/label: Label class 78 exceeds dataset class count 15. Possible class labels are 0-14\n",
      "\u001b[34m\u001b[1mtrain: \u001b[0mWARNING ⚠️ /home/dylan/projects/YOLO-RGB-T/notebooks/FLIR/RGB/images/train/video-JbQjHwPbbMvLcuoYg-frame-004366-tkWGKvRGtDZQzfKxi.jpg: ignoring corrupt image/label: Label class 78 exceeds dataset class count 15. Possible class labels are 0-14\n",
      "\u001b[34m\u001b[1mtrain: \u001b[0mWARNING ⚠️ /home/dylan/projects/YOLO-RGB-T/notebooks/FLIR/RGB/images/train/video-JbQjHwPbbMvLcuoYg-frame-004381-TTZAzHyrvhDYNfctD.jpg: ignoring corrupt image/label: Label class 78 exceeds dataset class count 15. Possible class labels are 0-14\n",
      "\u001b[34m\u001b[1mtrain: \u001b[0mWARNING ⚠️ /home/dylan/projects/YOLO-RGB-T/notebooks/FLIR/RGB/images/train/video-JbQjHwPbbMvLcuoYg-frame-004396-zGtdcvin7E6YaE7HS.jpg: ignoring corrupt image/label: Label class 78 exceeds dataset class count 15. Possible class labels are 0-14\n",
      "\u001b[34m\u001b[1mtrain: \u001b[0mWARNING ⚠️ /home/dylan/projects/YOLO-RGB-T/notebooks/FLIR/RGB/images/train/video-JbQjHwPbbMvLcuoYg-frame-004591-GJMtpvi5E2MJyCgvA.jpg: ignoring corrupt image/label: Label class 72 exceeds dataset class count 15. Possible class labels are 0-14\n",
      "\u001b[34m\u001b[1mtrain: \u001b[0mWARNING ⚠️ /home/dylan/projects/YOLO-RGB-T/notebooks/FLIR/RGB/images/train/video-Kc5iiz5urz5T9DPbn-frame-002705-vWDMZpEmgktxdgrdc.jpg: ignoring corrupt image/label: Label class 78 exceeds dataset class count 15. Possible class labels are 0-14\n",
      "\u001b[34m\u001b[1mtrain: \u001b[0mWARNING ⚠️ /home/dylan/projects/YOLO-RGB-T/notebooks/FLIR/RGB/images/train/video-Kc5iiz5urz5T9DPbn-frame-007033-NhbwuYX2Z36mQwaDh.jpg: ignoring corrupt image/label: Label class 78 exceeds dataset class count 15. Possible class labels are 0-14\n",
      "\u001b[34m\u001b[1mtrain: \u001b[0mWARNING ⚠️ /home/dylan/projects/YOLO-RGB-T/notebooks/FLIR/RGB/images/train/video-LS8smnGKkPkMCAdsf-frame-004569-3FrsmXZPddPLszyQE.jpg: ignoring corrupt image/label: Label class 78 exceeds dataset class count 15. Possible class labels are 0-14\n",
      "\u001b[34m\u001b[1mtrain: \u001b[0mWARNING ⚠️ /home/dylan/projects/YOLO-RGB-T/notebooks/FLIR/RGB/images/train/video-LS8smnGKkPkMCAdsf-frame-005614-uKbpnEqqL6viFJAmE.jpg: ignoring corrupt image/label: Label class 78 exceeds dataset class count 15. Possible class labels are 0-14\n",
      "\u001b[34m\u001b[1mtrain: \u001b[0mWARNING ⚠️ /home/dylan/projects/YOLO-RGB-T/notebooks/FLIR/RGB/images/train/video-LS8smnGKkPkMCAdsf-frame-008451-6oXqEZtz4KcNb2M4q.jpg: ignoring corrupt image/label: Label class 78 exceeds dataset class count 15. Possible class labels are 0-14\n",
      "\u001b[34m\u001b[1mtrain: \u001b[0mWARNING ⚠️ /home/dylan/projects/YOLO-RGB-T/notebooks/FLIR/RGB/images/train/video-LS8smnGKkPkMCAdsf-frame-008521-iBwt6bbmkzMw4SGcd.jpg: ignoring corrupt image/label: Label class 78 exceeds dataset class count 15. Possible class labels are 0-14\n",
      "\u001b[34m\u001b[1mtrain: \u001b[0mWARNING ⚠️ /home/dylan/projects/YOLO-RGB-T/notebooks/FLIR/RGB/images/train/video-LS8smnGKkPkMCAdsf-frame-011483-tubczq38doSTsKNhB.jpg: ignoring corrupt image/label: Label class 78 exceeds dataset class count 15. Possible class labels are 0-14\n",
      "\u001b[34m\u001b[1mtrain: \u001b[0mWARNING ⚠️ /home/dylan/projects/YOLO-RGB-T/notebooks/FLIR/RGB/images/train/video-Lsug3csvzeSbWxXHo-frame-003022-8QLRRACL7Mc5daQ2w.jpg: ignoring corrupt image/label: Label class 74 exceeds dataset class count 15. Possible class labels are 0-14\n",
      "\u001b[34m\u001b[1mtrain: \u001b[0mWARNING ⚠️ /home/dylan/projects/YOLO-RGB-T/notebooks/FLIR/RGB/images/train/video-Lsug3csvzeSbWxXHo-frame-003637-83Wr5HtkT5aTw7cG2.jpg: ignoring corrupt image/label: Label class 78 exceeds dataset class count 15. Possible class labels are 0-14\n",
      "\u001b[34m\u001b[1mtrain: \u001b[0mWARNING ⚠️ /home/dylan/projects/YOLO-RGB-T/notebooks/FLIR/RGB/images/train/video-Lsug3csvzeSbWxXHo-frame-003652-BymZK4SXHaHBSNEeG.jpg: ignoring corrupt image/label: Label class 78 exceeds dataset class count 15. Possible class labels are 0-14\n",
      "\u001b[34m\u001b[1mtrain: \u001b[0mWARNING ⚠️ /home/dylan/projects/YOLO-RGB-T/notebooks/FLIR/RGB/images/train/video-Lsug3csvzeSbWxXHo-frame-003667-otQ8Dz674ijQa8ANA.jpg: ignoring corrupt image/label: Label class 78 exceeds dataset class count 15. Possible class labels are 0-14\n",
      "\u001b[34m\u001b[1mtrain: \u001b[0mWARNING ⚠️ /home/dylan/projects/YOLO-RGB-T/notebooks/FLIR/RGB/images/train/video-Lsug3csvzeSbWxXHo-frame-003682-FjQp3kRp782eSh42Z.jpg: ignoring corrupt image/label: Label class 78 exceeds dataset class count 15. Possible class labels are 0-14\n",
      "\u001b[34m\u001b[1mtrain: \u001b[0mWARNING ⚠️ /home/dylan/projects/YOLO-RGB-T/notebooks/FLIR/RGB/images/train/video-Lsug3csvzeSbWxXHo-frame-003697-nJDodfKoRb4vgyotf.jpg: ignoring corrupt image/label: Label class 78 exceeds dataset class count 15. Possible class labels are 0-14\n",
      "\u001b[34m\u001b[1mtrain: \u001b[0mWARNING ⚠️ /home/dylan/projects/YOLO-RGB-T/notebooks/FLIR/RGB/images/train/video-Lsug3csvzeSbWxXHo-frame-003712-F96AXFwnPpNdDRayF.jpg: ignoring corrupt image/label: Label class 78 exceeds dataset class count 15. Possible class labels are 0-14\n",
      "\u001b[34m\u001b[1mtrain: \u001b[0mWARNING ⚠️ /home/dylan/projects/YOLO-RGB-T/notebooks/FLIR/RGB/images/train/video-Lsug3csvzeSbWxXHo-frame-003727-2fXeggCjy3YfFTbmj.jpg: ignoring corrupt image/label: Label class 78 exceeds dataset class count 15. Possible class labels are 0-14\n",
      "\u001b[34m\u001b[1mtrain: \u001b[0mWARNING ⚠️ /home/dylan/projects/YOLO-RGB-T/notebooks/FLIR/RGB/images/train/video-Lsug3csvzeSbWxXHo-frame-003742-CTF3gpZPzMjdGFn7y.jpg: ignoring corrupt image/label: Label class 78 exceeds dataset class count 15. Possible class labels are 0-14\n",
      "\u001b[34m\u001b[1mtrain: \u001b[0mWARNING ⚠️ /home/dylan/projects/YOLO-RGB-T/notebooks/FLIR/RGB/images/train/video-Lsug3csvzeSbWxXHo-frame-003757-YivABkyteD4tShmyL.jpg: ignoring corrupt image/label: Label class 78 exceeds dataset class count 15. Possible class labels are 0-14\n",
      "\u001b[34m\u001b[1mtrain: \u001b[0mWARNING ⚠️ /home/dylan/projects/YOLO-RGB-T/notebooks/FLIR/RGB/images/train/video-Lsug3csvzeSbWxXHo-frame-003772-MxPtr7deEjubN8R5h.jpg: ignoring corrupt image/label: Label class 78 exceeds dataset class count 15. Possible class labels are 0-14\n",
      "\u001b[34m\u001b[1mtrain: \u001b[0mWARNING ⚠️ /home/dylan/projects/YOLO-RGB-T/notebooks/FLIR/RGB/images/train/video-Lsug3csvzeSbWxXHo-frame-004192-NZraSYHXeixeQny8F.jpg: ignoring corrupt image/label: Label class 78 exceeds dataset class count 15. Possible class labels are 0-14\n",
      "\u001b[34m\u001b[1mtrain: \u001b[0mWARNING ⚠️ /home/dylan/projects/YOLO-RGB-T/notebooks/FLIR/RGB/images/train/video-Lsug3csvzeSbWxXHo-frame-004488-vvuuMvjJgJeb5Gnku.jpg: ignoring corrupt image/label: Label class 78 exceeds dataset class count 15. Possible class labels are 0-14\n",
      "\u001b[34m\u001b[1mtrain: \u001b[0mWARNING ⚠️ /home/dylan/projects/YOLO-RGB-T/notebooks/FLIR/RGB/images/train/video-LxeHnzm8Rmb5j6DQ2-frame-000520-ntQ9X8PRDzTqSoBRe.jpg: ignoring corrupt image/label: Label class 36 exceeds dataset class count 15. Possible class labels are 0-14\n",
      "\u001b[34m\u001b[1mtrain: \u001b[0mWARNING ⚠️ /home/dylan/projects/YOLO-RGB-T/notebooks/FLIR/RGB/images/train/video-LxeHnzm8Rmb5j6DQ2-frame-000535-RR2eZoNtaZ4mYa5Ra.jpg: ignoring corrupt image/label: Label class 36 exceeds dataset class count 15. Possible class labels are 0-14\n",
      "\u001b[34m\u001b[1mtrain: \u001b[0mWARNING ⚠️ /home/dylan/projects/YOLO-RGB-T/notebooks/FLIR/RGB/images/train/video-LxeHnzm8Rmb5j6DQ2-frame-000550-wxjxJaS8akEQZ3PJG.jpg: ignoring corrupt image/label: Label class 36 exceeds dataset class count 15. Possible class labels are 0-14\n",
      "\u001b[34m\u001b[1mtrain: \u001b[0mWARNING ⚠️ /home/dylan/projects/YOLO-RGB-T/notebooks/FLIR/RGB/images/train/video-LxeHnzm8Rmb5j6DQ2-frame-000715-9tXyqNQ9arqYP7KW6.jpg: ignoring corrupt image/label: Label class 78 exceeds dataset class count 15. Possible class labels are 0-14\n",
      "\u001b[34m\u001b[1mtrain: \u001b[0mWARNING ⚠️ /home/dylan/projects/YOLO-RGB-T/notebooks/FLIR/RGB/images/train/video-LxeHnzm8Rmb5j6DQ2-frame-000817-FZWQHEgeBgP6Avwqp.jpg: ignoring corrupt image/label: Label class 72 exceeds dataset class count 15. Possible class labels are 0-14\n",
      "\u001b[34m\u001b[1mtrain: \u001b[0mWARNING ⚠️ /home/dylan/projects/YOLO-RGB-T/notebooks/FLIR/RGB/images/train/video-LxeHnzm8Rmb5j6DQ2-frame-000832-eanKgEksnXx3d29dT.jpg: ignoring corrupt image/label: Label class 72 exceeds dataset class count 15. Possible class labels are 0-14\n",
      "\u001b[34m\u001b[1mtrain: \u001b[0mWARNING ⚠️ /home/dylan/projects/YOLO-RGB-T/notebooks/FLIR/RGB/images/train/video-LxeHnzm8Rmb5j6DQ2-frame-000847-gN9aRgdF7YN7vYmjt.jpg: ignoring corrupt image/label: Label class 72 exceeds dataset class count 15. Possible class labels are 0-14\n",
      "\u001b[34m\u001b[1mtrain: \u001b[0mWARNING ⚠️ /home/dylan/projects/YOLO-RGB-T/notebooks/FLIR/RGB/images/train/video-LxeHnzm8Rmb5j6DQ2-frame-001376-rmwp5oov2qoqYc4ih.jpg: ignoring corrupt image/label: Label class 78 exceeds dataset class count 15. Possible class labels are 0-14\n",
      "\u001b[34m\u001b[1mtrain: \u001b[0mWARNING ⚠️ /home/dylan/projects/YOLO-RGB-T/notebooks/FLIR/RGB/images/train/video-LxeHnzm8Rmb5j6DQ2-frame-001391-HjEzxnbHB9jiJ4NHA.jpg: ignoring corrupt image/label: Label class 78 exceeds dataset class count 15. Possible class labels are 0-14\n",
      "\u001b[34m\u001b[1mtrain: \u001b[0mWARNING ⚠️ /home/dylan/projects/YOLO-RGB-T/notebooks/FLIR/RGB/images/train/video-LxeHnzm8Rmb5j6DQ2-frame-001421-Wk5TP2DjDbefXkivP.jpg: ignoring corrupt image/label: Label class 72 exceeds dataset class count 15. Possible class labels are 0-14\n",
      "\u001b[34m\u001b[1mtrain: \u001b[0mWARNING ⚠️ /home/dylan/projects/YOLO-RGB-T/notebooks/FLIR/RGB/images/train/video-LxeHnzm8Rmb5j6DQ2-frame-001436-EPG8AE54FCxMcwTpj.jpg: ignoring corrupt image/label: Label class 78 exceeds dataset class count 15. Possible class labels are 0-14\n",
      "\u001b[34m\u001b[1mtrain: \u001b[0mWARNING ⚠️ /home/dylan/projects/YOLO-RGB-T/notebooks/FLIR/RGB/images/train/video-LxeHnzm8Rmb5j6DQ2-frame-001451-yK2g7fDWRYhEjLCDA.jpg: ignoring corrupt image/label: Label class 72 exceeds dataset class count 15. Possible class labels are 0-14\n",
      "\u001b[34m\u001b[1mtrain: \u001b[0mWARNING ⚠️ /home/dylan/projects/YOLO-RGB-T/notebooks/FLIR/RGB/images/train/video-LxeHnzm8Rmb5j6DQ2-frame-001466-4bQySKioZYNWwqgfC.jpg: ignoring corrupt image/label: Label class 72 exceeds dataset class count 15. Possible class labels are 0-14\n",
      "\u001b[34m\u001b[1mtrain: \u001b[0mWARNING ⚠️ /home/dylan/projects/YOLO-RGB-T/notebooks/FLIR/RGB/images/train/video-LxeHnzm8Rmb5j6DQ2-frame-001481-JJqBfC2rWNHdhj3vP.jpg: ignoring corrupt image/label: Label class 72 exceeds dataset class count 15. Possible class labels are 0-14\n",
      "\u001b[34m\u001b[1mtrain: \u001b[0mWARNING ⚠️ /home/dylan/projects/YOLO-RGB-T/notebooks/FLIR/RGB/images/train/video-LxeHnzm8Rmb5j6DQ2-frame-002990-gp4KzST4mc9L3Ni8p.jpg: ignoring corrupt image/label: Label class 78 exceeds dataset class count 15. Possible class labels are 0-14\n",
      "\u001b[34m\u001b[1mtrain: \u001b[0mWARNING ⚠️ /home/dylan/projects/YOLO-RGB-T/notebooks/FLIR/RGB/images/train/video-LxeHnzm8Rmb5j6DQ2-frame-003005-WjKRj8jRoSADuMkqt.jpg: ignoring corrupt image/label: Label class 78 exceeds dataset class count 15. Possible class labels are 0-14\n",
      "\u001b[34m\u001b[1mtrain: \u001b[0mWARNING ⚠️ /home/dylan/projects/YOLO-RGB-T/notebooks/FLIR/RGB/images/train/video-LxeHnzm8Rmb5j6DQ2-frame-003020-uTXcPNzc7v8F4njW9.jpg: ignoring corrupt image/label: Label class 78 exceeds dataset class count 15. Possible class labels are 0-14\n",
      "\u001b[34m\u001b[1mtrain: \u001b[0mWARNING ⚠️ /home/dylan/projects/YOLO-RGB-T/notebooks/FLIR/RGB/images/train/video-LxeHnzm8Rmb5j6DQ2-frame-003035-3WZ3GvhTKPwt6cfPp.jpg: ignoring corrupt image/label: Label class 78 exceeds dataset class count 15. Possible class labels are 0-14\n",
      "\u001b[34m\u001b[1mtrain: \u001b[0mWARNING ⚠️ /home/dylan/projects/YOLO-RGB-T/notebooks/FLIR/RGB/images/train/video-LxeHnzm8Rmb5j6DQ2-frame-003128-93KerPh9wDwRL6g6u.jpg: ignoring corrupt image/label: Label class 78 exceeds dataset class count 15. Possible class labels are 0-14\n",
      "\u001b[34m\u001b[1mtrain: \u001b[0mWARNING ⚠️ /home/dylan/projects/YOLO-RGB-T/notebooks/FLIR/RGB/images/train/video-LzuDaPpbJtqJJNvCC-frame-000786-KqwDwZL8796F4H27G.jpg: ignoring corrupt image/label: Label class 78 exceeds dataset class count 15. Possible class labels are 0-14\n",
      "\u001b[34m\u001b[1mtrain: \u001b[0mWARNING ⚠️ /home/dylan/projects/YOLO-RGB-T/notebooks/FLIR/RGB/images/train/video-LzuDaPpbJtqJJNvCC-frame-000801-wEJamrjTYjBP8x8hE.jpg: ignoring corrupt image/label: Label class 78 exceeds dataset class count 15. Possible class labels are 0-14\n",
      "\u001b[34m\u001b[1mtrain: \u001b[0mWARNING ⚠️ /home/dylan/projects/YOLO-RGB-T/notebooks/FLIR/RGB/images/train/video-LzuDaPpbJtqJJNvCC-frame-000816-pjbXCoZpiRgRjCWWj.jpg: ignoring corrupt image/label: Label class 78 exceeds dataset class count 15. Possible class labels are 0-14\n",
      "\u001b[34m\u001b[1mtrain: \u001b[0mWARNING ⚠️ /home/dylan/projects/YOLO-RGB-T/notebooks/FLIR/RGB/images/train/video-LzuDaPpbJtqJJNvCC-frame-000831-8wpZDEK5aroRL2sAY.jpg: ignoring corrupt image/label: Label class 78 exceeds dataset class count 15. Possible class labels are 0-14\n",
      "\u001b[34m\u001b[1mtrain: \u001b[0mWARNING ⚠️ /home/dylan/projects/YOLO-RGB-T/notebooks/FLIR/RGB/images/train/video-LzuDaPpbJtqJJNvCC-frame-000846-qCHpHmFiMPZMTQJhM.jpg: ignoring corrupt image/label: Label class 78 exceeds dataset class count 15. Possible class labels are 0-14\n",
      "\u001b[34m\u001b[1mtrain: \u001b[0mWARNING ⚠️ /home/dylan/projects/YOLO-RGB-T/notebooks/FLIR/RGB/images/train/video-LzuDaPpbJtqJJNvCC-frame-000861-soSBqxzjt6gowtwvh.jpg: ignoring corrupt image/label: Label class 78 exceeds dataset class count 15. Possible class labels are 0-14\n",
      "\u001b[34m\u001b[1mtrain: \u001b[0mWARNING ⚠️ /home/dylan/projects/YOLO-RGB-T/notebooks/FLIR/RGB/images/train/video-LzuDaPpbJtqJJNvCC-frame-000876-2phQuPF6iRzFnv3cm.jpg: ignoring corrupt image/label: Label class 78 exceeds dataset class count 15. Possible class labels are 0-14\n",
      "\u001b[34m\u001b[1mtrain: \u001b[0mWARNING ⚠️ /home/dylan/projects/YOLO-RGB-T/notebooks/FLIR/RGB/images/train/video-LzuDaPpbJtqJJNvCC-frame-000891-aXQzMsTQQesiyYH66.jpg: ignoring corrupt image/label: Label class 78 exceeds dataset class count 15. Possible class labels are 0-14\n",
      "\u001b[34m\u001b[1mtrain: \u001b[0mWARNING ⚠️ /home/dylan/projects/YOLO-RGB-T/notebooks/FLIR/RGB/images/train/video-LzuDaPpbJtqJJNvCC-frame-000906-TYvRCmWjgdbx9EDxJ.jpg: ignoring corrupt image/label: Label class 78 exceeds dataset class count 15. Possible class labels are 0-14\n",
      "\u001b[34m\u001b[1mtrain: \u001b[0mWARNING ⚠️ /home/dylan/projects/YOLO-RGB-T/notebooks/FLIR/RGB/images/train/video-LzuDaPpbJtqJJNvCC-frame-000921-W4x4y8YCa8z5WxQSx.jpg: ignoring corrupt image/label: Label class 78 exceeds dataset class count 15. Possible class labels are 0-14\n",
      "\u001b[34m\u001b[1mtrain: \u001b[0mWARNING ⚠️ /home/dylan/projects/YOLO-RGB-T/notebooks/FLIR/RGB/images/train/video-LzuDaPpbJtqJJNvCC-frame-000936-ujPEoQpBoMNdJdhXW.jpg: ignoring corrupt image/label: Label class 78 exceeds dataset class count 15. Possible class labels are 0-14\n",
      "\u001b[34m\u001b[1mtrain: \u001b[0mWARNING ⚠️ /home/dylan/projects/YOLO-RGB-T/notebooks/FLIR/RGB/images/train/video-LzuDaPpbJtqJJNvCC-frame-000951-5nkvJcCPmqtbPbcpM.jpg: ignoring corrupt image/label: Label class 78 exceeds dataset class count 15. Possible class labels are 0-14\n",
      "\u001b[34m\u001b[1mtrain: \u001b[0mWARNING ⚠️ /home/dylan/projects/YOLO-RGB-T/notebooks/FLIR/RGB/images/train/video-LzuDaPpbJtqJJNvCC-frame-000966-rLJfFrZA76nmWydja.jpg: ignoring corrupt image/label: Label class 78 exceeds dataset class count 15. Possible class labels are 0-14\n",
      "\u001b[34m\u001b[1mtrain: \u001b[0mWARNING ⚠️ /home/dylan/projects/YOLO-RGB-T/notebooks/FLIR/RGB/images/train/video-LzuDaPpbJtqJJNvCC-frame-000981-WNGeWrCFB576b7yKL.jpg: ignoring corrupt image/label: Label class 78 exceeds dataset class count 15. Possible class labels are 0-14\n",
      "\u001b[34m\u001b[1mtrain: \u001b[0mWARNING ⚠️ /home/dylan/projects/YOLO-RGB-T/notebooks/FLIR/RGB/images/train/video-LzuDaPpbJtqJJNvCC-frame-000996-X8n8Gv4xudp9XLzp3.jpg: ignoring corrupt image/label: Label class 78 exceeds dataset class count 15. Possible class labels are 0-14\n",
      "\u001b[34m\u001b[1mtrain: \u001b[0mWARNING ⚠️ /home/dylan/projects/YOLO-RGB-T/notebooks/FLIR/RGB/images/train/video-LzuDaPpbJtqJJNvCC-frame-001011-W6Xa8w2CjKGdkjpuH.jpg: ignoring corrupt image/label: Label class 78 exceeds dataset class count 15. Possible class labels are 0-14\n",
      "\u001b[34m\u001b[1mtrain: \u001b[0mWARNING ⚠️ /home/dylan/projects/YOLO-RGB-T/notebooks/FLIR/RGB/images/train/video-LzuDaPpbJtqJJNvCC-frame-001026-6nKPa8nE2qAzHDgJC.jpg: ignoring corrupt image/label: Label class 78 exceeds dataset class count 15. Possible class labels are 0-14\n",
      "\u001b[34m\u001b[1mtrain: \u001b[0mWARNING ⚠️ /home/dylan/projects/YOLO-RGB-T/notebooks/FLIR/RGB/images/train/video-LzuDaPpbJtqJJNvCC-frame-001041-8DCjKLEPe2xBtQjYg.jpg: ignoring corrupt image/label: Label class 78 exceeds dataset class count 15. Possible class labels are 0-14\n",
      "\u001b[34m\u001b[1mtrain: \u001b[0mWARNING ⚠️ /home/dylan/projects/YOLO-RGB-T/notebooks/FLIR/RGB/images/train/video-LzuDaPpbJtqJJNvCC-frame-001056-7kZAJSL2kp35YH8ch.jpg: ignoring corrupt image/label: Label class 78 exceeds dataset class count 15. Possible class labels are 0-14\n",
      "\u001b[34m\u001b[1mtrain: \u001b[0mWARNING ⚠️ /home/dylan/projects/YOLO-RGB-T/notebooks/FLIR/RGB/images/train/video-LzuDaPpbJtqJJNvCC-frame-001071-knoEKkd9Kkw3LawiW.jpg: ignoring corrupt image/label: Label class 78 exceeds dataset class count 15. Possible class labels are 0-14\n",
      "\u001b[34m\u001b[1mtrain: \u001b[0mWARNING ⚠️ /home/dylan/projects/YOLO-RGB-T/notebooks/FLIR/RGB/images/train/video-LzuDaPpbJtqJJNvCC-frame-001086-XxJRox2K8AKE9iaTi.jpg: ignoring corrupt image/label: Label class 78 exceeds dataset class count 15. Possible class labels are 0-14\n",
      "\u001b[34m\u001b[1mtrain: \u001b[0mWARNING ⚠️ /home/dylan/projects/YOLO-RGB-T/notebooks/FLIR/RGB/images/train/video-LzuDaPpbJtqJJNvCC-frame-001101-NE7onEdgc4yzXpjmm.jpg: ignoring corrupt image/label: Label class 78 exceeds dataset class count 15. Possible class labels are 0-14\n",
      "\u001b[34m\u001b[1mtrain: \u001b[0mWARNING ⚠️ /home/dylan/projects/YOLO-RGB-T/notebooks/FLIR/RGB/images/train/video-LzuDaPpbJtqJJNvCC-frame-001116-kJp658mvdE6L9TZNT.jpg: ignoring corrupt image/label: Label class 78 exceeds dataset class count 15. Possible class labels are 0-14\n",
      "\u001b[34m\u001b[1mtrain: \u001b[0mWARNING ⚠️ /home/dylan/projects/YOLO-RGB-T/notebooks/FLIR/RGB/images/train/video-LzuDaPpbJtqJJNvCC-frame-001131-hCqoQoE6MsqRhyY4j.jpg: ignoring corrupt image/label: Label class 78 exceeds dataset class count 15. Possible class labels are 0-14\n",
      "\u001b[34m\u001b[1mtrain: \u001b[0mWARNING ⚠️ /home/dylan/projects/YOLO-RGB-T/notebooks/FLIR/RGB/images/train/video-LzuDaPpbJtqJJNvCC-frame-001141-fddsZDC3cdMDq2JrR.jpg: ignoring corrupt image/label: Label class 78 exceeds dataset class count 15. Possible class labels are 0-14\n",
      "\u001b[34m\u001b[1mtrain: \u001b[0mWARNING ⚠️ /home/dylan/projects/YOLO-RGB-T/notebooks/FLIR/RGB/images/train/video-Mt7j7bGWiSNN8Rgvq-frame-000928-oGskmNpLM6RDHtBNd.jpg: ignoring corrupt image/label: Label class 78 exceeds dataset class count 15. Possible class labels are 0-14\n",
      "\u001b[34m\u001b[1mtrain: \u001b[0mWARNING ⚠️ /home/dylan/projects/YOLO-RGB-T/notebooks/FLIR/RGB/images/train/video-Mt7j7bGWiSNN8Rgvq-frame-002079-gpZ5q78ZDHavpWmqg.jpg: ignoring corrupt image/label: Label class 78 exceeds dataset class count 15. Possible class labels are 0-14\n",
      "\u001b[34m\u001b[1mtrain: \u001b[0mWARNING ⚠️ /home/dylan/projects/YOLO-RGB-T/notebooks/FLIR/RGB/images/train/video-NhGMA2cP5KTv8G6bb-frame-005346-ctxnejNmaofKtHWAa.jpg: ignoring corrupt image/label: Label class 74 exceeds dataset class count 15. Possible class labels are 0-14\n",
      "\u001b[34m\u001b[1mtrain: \u001b[0mWARNING ⚠️ /home/dylan/projects/YOLO-RGB-T/notebooks/FLIR/RGB/images/train/video-NhGMA2cP5KTv8G6bb-frame-005361-XnBqZ8vZne2EXftzf.jpg: ignoring corrupt image/label: Label class 74 exceeds dataset class count 15. Possible class labels are 0-14\n",
      "\u001b[34m\u001b[1mtrain: \u001b[0mWARNING ⚠️ /home/dylan/projects/YOLO-RGB-T/notebooks/FLIR/RGB/images/train/video-NhGMA2cP5KTv8G6bb-frame-005376-wD3hztygfqNGncezu.jpg: ignoring corrupt image/label: Label class 74 exceeds dataset class count 15. Possible class labels are 0-14\n",
      "\u001b[34m\u001b[1mtrain: \u001b[0mWARNING ⚠️ /home/dylan/projects/YOLO-RGB-T/notebooks/FLIR/RGB/images/train/video-NhGMA2cP5KTv8G6bb-frame-005391-sLoLq83WybZk77qaa.jpg: ignoring corrupt image/label: Label class 74 exceeds dataset class count 15. Possible class labels are 0-14\n",
      "\u001b[34m\u001b[1mtrain: \u001b[0mWARNING ⚠️ /home/dylan/projects/YOLO-RGB-T/notebooks/FLIR/RGB/images/train/video-NhGMA2cP5KTv8G6bb-frame-005406-w65qgZtD48sZRZMX7.jpg: ignoring corrupt image/label: Label class 74 exceeds dataset class count 15. Possible class labels are 0-14\n",
      "\u001b[34m\u001b[1mtrain: \u001b[0mWARNING ⚠️ /home/dylan/projects/YOLO-RGB-T/notebooks/FLIR/RGB/images/train/video-NhGMA2cP5KTv8G6bb-frame-005421-AtvaTDxFpqQm5C8Ge.jpg: ignoring corrupt image/label: Label class 74 exceeds dataset class count 15. Possible class labels are 0-14\n",
      "\u001b[34m\u001b[1mtrain: \u001b[0mWARNING ⚠️ /home/dylan/projects/YOLO-RGB-T/notebooks/FLIR/RGB/images/train/video-NhGMA2cP5KTv8G6bb-frame-005436-ecuNjdqRfzDiASZPB.jpg: ignoring corrupt image/label: Label class 74 exceeds dataset class count 15. Possible class labels are 0-14\n",
      "\u001b[34m\u001b[1mtrain: \u001b[0mWARNING ⚠️ /home/dylan/projects/YOLO-RGB-T/notebooks/FLIR/RGB/images/train/video-NhGMA2cP5KTv8G6bb-frame-005451-muzBSLurCjwZXque5.jpg: ignoring corrupt image/label: Label class 74 exceeds dataset class count 15. Possible class labels are 0-14\n",
      "\u001b[34m\u001b[1mtrain: \u001b[0mWARNING ⚠️ /home/dylan/projects/YOLO-RGB-T/notebooks/FLIR/RGB/images/train/video-NhGMA2cP5KTv8G6bb-frame-005466-Z7pN8BtsP3YJgcgN8.jpg: ignoring corrupt image/label: Label class 74 exceeds dataset class count 15. Possible class labels are 0-14\n",
      "\u001b[34m\u001b[1mtrain: \u001b[0mWARNING ⚠️ /home/dylan/projects/YOLO-RGB-T/notebooks/FLIR/RGB/images/train/video-NhGMA2cP5KTv8G6bb-frame-005481-sKcpZgbEDgozujpBG.jpg: ignoring corrupt image/label: Label class 74 exceeds dataset class count 15. Possible class labels are 0-14\n",
      "\u001b[34m\u001b[1mtrain: \u001b[0mWARNING ⚠️ /home/dylan/projects/YOLO-RGB-T/notebooks/FLIR/RGB/images/train/video-NhGMA2cP5KTv8G6bb-frame-005496-ELkLBqHJyJjSKv4kH.jpg: ignoring corrupt image/label: Label class 74 exceeds dataset class count 15. Possible class labels are 0-14\n",
      "\u001b[34m\u001b[1mtrain: \u001b[0mWARNING ⚠️ /home/dylan/projects/YOLO-RGB-T/notebooks/FLIR/RGB/images/train/video-NhGMA2cP5KTv8G6bb-frame-005511-RqpssGme5ef6r5yhy.jpg: ignoring corrupt image/label: Label class 74 exceeds dataset class count 15. Possible class labels are 0-14\n",
      "\u001b[34m\u001b[1mtrain: \u001b[0mWARNING ⚠️ /home/dylan/projects/YOLO-RGB-T/notebooks/FLIR/RGB/images/train/video-NqbMjrwe3mDh8fBQx-frame-001128-EhQP8m44drKCxH8Ao.jpg: ignoring corrupt image/label: Label class 78 exceeds dataset class count 15. Possible class labels are 0-14\n",
      "\u001b[34m\u001b[1mtrain: \u001b[0mWARNING ⚠️ /home/dylan/projects/YOLO-RGB-T/notebooks/FLIR/RGB/images/train/video-NqbMjrwe3mDh8fBQx-frame-001143-DCB9kMzzc2vwsrHkQ.jpg: ignoring corrupt image/label: Label class 78 exceeds dataset class count 15. Possible class labels are 0-14\n",
      "\u001b[34m\u001b[1mtrain: \u001b[0mWARNING ⚠️ /home/dylan/projects/YOLO-RGB-T/notebooks/FLIR/RGB/images/train/video-NqbMjrwe3mDh8fBQx-frame-001158-ZhDhk4cFETcN8Ghvz.jpg: ignoring corrupt image/label: Label class 78 exceeds dataset class count 15. Possible class labels are 0-14\n",
      "\u001b[34m\u001b[1mtrain: \u001b[0mWARNING ⚠️ /home/dylan/projects/YOLO-RGB-T/notebooks/FLIR/RGB/images/train/video-NqbMjrwe3mDh8fBQx-frame-002639-o5x8YX5kSoY95w9Sf.jpg: ignoring corrupt image/label: Label class 72 exceeds dataset class count 15. Possible class labels are 0-14\n",
      "\u001b[34m\u001b[1mtrain: \u001b[0mWARNING ⚠️ /home/dylan/projects/YOLO-RGB-T/notebooks/FLIR/RGB/images/train/video-NqbMjrwe3mDh8fBQx-frame-002923-CZzwmsqcFzfgT2Hk8.jpg: ignoring corrupt image/label: Label class 78 exceeds dataset class count 15. Possible class labels are 0-14\n",
      "\u001b[34m\u001b[1mtrain: \u001b[0mWARNING ⚠️ /home/dylan/projects/YOLO-RGB-T/notebooks/FLIR/RGB/images/train/video-NqbMjrwe3mDh8fBQx-frame-002938-icK7qtPgrF3NGE2Qu.jpg: ignoring corrupt image/label: Label class 78 exceeds dataset class count 15. Possible class labels are 0-14\n",
      "\u001b[34m\u001b[1mtrain: \u001b[0mWARNING ⚠️ /home/dylan/projects/YOLO-RGB-T/notebooks/FLIR/RGB/images/train/video-NqbMjrwe3mDh8fBQx-frame-002953-qRNSxzfuKsQ29DiS7.jpg: ignoring corrupt image/label: Label class 78 exceeds dataset class count 15. Possible class labels are 0-14\n",
      "\u001b[34m\u001b[1mtrain: \u001b[0mWARNING ⚠️ /home/dylan/projects/YOLO-RGB-T/notebooks/FLIR/RGB/images/train/video-NqbMjrwe3mDh8fBQx-frame-002968-kGAaYwgKioQWwBbW5.jpg: ignoring corrupt image/label: Label class 78 exceeds dataset class count 15. Possible class labels are 0-14\n",
      "\u001b[34m\u001b[1mtrain: \u001b[0mWARNING ⚠️ /home/dylan/projects/YOLO-RGB-T/notebooks/FLIR/RGB/images/train/video-NqbMjrwe3mDh8fBQx-frame-002983-64vBk4B4CrEo8K3KK.jpg: ignoring corrupt image/label: Label class 78 exceeds dataset class count 15. Possible class labels are 0-14\n",
      "\u001b[34m\u001b[1mtrain: \u001b[0mWARNING ⚠️ /home/dylan/projects/YOLO-RGB-T/notebooks/FLIR/RGB/images/train/video-NqbMjrwe3mDh8fBQx-frame-002998-5C4z6jonPsXcWfHrd.jpg: ignoring corrupt image/label: Label class 78 exceeds dataset class count 15. Possible class labels are 0-14\n",
      "\u001b[34m\u001b[1mtrain: \u001b[0mWARNING ⚠️ /home/dylan/projects/YOLO-RGB-T/notebooks/FLIR/RGB/images/train/video-NqbMjrwe3mDh8fBQx-frame-003013-9csdedaxhjAn5n4Db.jpg: ignoring corrupt image/label: Label class 78 exceeds dataset class count 15. Possible class labels are 0-14\n",
      "\u001b[34m\u001b[1mtrain: \u001b[0mWARNING ⚠️ /home/dylan/projects/YOLO-RGB-T/notebooks/FLIR/RGB/images/train/video-QTT9nPmNSQceyBezK-frame-004158-LZ7NajsmmgiKZZhi4.jpg: ignoring corrupt image/label: Label class 78 exceeds dataset class count 15. Possible class labels are 0-14\n",
      "\u001b[34m\u001b[1mtrain: \u001b[0mWARNING ⚠️ /home/dylan/projects/YOLO-RGB-T/notebooks/FLIR/RGB/images/train/video-R7Y56JaCLojEvWjs5-frame-002811-WyWbNQJYTP4CLBB8W.jpg: ignoring corrupt image/label: Label class 36 exceeds dataset class count 15. Possible class labels are 0-14\n",
      "\u001b[34m\u001b[1mtrain: \u001b[0mWARNING ⚠️ /home/dylan/projects/YOLO-RGB-T/notebooks/FLIR/RGB/images/train/video-R7Y56JaCLojEvWjs5-frame-002821-wnRaRn2Z43ixB6EW7.jpg: ignoring corrupt image/label: Label class 36 exceeds dataset class count 15. Possible class labels are 0-14\n",
      "\u001b[34m\u001b[1mtrain: \u001b[0mWARNING ⚠️ /home/dylan/projects/YOLO-RGB-T/notebooks/FLIR/RGB/images/train/video-R7Y56JaCLojEvWjs5-frame-002831-exoog3S8aE9FgmnvY.jpg: ignoring corrupt image/label: Label class 36 exceeds dataset class count 15. Possible class labels are 0-14\n",
      "\u001b[34m\u001b[1mtrain: \u001b[0mWARNING ⚠️ /home/dylan/projects/YOLO-RGB-T/notebooks/FLIR/RGB/images/train/video-R7Y56JaCLojEvWjs5-frame-002841-4RBZb4wcPZpt7zsqc.jpg: ignoring corrupt image/label: Label class 36 exceeds dataset class count 15. Possible class labels are 0-14\n",
      "\u001b[34m\u001b[1mtrain: \u001b[0mWARNING ⚠️ /home/dylan/projects/YOLO-RGB-T/notebooks/FLIR/RGB/images/train/video-R7Y56JaCLojEvWjs5-frame-002851-7fSJrSLtjQtg5NJzP.jpg: ignoring corrupt image/label: Label class 36 exceeds dataset class count 15. Possible class labels are 0-14\n",
      "\u001b[34m\u001b[1mtrain: \u001b[0mWARNING ⚠️ /home/dylan/projects/YOLO-RGB-T/notebooks/FLIR/RGB/images/train/video-R7Y56JaCLojEvWjs5-frame-002861-WSrBzNpkPgPqKQipG.jpg: ignoring corrupt image/label: Label class 36 exceeds dataset class count 15. Possible class labels are 0-14\n",
      "\u001b[34m\u001b[1mtrain: \u001b[0mWARNING ⚠️ /home/dylan/projects/YOLO-RGB-T/notebooks/FLIR/RGB/images/train/video-R7Y56JaCLojEvWjs5-frame-002871-p3JgyoCs75x5K8cLk.jpg: ignoring corrupt image/label: Label class 36 exceeds dataset class count 15. Possible class labels are 0-14\n",
      "\u001b[34m\u001b[1mtrain: \u001b[0mWARNING ⚠️ /home/dylan/projects/YOLO-RGB-T/notebooks/FLIR/RGB/images/train/video-R7Y56JaCLojEvWjs5-frame-002881-rRiwDbMtqQtakrR8g.jpg: ignoring corrupt image/label: Label class 36 exceeds dataset class count 15. Possible class labels are 0-14\n",
      "\u001b[34m\u001b[1mtrain: \u001b[0mWARNING ⚠️ /home/dylan/projects/YOLO-RGB-T/notebooks/FLIR/RGB/images/train/video-R7Y56JaCLojEvWjs5-frame-002891-ytXsneygfpK8K9Rnx.jpg: ignoring corrupt image/label: Label class 36 exceeds dataset class count 15. Possible class labels are 0-14\n",
      "\u001b[34m\u001b[1mtrain: \u001b[0mWARNING ⚠️ /home/dylan/projects/YOLO-RGB-T/notebooks/FLIR/RGB/images/train/video-R7Y56JaCLojEvWjs5-frame-002901-B3S62XWh5LHvCaYaS.jpg: ignoring corrupt image/label: Label class 36 exceeds dataset class count 15. Possible class labels are 0-14\n",
      "\u001b[34m\u001b[1mtrain: \u001b[0mWARNING ⚠️ /home/dylan/projects/YOLO-RGB-T/notebooks/FLIR/RGB/images/train/video-R7Y56JaCLojEvWjs5-frame-002911-kTBTHwwdKKTgq2X6h.jpg: ignoring corrupt image/label: Label class 36 exceeds dataset class count 15. Possible class labels are 0-14\n",
      "\u001b[34m\u001b[1mtrain: \u001b[0mWARNING ⚠️ /home/dylan/projects/YOLO-RGB-T/notebooks/FLIR/RGB/images/train/video-RRPrDmySYJi3FL7ic-frame-000430-feecKk8fvW8eKiwPw.jpg: ignoring corrupt image/label: Label class 78 exceeds dataset class count 15. Possible class labels are 0-14\n",
      "\u001b[34m\u001b[1mtrain: \u001b[0mWARNING ⚠️ /home/dylan/projects/YOLO-RGB-T/notebooks/FLIR/RGB/images/train/video-RRPrDmySYJi3FL7ic-frame-000773-LLc9kdPTesLwndQas.jpg: ignoring corrupt image/label: Label class 78 exceeds dataset class count 15. Possible class labels are 0-14\n",
      "\u001b[34m\u001b[1mtrain: \u001b[0mWARNING ⚠️ /home/dylan/projects/YOLO-RGB-T/notebooks/FLIR/RGB/images/train/video-RRPrDmySYJi3FL7ic-frame-000860-zutdY5yX9M2baNX9X.jpg: ignoring corrupt image/label: Label class 78 exceeds dataset class count 15. Possible class labels are 0-14\n",
      "\u001b[34m\u001b[1mtrain: \u001b[0mWARNING ⚠️ /home/dylan/projects/YOLO-RGB-T/notebooks/FLIR/RGB/images/train/video-RRPrDmySYJi3FL7ic-frame-001290-Wt3z9ivdR7dEH4tgv.jpg: ignoring corrupt image/label: Label class 78 exceeds dataset class count 15. Possible class labels are 0-14\n",
      "\u001b[34m\u001b[1mtrain: \u001b[0mWARNING ⚠️ /home/dylan/projects/YOLO-RGB-T/notebooks/FLIR/RGB/images/train/video-RRPrDmySYJi3FL7ic-frame-001720-39JgqnZnvNzdoEyBx.jpg: ignoring corrupt image/label: Label class 78 exceeds dataset class count 15. Possible class labels are 0-14\n",
      "\u001b[34m\u001b[1mtrain: \u001b[0mWARNING ⚠️ /home/dylan/projects/YOLO-RGB-T/notebooks/FLIR/RGB/images/train/video-S8r6reaDHMLNFB5cA-frame-001110-SHFn3PcpMRYGJCt6K.jpg: ignoring corrupt image/label: Label class 74 exceeds dataset class count 15. Possible class labels are 0-14\n",
      "\u001b[34m\u001b[1mtrain: \u001b[0mWARNING ⚠️ /home/dylan/projects/YOLO-RGB-T/notebooks/FLIR/RGB/images/train/video-S8r6reaDHMLNFB5cA-frame-001125-zBL5ZGfMFM8NRiHYZ.jpg: ignoring corrupt image/label: Label class 74 exceeds dataset class count 15. Possible class labels are 0-14\n",
      "\u001b[34m\u001b[1mtrain: \u001b[0mWARNING ⚠️ /home/dylan/projects/YOLO-RGB-T/notebooks/FLIR/RGB/images/train/video-SrMTD42nLD9inozG2-frame-005808-CBovNFJEvPeQyFYc7.jpg: ignoring corrupt image/label: Label class 78 exceeds dataset class count 15. Possible class labels are 0-14\n",
      "\u001b[34m\u001b[1mtrain: \u001b[0mWARNING ⚠️ /home/dylan/projects/YOLO-RGB-T/notebooks/FLIR/RGB/images/train/video-SrMTD42nLD9inozG2-frame-006171-tpKBz8u8BSEBd7iew.jpg: ignoring corrupt image/label: Label class 78 exceeds dataset class count 15. Possible class labels are 0-14\n",
      "\u001b[34m\u001b[1mtrain: \u001b[0mWARNING ⚠️ /home/dylan/projects/YOLO-RGB-T/notebooks/FLIR/RGB/images/train/video-SrMTD42nLD9inozG2-frame-006534-dtuRzcHbazseww2Pf.jpg: ignoring corrupt image/label: Label class 78 exceeds dataset class count 15. Possible class labels are 0-14\n",
      "\u001b[34m\u001b[1mtrain: \u001b[0mWARNING ⚠️ /home/dylan/projects/YOLO-RGB-T/notebooks/FLIR/RGB/images/train/video-SrMTD42nLD9inozG2-frame-006543-FnyXaLH6Z7vnd4Cab.jpg: ignoring corrupt image/label: Label class 78 exceeds dataset class count 15. Possible class labels are 0-14\n",
      "\u001b[34m\u001b[1mtrain: \u001b[0mWARNING ⚠️ /home/dylan/projects/YOLO-RGB-T/notebooks/FLIR/RGB/images/train/video-SrMTD42nLD9inozG2-frame-006897-sxxS2ZW6T8Ger7m7s.jpg: ignoring corrupt image/label: Label class 78 exceeds dataset class count 15. Possible class labels are 0-14\n",
      "\u001b[34m\u001b[1mtrain: \u001b[0mWARNING ⚠️ /home/dylan/projects/YOLO-RGB-T/notebooks/FLIR/RGB/images/train/video-SrMTD42nLD9inozG2-frame-007260-wbQso2Md58upHkogc.jpg: ignoring corrupt image/label: Label class 78 exceeds dataset class count 15. Possible class labels are 0-14\n",
      "\u001b[34m\u001b[1mtrain: \u001b[0mWARNING ⚠️ /home/dylan/projects/YOLO-RGB-T/notebooks/FLIR/RGB/images/train/video-SrMTD42nLD9inozG2-frame-007270-ni24oc6qu38d8WyKi.jpg: ignoring corrupt image/label: Label class 78 exceeds dataset class count 15. Possible class labels are 0-14\n",
      "\u001b[34m\u001b[1mtrain: \u001b[0mWARNING ⚠️ /home/dylan/projects/YOLO-RGB-T/notebooks/FLIR/RGB/images/train/video-SrMTD42nLD9inozG2-frame-007997-Smmbs9KGp36g4iLJQ.jpg: ignoring corrupt image/label: Label class 78 exceeds dataset class count 15. Possible class labels are 0-14\n",
      "\u001b[34m\u001b[1mtrain: \u001b[0mWARNING ⚠️ /home/dylan/projects/YOLO-RGB-T/notebooks/FLIR/RGB/images/train/video-TatCSGkfv2mPDKvNK-frame-003825-Ax9mKumeqoZapcukR.jpg: ignoring corrupt image/label: Label class 78 exceeds dataset class count 15. Possible class labels are 0-14\n",
      "\u001b[34m\u001b[1mtrain: \u001b[0mWARNING ⚠️ /home/dylan/projects/YOLO-RGB-T/notebooks/FLIR/RGB/images/train/video-TxZcd9bcsXvnmsJLu-frame-001631-AqQeF67BjjXq5SkMm.jpg: ignoring corrupt image/label: Label class 78 exceeds dataset class count 15. Possible class labels are 0-14\n",
      "\u001b[34m\u001b[1mtrain: \u001b[0mWARNING ⚠️ /home/dylan/projects/YOLO-RGB-T/notebooks/FLIR/RGB/images/train/video-WEFs5h9DgsJ2YYxXr-frame-000220-AzbEynu6GAkfimQaK.jpg: ignoring corrupt image/label: Label class 78 exceeds dataset class count 15. Possible class labels are 0-14\n",
      "\u001b[34m\u001b[1mtrain: \u001b[0mWARNING ⚠️ /home/dylan/projects/YOLO-RGB-T/notebooks/FLIR/RGB/images/train/video-WEFs5h9DgsJ2YYxXr-frame-000264-KCx8m4KqoGtqSpDGD.jpg: ignoring corrupt image/label: Label class 78 exceeds dataset class count 15. Possible class labels are 0-14\n",
      "\u001b[34m\u001b[1mtrain: \u001b[0mWARNING ⚠️ /home/dylan/projects/YOLO-RGB-T/notebooks/FLIR/RGB/images/train/video-WEFs5h9DgsJ2YYxXr-frame-000307-822hkZY5QFnNvkyda.jpg: ignoring corrupt image/label: Label class 78 exceeds dataset class count 15. Possible class labels are 0-14\n",
      "\u001b[34m\u001b[1mtrain: \u001b[0mWARNING ⚠️ /home/dylan/projects/YOLO-RGB-T/notebooks/FLIR/RGB/images/train/video-WEFs5h9DgsJ2YYxXr-frame-000308-GhcFaAkkdt3uXuTwy.jpg: ignoring corrupt image/label: Label class 78 exceeds dataset class count 15. Possible class labels are 0-14\n",
      "\u001b[34m\u001b[1mtrain: \u001b[0mWARNING ⚠️ /home/dylan/projects/YOLO-RGB-T/notebooks/FLIR/RGB/images/train/video-WEFs5h9DgsJ2YYxXr-frame-000352-4S5sAgqLxMfGpgkjA.jpg: ignoring corrupt image/label: Label class 78 exceeds dataset class count 15. Possible class labels are 0-14\n",
      "\u001b[34m\u001b[1mtrain: \u001b[0mWARNING ⚠️ /home/dylan/projects/YOLO-RGB-T/notebooks/FLIR/RGB/images/train/video-WEFs5h9DgsJ2YYxXr-frame-000359-PhStC5wA94JT7vRNA.jpg: ignoring corrupt image/label: Label class 78 exceeds dataset class count 15. Possible class labels are 0-14\n",
      "\u001b[34m\u001b[1mtrain: \u001b[0mWARNING ⚠️ /home/dylan/projects/YOLO-RGB-T/notebooks/FLIR/RGB/images/train/video-WEFs5h9DgsJ2YYxXr-frame-000396-G5iPsxMEMwGnK3Myt.jpg: ignoring corrupt image/label: Label class 78 exceeds dataset class count 15. Possible class labels are 0-14\n",
      "\u001b[34m\u001b[1mtrain: \u001b[0mWARNING ⚠️ /home/dylan/projects/YOLO-RGB-T/notebooks/FLIR/RGB/images/train/video-WEFs5h9DgsJ2YYxXr-frame-001332-96ki9rGwWKP2DYgrz.jpg: ignoring corrupt image/label: Label class 78 exceeds dataset class count 15. Possible class labels are 0-14\n",
      "\u001b[34m\u001b[1mtrain: \u001b[0mWARNING ⚠️ /home/dylan/projects/YOLO-RGB-T/notebooks/FLIR/RGB/images/train/video-WEFs5h9DgsJ2YYxXr-frame-003076-5pT4NQ8tw8wnSfns2.jpg: ignoring corrupt image/label: Label class 78 exceeds dataset class count 15. Possible class labels are 0-14\n",
      "\u001b[34m\u001b[1mtrain: \u001b[0mWARNING ⚠️ /home/dylan/projects/YOLO-RGB-T/notebooks/FLIR/RGB/images/train/video-WEFs5h9DgsJ2YYxXr-frame-003512-CzRwFTHZYX7kfbKDz.jpg: ignoring corrupt image/label: Label class 78 exceeds dataset class count 15. Possible class labels are 0-14\n",
      "\u001b[34m\u001b[1mtrain: \u001b[0mWARNING ⚠️ /home/dylan/projects/YOLO-RGB-T/notebooks/FLIR/RGB/images/train/video-WEFs5h9DgsJ2YYxXr-frame-007152-wqpsAh247HtQHMa7X.jpg: ignoring corrupt image/label: Label class 78 exceeds dataset class count 15. Possible class labels are 0-14\n",
      "\u001b[34m\u001b[1mtrain: \u001b[0mWARNING ⚠️ /home/dylan/projects/YOLO-RGB-T/notebooks/FLIR/RGB/images/train/video-WEFs5h9DgsJ2YYxXr-frame-007257-Spw8rcktcc6GPQbDr.jpg: ignoring corrupt image/label: Label class 78 exceeds dataset class count 15. Possible class labels are 0-14\n",
      "\u001b[34m\u001b[1mtrain: \u001b[0mWARNING ⚠️ /home/dylan/projects/YOLO-RGB-T/notebooks/FLIR/RGB/images/train/video-WEFs5h9DgsJ2YYxXr-frame-007288-ybFHNJsSauFCXyNwo.jpg: ignoring corrupt image/label: Label class 78 exceeds dataset class count 15. Possible class labels are 0-14\n",
      "\u001b[34m\u001b[1mtrain: \u001b[0mWARNING ⚠️ /home/dylan/projects/YOLO-RGB-T/notebooks/FLIR/RGB/images/train/video-WPJrL5MznEAgqaD47-frame-002656-Xrj5DCLfdhHKAu5Cu.jpg: ignoring corrupt image/label: Label class 36 exceeds dataset class count 15. Possible class labels are 0-14\n",
      "\u001b[34m\u001b[1mtrain: \u001b[0mWARNING ⚠️ /home/dylan/projects/YOLO-RGB-T/notebooks/FLIR/RGB/images/train/video-XnyceSsWCsR7niZps-frame-003371-SjYfgje9pBxgf5kE7.jpg: ignoring corrupt image/label: Label class 36 exceeds dataset class count 15. Possible class labels are 0-14\n",
      "\u001b[34m\u001b[1mtrain: \u001b[0mWARNING ⚠️ /home/dylan/projects/YOLO-RGB-T/notebooks/FLIR/RGB/images/train/video-XnyceSsWCsR7niZps-frame-003391-mhDFRLZKzfCkoyJ64.jpg: ignoring corrupt image/label: Label class 36 exceeds dataset class count 15. Possible class labels are 0-14\n",
      "\u001b[34m\u001b[1mtrain: \u001b[0mWARNING ⚠️ /home/dylan/projects/YOLO-RGB-T/notebooks/FLIR/RGB/images/train/video-XnyceSsWCsR7niZps-frame-003401-SAq5PcEzMFSm2H87F.jpg: ignoring corrupt image/label: Label class 36 exceeds dataset class count 15. Possible class labels are 0-14\n",
      "\u001b[34m\u001b[1mtrain: \u001b[0mWARNING ⚠️ /home/dylan/projects/YOLO-RGB-T/notebooks/FLIR/RGB/images/train/video-XnyceSsWCsR7niZps-frame-003411-omTEHDLtqPGLRHudg.jpg: ignoring corrupt image/label: Label class 36 exceeds dataset class count 15. Possible class labels are 0-14\n",
      "\u001b[34m\u001b[1mtrain: \u001b[0mWARNING ⚠️ /home/dylan/projects/YOLO-RGB-T/notebooks/FLIR/RGB/images/train/video-XnyceSsWCsR7niZps-frame-003421-jXaGqt5wcBYhoAEW5.jpg: ignoring corrupt image/label: Label class 36 exceeds dataset class count 15. Possible class labels are 0-14\n",
      "\u001b[34m\u001b[1mtrain: \u001b[0mWARNING ⚠️ /home/dylan/projects/YOLO-RGB-T/notebooks/FLIR/RGB/images/train/video-XnyceSsWCsR7niZps-frame-003441-YKPE6KBuPCgGcpEeL.jpg: ignoring corrupt image/label: Label class 36 exceeds dataset class count 15. Possible class labels are 0-14\n",
      "\u001b[34m\u001b[1mtrain: \u001b[0mWARNING ⚠️ /home/dylan/projects/YOLO-RGB-T/notebooks/FLIR/RGB/images/train/video-XnyceSsWCsR7niZps-frame-003451-29BciQDd8S3ub2QGx.jpg: ignoring corrupt image/label: Label class 36 exceeds dataset class count 15. Possible class labels are 0-14\n",
      "\u001b[34m\u001b[1mtrain: \u001b[0mWARNING ⚠️ /home/dylan/projects/YOLO-RGB-T/notebooks/FLIR/RGB/images/train/video-XnyceSsWCsR7niZps-frame-003461-sYvxocYMbxQ3bJKB4.jpg: ignoring corrupt image/label: Label class 36 exceeds dataset class count 15. Possible class labels are 0-14\n",
      "\u001b[34m\u001b[1mtrain: \u001b[0mWARNING ⚠️ /home/dylan/projects/YOLO-RGB-T/notebooks/FLIR/RGB/images/train/video-XnyceSsWCsR7niZps-frame-003471-X5oTKSe4j96Sw6C9d.jpg: ignoring corrupt image/label: Label class 36 exceeds dataset class count 15. Possible class labels are 0-14\n",
      "\u001b[34m\u001b[1mtrain: \u001b[0mWARNING ⚠️ /home/dylan/projects/YOLO-RGB-T/notebooks/FLIR/RGB/images/train/video-XnyceSsWCsR7niZps-frame-003481-rbg8B8ZcbXQkmkomf.jpg: ignoring corrupt image/label: Label class 36 exceeds dataset class count 15. Possible class labels are 0-14\n",
      "\u001b[34m\u001b[1mtrain: \u001b[0mWARNING ⚠️ /home/dylan/projects/YOLO-RGB-T/notebooks/FLIR/RGB/images/train/video-XnyceSsWCsR7niZps-frame-003491-bDQ3XPwSmse33tZqh.jpg: ignoring corrupt image/label: Label class 36 exceeds dataset class count 15. Possible class labels are 0-14\n",
      "\u001b[34m\u001b[1mtrain: \u001b[0mWARNING ⚠️ /home/dylan/projects/YOLO-RGB-T/notebooks/FLIR/RGB/images/train/video-XnyceSsWCsR7niZps-frame-003501-9JgkZBnAAi6RXFGXW.jpg: ignoring corrupt image/label: Label class 36 exceeds dataset class count 15. Possible class labels are 0-14\n",
      "\u001b[34m\u001b[1mtrain: \u001b[0mWARNING ⚠️ /home/dylan/projects/YOLO-RGB-T/notebooks/FLIR/RGB/images/train/video-XnyceSsWCsR7niZps-frame-003511-n7J2RxgWPRG4p3qA2.jpg: ignoring corrupt image/label: Label class 36 exceeds dataset class count 15. Possible class labels are 0-14\n",
      "\u001b[34m\u001b[1mtrain: \u001b[0mWARNING ⚠️ /home/dylan/projects/YOLO-RGB-T/notebooks/FLIR/RGB/images/train/video-XnyceSsWCsR7niZps-frame-003521-uH5kqaxANMuEtbbyC.jpg: ignoring corrupt image/label: Label class 36 exceeds dataset class count 15. Possible class labels are 0-14\n",
      "\u001b[34m\u001b[1mtrain: \u001b[0mWARNING ⚠️ /home/dylan/projects/YOLO-RGB-T/notebooks/FLIR/RGB/images/train/video-XnyceSsWCsR7niZps-frame-003531-Ed9jT6PKQveYB5RYz.jpg: ignoring corrupt image/label: Label class 36 exceeds dataset class count 15. Possible class labels are 0-14\n",
      "\u001b[34m\u001b[1mtrain: \u001b[0mWARNING ⚠️ /home/dylan/projects/YOLO-RGB-T/notebooks/FLIR/RGB/images/train/video-XnyceSsWCsR7niZps-frame-003541-Buah4ZdGBeQN5KxET.jpg: ignoring corrupt image/label: Label class 36 exceeds dataset class count 15. Possible class labels are 0-14\n",
      "\u001b[34m\u001b[1mtrain: \u001b[0mWARNING ⚠️ /home/dylan/projects/YOLO-RGB-T/notebooks/FLIR/RGB/images/train/video-XnyceSsWCsR7niZps-frame-003561-NzrGiNQvA8BSBhiDs.jpg: ignoring corrupt image/label: Label class 36 exceeds dataset class count 15. Possible class labels are 0-14\n",
      "\u001b[34m\u001b[1mtrain: \u001b[0mWARNING ⚠️ /home/dylan/projects/YOLO-RGB-T/notebooks/FLIR/RGB/images/train/video-XnyceSsWCsR7niZps-frame-003571-vLQDYPRNGW6cFQkaE.jpg: ignoring corrupt image/label: Label class 36 exceeds dataset class count 15. Possible class labels are 0-14\n",
      "\u001b[34m\u001b[1mtrain: \u001b[0mWARNING ⚠️ /home/dylan/projects/YOLO-RGB-T/notebooks/FLIR/RGB/images/train/video-XnyceSsWCsR7niZps-frame-003581-wihpbt6mZxbSNZEvy.jpg: ignoring corrupt image/label: Label class 36 exceeds dataset class count 15. Possible class labels are 0-14\n",
      "\u001b[34m\u001b[1mtrain: \u001b[0mWARNING ⚠️ /home/dylan/projects/YOLO-RGB-T/notebooks/FLIR/RGB/images/train/video-XnyceSsWCsR7niZps-frame-003591-AoH52FwzrN9MXcZGf.jpg: ignoring corrupt image/label: Label class 36 exceeds dataset class count 15. Possible class labels are 0-14\n",
      "\u001b[34m\u001b[1mtrain: \u001b[0mWARNING ⚠️ /home/dylan/projects/YOLO-RGB-T/notebooks/FLIR/RGB/images/train/video-XnyceSsWCsR7niZps-frame-003601-dahurR2qDBGQFsXdx.jpg: ignoring corrupt image/label: Label class 36 exceeds dataset class count 15. Possible class labels are 0-14\n",
      "\u001b[34m\u001b[1mtrain: \u001b[0mWARNING ⚠️ /home/dylan/projects/YOLO-RGB-T/notebooks/FLIR/RGB/images/train/video-XnyceSsWCsR7niZps-frame-003611-tXjnbsKwzTHtZQYma.jpg: ignoring corrupt image/label: Label class 36 exceeds dataset class count 15. Possible class labels are 0-14\n",
      "\u001b[34m\u001b[1mtrain: \u001b[0mWARNING ⚠️ /home/dylan/projects/YOLO-RGB-T/notebooks/FLIR/RGB/images/train/video-XnyceSsWCsR7niZps-frame-003621-rXZu9qx9pddhx7RxX.jpg: ignoring corrupt image/label: Label class 36 exceeds dataset class count 15. Possible class labels are 0-14\n",
      "\u001b[34m\u001b[1mtrain: \u001b[0mWARNING ⚠️ /home/dylan/projects/YOLO-RGB-T/notebooks/FLIR/RGB/images/train/video-XnyceSsWCsR7niZps-frame-003631-wshRR5NLfbbvDikHQ.jpg: ignoring corrupt image/label: Label class 36 exceeds dataset class count 15. Possible class labels are 0-14\n",
      "\u001b[34m\u001b[1mtrain: \u001b[0mWARNING ⚠️ /home/dylan/projects/YOLO-RGB-T/notebooks/FLIR/RGB/images/train/video-XnyceSsWCsR7niZps-frame-003641-zuYG97EpADLbHm3uN.jpg: ignoring corrupt image/label: Label class 78 exceeds dataset class count 15. Possible class labels are 0-14\n",
      "\u001b[34m\u001b[1mtrain: \u001b[0mWARNING ⚠️ /home/dylan/projects/YOLO-RGB-T/notebooks/FLIR/RGB/images/train/video-XnyceSsWCsR7niZps-frame-003651-emMrEnk4tN7nXY5Db.jpg: ignoring corrupt image/label: Label class 78 exceeds dataset class count 15. Possible class labels are 0-14\n",
      "\u001b[34m\u001b[1mtrain: \u001b[0mWARNING ⚠️ /home/dylan/projects/YOLO-RGB-T/notebooks/FLIR/RGB/images/train/video-XnyceSsWCsR7niZps-frame-003661-FNB6dnwzzWGksGNCh.jpg: ignoring corrupt image/label: Label class 36 exceeds dataset class count 15. Possible class labels are 0-14\n",
      "\u001b[34m\u001b[1mtrain: \u001b[0mWARNING ⚠️ /home/dylan/projects/YOLO-RGB-T/notebooks/FLIR/RGB/images/train/video-XnyceSsWCsR7niZps-frame-003671-GyAbaF5J8e3td6h87.jpg: ignoring corrupt image/label: Label class 78 exceeds dataset class count 15. Possible class labels are 0-14\n",
      "\u001b[34m\u001b[1mtrain: \u001b[0mWARNING ⚠️ /home/dylan/projects/YOLO-RGB-T/notebooks/FLIR/RGB/images/train/video-XnyceSsWCsR7niZps-frame-003681-rA6fjJtDbcfmQsYmx.jpg: ignoring corrupt image/label: Label class 78 exceeds dataset class count 15. Possible class labels are 0-14\n",
      "\u001b[34m\u001b[1mtrain: \u001b[0mWARNING ⚠️ /home/dylan/projects/YOLO-RGB-T/notebooks/FLIR/RGB/images/train/video-XnyceSsWCsR7niZps-frame-003691-kodwX58hARSbpqgDP.jpg: ignoring corrupt image/label: Label class 78 exceeds dataset class count 15. Possible class labels are 0-14\n",
      "\u001b[34m\u001b[1mtrain: \u001b[0mWARNING ⚠️ /home/dylan/projects/YOLO-RGB-T/notebooks/FLIR/RGB/images/train/video-XnyceSsWCsR7niZps-frame-003701-ZoYFWGQnXvffYd7rx.jpg: ignoring corrupt image/label: Label class 78 exceeds dataset class count 15. Possible class labels are 0-14\n",
      "\u001b[34m\u001b[1mtrain: \u001b[0mWARNING ⚠️ /home/dylan/projects/YOLO-RGB-T/notebooks/FLIR/RGB/images/train/video-XnyceSsWCsR7niZps-frame-003711-6C8rxMiHLvQ3ASkng.jpg: ignoring corrupt image/label: Label class 78 exceeds dataset class count 15. Possible class labels are 0-14\n",
      "\u001b[34m\u001b[1mtrain: \u001b[0mWARNING ⚠️ /home/dylan/projects/YOLO-RGB-T/notebooks/FLIR/RGB/images/train/video-XnyceSsWCsR7niZps-frame-003721-BGdvso9Yo3jFmWWzk.jpg: ignoring corrupt image/label: Label class 78 exceeds dataset class count 15. Possible class labels are 0-14\n",
      "\u001b[34m\u001b[1mtrain: \u001b[0mWARNING ⚠️ /home/dylan/projects/YOLO-RGB-T/notebooks/FLIR/RGB/images/train/video-XnyceSsWCsR7niZps-frame-003731-S3YsY4qdTCLBTousx.jpg: ignoring corrupt image/label: Label class 36 exceeds dataset class count 15. Possible class labels are 0-14\n",
      "\u001b[34m\u001b[1mtrain: \u001b[0mWARNING ⚠️ /home/dylan/projects/YOLO-RGB-T/notebooks/FLIR/RGB/images/train/video-XnyceSsWCsR7niZps-frame-003741-m4nWXXAWHci3MNwhH.jpg: ignoring corrupt image/label: Label class 36 exceeds dataset class count 15. Possible class labels are 0-14\n",
      "\u001b[34m\u001b[1mtrain: \u001b[0mWARNING ⚠️ /home/dylan/projects/YOLO-RGB-T/notebooks/FLIR/RGB/images/train/video-XnyceSsWCsR7niZps-frame-003751-4KZhpk93JD3vQuP2p.jpg: ignoring corrupt image/label: Label class 78 exceeds dataset class count 15. Possible class labels are 0-14\n",
      "\u001b[34m\u001b[1mtrain: \u001b[0mWARNING ⚠️ /home/dylan/projects/YOLO-RGB-T/notebooks/FLIR/RGB/images/train/video-XnyceSsWCsR7niZps-frame-003761-9mXPzi2NzaMNpkxyD.jpg: ignoring corrupt image/label: Label class 36 exceeds dataset class count 15. Possible class labels are 0-14\n",
      "\u001b[34m\u001b[1mtrain: \u001b[0mWARNING ⚠️ /home/dylan/projects/YOLO-RGB-T/notebooks/FLIR/RGB/images/train/video-XnyceSsWCsR7niZps-frame-003771-CuqhJzqmajGCsBuPj.jpg: ignoring corrupt image/label: Label class 78 exceeds dataset class count 15. Possible class labels are 0-14\n",
      "\u001b[34m\u001b[1mtrain: \u001b[0mWARNING ⚠️ /home/dylan/projects/YOLO-RGB-T/notebooks/FLIR/RGB/images/train/video-XnyceSsWCsR7niZps-frame-003781-3KHixq3Lteq8DGQqL.jpg: ignoring corrupt image/label: Label class 78 exceeds dataset class count 15. Possible class labels are 0-14\n",
      "\u001b[34m\u001b[1mtrain: \u001b[0mWARNING ⚠️ /home/dylan/projects/YOLO-RGB-T/notebooks/FLIR/RGB/images/train/video-XnyceSsWCsR7niZps-frame-003791-vAEx7RRSXotZFGPB5.jpg: ignoring corrupt image/label: Label class 78 exceeds dataset class count 15. Possible class labels are 0-14\n",
      "\u001b[34m\u001b[1mtrain: \u001b[0mWARNING ⚠️ /home/dylan/projects/YOLO-RGB-T/notebooks/FLIR/RGB/images/train/video-XnyceSsWCsR7niZps-frame-003801-h24kpGgHw9fmcczkE.jpg: ignoring corrupt image/label: Label class 78 exceeds dataset class count 15. Possible class labels are 0-14\n",
      "\u001b[34m\u001b[1mtrain: \u001b[0mWARNING ⚠️ /home/dylan/projects/YOLO-RGB-T/notebooks/FLIR/RGB/images/train/video-XnyceSsWCsR7niZps-frame-003811-NydB5x8pr84ChMcZS.jpg: ignoring corrupt image/label: Label class 78 exceeds dataset class count 15. Possible class labels are 0-14\n",
      "\u001b[34m\u001b[1mtrain: \u001b[0mWARNING ⚠️ /home/dylan/projects/YOLO-RGB-T/notebooks/FLIR/RGB/images/train/video-XnyceSsWCsR7niZps-frame-003821-j4Y8go3iXzuXSYG5b.jpg: ignoring corrupt image/label: Label class 78 exceeds dataset class count 15. Possible class labels are 0-14\n",
      "\u001b[34m\u001b[1mtrain: \u001b[0mWARNING ⚠️ /home/dylan/projects/YOLO-RGB-T/notebooks/FLIR/RGB/images/train/video-XnyceSsWCsR7niZps-frame-003831-njo6cHKWP2C3cxfRy.jpg: ignoring corrupt image/label: Label class 78 exceeds dataset class count 15. Possible class labels are 0-14\n",
      "\u001b[34m\u001b[1mtrain: \u001b[0mWARNING ⚠️ /home/dylan/projects/YOLO-RGB-T/notebooks/FLIR/RGB/images/train/video-XnyceSsWCsR7niZps-frame-003841-MdHTKFdLwzFJ7SjaY.jpg: ignoring corrupt image/label: Label class 78 exceeds dataset class count 15. Possible class labels are 0-14\n",
      "\u001b[34m\u001b[1mtrain: \u001b[0mWARNING ⚠️ /home/dylan/projects/YOLO-RGB-T/notebooks/FLIR/RGB/images/train/video-XnyceSsWCsR7niZps-frame-003851-XjtggpkFpowJHzjG3.jpg: ignoring corrupt image/label: Label class 78 exceeds dataset class count 15. Possible class labels are 0-14\n",
      "\u001b[34m\u001b[1mtrain: \u001b[0mWARNING ⚠️ /home/dylan/projects/YOLO-RGB-T/notebooks/FLIR/RGB/images/train/video-XnyceSsWCsR7niZps-frame-003871-KPhAdpqseks7azQrB.jpg: ignoring corrupt image/label: Label class 78 exceeds dataset class count 15. Possible class labels are 0-14\n",
      "\u001b[34m\u001b[1mtrain: \u001b[0mWARNING ⚠️ /home/dylan/projects/YOLO-RGB-T/notebooks/FLIR/RGB/images/train/video-XnyceSsWCsR7niZps-frame-003881-g3AYxHoxgjmh3MJn2.jpg: ignoring corrupt image/label: Label class 78 exceeds dataset class count 15. Possible class labels are 0-14\n",
      "\u001b[34m\u001b[1mtrain: \u001b[0mWARNING ⚠️ /home/dylan/projects/YOLO-RGB-T/notebooks/FLIR/RGB/images/train/video-XnyceSsWCsR7niZps-frame-003891-5e28eGrdMqxxp8cTQ.jpg: ignoring corrupt image/label: Label class 78 exceeds dataset class count 15. Possible class labels are 0-14\n",
      "\u001b[34m\u001b[1mtrain: \u001b[0mWARNING ⚠️ /home/dylan/projects/YOLO-RGB-T/notebooks/FLIR/RGB/images/train/video-XnyceSsWCsR7niZps-frame-003901-6awFWSi9K6iMnuQEk.jpg: ignoring corrupt image/label: Label class 78 exceeds dataset class count 15. Possible class labels are 0-14\n",
      "\u001b[34m\u001b[1mtrain: \u001b[0mWARNING ⚠️ /home/dylan/projects/YOLO-RGB-T/notebooks/FLIR/RGB/images/train/video-XnyceSsWCsR7niZps-frame-003911-nnJ2ovCt5AtiDbiRD.jpg: ignoring corrupt image/label: Label class 78 exceeds dataset class count 15. Possible class labels are 0-14\n",
      "\u001b[34m\u001b[1mtrain: \u001b[0mWARNING ⚠️ /home/dylan/projects/YOLO-RGB-T/notebooks/FLIR/RGB/images/train/video-XnyceSsWCsR7niZps-frame-003921-bXSK9PwcHeaSmwvDv.jpg: ignoring corrupt image/label: Label class 78 exceeds dataset class count 15. Possible class labels are 0-14\n",
      "\u001b[34m\u001b[1mtrain: \u001b[0mWARNING ⚠️ /home/dylan/projects/YOLO-RGB-T/notebooks/FLIR/RGB/images/train/video-XnyceSsWCsR7niZps-frame-003931-ZfxasqkBnibsQ7SSq.jpg: ignoring corrupt image/label: Label class 36 exceeds dataset class count 15. Possible class labels are 0-14\n",
      "\u001b[34m\u001b[1mtrain: \u001b[0mWARNING ⚠️ /home/dylan/projects/YOLO-RGB-T/notebooks/FLIR/RGB/images/train/video-XnyceSsWCsR7niZps-frame-003941-s2zZxzbZApSbTAHB5.jpg: ignoring corrupt image/label: Label class 36 exceeds dataset class count 15. Possible class labels are 0-14\n",
      "\u001b[34m\u001b[1mtrain: \u001b[0mWARNING ⚠️ /home/dylan/projects/YOLO-RGB-T/notebooks/FLIR/RGB/images/train/video-XnyceSsWCsR7niZps-frame-003951-SFx9tgmwMdwCh7yo8.jpg: ignoring corrupt image/label: Label class 36 exceeds dataset class count 15. Possible class labels are 0-14\n",
      "\u001b[34m\u001b[1mtrain: \u001b[0mWARNING ⚠️ /home/dylan/projects/YOLO-RGB-T/notebooks/FLIR/RGB/images/train/video-XnyceSsWCsR7niZps-frame-003961-JyP9DE8qAP5nc3f3N.jpg: ignoring corrupt image/label: Label class 36 exceeds dataset class count 15. Possible class labels are 0-14\n",
      "\u001b[34m\u001b[1mtrain: \u001b[0mWARNING ⚠️ /home/dylan/projects/YOLO-RGB-T/notebooks/FLIR/RGB/images/train/video-XnyceSsWCsR7niZps-frame-003971-eXcbFrGHTBYxSNSyv.jpg: ignoring corrupt image/label: Label class 36 exceeds dataset class count 15. Possible class labels are 0-14\n",
      "\u001b[34m\u001b[1mtrain: \u001b[0mWARNING ⚠️ /home/dylan/projects/YOLO-RGB-T/notebooks/FLIR/RGB/images/train/video-XnyceSsWCsR7niZps-frame-003981-d8kZrHxd5c83Cks55.jpg: ignoring corrupt image/label: Label class 36 exceeds dataset class count 15. Possible class labels are 0-14\n",
      "\u001b[34m\u001b[1mtrain: \u001b[0mWARNING ⚠️ /home/dylan/projects/YOLO-RGB-T/notebooks/FLIR/RGB/images/train/video-XnyceSsWCsR7niZps-frame-003991-3xQQE7D6YqjbKbcxw.jpg: ignoring corrupt image/label: Label class 36 exceeds dataset class count 15. Possible class labels are 0-14\n",
      "\u001b[34m\u001b[1mtrain: \u001b[0mWARNING ⚠️ /home/dylan/projects/YOLO-RGB-T/notebooks/FLIR/RGB/images/train/video-XnyceSsWCsR7niZps-frame-004001-Wevqyf7rsevgz3uGR.jpg: ignoring corrupt image/label: Label class 36 exceeds dataset class count 15. Possible class labels are 0-14\n",
      "\u001b[34m\u001b[1mtrain: \u001b[0mWARNING ⚠️ /home/dylan/projects/YOLO-RGB-T/notebooks/FLIR/RGB/images/train/video-XnyceSsWCsR7niZps-frame-004011-TQLMkcDBdccYe5PoS.jpg: ignoring corrupt image/label: Label class 36 exceeds dataset class count 15. Possible class labels are 0-14\n",
      "\u001b[34m\u001b[1mtrain: \u001b[0mWARNING ⚠️ /home/dylan/projects/YOLO-RGB-T/notebooks/FLIR/RGB/images/train/video-XnyceSsWCsR7niZps-frame-004021-m9JbG3sgykZfNSDPo.jpg: ignoring corrupt image/label: Label class 36 exceeds dataset class count 15. Possible class labels are 0-14\n",
      "\u001b[34m\u001b[1mtrain: \u001b[0mWARNING ⚠️ /home/dylan/projects/YOLO-RGB-T/notebooks/FLIR/RGB/images/train/video-XnyceSsWCsR7niZps-frame-004031-y3oB7v7ckqYWFeTaB.jpg: ignoring corrupt image/label: Label class 36 exceeds dataset class count 15. Possible class labels are 0-14\n",
      "\u001b[34m\u001b[1mtrain: \u001b[0mWARNING ⚠️ /home/dylan/projects/YOLO-RGB-T/notebooks/FLIR/RGB/images/train/video-XnyceSsWCsR7niZps-frame-004041-syHQ9ryf3mFLX2CYQ.jpg: ignoring corrupt image/label: Label class 36 exceeds dataset class count 15. Possible class labels are 0-14\n",
      "\u001b[34m\u001b[1mtrain: \u001b[0mWARNING ⚠️ /home/dylan/projects/YOLO-RGB-T/notebooks/FLIR/RGB/images/train/video-XnyceSsWCsR7niZps-frame-004051-b6xkawDz9PyPHEfCw.jpg: ignoring corrupt image/label: Label class 36 exceeds dataset class count 15. Possible class labels are 0-14\n",
      "\u001b[34m\u001b[1mtrain: \u001b[0mWARNING ⚠️ /home/dylan/projects/YOLO-RGB-T/notebooks/FLIR/RGB/images/train/video-XnyceSsWCsR7niZps-frame-004061-hGrB6rpb33XQN5XTR.jpg: ignoring corrupt image/label: Label class 36 exceeds dataset class count 15. Possible class labels are 0-14\n",
      "\u001b[34m\u001b[1mtrain: \u001b[0mWARNING ⚠️ /home/dylan/projects/YOLO-RGB-T/notebooks/FLIR/RGB/images/train/video-XnyceSsWCsR7niZps-frame-004071-F2mPidKAczQcxYAju.jpg: ignoring corrupt image/label: Label class 36 exceeds dataset class count 15. Possible class labels are 0-14\n",
      "\u001b[34m\u001b[1mtrain: \u001b[0mWARNING ⚠️ /home/dylan/projects/YOLO-RGB-T/notebooks/FLIR/RGB/images/train/video-XnyceSsWCsR7niZps-frame-004081-uNaGhjPsJdhTFNrAP.jpg: ignoring corrupt image/label: Label class 36 exceeds dataset class count 15. Possible class labels are 0-14\n",
      "\u001b[34m\u001b[1mtrain: \u001b[0mWARNING ⚠️ /home/dylan/projects/YOLO-RGB-T/notebooks/FLIR/RGB/images/train/video-XnyceSsWCsR7niZps-frame-004091-isM433DnMiQ6oMZAS.jpg: ignoring corrupt image/label: Label class 36 exceeds dataset class count 15. Possible class labels are 0-14\n",
      "\u001b[34m\u001b[1mtrain: \u001b[0mWARNING ⚠️ /home/dylan/projects/YOLO-RGB-T/notebooks/FLIR/RGB/images/train/video-XnyceSsWCsR7niZps-frame-004101-LSEcKdhQ7msRiLtFf.jpg: ignoring corrupt image/label: Label class 36 exceeds dataset class count 15. Possible class labels are 0-14\n",
      "\u001b[34m\u001b[1mtrain: \u001b[0mWARNING ⚠️ /home/dylan/projects/YOLO-RGB-T/notebooks/FLIR/RGB/images/train/video-XnyceSsWCsR7niZps-frame-004111-KzGrGGiZ2pTe6dYY6.jpg: ignoring corrupt image/label: Label class 36 exceeds dataset class count 15. Possible class labels are 0-14\n",
      "\u001b[34m\u001b[1mtrain: \u001b[0mWARNING ⚠️ /home/dylan/projects/YOLO-RGB-T/notebooks/FLIR/RGB/images/train/video-XnyceSsWCsR7niZps-frame-004121-j4vkEj3LDoJ6yf3XR.jpg: ignoring corrupt image/label: Label class 36 exceeds dataset class count 15. Possible class labels are 0-14\n",
      "\u001b[34m\u001b[1mtrain: \u001b[0mWARNING ⚠️ /home/dylan/projects/YOLO-RGB-T/notebooks/FLIR/RGB/images/train/video-XnyceSsWCsR7niZps-frame-004131-byCGjSc73xoE2PPmv.jpg: ignoring corrupt image/label: Label class 36 exceeds dataset class count 15. Possible class labels are 0-14\n",
      "\u001b[34m\u001b[1mtrain: \u001b[0mWARNING ⚠️ /home/dylan/projects/YOLO-RGB-T/notebooks/FLIR/RGB/images/train/video-XnyceSsWCsR7niZps-frame-004141-zgBZrMiJxMZZHFRSL.jpg: ignoring corrupt image/label: Label class 36 exceeds dataset class count 15. Possible class labels are 0-14\n",
      "\u001b[34m\u001b[1mtrain: \u001b[0mWARNING ⚠️ /home/dylan/projects/YOLO-RGB-T/notebooks/FLIR/RGB/images/train/video-XnyceSsWCsR7niZps-frame-004151-Gb8eqZgjggJc9YJYh.jpg: ignoring corrupt image/label: Label class 36 exceeds dataset class count 15. Possible class labels are 0-14\n",
      "\u001b[34m\u001b[1mtrain: \u001b[0mWARNING ⚠️ /home/dylan/projects/YOLO-RGB-T/notebooks/FLIR/RGB/images/train/video-XnyceSsWCsR7niZps-frame-004161-q3ordzSExnhaLMqEB.jpg: ignoring corrupt image/label: Label class 36 exceeds dataset class count 15. Possible class labels are 0-14\n",
      "\u001b[34m\u001b[1mtrain: \u001b[0mWARNING ⚠️ /home/dylan/projects/YOLO-RGB-T/notebooks/FLIR/RGB/images/train/video-XnyceSsWCsR7niZps-frame-004171-KuKk2YH4wFGekevwK.jpg: ignoring corrupt image/label: Label class 36 exceeds dataset class count 15. Possible class labels are 0-14\n",
      "\u001b[34m\u001b[1mtrain: \u001b[0mWARNING ⚠️ /home/dylan/projects/YOLO-RGB-T/notebooks/FLIR/RGB/images/train/video-XnyceSsWCsR7niZps-frame-004181-DWnQ2XTEiFb37sfdj.jpg: ignoring corrupt image/label: Label class 36 exceeds dataset class count 15. Possible class labels are 0-14\n",
      "\u001b[34m\u001b[1mtrain: \u001b[0mWARNING ⚠️ /home/dylan/projects/YOLO-RGB-T/notebooks/FLIR/RGB/images/train/video-XnyceSsWCsR7niZps-frame-004191-kY77YpNFF73Qtz8oo.jpg: ignoring corrupt image/label: Label class 36 exceeds dataset class count 15. Possible class labels are 0-14\n",
      "\u001b[34m\u001b[1mtrain: \u001b[0mWARNING ⚠️ /home/dylan/projects/YOLO-RGB-T/notebooks/FLIR/RGB/images/train/video-XnyceSsWCsR7niZps-frame-004201-ejizYN2atp3MrZt9T.jpg: ignoring corrupt image/label: Label class 36 exceeds dataset class count 15. Possible class labels are 0-14\n",
      "\u001b[34m\u001b[1mtrain: \u001b[0mWARNING ⚠️ /home/dylan/projects/YOLO-RGB-T/notebooks/FLIR/RGB/images/train/video-XnyceSsWCsR7niZps-frame-004211-XWQjwuXRHic3FWcEH.jpg: ignoring corrupt image/label: Label class 36 exceeds dataset class count 15. Possible class labels are 0-14\n",
      "\u001b[34m\u001b[1mtrain: \u001b[0mWARNING ⚠️ /home/dylan/projects/YOLO-RGB-T/notebooks/FLIR/RGB/images/train/video-XnyceSsWCsR7niZps-frame-004221-CRgYpghyyc8nRPKHQ.jpg: ignoring corrupt image/label: Label class 36 exceeds dataset class count 15. Possible class labels are 0-14\n",
      "\u001b[34m\u001b[1mtrain: \u001b[0mWARNING ⚠️ /home/dylan/projects/YOLO-RGB-T/notebooks/FLIR/RGB/images/train/video-XnyceSsWCsR7niZps-frame-004231-LE695oD2ToWBiqbh7.jpg: ignoring corrupt image/label: Label class 36 exceeds dataset class count 15. Possible class labels are 0-14\n",
      "\u001b[34m\u001b[1mtrain: \u001b[0mWARNING ⚠️ /home/dylan/projects/YOLO-RGB-T/notebooks/FLIR/RGB/images/train/video-XnyceSsWCsR7niZps-frame-004241-Tdaa5ZAfFnXJRqcaL.jpg: ignoring corrupt image/label: Label class 36 exceeds dataset class count 15. Possible class labels are 0-14\n",
      "\u001b[34m\u001b[1mtrain: \u001b[0mWARNING ⚠️ /home/dylan/projects/YOLO-RGB-T/notebooks/FLIR/RGB/images/train/video-XnyceSsWCsR7niZps-frame-004251-biPve2473EysPCtTF.jpg: ignoring corrupt image/label: Label class 36 exceeds dataset class count 15. Possible class labels are 0-14\n",
      "\u001b[34m\u001b[1mtrain: \u001b[0mWARNING ⚠️ /home/dylan/projects/YOLO-RGB-T/notebooks/FLIR/RGB/images/train/video-XnyceSsWCsR7niZps-frame-004261-c4yz4P9oFtMybYayb.jpg: ignoring corrupt image/label: Label class 36 exceeds dataset class count 15. Possible class labels are 0-14\n",
      "\u001b[34m\u001b[1mtrain: \u001b[0mWARNING ⚠️ /home/dylan/projects/YOLO-RGB-T/notebooks/FLIR/RGB/images/train/video-XnyceSsWCsR7niZps-frame-004271-a3tHGvJcfYCAsTv4J.jpg: ignoring corrupt image/label: Label class 36 exceeds dataset class count 15. Possible class labels are 0-14\n",
      "\u001b[34m\u001b[1mtrain: \u001b[0mWARNING ⚠️ /home/dylan/projects/YOLO-RGB-T/notebooks/FLIR/RGB/images/train/video-XnyceSsWCsR7niZps-frame-004281-Z3inHkrpFbsKLbg8Z.jpg: ignoring corrupt image/label: Label class 36 exceeds dataset class count 15. Possible class labels are 0-14\n",
      "\u001b[34m\u001b[1mtrain: \u001b[0mWARNING ⚠️ /home/dylan/projects/YOLO-RGB-T/notebooks/FLIR/RGB/images/train/video-XnyceSsWCsR7niZps-frame-006347-sfyQJnfMp9BwnDJbm.jpg: ignoring corrupt image/label: Label class 36 exceeds dataset class count 15. Possible class labels are 0-14\n",
      "\u001b[34m\u001b[1mtrain: \u001b[0mWARNING ⚠️ /home/dylan/projects/YOLO-RGB-T/notebooks/FLIR/RGB/images/train/video-XnyceSsWCsR7niZps-frame-006357-6xCff26bAsgjjcpAN.jpg: ignoring corrupt image/label: Label class 36 exceeds dataset class count 15. Possible class labels are 0-14\n",
      "\u001b[34m\u001b[1mtrain: \u001b[0mWARNING ⚠️ /home/dylan/projects/YOLO-RGB-T/notebooks/FLIR/RGB/images/train/video-XnyceSsWCsR7niZps-frame-006367-N5Pt3pxwrMMHBuQux.jpg: ignoring corrupt image/label: Label class 36 exceeds dataset class count 15. Possible class labels are 0-14\n",
      "\u001b[34m\u001b[1mtrain: \u001b[0mWARNING ⚠️ /home/dylan/projects/YOLO-RGB-T/notebooks/FLIR/RGB/images/train/video-XnyceSsWCsR7niZps-frame-006377-ZeNGzrcDkrTfrpm8J.jpg: ignoring corrupt image/label: Label class 36 exceeds dataset class count 15. Possible class labels are 0-14\n",
      "\u001b[34m\u001b[1mtrain: \u001b[0mWARNING ⚠️ /home/dylan/projects/YOLO-RGB-T/notebooks/FLIR/RGB/images/train/video-YneKJyFgKnCxo3Ypr-frame-000988-Bz8ACLgbwiyF992gx.jpg: ignoring corrupt image/label: Label class 78 exceeds dataset class count 15. Possible class labels are 0-14\n",
      "\u001b[34m\u001b[1mtrain: \u001b[0mWARNING ⚠️ /home/dylan/projects/YOLO-RGB-T/notebooks/FLIR/RGB/images/train/video-YneKJyFgKnCxo3Ypr-frame-000999-Eb4H4HakvYoyAydMg.jpg: ignoring corrupt image/label: Label class 78 exceeds dataset class count 15. Possible class labels are 0-14\n",
      "\u001b[34m\u001b[1mtrain: \u001b[0mWARNING ⚠️ /home/dylan/projects/YOLO-RGB-T/notebooks/FLIR/RGB/images/train/video-YpiPhzpaScGfwivAL-frame-002850-kSEHDFfijBdNsbtMC.jpg: ignoring corrupt image/label: Label class 78 exceeds dataset class count 15. Possible class labels are 0-14\n",
      "\u001b[34m\u001b[1mtrain: \u001b[0mWARNING ⚠️ /home/dylan/projects/YOLO-RGB-T/notebooks/FLIR/RGB/images/train/video-YpiPhzpaScGfwivAL-frame-002865-5xcAnydt5tReJus3A.jpg: ignoring corrupt image/label: Label class 78 exceeds dataset class count 15. Possible class labels are 0-14\n",
      "\u001b[34m\u001b[1mtrain: \u001b[0mWARNING ⚠️ /home/dylan/projects/YOLO-RGB-T/notebooks/FLIR/RGB/images/train/video-YpiPhzpaScGfwivAL-frame-002880-5DCna6fBfY2WWsHLt.jpg: ignoring corrupt image/label: Label class 78 exceeds dataset class count 15. Possible class labels are 0-14\n",
      "\u001b[34m\u001b[1mtrain: \u001b[0mWARNING ⚠️ /home/dylan/projects/YOLO-RGB-T/notebooks/FLIR/RGB/images/train/video-YpiPhzpaScGfwivAL-frame-002895-jANKMTevXwRZyZX2X.jpg: ignoring corrupt image/label: Label class 78 exceeds dataset class count 15. Possible class labels are 0-14\n",
      "\u001b[34m\u001b[1mtrain: \u001b[0mWARNING ⚠️ /home/dylan/projects/YOLO-RGB-T/notebooks/FLIR/RGB/images/train/video-YpiPhzpaScGfwivAL-frame-002910-2D586m2T8aGH8dCY4.jpg: ignoring corrupt image/label: Label class 78 exceeds dataset class count 15. Possible class labels are 0-14\n",
      "\u001b[34m\u001b[1mtrain: \u001b[0mWARNING ⚠️ /home/dylan/projects/YOLO-RGB-T/notebooks/FLIR/RGB/images/train/video-YpiPhzpaScGfwivAL-frame-002925-pqugS8HhrQsZckd9A.jpg: ignoring corrupt image/label: Label class 78 exceeds dataset class count 15. Possible class labels are 0-14\n",
      "\u001b[34m\u001b[1mtrain: \u001b[0mWARNING ⚠️ /home/dylan/projects/YOLO-RGB-T/notebooks/FLIR/RGB/images/train/video-YpiPhzpaScGfwivAL-frame-002940-kJmiqRPAQrhfcfbk8.jpg: ignoring corrupt image/label: Label class 78 exceeds dataset class count 15. Possible class labels are 0-14\n",
      "\u001b[34m\u001b[1mtrain: \u001b[0mWARNING ⚠️ /home/dylan/projects/YOLO-RGB-T/notebooks/FLIR/RGB/images/train/video-ZaYMixR564kqFLBtH-frame-004524-zcayL7y9GhWoGhNdA.jpg: ignoring corrupt image/label: Label class 78 exceeds dataset class count 15. Possible class labels are 0-14\n",
      "\u001b[34m\u001b[1mtrain: \u001b[0mWARNING ⚠️ /home/dylan/projects/YOLO-RGB-T/notebooks/FLIR/RGB/images/train/video-ZaYMixR564kqFLBtH-frame-004536-AXReuk3bLvwwYLfin.jpg: ignoring corrupt image/label: Label class 78 exceeds dataset class count 15. Possible class labels are 0-14\n",
      "\u001b[34m\u001b[1mtrain: \u001b[0mWARNING ⚠️ /home/dylan/projects/YOLO-RGB-T/notebooks/FLIR/RGB/images/train/video-ZaYMixR564kqFLBtH-frame-004901-5kKysyTasuasiZP8o.jpg: ignoring corrupt image/label: Label class 78 exceeds dataset class count 15. Possible class labels are 0-14\n",
      "\u001b[34m\u001b[1mtrain: \u001b[0mWARNING ⚠️ /home/dylan/projects/YOLO-RGB-T/notebooks/FLIR/RGB/images/train/video-aaFJG2aGNBJcpqgzf-frame-004892-wZcZKGpqCke72XyTh.jpg: ignoring corrupt image/label: Label class 78 exceeds dataset class count 15. Possible class labels are 0-14\n",
      "\u001b[34m\u001b[1mtrain: \u001b[0mWARNING ⚠️ /home/dylan/projects/YOLO-RGB-T/notebooks/FLIR/RGB/images/train/video-aaFJG2aGNBJcpqgzf-frame-004896-ExHP7dfqet8RTkTmv.jpg: ignoring corrupt image/label: Label class 78 exceeds dataset class count 15. Possible class labels are 0-14\n",
      "\u001b[34m\u001b[1mtrain: \u001b[0mWARNING ⚠️ /home/dylan/projects/YOLO-RGB-T/notebooks/FLIR/RGB/images/train/video-aaFJG2aGNBJcpqgzf-frame-009784-pPRGHbtrjGLw6uNQT.jpg: ignoring corrupt image/label: Label class 78 exceeds dataset class count 15. Possible class labels are 0-14\n",
      "\u001b[34m\u001b[1mtrain: \u001b[0mWARNING ⚠️ /home/dylan/projects/YOLO-RGB-T/notebooks/FLIR/RGB/images/train/video-aaFJG2aGNBJcpqgzf-frame-011007-nSFseiv4WXnedMRx7.jpg: ignoring corrupt image/label: Label class 78 exceeds dataset class count 15. Possible class labels are 0-14\n",
      "\u001b[34m\u001b[1mtrain: \u001b[0mWARNING ⚠️ /home/dylan/projects/YOLO-RGB-T/notebooks/FLIR/RGB/images/train/video-aaFJG2aGNBJcpqgzf-frame-011016-kGm44Z3aub3pimAx4.jpg: ignoring corrupt image/label: Label class 78 exceeds dataset class count 15. Possible class labels are 0-14\n",
      "\u001b[34m\u001b[1mtrain: \u001b[0mWARNING ⚠️ /home/dylan/projects/YOLO-RGB-T/notebooks/FLIR/RGB/images/train/video-aiJkFRGLF7Pjrh6fJ-frame-000172-4padhhonRNu9tuCdu.jpg: ignoring corrupt image/label: Label class 78 exceeds dataset class count 15. Possible class labels are 0-14\n",
      "\u001b[34m\u001b[1mtrain: \u001b[0mWARNING ⚠️ /home/dylan/projects/YOLO-RGB-T/notebooks/FLIR/RGB/images/train/video-aiJkFRGLF7Pjrh6fJ-frame-000215-uhGFJSMG6ZzcNGpbs.jpg: ignoring corrupt image/label: Label class 78 exceeds dataset class count 15. Possible class labels are 0-14\n",
      "\u001b[34m\u001b[1mtrain: \u001b[0mWARNING ⚠️ /home/dylan/projects/YOLO-RGB-T/notebooks/FLIR/RGB/images/train/video-aiJkFRGLF7Pjrh6fJ-frame-000246-8ydpc5HXHvJKQiSMY.jpg: ignoring corrupt image/label: Label class 78 exceeds dataset class count 15. Possible class labels are 0-14\n",
      "\u001b[34m\u001b[1mtrain: \u001b[0mWARNING ⚠️ /home/dylan/projects/YOLO-RGB-T/notebooks/FLIR/RGB/images/train/video-aiJkFRGLF7Pjrh6fJ-frame-000258-Zhbd3sTkhP6YhwENS.jpg: ignoring corrupt image/label: Label class 78 exceeds dataset class count 15. Possible class labels are 0-14\n",
      "\u001b[34m\u001b[1mtrain: \u001b[0mWARNING ⚠️ /home/dylan/projects/YOLO-RGB-T/notebooks/FLIR/RGB/images/train/video-aiJkFRGLF7Pjrh6fJ-frame-000492-NiTeJt8WzFN3NTvuW.jpg: ignoring corrupt image/label: Label class 78 exceeds dataset class count 15. Possible class labels are 0-14\n",
      "\u001b[34m\u001b[1mtrain: \u001b[0mWARNING ⚠️ /home/dylan/projects/YOLO-RGB-T/notebooks/FLIR/RGB/images/train/video-awPv3qB6puyxw6Syj-frame-001208-552dSC5c4YX3outSh.jpg: ignoring corrupt image/label: Label class 78 exceeds dataset class count 15. Possible class labels are 0-14\n",
      "\u001b[34m\u001b[1mtrain: \u001b[0mWARNING ⚠️ /home/dylan/projects/YOLO-RGB-T/notebooks/FLIR/RGB/images/train/video-awPv3qB6puyxw6Syj-frame-001223-wz7vHqNEz7cZ6BM4f.jpg: ignoring corrupt image/label: Label class 78 exceeds dataset class count 15. Possible class labels are 0-14\n",
      "\u001b[34m\u001b[1mtrain: \u001b[0mWARNING ⚠️ /home/dylan/projects/YOLO-RGB-T/notebooks/FLIR/RGB/images/train/video-awPv3qB6puyxw6Syj-frame-001238-xwASNZZfi8jm3YPyQ.jpg: ignoring corrupt image/label: Label class 78 exceeds dataset class count 15. Possible class labels are 0-14\n",
      "\u001b[34m\u001b[1mtrain: \u001b[0mWARNING ⚠️ /home/dylan/projects/YOLO-RGB-T/notebooks/FLIR/RGB/images/train/video-awPv3qB6puyxw6Syj-frame-001253-v7j8cexBCyoJcRgyD.jpg: ignoring corrupt image/label: Label class 78 exceeds dataset class count 15. Possible class labels are 0-14\n",
      "\u001b[34m\u001b[1mtrain: \u001b[0mWARNING ⚠️ /home/dylan/projects/YOLO-RGB-T/notebooks/FLIR/RGB/images/train/video-awPv3qB6puyxw6Syj-frame-001268-P5dWdMWfDkGuZRPuG.jpg: ignoring corrupt image/label: Label class 78 exceeds dataset class count 15. Possible class labels are 0-14\n",
      "\u001b[34m\u001b[1mtrain: \u001b[0mWARNING ⚠️ /home/dylan/projects/YOLO-RGB-T/notebooks/FLIR/RGB/images/train/video-ax5SusinmwLce2qHb-frame-000000-bcBfyEDwPWMfr2n49.jpg: ignoring corrupt image/label: Label class 78 exceeds dataset class count 15. Possible class labels are 0-14\n",
      "\u001b[34m\u001b[1mtrain: \u001b[0mWARNING ⚠️ /home/dylan/projects/YOLO-RGB-T/notebooks/FLIR/RGB/images/train/video-ax5SusinmwLce2qHb-frame-000138-f25vMY9X7PM9kmv7m.jpg: ignoring corrupt image/label: Label class 78 exceeds dataset class count 15. Possible class labels are 0-14\n",
      "\u001b[34m\u001b[1mtrain: \u001b[0mWARNING ⚠️ /home/dylan/projects/YOLO-RGB-T/notebooks/FLIR/RGB/images/train/video-bRowddSHXJfbCJyjK-frame-003000-rmhSqwrEc2d4ZwnHu.jpg: ignoring corrupt image/label: Label class 78 exceeds dataset class count 15. Possible class labels are 0-14\n",
      "\u001b[34m\u001b[1mtrain: \u001b[0mWARNING ⚠️ /home/dylan/projects/YOLO-RGB-T/notebooks/FLIR/RGB/images/train/video-bRowddSHXJfbCJyjK-frame-003450-4DHJBEzRJdqmnYjGW.jpg: ignoring corrupt image/label: Label class 78 exceeds dataset class count 15. Possible class labels are 0-14\n",
      "\u001b[34m\u001b[1mtrain: \u001b[0mWARNING ⚠️ /home/dylan/projects/YOLO-RGB-T/notebooks/FLIR/RGB/images/train/video-bRowddSHXJfbCJyjK-frame-004950-kWvqnArHjgsqPmPW7.jpg: ignoring corrupt image/label: Label class 78 exceeds dataset class count 15. Possible class labels are 0-14\n",
      "\u001b[34m\u001b[1mtrain: \u001b[0mWARNING ⚠️ /home/dylan/projects/YOLO-RGB-T/notebooks/FLIR/RGB/images/train/video-bRowddSHXJfbCJyjK-frame-005100-gQFkT9dr6yJXyzwRh.jpg: ignoring corrupt image/label: Label class 78 exceeds dataset class count 15. Possible class labels are 0-14\n",
      "\u001b[34m\u001b[1mtrain: \u001b[0mWARNING ⚠️ /home/dylan/projects/YOLO-RGB-T/notebooks/FLIR/RGB/images/train/video-bRowddSHXJfbCJyjK-frame-005250-WjzDMpfecQXFvJCby.jpg: ignoring corrupt image/label: Label class 78 exceeds dataset class count 15. Possible class labels are 0-14\n",
      "\u001b[34m\u001b[1mtrain: \u001b[0mWARNING ⚠️ /home/dylan/projects/YOLO-RGB-T/notebooks/FLIR/RGB/images/train/video-cRcYAMzgJpmor4XfB-frame-000413-7k6AYxhzRvYR9QhWx.jpg: ignoring corrupt image/label: Label class 74 exceeds dataset class count 15. Possible class labels are 0-14\n",
      "\u001b[34m\u001b[1mtrain: \u001b[0mWARNING ⚠️ /home/dylan/projects/YOLO-RGB-T/notebooks/FLIR/RGB/images/train/video-cRcYAMzgJpmor4XfB-frame-000428-AizHj6tSDiCBbTLge.jpg: ignoring corrupt image/label: Label class 74 exceeds dataset class count 15. Possible class labels are 0-14\n",
      "\u001b[34m\u001b[1mtrain: \u001b[0mWARNING ⚠️ /home/dylan/projects/YOLO-RGB-T/notebooks/FLIR/RGB/images/train/video-cRcYAMzgJpmor4XfB-frame-007427-AjSXAZr4NtWXNsdpk.jpg: ignoring corrupt image/label: Label class 78 exceeds dataset class count 15. Possible class labels are 0-14\n",
      "\u001b[34m\u001b[1mtrain: \u001b[0mWARNING ⚠️ /home/dylan/projects/YOLO-RGB-T/notebooks/FLIR/RGB/images/train/video-cRcYAMzgJpmor4XfB-frame-007442-kGvJ6d7M4Y8oCJus8.jpg: ignoring corrupt image/label: Label class 78 exceeds dataset class count 15. Possible class labels are 0-14\n",
      "\u001b[34m\u001b[1mtrain: \u001b[0mWARNING ⚠️ /home/dylan/projects/YOLO-RGB-T/notebooks/FLIR/RGB/images/train/video-cRcYAMzgJpmor4XfB-frame-007457-AQotgR6EWPjL3EGho.jpg: ignoring corrupt image/label: Label class 78 exceeds dataset class count 15. Possible class labels are 0-14\n",
      "\u001b[34m\u001b[1mtrain: \u001b[0mWARNING ⚠️ /home/dylan/projects/YOLO-RGB-T/notebooks/FLIR/RGB/images/train/video-cRcYAMzgJpmor4XfB-frame-007472-X7adHKQpCeuudY4Lp.jpg: ignoring corrupt image/label: Label class 78 exceeds dataset class count 15. Possible class labels are 0-14\n",
      "\u001b[34m\u001b[1mtrain: \u001b[0mWARNING ⚠️ /home/dylan/projects/YOLO-RGB-T/notebooks/FLIR/RGB/images/train/video-cRcYAMzgJpmor4XfB-frame-007487-JW3MH62j4ecaNixhc.jpg: ignoring corrupt image/label: Label class 78 exceeds dataset class count 15. Possible class labels are 0-14\n",
      "\u001b[34m\u001b[1mtrain: \u001b[0mWARNING ⚠️ /home/dylan/projects/YOLO-RGB-T/notebooks/FLIR/RGB/images/train/video-cRcYAMzgJpmor4XfB-frame-007502-suLKqbcefrA3cNJct.jpg: ignoring corrupt image/label: Label class 78 exceeds dataset class count 15. Possible class labels are 0-14\n",
      "\u001b[34m\u001b[1mtrain: \u001b[0mWARNING ⚠️ /home/dylan/projects/YOLO-RGB-T/notebooks/FLIR/RGB/images/train/video-cRcYAMzgJpmor4XfB-frame-007787-97rCBNkNpoZhhK5iN.jpg: ignoring corrupt image/label: Label class 78 exceeds dataset class count 15. Possible class labels are 0-14\n",
      "\u001b[34m\u001b[1mtrain: \u001b[0mWARNING ⚠️ /home/dylan/projects/YOLO-RGB-T/notebooks/FLIR/RGB/images/train/video-cRcYAMzgJpmor4XfB-frame-007802-Wo7ESuo7zsixDuSAK.jpg: ignoring corrupt image/label: Label class 78 exceeds dataset class count 15. Possible class labels are 0-14\n",
      "\u001b[34m\u001b[1mtrain: \u001b[0mWARNING ⚠️ /home/dylan/projects/YOLO-RGB-T/notebooks/FLIR/RGB/images/train/video-cRcYAMzgJpmor4XfB-frame-010085-fDuhLCbYw8rPqSWPb.jpg: ignoring corrupt image/label: Label class 78 exceeds dataset class count 15. Possible class labels are 0-14\n",
      "\u001b[34m\u001b[1mtrain: \u001b[0mWARNING ⚠️ /home/dylan/projects/YOLO-RGB-T/notebooks/FLIR/RGB/images/train/video-dcH6AunkgattHiNkQ-frame-001268-HYenv2CWTHpjxCXDX.jpg: ignoring corrupt image/label: Label class 78 exceeds dataset class count 15. Possible class labels are 0-14\n",
      "\u001b[34m\u001b[1mtrain: \u001b[0mWARNING ⚠️ /home/dylan/projects/YOLO-RGB-T/notebooks/FLIR/RGB/images/train/video-dcH6AunkgattHiNkQ-frame-001585-FaC2jjWhZRjar8aZW.jpg: ignoring corrupt image/label: Label class 78 exceeds dataset class count 15. Possible class labels are 0-14\n",
      "\u001b[34m\u001b[1mtrain: \u001b[0mWARNING ⚠️ /home/dylan/projects/YOLO-RGB-T/notebooks/FLIR/RGB/images/train/video-dcH6AunkgattHiNkQ-frame-001713-uzdmC8naoDtardZit.jpg: ignoring corrupt image/label: Label class 78 exceeds dataset class count 15. Possible class labels are 0-14\n",
      "\u001b[34m\u001b[1mtrain: \u001b[0mWARNING ⚠️ /home/dylan/projects/YOLO-RGB-T/notebooks/FLIR/RGB/images/train/video-dcH6AunkgattHiNkQ-frame-001902-npFquJ3SzDmWehPZh.jpg: ignoring corrupt image/label: Label class 78 exceeds dataset class count 15. Possible class labels are 0-14\n",
      "\u001b[34m\u001b[1mtrain: \u001b[0mWARNING ⚠️ /home/dylan/projects/YOLO-RGB-T/notebooks/FLIR/RGB/images/train/video-dcH6AunkgattHiNkQ-frame-002219-bBcueHCeB4ZfERN3z.jpg: ignoring corrupt image/label: Label class 78 exceeds dataset class count 15. Possible class labels are 0-14\n",
      "\u001b[34m\u001b[1mtrain: \u001b[0mWARNING ⚠️ /home/dylan/projects/YOLO-RGB-T/notebooks/FLIR/RGB/images/train/video-dcH6AunkgattHiNkQ-frame-002284-9TBhxYscQYFsS4Fgb.jpg: ignoring corrupt image/label: Label class 78 exceeds dataset class count 15. Possible class labels are 0-14\n",
      "\u001b[34m\u001b[1mtrain: \u001b[0mWARNING ⚠️ /home/dylan/projects/YOLO-RGB-T/notebooks/FLIR/RGB/images/train/video-dcH6AunkgattHiNkQ-frame-002536-A8A9NCCexwBEQRXcz.jpg: ignoring corrupt image/label: Label class 78 exceeds dataset class count 15. Possible class labels are 0-14\n",
      "\u001b[34m\u001b[1mtrain: \u001b[0mWARNING ⚠️ /home/dylan/projects/YOLO-RGB-T/notebooks/FLIR/RGB/images/train/video-dcH6AunkgattHiNkQ-frame-002853-vu59geGbMzaHNg6rQ.jpg: ignoring corrupt image/label: Label class 78 exceeds dataset class count 15. Possible class labels are 0-14\n",
      "\u001b[34m\u001b[1mtrain: \u001b[0mWARNING ⚠️ /home/dylan/projects/YOLO-RGB-T/notebooks/FLIR/RGB/images/train/video-dcH6AunkgattHiNkQ-frame-002855-cGBdy3YTXTLhFo7R4.jpg: ignoring corrupt image/label: Label class 78 exceeds dataset class count 15. Possible class labels are 0-14\n",
      "\u001b[34m\u001b[1mtrain: \u001b[0mWARNING ⚠️ /home/dylan/projects/YOLO-RGB-T/notebooks/FLIR/RGB/images/train/video-dcH6AunkgattHiNkQ-frame-010278-622HtwWQQ68ptsSmu.jpg: ignoring corrupt image/label: Label class 78 exceeds dataset class count 15. Possible class labels are 0-14\n",
      "\u001b[34m\u001b[1mtrain: \u001b[0mWARNING ⚠️ /home/dylan/projects/YOLO-RGB-T/notebooks/FLIR/RGB/images/train/video-dvJpjrsoPgLL3GSr6-frame-000600-br3vtMngBoEeavw6u.jpg: ignoring corrupt image/label: Label class 78 exceeds dataset class count 15. Possible class labels are 0-14\n",
      "\u001b[34m\u001b[1mtrain: \u001b[0mWARNING ⚠️ /home/dylan/projects/YOLO-RGB-T/notebooks/FLIR/RGB/images/train/video-dvJpjrsoPgLL3GSr6-frame-000900-MDSMrEjmbB9jFKPYP.jpg: ignoring corrupt image/label: Label class 78 exceeds dataset class count 15. Possible class labels are 0-14\n",
      "\u001b[34m\u001b[1mtrain: \u001b[0mWARNING ⚠️ /home/dylan/projects/YOLO-RGB-T/notebooks/FLIR/RGB/images/train/video-dvJpjrsoPgLL3GSr6-frame-001200-8deZ8JHadkcrdhHpZ.jpg: ignoring corrupt image/label: Label class 78 exceeds dataset class count 15. Possible class labels are 0-14\n",
      "\u001b[34m\u001b[1mtrain: \u001b[0mWARNING ⚠️ /home/dylan/projects/YOLO-RGB-T/notebooks/FLIR/RGB/images/train/video-dvJpjrsoPgLL3GSr6-frame-001441-QqedMFj4oxqpFdHnz.jpg: ignoring corrupt image/label: Label class 78 exceeds dataset class count 15. Possible class labels are 0-14\n",
      "\u001b[34m\u001b[1mtrain: \u001b[0mWARNING ⚠️ /home/dylan/projects/YOLO-RGB-T/notebooks/FLIR/RGB/images/train/video-dvJpjrsoPgLL3GSr6-frame-001456-vaKqGNJJnjmMz6JDG.jpg: ignoring corrupt image/label: Label class 78 exceeds dataset class count 15. Possible class labels are 0-14\n",
      "\u001b[34m\u001b[1mtrain: \u001b[0mWARNING ⚠️ /home/dylan/projects/YOLO-RGB-T/notebooks/FLIR/RGB/images/train/video-dvJpjrsoPgLL3GSr6-frame-004445-rFs63mxdDmwiQwqek.jpg: ignoring corrupt image/label: Label class 72 exceeds dataset class count 15. Possible class labels are 0-14\n",
      "\u001b[34m\u001b[1mtrain: \u001b[0mWARNING ⚠️ /home/dylan/projects/YOLO-RGB-T/notebooks/FLIR/RGB/images/train/video-dysTAdCHSLSoL8mts-frame-002509-FwGHebxAhqEvMHjSp.jpg: ignoring corrupt image/label: Label class 78 exceeds dataset class count 15. Possible class labels are 0-14\n",
      "\u001b[34m\u001b[1mtrain: \u001b[0mWARNING ⚠️ /home/dylan/projects/YOLO-RGB-T/notebooks/FLIR/RGB/images/train/video-dysTAdCHSLSoL8mts-frame-002548-cYofLydKQZvjxrvXT.jpg: ignoring corrupt image/label: Label class 78 exceeds dataset class count 15. Possible class labels are 0-14\n",
      "\u001b[34m\u001b[1mtrain: \u001b[0mWARNING ⚠️ /home/dylan/projects/YOLO-RGB-T/notebooks/FLIR/RGB/images/train/video-f5NZjbh2kJPG3Wdwx-frame-001576-b3FXTm85zT2XFWwmZ.jpg: ignoring corrupt image/label: Label class 74 exceeds dataset class count 15. Possible class labels are 0-14\n",
      "\u001b[34m\u001b[1mtrain: \u001b[0mWARNING ⚠️ /home/dylan/projects/YOLO-RGB-T/notebooks/FLIR/RGB/images/train/video-f5NZjbh2kJPG3Wdwx-frame-001591-Yu9zTnNEav5fyszfM.jpg: ignoring corrupt image/label: Label class 74 exceeds dataset class count 15. Possible class labels are 0-14\n",
      "\u001b[34m\u001b[1mtrain: \u001b[0mWARNING ⚠️ /home/dylan/projects/YOLO-RGB-T/notebooks/FLIR/RGB/images/train/video-f5NZjbh2kJPG3Wdwx-frame-001606-djwu72vmYJBh543yi.jpg: ignoring corrupt image/label: Label class 74 exceeds dataset class count 15. Possible class labels are 0-14\n",
      "\u001b[34m\u001b[1mtrain: \u001b[0mWARNING ⚠️ /home/dylan/projects/YOLO-RGB-T/notebooks/FLIR/RGB/images/train/video-f5NZjbh2kJPG3Wdwx-frame-001621-wp99F9HDaDThB4Zu7.jpg: ignoring corrupt image/label: Label class 74 exceeds dataset class count 15. Possible class labels are 0-14\n",
      "\u001b[34m\u001b[1mtrain: \u001b[0mWARNING ⚠️ /home/dylan/projects/YOLO-RGB-T/notebooks/FLIR/RGB/images/train/video-f5NZjbh2kJPG3Wdwx-frame-001636-KtD9WXcjtbuG2khaj.jpg: ignoring corrupt image/label: Label class 74 exceeds dataset class count 15. Possible class labels are 0-14\n",
      "\u001b[34m\u001b[1mtrain: \u001b[0mWARNING ⚠️ /home/dylan/projects/YOLO-RGB-T/notebooks/FLIR/RGB/images/train/video-f5NZjbh2kJPG3Wdwx-frame-001651-8DRa4Ny7co7DuF3F2.jpg: ignoring corrupt image/label: Label class 74 exceeds dataset class count 15. Possible class labels are 0-14\n",
      "\u001b[34m\u001b[1mtrain: \u001b[0mWARNING ⚠️ /home/dylan/projects/YOLO-RGB-T/notebooks/FLIR/RGB/images/train/video-fHDpgKcFbXfyb7XpW-frame-002270-kqLqLM5pii7wu3gCq.jpg: ignoring corrupt image/label: Label class 78 exceeds dataset class count 15. Possible class labels are 0-14\n",
      "\u001b[34m\u001b[1mtrain: \u001b[0mWARNING ⚠️ /home/dylan/projects/YOLO-RGB-T/notebooks/FLIR/RGB/images/train/video-fHDpgKcFbXfyb7XpW-frame-003470-C8giFPTbkA4uuzGbu.jpg: ignoring corrupt image/label: Label class 72 exceeds dataset class count 15. Possible class labels are 0-14\n",
      "\u001b[34m\u001b[1mtrain: \u001b[0mWARNING ⚠️ /home/dylan/projects/YOLO-RGB-T/notebooks/FLIR/RGB/images/train/video-fK9MqP9T52ArLJAGk-frame-006600-qprsFoNEhhucACMsf.jpg: ignoring corrupt image/label: Label class 78 exceeds dataset class count 15. Possible class labels are 0-14\n",
      "\u001b[34m\u001b[1mtrain: \u001b[0mWARNING ⚠️ /home/dylan/projects/YOLO-RGB-T/notebooks/FLIR/RGB/images/train/video-fK9MqP9T52ArLJAGk-frame-009150-tiXJvmDKG8oDbZEPA.jpg: ignoring corrupt image/label: Label class 78 exceeds dataset class count 15. Possible class labels are 0-14\n",
      "\u001b[34m\u001b[1mtrain: \u001b[0mWARNING ⚠️ /home/dylan/projects/YOLO-RGB-T/notebooks/FLIR/RGB/images/train/video-fWtK94wZs4XF3FcL2-frame-000377-JPbLmoAxERpNSC3DR.jpg: ignoring corrupt image/label: Label class 78 exceeds dataset class count 15. Possible class labels are 0-14\n",
      "\u001b[34m\u001b[1mtrain: \u001b[0mWARNING ⚠️ /home/dylan/projects/YOLO-RGB-T/notebooks/FLIR/RGB/images/train/video-fWtK94wZs4XF3FcL2-frame-013572-jHN7XvTsa8maEAWJP.jpg: ignoring corrupt image/label: Label class 78 exceeds dataset class count 15. Possible class labels are 0-14\n",
      "\u001b[34m\u001b[1mtrain: \u001b[0mWARNING ⚠️ /home/dylan/projects/YOLO-RGB-T/notebooks/FLIR/RGB/images/train/video-fgiwJFatk6CGGr9vs-frame-001470-xtfvFkQwy5QmMKa3G.jpg: ignoring corrupt image/label: Label class 78 exceeds dataset class count 15. Possible class labels are 0-14\n",
      "\u001b[34m\u001b[1mtrain: \u001b[0mWARNING ⚠️ /home/dylan/projects/YOLO-RGB-T/notebooks/FLIR/RGB/images/train/video-fgiwJFatk6CGGr9vs-frame-001472-93G3djmPteq9j4MdM.jpg: ignoring corrupt image/label: Label class 78 exceeds dataset class count 15. Possible class labels are 0-14\n",
      "\u001b[34m\u001b[1mtrain: \u001b[0mWARNING ⚠️ /home/dylan/projects/YOLO-RGB-T/notebooks/FLIR/RGB/images/train/video-fgiwJFatk6CGGr9vs-frame-001536-NSkGXckDBtX3Kuovf.jpg: ignoring corrupt image/label: Label class 78 exceeds dataset class count 15. Possible class labels are 0-14\n",
      "\u001b[34m\u001b[1mtrain: \u001b[0mWARNING ⚠️ /home/dylan/projects/YOLO-RGB-T/notebooks/FLIR/RGB/images/train/video-fgiwJFatk6CGGr9vs-frame-001540-KkeeFKN4vvHCdx4bJ.jpg: ignoring corrupt image/label: Label class 78 exceeds dataset class count 15. Possible class labels are 0-14\n",
      "\u001b[34m\u001b[1mtrain: \u001b[0mWARNING ⚠️ /home/dylan/projects/YOLO-RGB-T/notebooks/FLIR/RGB/images/train/video-fgiwJFatk6CGGr9vs-frame-001600-jt8QBRELo6a7nctAw.jpg: ignoring corrupt image/label: Label class 78 exceeds dataset class count 15. Possible class labels are 0-14\n",
      "\u001b[34m\u001b[1mtrain: \u001b[0mWARNING ⚠️ /home/dylan/projects/YOLO-RGB-T/notebooks/FLIR/RGB/images/train/video-fgiwJFatk6CGGr9vs-frame-001664-g2xyTWWCgEdga8A5Z.jpg: ignoring corrupt image/label: Label class 78 exceeds dataset class count 15. Possible class labels are 0-14\n",
      "\u001b[34m\u001b[1mtrain: \u001b[0mWARNING ⚠️ /home/dylan/projects/YOLO-RGB-T/notebooks/FLIR/RGB/images/train/video-fgiwJFatk6CGGr9vs-frame-001792-w8SykPtMhNuZFa9kr.jpg: ignoring corrupt image/label: Label class 78 exceeds dataset class count 15. Possible class labels are 0-14\n",
      "\u001b[34m\u001b[1mtrain: \u001b[0mWARNING ⚠️ /home/dylan/projects/YOLO-RGB-T/notebooks/FLIR/RGB/images/train/video-fgiwJFatk6CGGr9vs-frame-001820-gb5joaE7wtpEQso6B.jpg: ignoring corrupt image/label: Label class 78 exceeds dataset class count 15. Possible class labels are 0-14\n",
      "\u001b[34m\u001b[1mtrain: \u001b[0mWARNING ⚠️ /home/dylan/projects/YOLO-RGB-T/notebooks/FLIR/RGB/images/train/video-fgiwJFatk6CGGr9vs-frame-001856-rEhAeyaMDWxHJ3k8t.jpg: ignoring corrupt image/label: Label class 78 exceeds dataset class count 15. Possible class labels are 0-14\n",
      "\u001b[34m\u001b[1mtrain: \u001b[0mWARNING ⚠️ /home/dylan/projects/YOLO-RGB-T/notebooks/FLIR/RGB/images/train/video-fgiwJFatk6CGGr9vs-frame-001890-oKdvxH2kcpMxHywgo.jpg: ignoring corrupt image/label: Label class 78 exceeds dataset class count 15. Possible class labels are 0-14\n",
      "\u001b[34m\u001b[1mtrain: \u001b[0mWARNING ⚠️ /home/dylan/projects/YOLO-RGB-T/notebooks/FLIR/RGB/images/train/video-fkGAbm3CFRE3SfqEu-frame-000230-pnXDia8FpcLuwyvQt.jpg: ignoring corrupt image/label: Label class 36 exceeds dataset class count 15. Possible class labels are 0-14\n",
      "\u001b[34m\u001b[1mtrain: \u001b[0mWARNING ⚠️ /home/dylan/projects/YOLO-RGB-T/notebooks/FLIR/RGB/images/train/video-fkGAbm3CFRE3SfqEu-frame-000245-mAY2FnYoSzKEipK7W.jpg: ignoring corrupt image/label: Label class 36 exceeds dataset class count 15. Possible class labels are 0-14\n",
      "\u001b[34m\u001b[1mtrain: \u001b[0mWARNING ⚠️ /home/dylan/projects/YOLO-RGB-T/notebooks/FLIR/RGB/images/train/video-fkGAbm3CFRE3SfqEu-frame-000260-jmnHtd5h5kT63499j.jpg: ignoring corrupt image/label: Label class 36 exceeds dataset class count 15. Possible class labels are 0-14\n",
      "\u001b[34m\u001b[1mtrain: \u001b[0mWARNING ⚠️ /home/dylan/projects/YOLO-RGB-T/notebooks/FLIR/RGB/images/train/video-fkGAbm3CFRE3SfqEu-frame-000275-udEeckya6dWDCgfcy.jpg: ignoring corrupt image/label: Label class 36 exceeds dataset class count 15. Possible class labels are 0-14\n",
      "\u001b[34m\u001b[1mtrain: \u001b[0mWARNING ⚠️ /home/dylan/projects/YOLO-RGB-T/notebooks/FLIR/RGB/images/train/video-fkGAbm3CFRE3SfqEu-frame-000290-Z9gnKupqY385aHcmX.jpg: ignoring corrupt image/label: Label class 36 exceeds dataset class count 15. Possible class labels are 0-14\n",
      "\u001b[34m\u001b[1mtrain: \u001b[0mWARNING ⚠️ /home/dylan/projects/YOLO-RGB-T/notebooks/FLIR/RGB/images/train/video-fkGAbm3CFRE3SfqEu-frame-000305-8ucqF9ybtPkyqXtCx.jpg: ignoring corrupt image/label: Label class 36 exceeds dataset class count 15. Possible class labels are 0-14\n",
      "\u001b[34m\u001b[1mtrain: \u001b[0mWARNING ⚠️ /home/dylan/projects/YOLO-RGB-T/notebooks/FLIR/RGB/images/train/video-fkGAbm3CFRE3SfqEu-frame-000320-b5MaHDu5EbTiJQKHp.jpg: ignoring corrupt image/label: Label class 36 exceeds dataset class count 15. Possible class labels are 0-14\n",
      "\u001b[34m\u001b[1mtrain: \u001b[0mWARNING ⚠️ /home/dylan/projects/YOLO-RGB-T/notebooks/FLIR/RGB/images/train/video-fkGAbm3CFRE3SfqEu-frame-000335-3Nt93KE7AiBJNGZrP.jpg: ignoring corrupt image/label: Label class 36 exceeds dataset class count 15. Possible class labels are 0-14\n",
      "\u001b[34m\u001b[1mtrain: \u001b[0mWARNING ⚠️ /home/dylan/projects/YOLO-RGB-T/notebooks/FLIR/RGB/images/train/video-fkGAbm3CFRE3SfqEu-frame-000350-9yzR6JAbbpE3wLScc.jpg: ignoring corrupt image/label: Label class 36 exceeds dataset class count 15. Possible class labels are 0-14\n",
      "\u001b[34m\u001b[1mtrain: \u001b[0mWARNING ⚠️ /home/dylan/projects/YOLO-RGB-T/notebooks/FLIR/RGB/images/train/video-fkGAbm3CFRE3SfqEu-frame-000365-iw7ysSX4d7zcJ92Yo.jpg: ignoring corrupt image/label: Label class 36 exceeds dataset class count 15. Possible class labels are 0-14\n",
      "\u001b[34m\u001b[1mtrain: \u001b[0mWARNING ⚠️ /home/dylan/projects/YOLO-RGB-T/notebooks/FLIR/RGB/images/train/video-fkGAbm3CFRE3SfqEu-frame-000380-otK5ahfCvqZ7HoP44.jpg: ignoring corrupt image/label: Label class 36 exceeds dataset class count 15. Possible class labels are 0-14\n",
      "\u001b[34m\u001b[1mtrain: \u001b[0mWARNING ⚠️ /home/dylan/projects/YOLO-RGB-T/notebooks/FLIR/RGB/images/train/video-fkGAbm3CFRE3SfqEu-frame-000395-PcWbHuXr8baYSjAPv.jpg: ignoring corrupt image/label: Label class 36 exceeds dataset class count 15. Possible class labels are 0-14\n",
      "\u001b[34m\u001b[1mtrain: \u001b[0mWARNING ⚠️ /home/dylan/projects/YOLO-RGB-T/notebooks/FLIR/RGB/images/train/video-fkGAbm3CFRE3SfqEu-frame-000695-sdPGGRtT5WigEkwYi.jpg: ignoring corrupt image/label: Label class 36 exceeds dataset class count 15. Possible class labels are 0-14\n",
      "\u001b[34m\u001b[1mtrain: \u001b[0mWARNING ⚠️ /home/dylan/projects/YOLO-RGB-T/notebooks/FLIR/RGB/images/train/video-fkGAbm3CFRE3SfqEu-frame-000725-j3JSi2gbbdrrrGcEg.jpg: ignoring corrupt image/label: Label class 36 exceeds dataset class count 15. Possible class labels are 0-14\n",
      "\u001b[34m\u001b[1mtrain: \u001b[0mWARNING ⚠️ /home/dylan/projects/YOLO-RGB-T/notebooks/FLIR/RGB/images/train/video-fkGAbm3CFRE3SfqEu-frame-000740-fQ96YKevBnkPNNjQ4.jpg: ignoring corrupt image/label: Label class 36 exceeds dataset class count 15. Possible class labels are 0-14\n",
      "\u001b[34m\u001b[1mtrain: \u001b[0mWARNING ⚠️ /home/dylan/projects/YOLO-RGB-T/notebooks/FLIR/RGB/images/train/video-fkGAbm3CFRE3SfqEu-frame-001105-nKct4B7jzCMR3Wo2W.jpg: ignoring corrupt image/label: Label class 36 exceeds dataset class count 15. Possible class labels are 0-14\n",
      "\u001b[34m\u001b[1mtrain: \u001b[0mWARNING ⚠️ /home/dylan/projects/YOLO-RGB-T/notebooks/FLIR/RGB/images/train/video-fkGAbm3CFRE3SfqEu-frame-001120-Nttycq3wrDq69oece.jpg: ignoring corrupt image/label: Label class 36 exceeds dataset class count 15. Possible class labels are 0-14\n",
      "\u001b[34m\u001b[1mtrain: \u001b[0mWARNING ⚠️ /home/dylan/projects/YOLO-RGB-T/notebooks/FLIR/RGB/images/train/video-fkGAbm3CFRE3SfqEu-frame-001135-c2KWghgWXHtzdCJeb.jpg: ignoring corrupt image/label: Label class 36 exceeds dataset class count 15. Possible class labels are 0-14\n",
      "\u001b[34m\u001b[1mtrain: \u001b[0mWARNING ⚠️ /home/dylan/projects/YOLO-RGB-T/notebooks/FLIR/RGB/images/train/video-fkGAbm3CFRE3SfqEu-frame-001150-YGDDqWwCmKbHNbTJx.jpg: ignoring corrupt image/label: Label class 36 exceeds dataset class count 15. Possible class labels are 0-14\n",
      "\u001b[34m\u001b[1mtrain: \u001b[0mWARNING ⚠️ /home/dylan/projects/YOLO-RGB-T/notebooks/FLIR/RGB/images/train/video-fkGAbm3CFRE3SfqEu-frame-001165-f29nPjvr7mj7THL2A.jpg: ignoring corrupt image/label: Label class 36 exceeds dataset class count 15. Possible class labels are 0-14\n",
      "\u001b[34m\u001b[1mtrain: \u001b[0mWARNING ⚠️ /home/dylan/projects/YOLO-RGB-T/notebooks/FLIR/RGB/images/train/video-fkGAbm3CFRE3SfqEu-frame-001180-dk7gArkRLnigWrDQi.jpg: ignoring corrupt image/label: Label class 36 exceeds dataset class count 15. Possible class labels are 0-14\n",
      "\u001b[34m\u001b[1mtrain: \u001b[0mWARNING ⚠️ /home/dylan/projects/YOLO-RGB-T/notebooks/FLIR/RGB/images/train/video-fkGAbm3CFRE3SfqEu-frame-001195-R6GWFX8jNWPxnXLtS.jpg: ignoring corrupt image/label: Label class 36 exceeds dataset class count 15. Possible class labels are 0-14\n",
      "\u001b[34m\u001b[1mtrain: \u001b[0mWARNING ⚠️ /home/dylan/projects/YOLO-RGB-T/notebooks/FLIR/RGB/images/train/video-fkGAbm3CFRE3SfqEu-frame-001210-J4K6SG8MgemmN8FmD.jpg: ignoring corrupt image/label: Label class 36 exceeds dataset class count 15. Possible class labels are 0-14\n",
      "\u001b[34m\u001b[1mtrain: \u001b[0mWARNING ⚠️ /home/dylan/projects/YOLO-RGB-T/notebooks/FLIR/RGB/images/train/video-fkGAbm3CFRE3SfqEu-frame-001960-yQ5jWyaEcKwaENDoS.jpg: ignoring corrupt image/label: Label class 36 exceeds dataset class count 15. Possible class labels are 0-14\n",
      "\u001b[34m\u001b[1mtrain: \u001b[0mWARNING ⚠️ /home/dylan/projects/YOLO-RGB-T/notebooks/FLIR/RGB/images/train/video-fkGAbm3CFRE3SfqEu-frame-001975-HPHvRsFJtzAmHST8z.jpg: ignoring corrupt image/label: Label class 36 exceeds dataset class count 15. Possible class labels are 0-14\n",
      "\u001b[34m\u001b[1mtrain: \u001b[0mWARNING ⚠️ /home/dylan/projects/YOLO-RGB-T/notebooks/FLIR/RGB/images/train/video-fkGAbm3CFRE3SfqEu-frame-001990-6ZShJX7SkBxehNuzW.jpg: ignoring corrupt image/label: Label class 36 exceeds dataset class count 15. Possible class labels are 0-14\n",
      "\u001b[34m\u001b[1mtrain: \u001b[0mWARNING ⚠️ /home/dylan/projects/YOLO-RGB-T/notebooks/FLIR/RGB/images/train/video-fkGAbm3CFRE3SfqEu-frame-002005-jphZBHZGB5w6kPagZ.jpg: ignoring corrupt image/label: Label class 36 exceeds dataset class count 15. Possible class labels are 0-14\n",
      "\u001b[34m\u001b[1mtrain: \u001b[0mWARNING ⚠️ /home/dylan/projects/YOLO-RGB-T/notebooks/FLIR/RGB/images/train/video-fkGAbm3CFRE3SfqEu-frame-002020-rghFNjMjxT3zbLcJ8.jpg: ignoring corrupt image/label: Label class 36 exceeds dataset class count 15. Possible class labels are 0-14\n",
      "\u001b[34m\u001b[1mtrain: \u001b[0mWARNING ⚠️ /home/dylan/projects/YOLO-RGB-T/notebooks/FLIR/RGB/images/train/video-fkGAbm3CFRE3SfqEu-frame-002035-z2ZnHRQjj9gAcovdw.jpg: ignoring corrupt image/label: Label class 36 exceeds dataset class count 15. Possible class labels are 0-14\n",
      "\u001b[34m\u001b[1mtrain: \u001b[0mWARNING ⚠️ /home/dylan/projects/YOLO-RGB-T/notebooks/FLIR/RGB/images/train/video-fkGAbm3CFRE3SfqEu-frame-003262-P36cFgYbyHPDGD7ey.jpg: ignoring corrupt image/label: Label class 36 exceeds dataset class count 15. Possible class labels are 0-14\n",
      "\u001b[34m\u001b[1mtrain: \u001b[0mWARNING ⚠️ /home/dylan/projects/YOLO-RGB-T/notebooks/FLIR/RGB/images/train/video-fkGAbm3CFRE3SfqEu-frame-003277-TmdR74AWwWDEwr3nv.jpg: ignoring corrupt image/label: Label class 36 exceeds dataset class count 15. Possible class labels are 0-14\n",
      "\u001b[34m\u001b[1mtrain: \u001b[0mWARNING ⚠️ /home/dylan/projects/YOLO-RGB-T/notebooks/FLIR/RGB/images/train/video-fkGAbm3CFRE3SfqEu-frame-003292-7Ar87sYjiSxxHWtwa.jpg: ignoring corrupt image/label: Label class 36 exceeds dataset class count 15. Possible class labels are 0-14\n",
      "\u001b[34m\u001b[1mtrain: \u001b[0mWARNING ⚠️ /home/dylan/projects/YOLO-RGB-T/notebooks/FLIR/RGB/images/train/video-fkGAbm3CFRE3SfqEu-frame-003307-oNQ5hyKDDbxqwwJvz.jpg: ignoring corrupt image/label: Label class 36 exceeds dataset class count 15. Possible class labels are 0-14\n",
      "\u001b[34m\u001b[1mtrain: \u001b[0mWARNING ⚠️ /home/dylan/projects/YOLO-RGB-T/notebooks/FLIR/RGB/images/train/video-fkGAbm3CFRE3SfqEu-frame-003322-TwN2TCvZ4rLZGDwHs.jpg: ignoring corrupt image/label: Label class 36 exceeds dataset class count 15. Possible class labels are 0-14\n",
      "\u001b[34m\u001b[1mtrain: \u001b[0mWARNING ⚠️ /home/dylan/projects/YOLO-RGB-T/notebooks/FLIR/RGB/images/train/video-fkGAbm3CFRE3SfqEu-frame-003337-L46s2BGDiwzxLEfpr.jpg: ignoring corrupt image/label: Label class 78 exceeds dataset class count 15. Possible class labels are 0-14\n",
      "\u001b[34m\u001b[1mtrain: \u001b[0mWARNING ⚠️ /home/dylan/projects/YOLO-RGB-T/notebooks/FLIR/RGB/images/train/video-fkGAbm3CFRE3SfqEu-frame-003367-tNvtsNpa7pPd3DyJw.jpg: ignoring corrupt image/label: Label class 36 exceeds dataset class count 15. Possible class labels are 0-14\n",
      "\u001b[34m\u001b[1mtrain: \u001b[0mWARNING ⚠️ /home/dylan/projects/YOLO-RGB-T/notebooks/FLIR/RGB/images/train/video-fkGAbm3CFRE3SfqEu-frame-003382-yC9YCMAywpvGmoFye.jpg: ignoring corrupt image/label: Label class 36 exceeds dataset class count 15. Possible class labels are 0-14\n",
      "\u001b[34m\u001b[1mtrain: \u001b[0mWARNING ⚠️ /home/dylan/projects/YOLO-RGB-T/notebooks/FLIR/RGB/images/train/video-fkGAbm3CFRE3SfqEu-frame-003714-KFS3jSp6YAvJTMmL9.jpg: ignoring corrupt image/label: Label class 36 exceeds dataset class count 15. Possible class labels are 0-14\n",
      "\u001b[34m\u001b[1mtrain: \u001b[0mWARNING ⚠️ /home/dylan/projects/YOLO-RGB-T/notebooks/FLIR/RGB/images/train/video-iMQK7saDmyDkZitAS-frame-001352-ifxPn4CBdMM7s2wPC.jpg: ignoring corrupt image/label: Label class 78 exceeds dataset class count 15. Possible class labels are 0-14\n",
      "\u001b[34m\u001b[1mtrain: \u001b[0mWARNING ⚠️ /home/dylan/projects/YOLO-RGB-T/notebooks/FLIR/RGB/images/train/video-iMQK7saDmyDkZitAS-frame-003380-zg8xNSRz9wAYuo8vx.jpg: ignoring corrupt image/label: Label class 78 exceeds dataset class count 15. Possible class labels are 0-14\n",
      "\u001b[34m\u001b[1mtrain: \u001b[0mWARNING ⚠️ /home/dylan/projects/YOLO-RGB-T/notebooks/FLIR/RGB/images/train/video-iMQK7saDmyDkZitAS-frame-003382-ezMMMLBH5yMNmkQj3.jpg: ignoring corrupt image/label: Label class 78 exceeds dataset class count 15. Possible class labels are 0-14\n",
      "\u001b[34m\u001b[1mtrain: \u001b[0mWARNING ⚠️ /home/dylan/projects/YOLO-RGB-T/notebooks/FLIR/RGB/images/train/video-iMQK7saDmyDkZitAS-frame-003560-yTiotMEnCEN28oTC4.jpg: ignoring corrupt image/label: Label class 78 exceeds dataset class count 15. Possible class labels are 0-14\n",
      "\u001b[34m\u001b[1mtrain: \u001b[0mWARNING ⚠️ /home/dylan/projects/YOLO-RGB-T/notebooks/FLIR/RGB/images/train/video-iMQK7saDmyDkZitAS-frame-004732-5izHBJbKvmNEvSFju.jpg: ignoring corrupt image/label: Label class 78 exceeds dataset class count 15. Possible class labels are 0-14\n",
      "\u001b[34m\u001b[1mtrain: \u001b[0mWARNING ⚠️ /home/dylan/projects/YOLO-RGB-T/notebooks/FLIR/RGB/images/train/video-iMQK7saDmyDkZitAS-frame-005746-jDQPbvWmNYFaZWCcc.jpg: ignoring corrupt image/label: Label class 78 exceeds dataset class count 15. Possible class labels are 0-14\n",
      "\u001b[34m\u001b[1mtrain: \u001b[0mWARNING ⚠️ /home/dylan/projects/YOLO-RGB-T/notebooks/FLIR/RGB/images/train/video-j6zckHRzAN4XrXmTS-frame-000645-srEL8MKCFmX9XnKMq.jpg: ignoring corrupt image/label: Label class 74 exceeds dataset class count 15. Possible class labels are 0-14\n",
      "\u001b[34m\u001b[1mtrain: \u001b[0mWARNING ⚠️ /home/dylan/projects/YOLO-RGB-T/notebooks/FLIR/RGB/images/train/video-j6zckHRzAN4XrXmTS-frame-000660-qFNRTdeHg85BYBiKx.jpg: ignoring corrupt image/label: Label class 74 exceeds dataset class count 15. Possible class labels are 0-14\n",
      "\u001b[34m\u001b[1mtrain: \u001b[0mWARNING ⚠️ /home/dylan/projects/YOLO-RGB-T/notebooks/FLIR/RGB/images/train/video-j6zckHRzAN4XrXmTS-frame-000675-F9hqrb5xTTNxHQLmD.jpg: ignoring corrupt image/label: Label class 74 exceeds dataset class count 15. Possible class labels are 0-14\n",
      "\u001b[34m\u001b[1mtrain: \u001b[0mWARNING ⚠️ /home/dylan/projects/YOLO-RGB-T/notebooks/FLIR/RGB/images/train/video-j6zckHRzAN4XrXmTS-frame-000690-cRzn6Z2yP38rrG2As.jpg: ignoring corrupt image/label: Label class 74 exceeds dataset class count 15. Possible class labels are 0-14\n",
      "\u001b[34m\u001b[1mtrain: \u001b[0mWARNING ⚠️ /home/dylan/projects/YOLO-RGB-T/notebooks/FLIR/RGB/images/train/video-j6zckHRzAN4XrXmTS-frame-000705-WbeS9RCYMwbDZnAw8.jpg: ignoring corrupt image/label: Label class 74 exceeds dataset class count 15. Possible class labels are 0-14\n",
      "\u001b[34m\u001b[1mtrain: \u001b[0mWARNING ⚠️ /home/dylan/projects/YOLO-RGB-T/notebooks/FLIR/RGB/images/train/video-j6zckHRzAN4XrXmTS-frame-000715-XGqgbRcdS4ygEracu.jpg: ignoring corrupt image/label: Label class 74 exceeds dataset class count 15. Possible class labels are 0-14\n",
      "\u001b[34m\u001b[1mtrain: \u001b[0mWARNING ⚠️ /home/dylan/projects/YOLO-RGB-T/notebooks/FLIR/RGB/images/train/video-kqKCdPiK5xj2zfDSC-frame-000000-ZsZQE4uMn9EvYBQH3.jpg: ignoring corrupt image/label: Label class 78 exceeds dataset class count 15. Possible class labels are 0-14\n",
      "\u001b[34m\u001b[1mtrain: \u001b[0mWARNING ⚠️ /home/dylan/projects/YOLO-RGB-T/notebooks/FLIR/RGB/images/train/video-mS4W28oY4SsgbwRtp-frame-002400-mdWYWuP2zrYf8EN48.jpg: ignoring corrupt image/label: Label class 78 exceeds dataset class count 15. Possible class labels are 0-14\n",
      "\u001b[34m\u001b[1mtrain: \u001b[0mWARNING ⚠️ /home/dylan/projects/YOLO-RGB-T/notebooks/FLIR/RGB/images/train/video-mS4W28oY4SsgbwRtp-frame-009150-LNyYCHMHh9o3Y6Xf5.jpg: ignoring corrupt image/label: Label class 78 exceeds dataset class count 15. Possible class labels are 0-14\n",
      "\u001b[34m\u001b[1mtrain: \u001b[0mWARNING ⚠️ /home/dylan/projects/YOLO-RGB-T/notebooks/FLIR/RGB/images/train/video-noPCBymL327sQgPQR-frame-000000-EJqruGdbp2sM3XDrX.jpg: ignoring corrupt image/label: Label class 78 exceeds dataset class count 15. Possible class labels are 0-14\n",
      "\u001b[34m\u001b[1mtrain: \u001b[0mWARNING ⚠️ /home/dylan/projects/YOLO-RGB-T/notebooks/FLIR/RGB/images/train/video-noPCBymL327sQgPQR-frame-000300-JsDwTsnnR9kjb2xYn.jpg: ignoring corrupt image/label: Label class 78 exceeds dataset class count 15. Possible class labels are 0-14\n",
      "\u001b[34m\u001b[1mtrain: \u001b[0mWARNING ⚠️ /home/dylan/projects/YOLO-RGB-T/notebooks/FLIR/RGB/images/train/video-oZqHzHqc576HzdXrX-frame-000264-8PygYwJd9hznGc9vq.jpg: ignoring corrupt image/label: Label class 78 exceeds dataset class count 15. Possible class labels are 0-14\n",
      "\u001b[34m\u001b[1mtrain: \u001b[0mWARNING ⚠️ /home/dylan/projects/YOLO-RGB-T/notebooks/FLIR/RGB/images/train/video-oZqHzHqc576HzdXrX-frame-000330-DtjDnCqXxz5JyP92g.jpg: ignoring corrupt image/label: Label class 78 exceeds dataset class count 15. Possible class labels are 0-14\n",
      "\u001b[34m\u001b[1mtrain: \u001b[0mWARNING ⚠️ /home/dylan/projects/YOLO-RGB-T/notebooks/FLIR/RGB/images/train/video-oZqHzHqc576HzdXrX-frame-001075-YTJL22oLfcQawpA5j.jpg: ignoring corrupt image/label: Label class 78 exceeds dataset class count 15. Possible class labels are 0-14\n",
      "\u001b[34m\u001b[1mtrain: \u001b[0mWARNING ⚠️ /home/dylan/projects/YOLO-RGB-T/notebooks/FLIR/RGB/images/train/video-oZqHzHqc576HzdXrX-frame-001188-ZfF4ebKvr48W7tcms.jpg: ignoring corrupt image/label: Label class 78 exceeds dataset class count 15. Possible class labels are 0-14\n",
      "\u001b[34m\u001b[1mtrain: \u001b[0mWARNING ⚠️ /home/dylan/projects/YOLO-RGB-T/notebooks/FLIR/RGB/images/train/video-oZqHzHqc576HzdXrX-frame-001254-QHTfHNfsCtDEZvyBC.jpg: ignoring corrupt image/label: Label class 78 exceeds dataset class count 15. Possible class labels are 0-14\n",
      "\u001b[34m\u001b[1mtrain: \u001b[0mWARNING ⚠️ /home/dylan/projects/YOLO-RGB-T/notebooks/FLIR/RGB/images/train/video-oZqHzHqc576HzdXrX-frame-001320-TPSCgDci53sECSpH7.jpg: ignoring corrupt image/label: Label class 78 exceeds dataset class count 15. Possible class labels are 0-14\n",
      "\u001b[34m\u001b[1mtrain: \u001b[0mWARNING ⚠️ /home/dylan/projects/YOLO-RGB-T/notebooks/FLIR/RGB/images/train/video-oZqHzHqc576HzdXrX-frame-001386-FNrkDyaybpAmcJTMY.jpg: ignoring corrupt image/label: Label class 78 exceeds dataset class count 15. Possible class labels are 0-14\n",
      "\u001b[34m\u001b[1mtrain: \u001b[0mWARNING ⚠️ /home/dylan/projects/YOLO-RGB-T/notebooks/FLIR/RGB/images/train/video-oZqHzHqc576HzdXrX-frame-002816-cL3KfpwBRP5JjLDfA.jpg: ignoring corrupt image/label: Label class 78 exceeds dataset class count 15. Possible class labels are 0-14\n",
      "\u001b[34m\u001b[1mtrain: \u001b[0mWARNING ⚠️ /home/dylan/projects/YOLO-RGB-T/notebooks/FLIR/RGB/images/train/video-oZqHzHqc576HzdXrX-frame-003510-6i4EpnHpMLDcZ38e2.jpg: ignoring corrupt image/label: Label class 78 exceeds dataset class count 15. Possible class labels are 0-14\n",
      "\u001b[34m\u001b[1mtrain: \u001b[0mWARNING ⚠️ /home/dylan/projects/YOLO-RGB-T/notebooks/FLIR/RGB/images/train/video-oZqHzHqc576HzdXrX-frame-007168-3KmpZLsQkSZ6XvmZd.jpg: ignoring corrupt image/label: Label class 78 exceeds dataset class count 15. Possible class labels are 0-14\n",
      "\u001b[34m\u001b[1mtrain: \u001b[0mWARNING ⚠️ /home/dylan/projects/YOLO-RGB-T/notebooks/FLIR/RGB/images/train/video-oZqHzHqc576HzdXrX-frame-007936-fFE5ZE4En2sr6MGkT.jpg: ignoring corrupt image/label: Label class 78 exceeds dataset class count 15. Possible class labels are 0-14\n",
      "\u001b[34m\u001b[1mtrain: \u001b[0mWARNING ⚠️ /home/dylan/projects/YOLO-RGB-T/notebooks/FLIR/RGB/images/train/video-oman2oLwXyoyhGSkW-frame-001751-TnHoGCy2vxZJ4Ywnu.jpg: ignoring corrupt image/label: Label class 72 exceeds dataset class count 15. Possible class labels are 0-14\n",
      "\u001b[34m\u001b[1mtrain: \u001b[0mWARNING ⚠️ /home/dylan/projects/YOLO-RGB-T/notebooks/FLIR/RGB/images/train/video-oman2oLwXyoyhGSkW-frame-001766-NoC9uA3sZqBNdBeBp.jpg: ignoring corrupt image/label: Label class 72 exceeds dataset class count 15. Possible class labels are 0-14\n",
      "\u001b[34m\u001b[1mtrain: \u001b[0mWARNING ⚠️ /home/dylan/projects/YOLO-RGB-T/notebooks/FLIR/RGB/images/train/video-oman2oLwXyoyhGSkW-frame-001781-DbReEBRWtQau38GaN.jpg: ignoring corrupt image/label: Label class 72 exceeds dataset class count 15. Possible class labels are 0-14\n",
      "\u001b[34m\u001b[1mtrain: \u001b[0mWARNING ⚠️ /home/dylan/projects/YOLO-RGB-T/notebooks/FLIR/RGB/images/train/video-qdYxM3S6eGGsKTzwn-frame-001494-iHhxDsdrmyhP7jZah.jpg: ignoring corrupt image/label: Label class 78 exceeds dataset class count 15. Possible class labels are 0-14\n",
      "\u001b[34m\u001b[1mtrain: \u001b[0mWARNING ⚠️ /home/dylan/projects/YOLO-RGB-T/notebooks/FLIR/RGB/images/train/video-qdYxM3S6eGGsKTzwn-frame-003114-kWrfrtGTDsmwof3xc.jpg: ignoring corrupt image/label: Label class 78 exceeds dataset class count 15. Possible class labels are 0-14\n",
      "\u001b[34m\u001b[1mtrain: \u001b[0mWARNING ⚠️ /home/dylan/projects/YOLO-RGB-T/notebooks/FLIR/RGB/images/train/video-qdYxM3S6eGGsKTzwn-frame-003182-jKuHQP9zpTWcwZGcg.jpg: ignoring corrupt image/label: Label class 78 exceeds dataset class count 15. Possible class labels are 0-14\n",
      "\u001b[34m\u001b[1mtrain: \u001b[0mWARNING ⚠️ /home/dylan/projects/YOLO-RGB-T/notebooks/FLIR/RGB/images/train/video-qdYxM3S6eGGsKTzwn-frame-004731-sy2np8AxwqgyjJXcD.jpg: ignoring corrupt image/label: Label class 78 exceeds dataset class count 15. Possible class labels are 0-14\n",
      "\u001b[34m\u001b[1mtrain: \u001b[0mWARNING ⚠️ /home/dylan/projects/YOLO-RGB-T/notebooks/FLIR/RGB/images/train/video-qgnkkESa7Nioby8T8-frame-002480-GmbWxzGpLc7b3qBGq.jpg: ignoring corrupt image/label: Label class 78 exceeds dataset class count 15. Possible class labels are 0-14\n",
      "\u001b[34m\u001b[1mtrain: \u001b[0mWARNING ⚠️ /home/dylan/projects/YOLO-RGB-T/notebooks/FLIR/RGB/images/train/video-qgnkkESa7Nioby8T8-frame-002616-MChvojDyg7wT4x9By.jpg: ignoring corrupt image/label: Label class 78 exceeds dataset class count 15. Possible class labels are 0-14\n",
      "\u001b[34m\u001b[1mtrain: \u001b[0mWARNING ⚠️ /home/dylan/projects/YOLO-RGB-T/notebooks/FLIR/RGB/images/train/video-qgnkkESa7Nioby8T8-frame-002943-dpMkLaksP8aCHxgbB.jpg: ignoring corrupt image/label: Label class 78 exceeds dataset class count 15. Possible class labels are 0-14\n",
      "\u001b[34m\u001b[1mtrain: \u001b[0mWARNING ⚠️ /home/dylan/projects/YOLO-RGB-T/notebooks/FLIR/RGB/images/train/video-qgnkkESa7Nioby8T8-frame-003100-t2u6zNsmJ8L47QgPg.jpg: ignoring corrupt image/label: Label class 78 exceeds dataset class count 15. Possible class labels are 0-14\n",
      "\u001b[34m\u001b[1mtrain: \u001b[0mWARNING ⚠️ /home/dylan/projects/YOLO-RGB-T/notebooks/FLIR/RGB/images/train/video-qgnkkESa7Nioby8T8-frame-003270-LzXFHEJ6ebwgvpsKo.jpg: ignoring corrupt image/label: Label class 78 exceeds dataset class count 15. Possible class labels are 0-14\n",
      "\u001b[34m\u001b[1mtrain: \u001b[0mWARNING ⚠️ /home/dylan/projects/YOLO-RGB-T/notebooks/FLIR/RGB/images/train/video-qgnkkESa7Nioby8T8-frame-003597-NoWChiQuAZCqpyrQC.jpg: ignoring corrupt image/label: Label class 78 exceeds dataset class count 15. Possible class labels are 0-14\n",
      "\u001b[34m\u001b[1mtrain: \u001b[0mWARNING ⚠️ /home/dylan/projects/YOLO-RGB-T/notebooks/FLIR/RGB/images/train/video-qgnkkESa7Nioby8T8-frame-003924-t6o3es8djyugKFett.jpg: ignoring corrupt image/label: Label class 78 exceeds dataset class count 15. Possible class labels are 0-14\n",
      "\u001b[34m\u001b[1mtrain: \u001b[0mWARNING ⚠️ /home/dylan/projects/YOLO-RGB-T/notebooks/FLIR/RGB/images/train/video-qgnkkESa7Nioby8T8-frame-004251-WGuPYgAFqthA5mzK2.jpg: ignoring corrupt image/label: Label class 78 exceeds dataset class count 15. Possible class labels are 0-14\n",
      "\u001b[34m\u001b[1mtrain: \u001b[0mWARNING ⚠️ /home/dylan/projects/YOLO-RGB-T/notebooks/FLIR/RGB/images/train/video-qgnkkESa7Nioby8T8-frame-004340-Z5ktKiMYypkm7voiP.jpg: ignoring corrupt image/label: Label class 78 exceeds dataset class count 15. Possible class labels are 0-14\n",
      "\u001b[34m\u001b[1mtrain: \u001b[0mWARNING ⚠️ /home/dylan/projects/YOLO-RGB-T/notebooks/FLIR/RGB/images/train/video-qgnkkESa7Nioby8T8-frame-009483-dNTrJ3Str5wmkJEjJ.jpg: ignoring corrupt image/label: Label class 78 exceeds dataset class count 15. Possible class labels are 0-14\n",
      "\u001b[34m\u001b[1mtrain: \u001b[0mWARNING ⚠️ /home/dylan/projects/YOLO-RGB-T/notebooks/FLIR/RGB/images/train/video-qgnkkESa7Nioby8T8-frame-009810-L4f23ptJ44WpGaTJE.jpg: ignoring corrupt image/label: Label class 78 exceeds dataset class count 15. Possible class labels are 0-14\n",
      "\u001b[34m\u001b[1mtrain: \u001b[0mWARNING ⚠️ /home/dylan/projects/YOLO-RGB-T/notebooks/FLIR/RGB/images/train/video-r6c4fd4E9E9yNgx6D-frame-000277-6HTcKDXNQuHK7S2EW.jpg: ignoring corrupt image/label: Label class 78 exceeds dataset class count 15. Possible class labels are 0-14\n",
      "\u001b[34m\u001b[1mtrain: \u001b[0mWARNING ⚠️ /home/dylan/projects/YOLO-RGB-T/notebooks/FLIR/RGB/images/train/video-r6c4fd4E9E9yNgx6D-frame-000554-5vBvtNstdKx3ed4fJ.jpg: ignoring corrupt image/label: Label class 78 exceeds dataset class count 15. Possible class labels are 0-14\n",
      "\u001b[34m\u001b[1mtrain: \u001b[0mWARNING ⚠️ /home/dylan/projects/YOLO-RGB-T/notebooks/FLIR/RGB/images/train/video-r6c4fd4E9E9yNgx6D-frame-000831-xcqqCB83spsNpgonn.jpg: ignoring corrupt image/label: Label class 78 exceeds dataset class count 15. Possible class labels are 0-14\n",
      "\u001b[34m\u001b[1mtrain: \u001b[0mWARNING ⚠️ /home/dylan/projects/YOLO-RGB-T/notebooks/FLIR/RGB/images/train/video-rD3kz9wgHTmhBpyBc-frame-002070-K6HqPEZgEXkpLbkLk.jpg: ignoring corrupt image/label: Label class 78 exceeds dataset class count 15. Possible class labels are 0-14\n",
      "\u001b[34m\u001b[1mtrain: \u001b[0mWARNING ⚠️ /home/dylan/projects/YOLO-RGB-T/notebooks/FLIR/RGB/images/train/video-vHLKy4kSYoaPYZoQo-frame-000151-sbpiibcTc2ZriHgBw.jpg: ignoring corrupt image/label: Label class 78 exceeds dataset class count 15. Possible class labels are 0-14\n",
      "\u001b[34m\u001b[1mtrain: \u001b[0mWARNING ⚠️ /home/dylan/projects/YOLO-RGB-T/notebooks/FLIR/RGB/images/train/video-vHLKy4kSYoaPYZoQo-frame-000154-rMMdhwDcFGCeYDKfH.jpg: ignoring corrupt image/label: Label class 78 exceeds dataset class count 15. Possible class labels are 0-14\n",
      "\u001b[34m\u001b[1mtrain: \u001b[0mWARNING ⚠️ /home/dylan/projects/YOLO-RGB-T/notebooks/FLIR/RGB/images/train/video-vHLKy4kSYoaPYZoQo-frame-000524-9kH3BwuEKRebwo44P.jpg: ignoring corrupt image/label: Label class 78 exceeds dataset class count 15. Possible class labels are 0-14\n",
      "\u001b[34m\u001b[1mtrain: \u001b[0mWARNING ⚠️ /home/dylan/projects/YOLO-RGB-T/notebooks/FLIR/RGB/images/train/video-vHLKy4kSYoaPYZoQo-frame-002747-W6ZrhBHGAcZtM8gef.jpg: ignoring corrupt image/label: Label class 78 exceeds dataset class count 15. Possible class labels are 0-14\n",
      "\u001b[34m\u001b[1mtrain: \u001b[0mWARNING ⚠️ /home/dylan/projects/YOLO-RGB-T/notebooks/FLIR/RGB/images/train/video-vHLKy4kSYoaPYZoQo-frame-002864-KTzGovzYKhBRQwymS.jpg: ignoring corrupt image/label: Label class 78 exceeds dataset class count 15. Possible class labels are 0-14\n",
      "\u001b[34m\u001b[1mtrain: \u001b[0mWARNING ⚠️ /home/dylan/projects/YOLO-RGB-T/notebooks/FLIR/RGB/images/train/video-wsMk2o6xg22q3nTjy-frame-002510-vrC4nySPpiCKdYrpT.jpg: ignoring corrupt image/label: Label class 78 exceeds dataset class count 15. Possible class labels are 0-14\n",
      "\u001b[34m\u001b[1mtrain: \u001b[0mWARNING ⚠️ /home/dylan/projects/YOLO-RGB-T/notebooks/FLIR/RGB/images/train/video-ymR3Atd4w5j66fwxT-frame-001127-Mpd9tvmvnsL4L6Ln7.jpg: ignoring corrupt image/label: Label class 78 exceeds dataset class count 15. Possible class labels are 0-14\n",
      "\u001b[34m\u001b[1mtrain: \u001b[0mWARNING ⚠️ /home/dylan/projects/YOLO-RGB-T/notebooks/FLIR/RGB/images/train/video-ymR3Atd4w5j66fwxT-frame-001142-QrdjbPLBmaFYo5oEQ.jpg: ignoring corrupt image/label: Label class 78 exceeds dataset class count 15. Possible class labels are 0-14\n",
      "\u001b[34m\u001b[1mtrain: \u001b[0mWARNING ⚠️ /home/dylan/projects/YOLO-RGB-T/notebooks/FLIR/RGB/images/train/video-ymR3Atd4w5j66fwxT-frame-001157-EewJ3CrHMRNPN9whk.jpg: ignoring corrupt image/label: Label class 78 exceeds dataset class count 15. Possible class labels are 0-14\n",
      "\u001b[34m\u001b[1mtrain: \u001b[0mWARNING ⚠️ /home/dylan/projects/YOLO-RGB-T/notebooks/FLIR/RGB/images/train/video-ymR3Atd4w5j66fwxT-frame-001172-kYdubApL48YeEexvy.jpg: ignoring corrupt image/label: Label class 78 exceeds dataset class count 15. Possible class labels are 0-14\n",
      "\u001b[34m\u001b[1mtrain: \u001b[0mWARNING ⚠️ /home/dylan/projects/YOLO-RGB-T/notebooks/FLIR/RGB/images/train/video-ymR3Atd4w5j66fwxT-frame-001187-MHP4HiRWSBwqATbbF.jpg: ignoring corrupt image/label: Label class 78 exceeds dataset class count 15. Possible class labels are 0-14\n",
      "\u001b[34m\u001b[1mtrain: \u001b[0mWARNING ⚠️ /home/dylan/projects/YOLO-RGB-T/notebooks/FLIR/RGB/images/train/video-ymR3Atd4w5j66fwxT-frame-001202-H4ZvqYpjAckMozdFY.jpg: ignoring corrupt image/label: Label class 78 exceeds dataset class count 15. Possible class labels are 0-14\n",
      "\u001b[34m\u001b[1mtrain: \u001b[0mWARNING ⚠️ /home/dylan/projects/YOLO-RGB-T/notebooks/FLIR/RGB/images/train/video-ymR3Atd4w5j66fwxT-frame-001217-zHpSt6jwf2Ab3qx4s.jpg: ignoring corrupt image/label: Label class 78 exceeds dataset class count 15. Possible class labels are 0-14\n"
     ]
    },
    {
     "name": "stderr",
     "output_type": "stream",
     "text": [
      "\n"
     ]
    },
    {
     "name": "stdout",
     "output_type": "stream",
     "text": [
      "\u001b[34m\u001b[1malbumentations: \u001b[0mBlur(p=0.01, blur_limit=(3, 7)), MedianBlur(p=0.01, blur_limit=(3, 7)), ToGray(p=0.01, num_output_channels=3, method='weighted_average'), CLAHE(p=0.01, clip_limit=(1.0, 4.0), tile_grid_size=(8, 8))\n"
     ]
    },
    {
     "name": "stderr",
     "output_type": "stream",
     "text": [
      "/home/dylan/miniconda3/envs/openmmlab/lib/python3.8/site-packages/albumentations/__init__.py:13: UserWarning: A new version of Albumentations is available: 1.4.23 (you have 1.4.18). Upgrade using: pip install -U albumentations. To disable automatic update checks, set the environment variable NO_ALBUMENTATIONS_UPDATE to 1.\n",
      "  check_for_updates()\n",
      "\u001b[34m\u001b[1mval: \u001b[0mScanning /home/dylan/projects/YOLO-RGB-T/notebooks/FLIR/RGB/labels/val.cache... 1085 images, 16 backgrounds, 41 corrupt: 100%|██████████| 1085/1085 [00:00<?, ?it/s]"
     ]
    },
    {
     "name": "stdout",
     "output_type": "stream",
     "text": [
      "\u001b[34m\u001b[1mval: \u001b[0mWARNING ⚠️ /home/dylan/projects/YOLO-RGB-T/notebooks/FLIR/RGB/images/val/video-7cJxWPFMvPdSiWASY-frame-006358-WsCpxMg6XAd5bK8Np.jpg: ignoring corrupt image/label: Label class 78 exceeds dataset class count 15. Possible class labels are 0-14\n",
      "\u001b[34m\u001b[1mval: \u001b[0mWARNING ⚠️ /home/dylan/projects/YOLO-RGB-T/notebooks/FLIR/RGB/images/val/video-7cJxWPFMvPdSiWASY-frame-008670-bi9LKvBuxjEa5Knxd.jpg: ignoring corrupt image/label: Label class 78 exceeds dataset class count 15. Possible class labels are 0-14\n",
      "\u001b[34m\u001b[1mval: \u001b[0mWARNING ⚠️ /home/dylan/projects/YOLO-RGB-T/notebooks/FLIR/RGB/images/val/video-CgGWcFRZQwyk48xKp-frame-003000-2jook9TKL87pBf4jS.jpg: ignoring corrupt image/label: Label class 78 exceeds dataset class count 15. Possible class labels are 0-14\n",
      "\u001b[34m\u001b[1mval: \u001b[0mWARNING ⚠️ /home/dylan/projects/YOLO-RGB-T/notebooks/FLIR/RGB/images/val/video-Chrih8BX8fbZLmsoX-frame-002092-aep6JB3z3aYDtKf3t.jpg: ignoring corrupt image/label: Label class 78 exceeds dataset class count 15. Possible class labels are 0-14\n",
      "\u001b[34m\u001b[1mval: \u001b[0mWARNING ⚠️ /home/dylan/projects/YOLO-RGB-T/notebooks/FLIR/RGB/images/val/video-Chrih8BX8fbZLmsoX-frame-008046-zCY74d7W98ekruGkE.jpg: ignoring corrupt image/label: Label class 78 exceeds dataset class count 15. Possible class labels are 0-14\n",
      "\u001b[34m\u001b[1mval: \u001b[0mWARNING ⚠️ /home/dylan/projects/YOLO-RGB-T/notebooks/FLIR/RGB/images/val/video-Chrih8BX8fbZLmsoX-frame-008118-XfHTG5miQT3oSrYiP.jpg: ignoring corrupt image/label: Label class 78 exceeds dataset class count 15. Possible class labels are 0-14\n",
      "\u001b[34m\u001b[1mval: \u001b[0mWARNING ⚠️ /home/dylan/projects/YOLO-RGB-T/notebooks/FLIR/RGB/images/val/video-Chrih8BX8fbZLmsoX-frame-008344-tgiKudYPG2c3Tav5v.jpg: ignoring corrupt image/label: Label class 78 exceeds dataset class count 15. Possible class labels are 0-14\n",
      "\u001b[34m\u001b[1mval: \u001b[0mWARNING ⚠️ /home/dylan/projects/YOLO-RGB-T/notebooks/FLIR/RGB/images/val/video-Chrih8BX8fbZLmsoX-frame-008818-XEMHYpe23G3L8YBv7.jpg: ignoring corrupt image/label: Label class 78 exceeds dataset class count 15. Possible class labels are 0-14\n",
      "\u001b[34m\u001b[1mval: \u001b[0mWARNING ⚠️ /home/dylan/projects/YOLO-RGB-T/notebooks/FLIR/RGB/images/val/video-Chrih8BX8fbZLmsoX-frame-011984-PtfuDaGFHYMRgHm2j.jpg: ignoring corrupt image/label: Label class 78 exceeds dataset class count 15. Possible class labels are 0-14\n",
      "\u001b[34m\u001b[1mval: \u001b[0mWARNING ⚠️ /home/dylan/projects/YOLO-RGB-T/notebooks/FLIR/RGB/images/val/video-CvaTNzwd4ZRkpoxyq-frame-002103-hjaRgnSR72ZL7N9QW.jpg: ignoring corrupt image/label: Label class 78 exceeds dataset class count 15. Possible class labels are 0-14\n",
      "\u001b[34m\u001b[1mval: \u001b[0mWARNING ⚠️ /home/dylan/projects/YOLO-RGB-T/notebooks/FLIR/RGB/images/val/video-Johrh8s7vcBMYuFzH-frame-002550-hNafxoFsLRjaexiwk.jpg: ignoring corrupt image/label: Label class 78 exceeds dataset class count 15. Possible class labels are 0-14\n",
      "\u001b[34m\u001b[1mval: \u001b[0mWARNING ⚠️ /home/dylan/projects/YOLO-RGB-T/notebooks/FLIR/RGB/images/val/video-NiSdhvsMjRPeFWwru-frame-002550-XKD2iJuw3oGDxKCsd.jpg: ignoring corrupt image/label: Label class 78 exceeds dataset class count 15. Possible class labels are 0-14\n",
      "\u001b[34m\u001b[1mval: \u001b[0mWARNING ⚠️ /home/dylan/projects/YOLO-RGB-T/notebooks/FLIR/RGB/images/val/video-NiSdhvsMjRPeFWwru-frame-003000-36XcuHp8X98ELqTQE.jpg: ignoring corrupt image/label: Label class 78 exceeds dataset class count 15. Possible class labels are 0-14\n",
      "\u001b[34m\u001b[1mval: \u001b[0mWARNING ⚠️ /home/dylan/projects/YOLO-RGB-T/notebooks/FLIR/RGB/images/val/video-NiSdhvsMjRPeFWwru-frame-003150-qXHXjQxqWo3jyvNax.jpg: ignoring corrupt image/label: Label class 78 exceeds dataset class count 15. Possible class labels are 0-14\n",
      "\u001b[34m\u001b[1mval: \u001b[0mWARNING ⚠️ /home/dylan/projects/YOLO-RGB-T/notebooks/FLIR/RGB/images/val/video-NiSdhvsMjRPeFWwru-frame-003750-rY6R7483pTCDMwjrE.jpg: ignoring corrupt image/label: Label class 78 exceeds dataset class count 15. Possible class labels are 0-14\n",
      "\u001b[34m\u001b[1mval: \u001b[0mWARNING ⚠️ /home/dylan/projects/YOLO-RGB-T/notebooks/FLIR/RGB/images/val/video-NiSdhvsMjRPeFWwru-frame-004350-i2vLgPfFh58oQ2wNA.jpg: ignoring corrupt image/label: Label class 78 exceeds dataset class count 15. Possible class labels are 0-14\n",
      "\u001b[34m\u001b[1mval: \u001b[0mWARNING ⚠️ /home/dylan/projects/YOLO-RGB-T/notebooks/FLIR/RGB/images/val/video-NiSdhvsMjRPeFWwru-frame-005550-Xzyf7Ht7ZuwKfRJKu.jpg: ignoring corrupt image/label: Label class 78 exceeds dataset class count 15. Possible class labels are 0-14\n",
      "\u001b[34m\u001b[1mval: \u001b[0mWARNING ⚠️ /home/dylan/projects/YOLO-RGB-T/notebooks/FLIR/RGB/images/val/video-NiSdhvsMjRPeFWwru-frame-005700-KupSZpi2KGY4CbDCN.jpg: ignoring corrupt image/label: Label class 78 exceeds dataset class count 15. Possible class labels are 0-14\n",
      "\u001b[34m\u001b[1mval: \u001b[0mWARNING ⚠️ /home/dylan/projects/YOLO-RGB-T/notebooks/FLIR/RGB/images/val/video-QQZ8wcAm8Y9EPufST-frame-002570-k4RD74wbyj3SjZQiS.jpg: ignoring corrupt image/label: Label class 78 exceeds dataset class count 15. Possible class labels are 0-14\n",
      "\u001b[34m\u001b[1mval: \u001b[0mWARNING ⚠️ /home/dylan/projects/YOLO-RGB-T/notebooks/FLIR/RGB/images/val/video-QQZ8wcAm8Y9EPufST-frame-002585-MKtvEXvbjRkNqYLGT.jpg: ignoring corrupt image/label: Label class 78 exceeds dataset class count 15. Possible class labels are 0-14\n",
      "\u001b[34m\u001b[1mval: \u001b[0mWARNING ⚠️ /home/dylan/projects/YOLO-RGB-T/notebooks/FLIR/RGB/images/val/video-QQZ8wcAm8Y9EPufST-frame-004555-CAzyywgzwnXhpWL7y.jpg: ignoring corrupt image/label: Label class 78 exceeds dataset class count 15. Possible class labels are 0-14\n",
      "\u001b[34m\u001b[1mval: \u001b[0mWARNING ⚠️ /home/dylan/projects/YOLO-RGB-T/notebooks/FLIR/RGB/images/val/video-QQZ8wcAm8Y9EPufST-frame-004665-T3565No9kgpmpBSEh.jpg: ignoring corrupt image/label: Label class 78 exceeds dataset class count 15. Possible class labels are 0-14\n",
      "\u001b[34m\u001b[1mval: \u001b[0mWARNING ⚠️ /home/dylan/projects/YOLO-RGB-T/notebooks/FLIR/RGB/images/val/video-QQZ8wcAm8Y9EPufST-frame-004680-j9cW8guAoGre9XqoY.jpg: ignoring corrupt image/label: Label class 78 exceeds dataset class count 15. Possible class labels are 0-14\n",
      "\u001b[34m\u001b[1mval: \u001b[0mWARNING ⚠️ /home/dylan/projects/YOLO-RGB-T/notebooks/FLIR/RGB/images/val/video-QQZ8wcAm8Y9EPufST-frame-004695-tpqX4XtvRYNQ6x6hN.jpg: ignoring corrupt image/label: Label class 78 exceeds dataset class count 15. Possible class labels are 0-14\n",
      "\u001b[34m\u001b[1mval: \u001b[0mWARNING ⚠️ /home/dylan/projects/YOLO-RGB-T/notebooks/FLIR/RGB/images/val/video-QQZ8wcAm8Y9EPufST-frame-005330-SzejKaLZ5wxXCmDWM.jpg: ignoring corrupt image/label: Label class 36 exceeds dataset class count 15. Possible class labels are 0-14\n",
      "\u001b[34m\u001b[1mval: \u001b[0mWARNING ⚠️ /home/dylan/projects/YOLO-RGB-T/notebooks/FLIR/RGB/images/val/video-QQZ8wcAm8Y9EPufST-frame-005345-YTHXsEu8wrb2qRW4w.jpg: ignoring corrupt image/label: Label class 36 exceeds dataset class count 15. Possible class labels are 0-14\n",
      "\u001b[34m\u001b[1mval: \u001b[0mWARNING ⚠️ /home/dylan/projects/YOLO-RGB-T/notebooks/FLIR/RGB/images/val/video-QQZ8wcAm8Y9EPufST-frame-005375-jAmqq7oAYKeY8g5Bd.jpg: ignoring corrupt image/label: Label class 36 exceeds dataset class count 15. Possible class labels are 0-14\n",
      "\u001b[34m\u001b[1mval: \u001b[0mWARNING ⚠️ /home/dylan/projects/YOLO-RGB-T/notebooks/FLIR/RGB/images/val/video-QQZ8wcAm8Y9EPufST-frame-005390-jsPoKmyA3z4nsx5rS.jpg: ignoring corrupt image/label: Label class 36 exceeds dataset class count 15. Possible class labels are 0-14\n",
      "\u001b[34m\u001b[1mval: \u001b[0mWARNING ⚠️ /home/dylan/projects/YOLO-RGB-T/notebooks/FLIR/RGB/images/val/video-SLk5jhPmMXtdu9FWX-frame-008850-cfKN8haM5cwsSa8Hc.jpg: ignoring corrupt image/label: Label class 78 exceeds dataset class count 15. Possible class labels are 0-14\n",
      "\u001b[34m\u001b[1mval: \u001b[0mWARNING ⚠️ /home/dylan/projects/YOLO-RGB-T/notebooks/FLIR/RGB/images/val/video-SLk5jhPmMXtdu9FWX-frame-010325-LHqJsnSLLxJGwoenq.jpg: ignoring corrupt image/label: Label class 78 exceeds dataset class count 15. Possible class labels are 0-14\n",
      "\u001b[34m\u001b[1mval: \u001b[0mWARNING ⚠️ /home/dylan/projects/YOLO-RGB-T/notebooks/FLIR/RGB/images/val/video-ToQ8bdwRgLa9hDRZw-frame-004786-fXKys3zvkN2cgX4Gk.jpg: ignoring corrupt image/label: Label class 78 exceeds dataset class count 15. Possible class labels are 0-14\n",
      "\u001b[34m\u001b[1mval: \u001b[0mWARNING ⚠️ /home/dylan/projects/YOLO-RGB-T/notebooks/FLIR/RGB/images/val/video-ToQ8bdwRgLa9hDRZw-frame-004846-fBFdYuqs4jAxSQMwg.jpg: ignoring corrupt image/label: Label class 78 exceeds dataset class count 15. Possible class labels are 0-14\n",
      "\u001b[34m\u001b[1mval: \u001b[0mWARNING ⚠️ /home/dylan/projects/YOLO-RGB-T/notebooks/FLIR/RGB/images/val/video-ToQ8bdwRgLa9hDRZw-frame-004861-5FsT2sRjYKZ7qwzcd.jpg: ignoring corrupt image/label: Label class 78 exceeds dataset class count 15. Possible class labels are 0-14\n",
      "\u001b[34m\u001b[1mval: \u001b[0mWARNING ⚠️ /home/dylan/projects/YOLO-RGB-T/notebooks/FLIR/RGB/images/val/video-ToQ8bdwRgLa9hDRZw-frame-004876-Wa7oNjPoqNW5M5XZ9.jpg: ignoring corrupt image/label: Label class 78 exceeds dataset class count 15. Possible class labels are 0-14\n",
      "\u001b[34m\u001b[1mval: \u001b[0mWARNING ⚠️ /home/dylan/projects/YOLO-RGB-T/notebooks/FLIR/RGB/images/val/video-cEkL6hyraheQjgP72-frame-001360-JjYTms8JjfYrLwXMr.jpg: ignoring corrupt image/label: Label class 72 exceeds dataset class count 15. Possible class labels are 0-14\n",
      "\u001b[34m\u001b[1mval: \u001b[0mWARNING ⚠️ /home/dylan/projects/YOLO-RGB-T/notebooks/FLIR/RGB/images/val/video-cEkL6hyraheQjgP72-frame-001375-evgbTKacERCY3YBRw.jpg: ignoring corrupt image/label: Label class 72 exceeds dataset class count 15. Possible class labels are 0-14\n",
      "\u001b[34m\u001b[1mval: \u001b[0mWARNING ⚠️ /home/dylan/projects/YOLO-RGB-T/notebooks/FLIR/RGB/images/val/video-cEkL6hyraheQjgP72-frame-001390-J9YeC9poJSypFRGJ3.jpg: ignoring corrupt image/label: Label class 72 exceeds dataset class count 15. Possible class labels are 0-14\n",
      "\u001b[34m\u001b[1mval: \u001b[0mWARNING ⚠️ /home/dylan/projects/YOLO-RGB-T/notebooks/FLIR/RGB/images/val/video-cEkL6hyraheQjgP72-frame-001405-Qp6eT6YAH2skzkifi.jpg: ignoring corrupt image/label: Label class 72 exceeds dataset class count 15. Possible class labels are 0-14\n",
      "\u001b[34m\u001b[1mval: \u001b[0mWARNING ⚠️ /home/dylan/projects/YOLO-RGB-T/notebooks/FLIR/RGB/images/val/video-cEkL6hyraheQjgP72-frame-001420-R2WHgCRujSvQGZGAu.jpg: ignoring corrupt image/label: Label class 72 exceeds dataset class count 15. Possible class labels are 0-14\n",
      "\u001b[34m\u001b[1mval: \u001b[0mWARNING ⚠️ /home/dylan/projects/YOLO-RGB-T/notebooks/FLIR/RGB/images/val/video-dhp3sC5FyhNcjAqaT-frame-002014-6n6vpojy5hqPd3Wes.jpg: ignoring corrupt image/label: Label class 72 exceeds dataset class count 15. Possible class labels are 0-14\n",
      "\u001b[34m\u001b[1mval: \u001b[0mWARNING ⚠️ /home/dylan/projects/YOLO-RGB-T/notebooks/FLIR/RGB/images/val/video-dhp3sC5FyhNcjAqaT-frame-002029-aMfdsNeBBmo8RQqoy.jpg: ignoring corrupt image/label: Label class 72 exceeds dataset class count 15. Possible class labels are 0-14\n"
     ]
    },
    {
     "name": "stderr",
     "output_type": "stream",
     "text": [
      "\n"
     ]
    },
    {
     "name": "stdout",
     "output_type": "stream",
     "text": [
      "Plotting labels to runs/detect/train10/labels.jpg... \n",
      "\u001b[34m\u001b[1moptimizer:\u001b[0m 'optimizer=auto' found, ignoring 'lr0=0.01' and 'momentum=0.937' and determining best 'optimizer', 'lr0' and 'momentum' automatically... \n",
      "\u001b[34m\u001b[1moptimizer:\u001b[0m SGD(lr=0.01, momentum=0.9) with parameter groups 167 weight(decay=0.0), 174 weight(decay=0.0005), 173 bias(decay=0.0)\n",
      "\u001b[34m\u001b[1mTensorBoard: \u001b[0mmodel graph visualization added ✅\n",
      "Image sizes 640 train, 640 val\n",
      "Using 8 dataloader workers\n",
      "Logging results to \u001b[1mruns/detect/train10\u001b[0m\n",
      "Starting training for 100 epochs...\n",
      "\n",
      "      Epoch    GPU_mem   box_loss   cls_loss   dfl_loss  Instances       Size\n"
     ]
    },
    {
     "name": "stderr",
     "output_type": "stream",
     "text": [
      "      1/100      8.84G      1.047     0.9509     0.9508         53        640: 100%|██████████| 1191/1191 [07:49<00:00,  2.54it/s]\n",
      "                 Class     Images  Instances      Box(P          R      mAP50  mAP50-95): 100%|██████████| 66/66 [00:16<00:00,  3.93it/s]"
     ]
    },
    {
     "name": "stdout",
     "output_type": "stream",
     "text": [
      "                   all       1044      16167      0.575      0.432       0.47      0.293\n"
     ]
    },
    {
     "name": "stderr",
     "output_type": "stream",
     "text": [
      "\n"
     ]
    },
    {
     "name": "stdout",
     "output_type": "stream",
     "text": [
      "\n",
      "      Epoch    GPU_mem   box_loss   cls_loss   dfl_loss  Instances       Size\n"
     ]
    },
    {
     "name": "stderr",
     "output_type": "stream",
     "text": [
      "      2/100      8.85G       1.09     0.7744     0.9583         59        640: 100%|██████████| 1191/1191 [07:37<00:00,  2.60it/s]\n",
      "                 Class     Images  Instances      Box(P          R      mAP50  mAP50-95): 100%|██████████| 66/66 [00:17<00:00,  3.77it/s]"
     ]
    },
    {
     "name": "stdout",
     "output_type": "stream",
     "text": [
      "                   all       1044      16167      0.582      0.393      0.429      0.259\n"
     ]
    },
    {
     "name": "stderr",
     "output_type": "stream",
     "text": [
      "\n"
     ]
    },
    {
     "name": "stdout",
     "output_type": "stream",
     "text": [
      "\n",
      "      Epoch    GPU_mem   box_loss   cls_loss   dfl_loss  Instances       Size\n"
     ]
    },
    {
     "name": "stderr",
     "output_type": "stream",
     "text": [
      "      3/100      8.78G      1.187     0.8449      0.997         87        640: 100%|██████████| 1191/1191 [07:31<00:00,  2.64it/s]\n",
      "                 Class     Images  Instances      Box(P          R      mAP50  mAP50-95): 100%|██████████| 66/66 [00:17<00:00,  3.81it/s]"
     ]
    },
    {
     "name": "stdout",
     "output_type": "stream",
     "text": [
      "                   all       1044      16167      0.553      0.323      0.352      0.202\n"
     ]
    },
    {
     "name": "stderr",
     "output_type": "stream",
     "text": [
      "\n"
     ]
    },
    {
     "name": "stdout",
     "output_type": "stream",
     "text": [
      "\n",
      "      Epoch    GPU_mem   box_loss   cls_loss   dfl_loss  Instances       Size\n"
     ]
    },
    {
     "name": "stderr",
     "output_type": "stream",
     "text": [
      "      4/100      8.83G      1.245     0.8826      1.024         41        640: 100%|██████████| 1191/1191 [07:45<00:00,  2.56it/s]\n",
      "                 Class     Images  Instances      Box(P          R      mAP50  mAP50-95): 100%|██████████| 66/66 [00:17<00:00,  3.77it/s]"
     ]
    },
    {
     "name": "stdout",
     "output_type": "stream",
     "text": [
      "                   all       1044      16167      0.514      0.314      0.341      0.195\n"
     ]
    },
    {
     "name": "stderr",
     "output_type": "stream",
     "text": [
      "\n"
     ]
    },
    {
     "name": "stdout",
     "output_type": "stream",
     "text": [
      "\n",
      "      Epoch    GPU_mem   box_loss   cls_loss   dfl_loss  Instances       Size\n"
     ]
    },
    {
     "name": "stderr",
     "output_type": "stream",
     "text": [
      "      5/100      8.85G      1.187     0.8122      1.001         22        640: 100%|██████████| 1191/1191 [07:46<00:00,  2.55it/s]\n",
      "                 Class     Images  Instances      Box(P          R      mAP50  mAP50-95): 100%|██████████| 66/66 [00:17<00:00,  3.77it/s]"
     ]
    },
    {
     "name": "stdout",
     "output_type": "stream",
     "text": [
      "                   all       1044      16167       0.59       0.35      0.407      0.233\n"
     ]
    },
    {
     "name": "stderr",
     "output_type": "stream",
     "text": [
      "\n"
     ]
    },
    {
     "name": "stdout",
     "output_type": "stream",
     "text": [
      "\n",
      "      Epoch    GPU_mem   box_loss   cls_loss   dfl_loss  Instances       Size\n"
     ]
    },
    {
     "name": "stderr",
     "output_type": "stream",
     "text": [
      "      6/100      8.65G      1.127     0.7512     0.9788         56        640: 100%|██████████| 1191/1191 [07:46<00:00,  2.55it/s]\n",
      "                 Class     Images  Instances      Box(P          R      mAP50  mAP50-95): 100%|██████████| 66/66 [00:17<00:00,  3.77it/s]"
     ]
    },
    {
     "name": "stdout",
     "output_type": "stream",
     "text": [
      "                   all       1044      16167       0.63      0.404      0.449      0.262\n"
     ]
    },
    {
     "name": "stderr",
     "output_type": "stream",
     "text": [
      "\n"
     ]
    },
    {
     "name": "stdout",
     "output_type": "stream",
     "text": [
      "\n",
      "      Epoch    GPU_mem   box_loss   cls_loss   dfl_loss  Instances       Size\n"
     ]
    },
    {
     "name": "stderr",
     "output_type": "stream",
     "text": [
      "      7/100      8.84G      1.073     0.7037     0.9593         58        640: 100%|██████████| 1191/1191 [07:46<00:00,  2.55it/s]\n",
      "                 Class     Images  Instances      Box(P          R      mAP50  mAP50-95): 100%|██████████| 66/66 [00:17<00:00,  3.78it/s]"
     ]
    },
    {
     "name": "stdout",
     "output_type": "stream",
     "text": [
      "                   all       1044      16167      0.612      0.398      0.448      0.264\n"
     ]
    },
    {
     "name": "stderr",
     "output_type": "stream",
     "text": [
      "\n"
     ]
    },
    {
     "name": "stdout",
     "output_type": "stream",
     "text": [
      "\n",
      "      Epoch    GPU_mem   box_loss   cls_loss   dfl_loss  Instances       Size\n"
     ]
    },
    {
     "name": "stderr",
     "output_type": "stream",
     "text": [
      "      8/100      8.81G      1.035     0.6655     0.9449         59        640: 100%|██████████| 1191/1191 [07:46<00:00,  2.55it/s]\n",
      "                 Class     Images  Instances      Box(P          R      mAP50  mAP50-95): 100%|██████████| 66/66 [00:17<00:00,  3.77it/s]"
     ]
    },
    {
     "name": "stdout",
     "output_type": "stream",
     "text": [
      "                   all       1044      16167      0.598      0.426      0.456      0.265\n"
     ]
    },
    {
     "name": "stderr",
     "output_type": "stream",
     "text": [
      "\n"
     ]
    },
    {
     "name": "stdout",
     "output_type": "stream",
     "text": [
      "\n",
      "      Epoch    GPU_mem   box_loss   cls_loss   dfl_loss  Instances       Size\n"
     ]
    },
    {
     "name": "stderr",
     "output_type": "stream",
     "text": [
      "      9/100      8.81G     0.9963     0.6346     0.9308         57        640: 100%|██████████| 1191/1191 [07:46<00:00,  2.55it/s]\n",
      "                 Class     Images  Instances      Box(P          R      mAP50  mAP50-95): 100%|██████████| 66/66 [00:17<00:00,  3.78it/s]"
     ]
    },
    {
     "name": "stdout",
     "output_type": "stream",
     "text": [
      "                   all       1044      16167      0.647      0.427       0.48      0.282\n"
     ]
    },
    {
     "name": "stderr",
     "output_type": "stream",
     "text": [
      "\n"
     ]
    },
    {
     "name": "stdout",
     "output_type": "stream",
     "text": [
      "\n",
      "      Epoch    GPU_mem   box_loss   cls_loss   dfl_loss  Instances       Size\n"
     ]
    },
    {
     "name": "stderr",
     "output_type": "stream",
     "text": [
      "     10/100      8.82G     0.9604     0.6051     0.9184         52        640: 100%|██████████| 1191/1191 [07:40<00:00,  2.59it/s]\n",
      "                 Class     Images  Instances      Box(P          R      mAP50  mAP50-95): 100%|██████████| 66/66 [00:17<00:00,  3.82it/s]"
     ]
    },
    {
     "name": "stdout",
     "output_type": "stream",
     "text": [
      "                   all       1044      16167      0.614      0.456      0.509        0.3\n"
     ]
    },
    {
     "name": "stderr",
     "output_type": "stream",
     "text": [
      "\n"
     ]
    },
    {
     "name": "stdout",
     "output_type": "stream",
     "text": [
      "\n",
      "      Epoch    GPU_mem   box_loss   cls_loss   dfl_loss  Instances       Size\n"
     ]
    },
    {
     "name": "stderr",
     "output_type": "stream",
     "text": [
      "     11/100      8.84G     0.9246     0.5756     0.9074         79        640: 100%|██████████| 1191/1191 [07:46<00:00,  2.55it/s]\n",
      "                 Class     Images  Instances      Box(P          R      mAP50  mAP50-95): 100%|██████████| 66/66 [00:17<00:00,  3.78it/s]"
     ]
    },
    {
     "name": "stdout",
     "output_type": "stream",
     "text": [
      "                   all       1044      16167      0.663       0.44        0.5      0.299\n"
     ]
    },
    {
     "name": "stderr",
     "output_type": "stream",
     "text": [
      "\n"
     ]
    },
    {
     "name": "stdout",
     "output_type": "stream",
     "text": [
      "\n",
      "      Epoch    GPU_mem   box_loss   cls_loss   dfl_loss  Instances       Size\n"
     ]
    },
    {
     "name": "stderr",
     "output_type": "stream",
     "text": [
      "     12/100      8.79G     0.8984     0.5546     0.8985         42        640: 100%|██████████| 1191/1191 [07:46<00:00,  2.55it/s]\n",
      "                 Class     Images  Instances      Box(P          R      mAP50  mAP50-95): 100%|██████████| 66/66 [00:17<00:00,  3.80it/s]"
     ]
    },
    {
     "name": "stdout",
     "output_type": "stream",
     "text": [
      "                   all       1044      16167      0.631      0.435      0.483      0.293\n"
     ]
    },
    {
     "name": "stderr",
     "output_type": "stream",
     "text": [
      "\n"
     ]
    },
    {
     "name": "stdout",
     "output_type": "stream",
     "text": [
      "\n",
      "      Epoch    GPU_mem   box_loss   cls_loss   dfl_loss  Instances       Size\n"
     ]
    },
    {
     "name": "stderr",
     "output_type": "stream",
     "text": [
      "     13/100      8.78G     0.8695     0.5335     0.8886         34        640: 100%|██████████| 1191/1191 [07:44<00:00,  2.57it/s]\n",
      "                 Class     Images  Instances      Box(P          R      mAP50  mAP50-95): 100%|██████████| 66/66 [00:17<00:00,  3.79it/s]"
     ]
    },
    {
     "name": "stdout",
     "output_type": "stream",
     "text": [
      "                   all       1044      16167      0.624      0.476      0.507      0.301\n"
     ]
    },
    {
     "name": "stderr",
     "output_type": "stream",
     "text": [
      "\n"
     ]
    },
    {
     "name": "stdout",
     "output_type": "stream",
     "text": [
      "\n",
      "      Epoch    GPU_mem   box_loss   cls_loss   dfl_loss  Instances       Size\n"
     ]
    },
    {
     "name": "stderr",
     "output_type": "stream",
     "text": [
      "     14/100      8.68G     0.8419     0.5097     0.8801         53        640: 100%|██████████| 1191/1191 [07:56<00:00,  2.50it/s]\n",
      "                 Class     Images  Instances      Box(P          R      mAP50  mAP50-95): 100%|██████████| 66/66 [00:17<00:00,  3.69it/s]"
     ]
    },
    {
     "name": "stdout",
     "output_type": "stream",
     "text": [
      "                   all       1044      16167      0.667      0.468      0.506      0.307\n"
     ]
    },
    {
     "name": "stderr",
     "output_type": "stream",
     "text": [
      "\n"
     ]
    },
    {
     "name": "stdout",
     "output_type": "stream",
     "text": [
      "\n",
      "      Epoch    GPU_mem   box_loss   cls_loss   dfl_loss  Instances       Size\n"
     ]
    },
    {
     "name": "stderr",
     "output_type": "stream",
     "text": [
      "     15/100      8.81G     0.8183     0.4949     0.8731        101        640: 100%|██████████| 1191/1191 [07:58<00:00,  2.49it/s]\n",
      "                 Class     Images  Instances      Box(P          R      mAP50  mAP50-95): 100%|██████████| 66/66 [00:17<00:00,  3.68it/s]"
     ]
    },
    {
     "name": "stdout",
     "output_type": "stream",
     "text": [
      "                   all       1044      16167      0.624       0.47      0.518      0.314\n"
     ]
    },
    {
     "name": "stderr",
     "output_type": "stream",
     "text": [
      "\n"
     ]
    },
    {
     "name": "stdout",
     "output_type": "stream",
     "text": [
      "\n",
      "      Epoch    GPU_mem   box_loss   cls_loss   dfl_loss  Instances       Size\n"
     ]
    },
    {
     "name": "stderr",
     "output_type": "stream",
     "text": [
      "     16/100      8.78G     0.7927     0.4748     0.8664         74        640: 100%|██████████| 1191/1191 [07:58<00:00,  2.49it/s]\n",
      "                 Class     Images  Instances      Box(P          R      mAP50  mAP50-95): 100%|██████████| 66/66 [00:17<00:00,  3.68it/s]"
     ]
    },
    {
     "name": "stdout",
     "output_type": "stream",
     "text": [
      "                   all       1044      16167       0.66      0.481      0.536      0.321\n"
     ]
    },
    {
     "name": "stderr",
     "output_type": "stream",
     "text": [
      "\n"
     ]
    },
    {
     "name": "stdout",
     "output_type": "stream",
     "text": [
      "\n",
      "      Epoch    GPU_mem   box_loss   cls_loss   dfl_loss  Instances       Size\n"
     ]
    },
    {
     "name": "stderr",
     "output_type": "stream",
     "text": [
      "     17/100      8.82G     0.7703     0.4611     0.8598         52        640: 100%|██████████| 1191/1191 [07:58<00:00,  2.49it/s]\n",
      "                 Class     Images  Instances      Box(P          R      mAP50  mAP50-95): 100%|██████████| 66/66 [00:17<00:00,  3.68it/s]"
     ]
    },
    {
     "name": "stdout",
     "output_type": "stream",
     "text": [
      "                   all       1044      16167      0.687      0.464      0.519       0.31\n"
     ]
    },
    {
     "name": "stderr",
     "output_type": "stream",
     "text": [
      "\n"
     ]
    },
    {
     "name": "stdout",
     "output_type": "stream",
     "text": [
      "\n",
      "      Epoch    GPU_mem   box_loss   cls_loss   dfl_loss  Instances       Size\n"
     ]
    },
    {
     "name": "stderr",
     "output_type": "stream",
     "text": [
      "     18/100       8.8G     0.7488     0.4436     0.8536         94        640: 100%|██████████| 1191/1191 [07:58<00:00,  2.49it/s]\n",
      "                 Class     Images  Instances      Box(P          R      mAP50  mAP50-95): 100%|██████████| 66/66 [00:17<00:00,  3.68it/s]"
     ]
    },
    {
     "name": "stdout",
     "output_type": "stream",
     "text": [
      "                   all       1044      16167      0.682      0.468      0.527      0.323\n"
     ]
    },
    {
     "name": "stderr",
     "output_type": "stream",
     "text": [
      "\n"
     ]
    },
    {
     "name": "stdout",
     "output_type": "stream",
     "text": [
      "\n",
      "      Epoch    GPU_mem   box_loss   cls_loss   dfl_loss  Instances       Size\n"
     ]
    },
    {
     "name": "stderr",
     "output_type": "stream",
     "text": [
      "     19/100      8.78G     0.7286     0.4307     0.8483         66        640: 100%|██████████| 1191/1191 [07:58<00:00,  2.49it/s]\n",
      "                 Class     Images  Instances      Box(P          R      mAP50  mAP50-95): 100%|██████████| 66/66 [00:17<00:00,  3.68it/s]"
     ]
    },
    {
     "name": "stdout",
     "output_type": "stream",
     "text": [
      "                   all       1044      16167      0.674      0.487       0.54      0.327\n"
     ]
    },
    {
     "name": "stderr",
     "output_type": "stream",
     "text": [
      "\n"
     ]
    },
    {
     "name": "stdout",
     "output_type": "stream",
     "text": [
      "\n",
      "      Epoch    GPU_mem   box_loss   cls_loss   dfl_loss  Instances       Size\n"
     ]
    },
    {
     "name": "stderr",
     "output_type": "stream",
     "text": [
      "     20/100      8.79G      0.706     0.4159     0.8425         40        640: 100%|██████████| 1191/1191 [07:58<00:00,  2.49it/s]\n",
      "                 Class     Images  Instances      Box(P          R      mAP50  mAP50-95): 100%|██████████| 66/66 [00:17<00:00,  3.69it/s]"
     ]
    },
    {
     "name": "stdout",
     "output_type": "stream",
     "text": [
      "                   all       1044      16167       0.63      0.518      0.534      0.325\n"
     ]
    },
    {
     "name": "stderr",
     "output_type": "stream",
     "text": [
      "\n"
     ]
    },
    {
     "name": "stdout",
     "output_type": "stream",
     "text": [
      "\n",
      "      Epoch    GPU_mem   box_loss   cls_loss   dfl_loss  Instances       Size\n"
     ]
    },
    {
     "name": "stderr",
     "output_type": "stream",
     "text": [
      "     21/100      8.83G     0.6865     0.4022     0.8376         81        640: 100%|██████████| 1191/1191 [07:45<00:00,  2.56it/s]\n",
      "                 Class     Images  Instances      Box(P          R      mAP50  mAP50-95): 100%|██████████| 66/66 [00:17<00:00,  3.82it/s]"
     ]
    },
    {
     "name": "stdout",
     "output_type": "stream",
     "text": [
      "                   all       1044      16167      0.688      0.486       0.54      0.335\n"
     ]
    },
    {
     "name": "stderr",
     "output_type": "stream",
     "text": [
      "\n"
     ]
    },
    {
     "name": "stdout",
     "output_type": "stream",
     "text": [
      "\n",
      "      Epoch    GPU_mem   box_loss   cls_loss   dfl_loss  Instances       Size\n"
     ]
    },
    {
     "name": "stderr",
     "output_type": "stream",
     "text": [
      "     22/100      8.59G     0.6717      0.392      0.835         36        640: 100%|██████████| 1191/1191 [07:42<00:00,  2.58it/s]\n",
      "                 Class     Images  Instances      Box(P          R      mAP50  mAP50-95): 100%|██████████| 66/66 [00:17<00:00,  3.87it/s]"
     ]
    },
    {
     "name": "stdout",
     "output_type": "stream",
     "text": [
      "                   all       1044      16167      0.638      0.495       0.53      0.323\n"
     ]
    },
    {
     "name": "stderr",
     "output_type": "stream",
     "text": [
      "\n"
     ]
    },
    {
     "name": "stdout",
     "output_type": "stream",
     "text": [
      "\n",
      "      Epoch    GPU_mem   box_loss   cls_loss   dfl_loss  Instances       Size\n"
     ]
    },
    {
     "name": "stderr",
     "output_type": "stream",
     "text": [
      "     23/100      8.84G     0.6546     0.3822     0.8295         53        640: 100%|██████████| 1191/1191 [07:38<00:00,  2.60it/s]\n",
      "                 Class     Images  Instances      Box(P          R      mAP50  mAP50-95): 100%|██████████| 66/66 [00:17<00:00,  3.82it/s]"
     ]
    },
    {
     "name": "stdout",
     "output_type": "stream",
     "text": [
      "                   all       1044      16167      0.669      0.482       0.52      0.316\n"
     ]
    },
    {
     "name": "stderr",
     "output_type": "stream",
     "text": [
      "\n"
     ]
    },
    {
     "name": "stdout",
     "output_type": "stream",
     "text": [
      "\n",
      "      Epoch    GPU_mem   box_loss   cls_loss   dfl_loss  Instances       Size\n"
     ]
    },
    {
     "name": "stderr",
     "output_type": "stream",
     "text": [
      "     24/100      8.78G     0.6364     0.3737     0.8256         55        640: 100%|██████████| 1191/1191 [07:42<00:00,  2.57it/s]\n",
      "                 Class     Images  Instances      Box(P          R      mAP50  mAP50-95): 100%|██████████| 66/66 [00:17<00:00,  3.80it/s]"
     ]
    },
    {
     "name": "stdout",
     "output_type": "stream",
     "text": [
      "                   all       1044      16167      0.643      0.483      0.524      0.322\n"
     ]
    },
    {
     "name": "stderr",
     "output_type": "stream",
     "text": [
      "\n"
     ]
    },
    {
     "name": "stdout",
     "output_type": "stream",
     "text": [
      "\n",
      "      Epoch    GPU_mem   box_loss   cls_loss   dfl_loss  Instances       Size\n"
     ]
    },
    {
     "name": "stderr",
     "output_type": "stream",
     "text": [
      "     25/100      8.84G     0.6209      0.362     0.8219         67        640: 100%|██████████| 1191/1191 [07:40<00:00,  2.59it/s]\n",
      "                 Class     Images  Instances      Box(P          R      mAP50  mAP50-95): 100%|██████████| 66/66 [00:17<00:00,  3.83it/s]"
     ]
    },
    {
     "name": "stdout",
     "output_type": "stream",
     "text": [
      "                   all       1044      16167      0.664      0.487      0.527      0.321\n"
     ]
    },
    {
     "name": "stderr",
     "output_type": "stream",
     "text": [
      "\n"
     ]
    },
    {
     "name": "stdout",
     "output_type": "stream",
     "text": [
      "\n",
      "      Epoch    GPU_mem   box_loss   cls_loss   dfl_loss  Instances       Size\n"
     ]
    },
    {
     "name": "stderr",
     "output_type": "stream",
     "text": [
      "     26/100      8.78G     0.6068     0.3562     0.8195         96        640: 100%|██████████| 1191/1191 [07:41<00:00,  2.58it/s]\n",
      "                 Class     Images  Instances      Box(P          R      mAP50  mAP50-95): 100%|██████████| 66/66 [00:17<00:00,  3.82it/s]"
     ]
    },
    {
     "name": "stdout",
     "output_type": "stream",
     "text": [
      "                   all       1044      16167      0.662      0.491      0.535       0.33\n"
     ]
    },
    {
     "name": "stderr",
     "output_type": "stream",
     "text": [
      "\n"
     ]
    },
    {
     "name": "stdout",
     "output_type": "stream",
     "text": [
      "\n",
      "      Epoch    GPU_mem   box_loss   cls_loss   dfl_loss  Instances       Size\n"
     ]
    },
    {
     "name": "stderr",
     "output_type": "stream",
     "text": [
      "     27/100      8.78G     0.5908     0.3459     0.8158         52        640: 100%|██████████| 1191/1191 [07:40<00:00,  2.59it/s]\n",
      "                 Class     Images  Instances      Box(P          R      mAP50  mAP50-95): 100%|██████████| 66/66 [00:17<00:00,  3.83it/s]"
     ]
    },
    {
     "name": "stdout",
     "output_type": "stream",
     "text": [
      "                   all       1044      16167      0.697      0.448      0.517      0.323\n"
     ]
    },
    {
     "name": "stderr",
     "output_type": "stream",
     "text": [
      "\n"
     ]
    },
    {
     "name": "stdout",
     "output_type": "stream",
     "text": [
      "\n",
      "      Epoch    GPU_mem   box_loss   cls_loss   dfl_loss  Instances       Size\n"
     ]
    },
    {
     "name": "stderr",
     "output_type": "stream",
     "text": [
      "     28/100       8.8G     0.5756     0.3361     0.8124         50        640: 100%|██████████| 1191/1191 [07:43<00:00,  2.57it/s]\n",
      "                 Class     Images  Instances      Box(P          R      mAP50  mAP50-95): 100%|██████████| 66/66 [00:17<00:00,  3.80it/s]"
     ]
    },
    {
     "name": "stdout",
     "output_type": "stream",
     "text": [
      "                   all       1044      16167      0.653      0.482      0.523      0.324\n"
     ]
    },
    {
     "name": "stderr",
     "output_type": "stream",
     "text": [
      "\n"
     ]
    },
    {
     "name": "stdout",
     "output_type": "stream",
     "text": [
      "\n",
      "      Epoch    GPU_mem   box_loss   cls_loss   dfl_loss  Instances       Size\n"
     ]
    },
    {
     "name": "stderr",
     "output_type": "stream",
     "text": [
      "     29/100      8.81G     0.5612     0.3287     0.8097         47        640: 100%|██████████| 1191/1191 [07:42<00:00,  2.57it/s]\n",
      "                 Class     Images  Instances      Box(P          R      mAP50  mAP50-95): 100%|██████████| 66/66 [00:17<00:00,  3.80it/s]"
     ]
    },
    {
     "name": "stdout",
     "output_type": "stream",
     "text": [
      "                   all       1044      16167      0.706      0.473      0.535      0.333\n"
     ]
    },
    {
     "name": "stderr",
     "output_type": "stream",
     "text": [
      "\n"
     ]
    },
    {
     "name": "stdout",
     "output_type": "stream",
     "text": [
      "\n",
      "      Epoch    GPU_mem   box_loss   cls_loss   dfl_loss  Instances       Size\n"
     ]
    },
    {
     "name": "stderr",
     "output_type": "stream",
     "text": [
      "     30/100      8.57G     0.5487     0.3216     0.8079         72        640: 100%|██████████| 1191/1191 [07:38<00:00,  2.60it/s]\n",
      "                 Class     Images  Instances      Box(P          R      mAP50  mAP50-95): 100%|██████████| 66/66 [00:17<00:00,  3.84it/s]"
     ]
    },
    {
     "name": "stdout",
     "output_type": "stream",
     "text": [
      "                   all       1044      16167      0.648      0.489      0.538      0.336\n"
     ]
    },
    {
     "name": "stderr",
     "output_type": "stream",
     "text": [
      "\n"
     ]
    },
    {
     "name": "stdout",
     "output_type": "stream",
     "text": [
      "\n",
      "      Epoch    GPU_mem   box_loss   cls_loss   dfl_loss  Instances       Size\n"
     ]
    },
    {
     "name": "stderr",
     "output_type": "stream",
     "text": [
      "     31/100      8.84G     0.5372     0.3151     0.8057         77        640: 100%|██████████| 1191/1191 [07:41<00:00,  2.58it/s]\n",
      "                 Class     Images  Instances      Box(P          R      mAP50  mAP50-95): 100%|██████████| 66/66 [00:17<00:00,  3.82it/s]"
     ]
    },
    {
     "name": "stdout",
     "output_type": "stream",
     "text": [
      "                   all       1044      16167      0.682      0.464      0.523      0.323\n"
     ]
    },
    {
     "name": "stderr",
     "output_type": "stream",
     "text": [
      "\n"
     ]
    },
    {
     "name": "stdout",
     "output_type": "stream",
     "text": [
      "\n",
      "      Epoch    GPU_mem   box_loss   cls_loss   dfl_loss  Instances       Size\n"
     ]
    },
    {
     "name": "stderr",
     "output_type": "stream",
     "text": [
      "     32/100      8.82G     0.5265     0.3103     0.8038         60        640: 100%|██████████| 1191/1191 [07:41<00:00,  2.58it/s]\n",
      "                 Class     Images  Instances      Box(P          R      mAP50  mAP50-95): 100%|██████████| 66/66 [00:17<00:00,  3.81it/s]"
     ]
    },
    {
     "name": "stdout",
     "output_type": "stream",
     "text": [
      "                   all       1044      16167      0.676      0.492       0.54      0.339\n"
     ]
    },
    {
     "name": "stderr",
     "output_type": "stream",
     "text": [
      "\n"
     ]
    },
    {
     "name": "stdout",
     "output_type": "stream",
     "text": [
      "\n",
      "      Epoch    GPU_mem   box_loss   cls_loss   dfl_loss  Instances       Size\n"
     ]
    },
    {
     "name": "stderr",
     "output_type": "stream",
     "text": [
      "     33/100      8.79G     0.5125     0.3008     0.8012         90        640: 100%|██████████| 1191/1191 [07:44<00:00,  2.56it/s]\n",
      "                 Class     Images  Instances      Box(P          R      mAP50  mAP50-95): 100%|██████████| 66/66 [00:17<00:00,  3.80it/s]"
     ]
    },
    {
     "name": "stdout",
     "output_type": "stream",
     "text": [
      "                   all       1044      16167      0.689      0.498      0.553      0.343\n"
     ]
    },
    {
     "name": "stderr",
     "output_type": "stream",
     "text": [
      "\n"
     ]
    },
    {
     "name": "stdout",
     "output_type": "stream",
     "text": [
      "\n",
      "      Epoch    GPU_mem   box_loss   cls_loss   dfl_loss  Instances       Size\n"
     ]
    },
    {
     "name": "stderr",
     "output_type": "stream",
     "text": [
      "     34/100      8.81G     0.5013     0.2955     0.7993         86        640: 100%|██████████| 1191/1191 [07:44<00:00,  2.57it/s]\n",
      "                 Class     Images  Instances      Box(P          R      mAP50  mAP50-95): 100%|██████████| 66/66 [00:17<00:00,  3.80it/s]"
     ]
    },
    {
     "name": "stdout",
     "output_type": "stream",
     "text": [
      "                   all       1044      16167      0.676      0.465      0.531      0.332\n"
     ]
    },
    {
     "name": "stderr",
     "output_type": "stream",
     "text": [
      "\n"
     ]
    },
    {
     "name": "stdout",
     "output_type": "stream",
     "text": [
      "\n",
      "      Epoch    GPU_mem   box_loss   cls_loss   dfl_loss  Instances       Size\n"
     ]
    },
    {
     "name": "stderr",
     "output_type": "stream",
     "text": [
      "     35/100      8.78G     0.4916     0.2911     0.7976         91        640: 100%|██████████| 1191/1191 [07:44<00:00,  2.57it/s]\n",
      "                 Class     Images  Instances      Box(P          R      mAP50  mAP50-95): 100%|██████████| 66/66 [00:17<00:00,  3.80it/s]"
     ]
    },
    {
     "name": "stdout",
     "output_type": "stream",
     "text": [
      "                   all       1044      16167      0.671      0.468      0.529       0.33\n"
     ]
    },
    {
     "name": "stderr",
     "output_type": "stream",
     "text": [
      "\n"
     ]
    },
    {
     "name": "stdout",
     "output_type": "stream",
     "text": [
      "\n",
      "      Epoch    GPU_mem   box_loss   cls_loss   dfl_loss  Instances       Size\n"
     ]
    },
    {
     "name": "stderr",
     "output_type": "stream",
     "text": [
      "     36/100      8.79G     0.4801     0.2839     0.7959         44        640: 100%|██████████| 1191/1191 [07:41<00:00,  2.58it/s]\n",
      "                 Class     Images  Instances      Box(P          R      mAP50  mAP50-95): 100%|██████████| 66/66 [00:17<00:00,  3.82it/s]"
     ]
    },
    {
     "name": "stdout",
     "output_type": "stream",
     "text": [
      "                   all       1044      16167      0.693      0.474      0.539      0.339\n"
     ]
    },
    {
     "name": "stderr",
     "output_type": "stream",
     "text": [
      "\n"
     ]
    },
    {
     "name": "stdout",
     "output_type": "stream",
     "text": [
      "\n",
      "      Epoch    GPU_mem   box_loss   cls_loss   dfl_loss  Instances       Size\n"
     ]
    },
    {
     "name": "stderr",
     "output_type": "stream",
     "text": [
      "     37/100      8.84G     0.4718       0.28     0.7946        119        640: 100%|██████████| 1191/1191 [07:41<00:00,  2.58it/s]\n",
      "                 Class     Images  Instances      Box(P          R      mAP50  mAP50-95): 100%|██████████| 66/66 [00:17<00:00,  3.81it/s]"
     ]
    },
    {
     "name": "stdout",
     "output_type": "stream",
     "text": [
      "                   all       1044      16167      0.654      0.502      0.551       0.35\n"
     ]
    },
    {
     "name": "stderr",
     "output_type": "stream",
     "text": [
      "\n"
     ]
    },
    {
     "name": "stdout",
     "output_type": "stream",
     "text": [
      "\n",
      "      Epoch    GPU_mem   box_loss   cls_loss   dfl_loss  Instances       Size\n"
     ]
    },
    {
     "name": "stderr",
     "output_type": "stream",
     "text": [
      "     38/100      8.63G      0.462     0.2749     0.7935         41        640: 100%|██████████| 1191/1191 [07:43<00:00,  2.57it/s]\n",
      "                 Class     Images  Instances      Box(P          R      mAP50  mAP50-95): 100%|██████████| 66/66 [00:17<00:00,  3.80it/s]"
     ]
    },
    {
     "name": "stdout",
     "output_type": "stream",
     "text": [
      "                   all       1044      16167      0.677      0.472      0.538       0.34\n"
     ]
    },
    {
     "name": "stderr",
     "output_type": "stream",
     "text": [
      "\n"
     ]
    },
    {
     "name": "stdout",
     "output_type": "stream",
     "text": [
      "\n",
      "      Epoch    GPU_mem   box_loss   cls_loss   dfl_loss  Instances       Size\n"
     ]
    },
    {
     "name": "stderr",
     "output_type": "stream",
     "text": [
      "     39/100      8.76G     0.4544     0.2715     0.7919         71        640: 100%|██████████| 1191/1191 [07:44<00:00,  2.56it/s]\n",
      "                 Class     Images  Instances      Box(P          R      mAP50  mAP50-95): 100%|██████████| 66/66 [00:17<00:00,  3.80it/s]"
     ]
    },
    {
     "name": "stdout",
     "output_type": "stream",
     "text": [
      "                   all       1044      16167      0.658      0.479      0.534      0.332\n"
     ]
    },
    {
     "name": "stderr",
     "output_type": "stream",
     "text": [
      "\n"
     ]
    },
    {
     "name": "stdout",
     "output_type": "stream",
     "text": [
      "\n",
      "      Epoch    GPU_mem   box_loss   cls_loss   dfl_loss  Instances       Size\n"
     ]
    },
    {
     "name": "stderr",
     "output_type": "stream",
     "text": [
      "     40/100      8.78G     0.4429     0.2645     0.7904         73        640: 100%|██████████| 1191/1191 [07:44<00:00,  2.57it/s]\n",
      "                 Class     Images  Instances      Box(P          R      mAP50  mAP50-95): 100%|██████████| 66/66 [00:17<00:00,  3.80it/s]"
     ]
    },
    {
     "name": "stdout",
     "output_type": "stream",
     "text": [
      "                   all       1044      16167       0.66      0.473      0.525      0.332\n"
     ]
    },
    {
     "name": "stderr",
     "output_type": "stream",
     "text": [
      "\n"
     ]
    },
    {
     "name": "stdout",
     "output_type": "stream",
     "text": [
      "\n",
      "      Epoch    GPU_mem   box_loss   cls_loss   dfl_loss  Instances       Size\n"
     ]
    },
    {
     "name": "stderr",
     "output_type": "stream",
     "text": [
      "     41/100      8.81G     0.4358     0.2607      0.789         54        640: 100%|██████████| 1191/1191 [07:44<00:00,  2.57it/s]\n",
      "                 Class     Images  Instances      Box(P          R      mAP50  mAP50-95): 100%|██████████| 66/66 [00:17<00:00,  3.80it/s]"
     ]
    },
    {
     "name": "stdout",
     "output_type": "stream",
     "text": [
      "                   all       1044      16167      0.638       0.47      0.522      0.333\n"
     ]
    },
    {
     "name": "stderr",
     "output_type": "stream",
     "text": [
      "\n"
     ]
    },
    {
     "name": "stdout",
     "output_type": "stream",
     "text": [
      "\n",
      "      Epoch    GPU_mem   box_loss   cls_loss   dfl_loss  Instances       Size\n"
     ]
    },
    {
     "name": "stderr",
     "output_type": "stream",
     "text": [
      "     42/100      8.79G     0.4253     0.2558     0.7877         43        640: 100%|██████████| 1191/1191 [07:40<00:00,  2.58it/s]\n",
      "                 Class     Images  Instances      Box(P          R      mAP50  mAP50-95): 100%|██████████| 66/66 [00:17<00:00,  3.83it/s]"
     ]
    },
    {
     "name": "stdout",
     "output_type": "stream",
     "text": [
      "                   all       1044      16167      0.664      0.472      0.541      0.345\n"
     ]
    },
    {
     "name": "stderr",
     "output_type": "stream",
     "text": [
      "\n"
     ]
    },
    {
     "name": "stdout",
     "output_type": "stream",
     "text": [
      "\n",
      "      Epoch    GPU_mem   box_loss   cls_loss   dfl_loss  Instances       Size\n"
     ]
    },
    {
     "name": "stderr",
     "output_type": "stream",
     "text": [
      "     43/100      8.78G      0.418     0.2517     0.7868         49        640: 100%|██████████| 1191/1191 [07:43<00:00,  2.57it/s]\n",
      "                 Class     Images  Instances      Box(P          R      mAP50  mAP50-95): 100%|██████████| 66/66 [00:17<00:00,  3.80it/s]"
     ]
    },
    {
     "name": "stdout",
     "output_type": "stream",
     "text": [
      "                   all       1044      16167      0.631       0.49      0.542      0.348\n"
     ]
    },
    {
     "name": "stderr",
     "output_type": "stream",
     "text": [
      "\n"
     ]
    },
    {
     "name": "stdout",
     "output_type": "stream",
     "text": [
      "\n",
      "      Epoch    GPU_mem   box_loss   cls_loss   dfl_loss  Instances       Size\n"
     ]
    },
    {
     "name": "stderr",
     "output_type": "stream",
     "text": [
      "     44/100      8.75G      0.411     0.2481      0.786        107        640: 100%|██████████| 1191/1191 [07:44<00:00,  2.57it/s]\n",
      "                 Class     Images  Instances      Box(P          R      mAP50  mAP50-95): 100%|██████████| 66/66 [00:17<00:00,  3.80it/s]"
     ]
    },
    {
     "name": "stdout",
     "output_type": "stream",
     "text": [
      "                   all       1044      16167      0.666      0.471      0.542      0.345\n"
     ]
    },
    {
     "name": "stderr",
     "output_type": "stream",
     "text": [
      "\n"
     ]
    },
    {
     "name": "stdout",
     "output_type": "stream",
     "text": [
      "\n",
      "      Epoch    GPU_mem   box_loss   cls_loss   dfl_loss  Instances       Size\n"
     ]
    },
    {
     "name": "stderr",
     "output_type": "stream",
     "text": [
      "     45/100      8.78G     0.4012     0.2429     0.7844         53        640: 100%|██████████| 1191/1191 [07:40<00:00,  2.59it/s]\n",
      "                 Class     Images  Instances      Box(P          R      mAP50  mAP50-95): 100%|██████████| 66/66 [00:17<00:00,  3.84it/s]"
     ]
    },
    {
     "name": "stdout",
     "output_type": "stream",
     "text": [
      "                   all       1044      16167      0.681      0.468      0.535      0.343\n"
     ]
    },
    {
     "name": "stderr",
     "output_type": "stream",
     "text": [
      "\n"
     ]
    },
    {
     "name": "stdout",
     "output_type": "stream",
     "text": [
      "\n",
      "      Epoch    GPU_mem   box_loss   cls_loss   dfl_loss  Instances       Size\n"
     ]
    },
    {
     "name": "stderr",
     "output_type": "stream",
     "text": [
      "     46/100      8.61G     0.3941     0.2404     0.7838         24        640: 100%|██████████| 1191/1191 [07:43<00:00,  2.57it/s]\n",
      "                 Class     Images  Instances      Box(P          R      mAP50  mAP50-95): 100%|██████████| 66/66 [00:17<00:00,  3.80it/s]"
     ]
    },
    {
     "name": "stdout",
     "output_type": "stream",
     "text": [
      "                   all       1044      16167      0.699      0.459      0.535      0.344\n"
     ]
    },
    {
     "name": "stderr",
     "output_type": "stream",
     "text": [
      "\n"
     ]
    },
    {
     "name": "stdout",
     "output_type": "stream",
     "text": [
      "\n",
      "      Epoch    GPU_mem   box_loss   cls_loss   dfl_loss  Instances       Size\n"
     ]
    },
    {
     "name": "stderr",
     "output_type": "stream",
     "text": [
      "     47/100      8.77G     0.3879     0.2373     0.7829         70        640: 100%|██████████| 1191/1191 [07:42<00:00,  2.58it/s]\n",
      "                 Class     Images  Instances      Box(P          R      mAP50  mAP50-95): 100%|██████████| 66/66 [00:17<00:00,  3.83it/s]"
     ]
    },
    {
     "name": "stdout",
     "output_type": "stream",
     "text": [
      "                   all       1044      16167      0.709      0.446      0.534      0.344\n"
     ]
    },
    {
     "name": "stderr",
     "output_type": "stream",
     "text": [
      "\n"
     ]
    },
    {
     "name": "stdout",
     "output_type": "stream",
     "text": [
      "\n",
      "      Epoch    GPU_mem   box_loss   cls_loss   dfl_loss  Instances       Size\n"
     ]
    },
    {
     "name": "stderr",
     "output_type": "stream",
     "text": [
      "     48/100      8.79G     0.3809     0.2329      0.782         30        640: 100%|██████████| 1191/1191 [07:45<00:00,  2.56it/s]\n",
      "                 Class     Images  Instances      Box(P          R      mAP50  mAP50-95): 100%|██████████| 66/66 [00:17<00:00,  3.77it/s]"
     ]
    },
    {
     "name": "stdout",
     "output_type": "stream",
     "text": [
      "                   all       1044      16167      0.724      0.456      0.542      0.349\n"
     ]
    },
    {
     "name": "stderr",
     "output_type": "stream",
     "text": [
      "\n"
     ]
    },
    {
     "name": "stdout",
     "output_type": "stream",
     "text": [
      "\n",
      "      Epoch    GPU_mem   box_loss   cls_loss   dfl_loss  Instances       Size\n"
     ]
    },
    {
     "name": "stderr",
     "output_type": "stream",
     "text": [
      "     49/100      8.85G     0.3738     0.2291      0.781         50        640: 100%|██████████| 1191/1191 [07:44<00:00,  2.56it/s]\n",
      "                 Class     Images  Instances      Box(P          R      mAP50  mAP50-95): 100%|██████████| 66/66 [00:17<00:00,  3.80it/s]"
     ]
    },
    {
     "name": "stdout",
     "output_type": "stream",
     "text": [
      "                   all       1044      16167      0.673      0.476      0.544       0.35\n"
     ]
    },
    {
     "name": "stderr",
     "output_type": "stream",
     "text": [
      "\n"
     ]
    },
    {
     "name": "stdout",
     "output_type": "stream",
     "text": [
      "\n",
      "      Epoch    GPU_mem   box_loss   cls_loss   dfl_loss  Instances       Size\n"
     ]
    },
    {
     "name": "stderr",
     "output_type": "stream",
     "text": [
      "     50/100      8.84G     0.3685     0.2262     0.7808         19        640: 100%|██████████| 1191/1191 [07:39<00:00,  2.59it/s]\n",
      "                 Class     Images  Instances      Box(P          R      mAP50  mAP50-95): 100%|██████████| 66/66 [00:17<00:00,  3.84it/s]"
     ]
    },
    {
     "name": "stdout",
     "output_type": "stream",
     "text": [
      "                   all       1044      16167      0.676      0.483      0.542      0.347\n"
     ]
    },
    {
     "name": "stderr",
     "output_type": "stream",
     "text": [
      "\n"
     ]
    },
    {
     "name": "stdout",
     "output_type": "stream",
     "text": [
      "\n",
      "      Epoch    GPU_mem   box_loss   cls_loss   dfl_loss  Instances       Size\n"
     ]
    },
    {
     "name": "stderr",
     "output_type": "stream",
     "text": [
      "     51/100      8.79G     0.3629     0.2244     0.7803         43        640: 100%|██████████| 1191/1191 [07:43<00:00,  2.57it/s]\n",
      "                 Class     Images  Instances      Box(P          R      mAP50  mAP50-95): 100%|██████████| 66/66 [00:17<00:00,  3.80it/s]"
     ]
    },
    {
     "name": "stdout",
     "output_type": "stream",
     "text": [
      "                   all       1044      16167      0.648      0.483      0.536      0.343\n"
     ]
    },
    {
     "name": "stderr",
     "output_type": "stream",
     "text": [
      "\n"
     ]
    },
    {
     "name": "stdout",
     "output_type": "stream",
     "text": [
      "\n",
      "      Epoch    GPU_mem   box_loss   cls_loss   dfl_loss  Instances       Size\n"
     ]
    },
    {
     "name": "stderr",
     "output_type": "stream",
     "text": [
      "     52/100      8.75G     0.3559     0.2202     0.7792         27        640: 100%|██████████| 1191/1191 [07:40<00:00,  2.59it/s]\n",
      "                 Class     Images  Instances      Box(P          R      mAP50  mAP50-95): 100%|██████████| 66/66 [00:17<00:00,  3.83it/s]"
     ]
    },
    {
     "name": "stdout",
     "output_type": "stream",
     "text": [
      "                   all       1044      16167      0.692      0.469      0.542      0.348\n"
     ]
    },
    {
     "name": "stderr",
     "output_type": "stream",
     "text": [
      "\n"
     ]
    },
    {
     "name": "stdout",
     "output_type": "stream",
     "text": [
      "\n",
      "      Epoch    GPU_mem   box_loss   cls_loss   dfl_loss  Instances       Size\n"
     ]
    },
    {
     "name": "stderr",
     "output_type": "stream",
     "text": [
      "     53/100      8.81G     0.3469     0.2156     0.7783         67        640: 100%|██████████| 1191/1191 [07:43<00:00,  2.57it/s]\n",
      "                 Class     Images  Instances      Box(P          R      mAP50  mAP50-95): 100%|██████████| 66/66 [00:17<00:00,  3.80it/s]"
     ]
    },
    {
     "name": "stdout",
     "output_type": "stream",
     "text": [
      "                   all       1044      16167       0.71      0.451      0.541      0.347\n"
     ]
    },
    {
     "name": "stderr",
     "output_type": "stream",
     "text": [
      "\n"
     ]
    },
    {
     "name": "stdout",
     "output_type": "stream",
     "text": [
      "\n",
      "      Epoch    GPU_mem   box_loss   cls_loss   dfl_loss  Instances       Size\n"
     ]
    },
    {
     "name": "stderr",
     "output_type": "stream",
     "text": [
      "     54/100      8.57G     0.3407     0.2124     0.7776         77        640: 100%|██████████| 1191/1191 [07:43<00:00,  2.57it/s]\n",
      "                 Class     Images  Instances      Box(P          R      mAP50  mAP50-95): 100%|██████████| 66/66 [00:17<00:00,  3.80it/s]"
     ]
    },
    {
     "name": "stdout",
     "output_type": "stream",
     "text": [
      "                   all       1044      16167      0.738       0.44      0.535      0.343\n"
     ]
    },
    {
     "name": "stderr",
     "output_type": "stream",
     "text": [
      "\n"
     ]
    },
    {
     "name": "stdout",
     "output_type": "stream",
     "text": [
      "\n",
      "      Epoch    GPU_mem   box_loss   cls_loss   dfl_loss  Instances       Size\n"
     ]
    },
    {
     "name": "stderr",
     "output_type": "stream",
     "text": [
      "     55/100      8.78G     0.3335     0.2092     0.7768         76        640: 100%|██████████| 1191/1191 [07:43<00:00,  2.57it/s]\n",
      "                 Class     Images  Instances      Box(P          R      mAP50  mAP50-95): 100%|██████████| 66/66 [00:17<00:00,  3.80it/s]"
     ]
    },
    {
     "name": "stdout",
     "output_type": "stream",
     "text": [
      "                   all       1044      16167      0.711       0.47      0.548      0.355\n"
     ]
    },
    {
     "name": "stderr",
     "output_type": "stream",
     "text": [
      "\n"
     ]
    },
    {
     "name": "stdout",
     "output_type": "stream",
     "text": [
      "\n",
      "      Epoch    GPU_mem   box_loss   cls_loss   dfl_loss  Instances       Size\n"
     ]
    },
    {
     "name": "stderr",
     "output_type": "stream",
     "text": [
      "     56/100      8.79G       0.33     0.2072     0.7761         83        640: 100%|██████████| 1191/1191 [07:41<00:00,  2.58it/s]\n",
      "                 Class     Images  Instances      Box(P          R      mAP50  mAP50-95): 100%|██████████| 66/66 [00:17<00:00,  3.83it/s]"
     ]
    },
    {
     "name": "stdout",
     "output_type": "stream",
     "text": [
      "                   all       1044      16167      0.707      0.469      0.544      0.349\n"
     ]
    },
    {
     "name": "stderr",
     "output_type": "stream",
     "text": [
      "\n"
     ]
    },
    {
     "name": "stdout",
     "output_type": "stream",
     "text": [
      "\n",
      "      Epoch    GPU_mem   box_loss   cls_loss   dfl_loss  Instances       Size\n"
     ]
    },
    {
     "name": "stderr",
     "output_type": "stream",
     "text": [
      "     57/100       8.8G     0.3255      0.205     0.7758         84        640: 100%|██████████| 1191/1191 [07:43<00:00,  2.57it/s]\n",
      "                 Class     Images  Instances      Box(P          R      mAP50  mAP50-95): 100%|██████████| 66/66 [00:17<00:00,  3.80it/s]"
     ]
    },
    {
     "name": "stdout",
     "output_type": "stream",
     "text": [
      "                   all       1044      16167      0.676      0.468      0.545      0.354\n"
     ]
    },
    {
     "name": "stderr",
     "output_type": "stream",
     "text": [
      "\n"
     ]
    },
    {
     "name": "stdout",
     "output_type": "stream",
     "text": [
      "\n",
      "      Epoch    GPU_mem   box_loss   cls_loss   dfl_loss  Instances       Size\n"
     ]
    },
    {
     "name": "stderr",
     "output_type": "stream",
     "text": [
      "     58/100      8.82G     0.3203     0.2018     0.7752         61        640: 100%|██████████| 1191/1191 [07:43<00:00,  2.57it/s]\n",
      "                 Class     Images  Instances      Box(P          R      mAP50  mAP50-95): 100%|██████████| 66/66 [00:17<00:00,  3.80it/s]"
     ]
    },
    {
     "name": "stdout",
     "output_type": "stream",
     "text": [
      "                   all       1044      16167      0.667      0.478      0.543      0.352\n"
     ]
    },
    {
     "name": "stderr",
     "output_type": "stream",
     "text": [
      "\n"
     ]
    },
    {
     "name": "stdout",
     "output_type": "stream",
     "text": [
      "\n",
      "      Epoch    GPU_mem   box_loss   cls_loss   dfl_loss  Instances       Size\n"
     ]
    },
    {
     "name": "stderr",
     "output_type": "stream",
     "text": [
      "     59/100      8.81G     0.3153     0.1996     0.7751         65        640: 100%|██████████| 1191/1191 [07:43<00:00,  2.57it/s]\n",
      "                 Class     Images  Instances      Box(P          R      mAP50  mAP50-95): 100%|██████████| 66/66 [00:17<00:00,  3.81it/s]"
     ]
    },
    {
     "name": "stdout",
     "output_type": "stream",
     "text": [
      "                   all       1044      16167      0.698      0.478      0.549      0.357\n"
     ]
    },
    {
     "name": "stderr",
     "output_type": "stream",
     "text": [
      "\n"
     ]
    },
    {
     "name": "stdout",
     "output_type": "stream",
     "text": [
      "\n",
      "      Epoch    GPU_mem   box_loss   cls_loss   dfl_loss  Instances       Size\n"
     ]
    },
    {
     "name": "stderr",
     "output_type": "stream",
     "text": [
      "     60/100      8.77G     0.3101     0.1968     0.7743         53        640: 100%|██████████| 1191/1191 [07:40<00:00,  2.58it/s]\n",
      "                 Class     Images  Instances      Box(P          R      mAP50  mAP50-95): 100%|██████████| 66/66 [00:17<00:00,  3.83it/s]"
     ]
    },
    {
     "name": "stdout",
     "output_type": "stream",
     "text": [
      "                   all       1044      16167      0.707      0.472      0.552      0.359\n"
     ]
    },
    {
     "name": "stderr",
     "output_type": "stream",
     "text": [
      "\n"
     ]
    },
    {
     "name": "stdout",
     "output_type": "stream",
     "text": [
      "\n",
      "      Epoch    GPU_mem   box_loss   cls_loss   dfl_loss  Instances       Size\n"
     ]
    },
    {
     "name": "stderr",
     "output_type": "stream",
     "text": [
      "     61/100      8.78G     0.3032      0.193     0.7736         56        640: 100%|██████████| 1191/1191 [07:43<00:00,  2.57it/s]\n",
      "                 Class     Images  Instances      Box(P          R      mAP50  mAP50-95): 100%|██████████| 66/66 [00:17<00:00,  3.80it/s]"
     ]
    },
    {
     "name": "stdout",
     "output_type": "stream",
     "text": [
      "                   all       1044      16167      0.682      0.488      0.553      0.361\n"
     ]
    },
    {
     "name": "stderr",
     "output_type": "stream",
     "text": [
      "\n"
     ]
    },
    {
     "name": "stdout",
     "output_type": "stream",
     "text": [
      "\n",
      "      Epoch    GPU_mem   box_loss   cls_loss   dfl_loss  Instances       Size\n"
     ]
    },
    {
     "name": "stderr",
     "output_type": "stream",
     "text": [
      "     62/100      8.58G     0.2973     0.1897      0.773         95        640: 100%|██████████| 1191/1191 [07:43<00:00,  2.57it/s]\n",
      "                 Class     Images  Instances      Box(P          R      mAP50  mAP50-95): 100%|██████████| 66/66 [00:17<00:00,  3.81it/s]"
     ]
    },
    {
     "name": "stdout",
     "output_type": "stream",
     "text": [
      "                   all       1044      16167      0.692      0.471      0.549      0.358\n"
     ]
    },
    {
     "name": "stderr",
     "output_type": "stream",
     "text": [
      "\n"
     ]
    },
    {
     "name": "stdout",
     "output_type": "stream",
     "text": [
      "\n",
      "      Epoch    GPU_mem   box_loss   cls_loss   dfl_loss  Instances       Size\n"
     ]
    },
    {
     "name": "stderr",
     "output_type": "stream",
     "text": [
      "     63/100      8.78G     0.2944     0.1883      0.773         80        640: 100%|██████████| 1191/1191 [07:44<00:00,  2.57it/s]\n",
      "                 Class     Images  Instances      Box(P          R      mAP50  mAP50-95): 100%|██████████| 66/66 [00:17<00:00,  3.80it/s]"
     ]
    },
    {
     "name": "stdout",
     "output_type": "stream",
     "text": [
      "                   all       1044      16167      0.724      0.462      0.549      0.356\n"
     ]
    },
    {
     "name": "stderr",
     "output_type": "stream",
     "text": [
      "\n"
     ]
    },
    {
     "name": "stdout",
     "output_type": "stream",
     "text": [
      "\n",
      "      Epoch    GPU_mem   box_loss   cls_loss   dfl_loss  Instances       Size\n"
     ]
    },
    {
     "name": "stderr",
     "output_type": "stream",
     "text": [
      "     64/100      8.84G     0.2891     0.1855     0.7728         53        640: 100%|██████████| 1191/1191 [07:43<00:00,  2.57it/s]\n",
      "                 Class     Images  Instances      Box(P          R      mAP50  mAP50-95): 100%|██████████| 66/66 [00:17<00:00,  3.80it/s]"
     ]
    },
    {
     "name": "stdout",
     "output_type": "stream",
     "text": [
      "                   all       1044      16167      0.698      0.472      0.551      0.358\n"
     ]
    },
    {
     "name": "stderr",
     "output_type": "stream",
     "text": [
      "\n"
     ]
    },
    {
     "name": "stdout",
     "output_type": "stream",
     "text": [
      "\n",
      "      Epoch    GPU_mem   box_loss   cls_loss   dfl_loss  Instances       Size\n"
     ]
    },
    {
     "name": "stderr",
     "output_type": "stream",
     "text": [
      "     65/100      8.86G     0.2839     0.1837     0.7721         68        640: 100%|██████████| 1191/1191 [07:43<00:00,  2.57it/s]\n",
      "                 Class     Images  Instances      Box(P          R      mAP50  mAP50-95): 100%|██████████| 66/66 [00:17<00:00,  3.81it/s]"
     ]
    },
    {
     "name": "stdout",
     "output_type": "stream",
     "text": [
      "                   all       1044      16167      0.696      0.475      0.552       0.36\n"
     ]
    },
    {
     "name": "stderr",
     "output_type": "stream",
     "text": [
      "\n"
     ]
    },
    {
     "name": "stdout",
     "output_type": "stream",
     "text": [
      "\n",
      "      Epoch    GPU_mem   box_loss   cls_loss   dfl_loss  Instances       Size\n"
     ]
    },
    {
     "name": "stderr",
     "output_type": "stream",
     "text": [
      "     66/100       8.8G     0.2804     0.1811     0.7717         48        640: 100%|██████████| 1191/1191 [07:43<00:00,  2.57it/s]\n",
      "                 Class     Images  Instances      Box(P          R      mAP50  mAP50-95): 100%|██████████| 66/66 [00:17<00:00,  3.80it/s]"
     ]
    },
    {
     "name": "stdout",
     "output_type": "stream",
     "text": [
      "                   all       1044      16167       0.72      0.466      0.551      0.359\n"
     ]
    },
    {
     "name": "stderr",
     "output_type": "stream",
     "text": [
      "\n"
     ]
    },
    {
     "name": "stdout",
     "output_type": "stream",
     "text": [
      "\n",
      "      Epoch    GPU_mem   box_loss   cls_loss   dfl_loss  Instances       Size\n"
     ]
    },
    {
     "name": "stderr",
     "output_type": "stream",
     "text": [
      "     67/100      8.86G     0.2752     0.1789     0.7713         70        640: 100%|██████████| 1191/1191 [07:41<00:00,  2.58it/s]\n",
      "                 Class     Images  Instances      Box(P          R      mAP50  mAP50-95): 100%|██████████| 66/66 [00:17<00:00,  3.83it/s]"
     ]
    },
    {
     "name": "stdout",
     "output_type": "stream",
     "text": [
      "                   all       1044      16167      0.692      0.483      0.556      0.362\n"
     ]
    },
    {
     "name": "stderr",
     "output_type": "stream",
     "text": [
      "\n"
     ]
    },
    {
     "name": "stdout",
     "output_type": "stream",
     "text": [
      "\n",
      "      Epoch    GPU_mem   box_loss   cls_loss   dfl_loss  Instances       Size\n"
     ]
    },
    {
     "name": "stderr",
     "output_type": "stream",
     "text": [
      "     68/100       8.8G     0.2679     0.1753     0.7705         24        640: 100%|██████████| 1191/1191 [07:43<00:00,  2.57it/s]\n",
      "                 Class     Images  Instances      Box(P          R      mAP50  mAP50-95): 100%|██████████| 66/66 [00:17<00:00,  3.81it/s]"
     ]
    },
    {
     "name": "stdout",
     "output_type": "stream",
     "text": [
      "                   all       1044      16167      0.699      0.481      0.556      0.363\n"
     ]
    },
    {
     "name": "stderr",
     "output_type": "stream",
     "text": [
      "\n"
     ]
    },
    {
     "name": "stdout",
     "output_type": "stream",
     "text": [
      "\n",
      "      Epoch    GPU_mem   box_loss   cls_loss   dfl_loss  Instances       Size\n"
     ]
    },
    {
     "name": "stderr",
     "output_type": "stream",
     "text": [
      "     69/100      8.83G     0.2639      0.173     0.7704         41        640: 100%|██████████| 1191/1191 [07:40<00:00,  2.58it/s]\n",
      "                 Class     Images  Instances      Box(P          R      mAP50  mAP50-95): 100%|██████████| 66/66 [00:17<00:00,  3.83it/s]"
     ]
    },
    {
     "name": "stdout",
     "output_type": "stream",
     "text": [
      "                   all       1044      16167      0.742      0.465      0.557      0.365\n"
     ]
    },
    {
     "name": "stderr",
     "output_type": "stream",
     "text": [
      "\n"
     ]
    },
    {
     "name": "stdout",
     "output_type": "stream",
     "text": [
      "\n",
      "      Epoch    GPU_mem   box_loss   cls_loss   dfl_loss  Instances       Size\n"
     ]
    },
    {
     "name": "stderr",
     "output_type": "stream",
     "text": [
      "     70/100      8.57G     0.2585      0.169     0.7696         80        640: 100%|██████████| 1191/1191 [07:43<00:00,  2.57it/s]\n",
      "                 Class     Images  Instances      Box(P          R      mAP50  mAP50-95): 100%|██████████| 66/66 [00:17<00:00,  3.81it/s]"
     ]
    },
    {
     "name": "stdout",
     "output_type": "stream",
     "text": [
      "                   all       1044      16167      0.715      0.485       0.56      0.365\n"
     ]
    },
    {
     "name": "stderr",
     "output_type": "stream",
     "text": [
      "\n"
     ]
    },
    {
     "name": "stdout",
     "output_type": "stream",
     "text": [
      "\n",
      "      Epoch    GPU_mem   box_loss   cls_loss   dfl_loss  Instances       Size\n"
     ]
    },
    {
     "name": "stderr",
     "output_type": "stream",
     "text": [
      "     71/100      8.77G     0.2541     0.1668     0.7697         38        640: 100%|██████████| 1191/1191 [07:40<00:00,  2.59it/s]\n",
      "                 Class     Images  Instances      Box(P          R      mAP50  mAP50-95): 100%|██████████| 66/66 [00:17<00:00,  3.83it/s]"
     ]
    },
    {
     "name": "stdout",
     "output_type": "stream",
     "text": [
      "                   all       1044      16167      0.702      0.482       0.56      0.365\n"
     ]
    },
    {
     "name": "stderr",
     "output_type": "stream",
     "text": [
      "\n"
     ]
    },
    {
     "name": "stdout",
     "output_type": "stream",
     "text": [
      "\n",
      "      Epoch    GPU_mem   box_loss   cls_loss   dfl_loss  Instances       Size\n"
     ]
    },
    {
     "name": "stderr",
     "output_type": "stream",
     "text": [
      "     72/100      8.84G     0.2506     0.1651     0.7695         58        640: 100%|██████████| 1191/1191 [07:43<00:00,  2.57it/s]\n",
      "                 Class     Images  Instances      Box(P          R      mAP50  mAP50-95): 100%|██████████| 66/66 [00:17<00:00,  3.81it/s]"
     ]
    },
    {
     "name": "stdout",
     "output_type": "stream",
     "text": [
      "                   all       1044      16167      0.699      0.486      0.556      0.364\n"
     ]
    },
    {
     "name": "stderr",
     "output_type": "stream",
     "text": [
      "\n"
     ]
    },
    {
     "name": "stdout",
     "output_type": "stream",
     "text": [
      "\n",
      "      Epoch    GPU_mem   box_loss   cls_loss   dfl_loss  Instances       Size\n"
     ]
    },
    {
     "name": "stderr",
     "output_type": "stream",
     "text": [
      "     73/100      8.85G     0.2453     0.1629     0.7685         78        640: 100%|██████████| 1191/1191 [07:44<00:00,  2.57it/s]\n",
      "                 Class     Images  Instances      Box(P          R      mAP50  mAP50-95): 100%|██████████| 66/66 [00:17<00:00,  3.81it/s]"
     ]
    },
    {
     "name": "stdout",
     "output_type": "stream",
     "text": [
      "                   all       1044      16167      0.717      0.478      0.555      0.362\n"
     ]
    },
    {
     "name": "stderr",
     "output_type": "stream",
     "text": [
      "\n"
     ]
    },
    {
     "name": "stdout",
     "output_type": "stream",
     "text": [
      "\n",
      "      Epoch    GPU_mem   box_loss   cls_loss   dfl_loss  Instances       Size\n"
     ]
    },
    {
     "name": "stderr",
     "output_type": "stream",
     "text": [
      "     74/100      8.79G     0.2447     0.1615     0.7693         62        640: 100%|██████████| 1191/1191 [07:44<00:00,  2.57it/s]\n",
      "                 Class     Images  Instances      Box(P          R      mAP50  mAP50-95): 100%|██████████| 66/66 [00:17<00:00,  3.81it/s]"
     ]
    },
    {
     "name": "stdout",
     "output_type": "stream",
     "text": [
      "                   all       1044      16167      0.725      0.476      0.556      0.361\n"
     ]
    },
    {
     "name": "stderr",
     "output_type": "stream",
     "text": [
      "\n"
     ]
    },
    {
     "name": "stdout",
     "output_type": "stream",
     "text": [
      "\n",
      "      Epoch    GPU_mem   box_loss   cls_loss   dfl_loss  Instances       Size\n"
     ]
    },
    {
     "name": "stderr",
     "output_type": "stream",
     "text": [
      "     75/100      8.81G     0.2384     0.1588      0.768         60        640: 100%|██████████| 1191/1191 [07:43<00:00,  2.57it/s]\n",
      "                 Class     Images  Instances      Box(P          R      mAP50  mAP50-95): 100%|██████████| 66/66 [00:17<00:00,  3.81it/s]"
     ]
    },
    {
     "name": "stdout",
     "output_type": "stream",
     "text": [
      "                   all       1044      16167      0.733      0.465      0.556      0.362\n"
     ]
    },
    {
     "name": "stderr",
     "output_type": "stream",
     "text": [
      "\n"
     ]
    },
    {
     "name": "stdout",
     "output_type": "stream",
     "text": [
      "\n",
      "      Epoch    GPU_mem   box_loss   cls_loss   dfl_loss  Instances       Size\n"
     ]
    },
    {
     "name": "stderr",
     "output_type": "stream",
     "text": [
      "     76/100      8.81G     0.2352     0.1571     0.7682         74        640: 100%|██████████| 1191/1191 [07:43<00:00,  2.57it/s]\n",
      "                 Class     Images  Instances      Box(P          R      mAP50  mAP50-95): 100%|██████████| 66/66 [00:17<00:00,  3.81it/s]"
     ]
    },
    {
     "name": "stdout",
     "output_type": "stream",
     "text": [
      "                   all       1044      16167      0.744       0.46      0.558      0.363\n"
     ]
    },
    {
     "name": "stderr",
     "output_type": "stream",
     "text": [
      "\n"
     ]
    },
    {
     "name": "stdout",
     "output_type": "stream",
     "text": [
      "\n",
      "      Epoch    GPU_mem   box_loss   cls_loss   dfl_loss  Instances       Size\n"
     ]
    },
    {
     "name": "stderr",
     "output_type": "stream",
     "text": [
      "     77/100      8.82G     0.2323     0.1554     0.7682         19        640: 100%|██████████| 1191/1191 [07:43<00:00,  2.57it/s]\n",
      "                 Class     Images  Instances      Box(P          R      mAP50  mAP50-95): 100%|██████████| 66/66 [00:17<00:00,  3.81it/s]"
     ]
    },
    {
     "name": "stdout",
     "output_type": "stream",
     "text": [
      "                   all       1044      16167      0.737      0.463      0.561      0.366\n"
     ]
    },
    {
     "name": "stderr",
     "output_type": "stream",
     "text": [
      "\n"
     ]
    },
    {
     "name": "stdout",
     "output_type": "stream",
     "text": [
      "\n",
      "      Epoch    GPU_mem   box_loss   cls_loss   dfl_loss  Instances       Size\n"
     ]
    },
    {
     "name": "stderr",
     "output_type": "stream",
     "text": [
      "     78/100      8.81G     0.2252     0.1513     0.7673         65        640: 100%|██████████| 1191/1191 [07:43<00:00,  2.57it/s]\n",
      "                 Class     Images  Instances      Box(P          R      mAP50  mAP50-95): 100%|██████████| 66/66 [00:17<00:00,  3.81it/s]"
     ]
    },
    {
     "name": "stdout",
     "output_type": "stream",
     "text": [
      "                   all       1044      16167      0.723      0.467       0.56      0.366\n"
     ]
    },
    {
     "name": "stderr",
     "output_type": "stream",
     "text": [
      "\n"
     ]
    },
    {
     "name": "stdout",
     "output_type": "stream",
     "text": [
      "\n",
      "      Epoch    GPU_mem   box_loss   cls_loss   dfl_loss  Instances       Size\n"
     ]
    },
    {
     "name": "stderr",
     "output_type": "stream",
     "text": [
      "     79/100      8.79G     0.2223     0.1496     0.7671         63        640: 100%|██████████| 1191/1191 [07:44<00:00,  2.57it/s]\n",
      "                 Class     Images  Instances      Box(P          R      mAP50  mAP50-95): 100%|██████████| 66/66 [00:17<00:00,  3.81it/s]"
     ]
    },
    {
     "name": "stdout",
     "output_type": "stream",
     "text": [
      "                   all       1044      16167      0.705      0.476       0.56      0.366\n"
     ]
    },
    {
     "name": "stderr",
     "output_type": "stream",
     "text": [
      "\n"
     ]
    },
    {
     "name": "stdout",
     "output_type": "stream",
     "text": [
      "\n",
      "      Epoch    GPU_mem   box_loss   cls_loss   dfl_loss  Instances       Size\n"
     ]
    },
    {
     "name": "stderr",
     "output_type": "stream",
     "text": [
      "     80/100      8.82G     0.2205     0.1482     0.7669         65        640: 100%|██████████| 1191/1191 [07:43<00:00,  2.57it/s]\n",
      "                 Class     Images  Instances      Box(P          R      mAP50  mAP50-95): 100%|██████████| 66/66 [00:17<00:00,  3.81it/s]"
     ]
    },
    {
     "name": "stdout",
     "output_type": "stream",
     "text": [
      "                   all       1044      16167      0.717      0.471      0.559      0.366\n"
     ]
    },
    {
     "name": "stderr",
     "output_type": "stream",
     "text": [
      "\n"
     ]
    },
    {
     "name": "stdout",
     "output_type": "stream",
     "text": [
      "\n",
      "      Epoch    GPU_mem   box_loss   cls_loss   dfl_loss  Instances       Size\n"
     ]
    },
    {
     "name": "stderr",
     "output_type": "stream",
     "text": [
      "     81/100      8.86G     0.2152     0.1453     0.7666         85        640: 100%|██████████| 1191/1191 [07:43<00:00,  2.57it/s]\n",
      "                 Class     Images  Instances      Box(P          R      mAP50  mAP50-95): 100%|██████████| 66/66 [00:17<00:00,  3.80it/s]"
     ]
    },
    {
     "name": "stdout",
     "output_type": "stream",
     "text": [
      "                   all       1044      16167      0.708      0.479      0.561      0.366\n"
     ]
    },
    {
     "name": "stderr",
     "output_type": "stream",
     "text": [
      "\n"
     ]
    },
    {
     "name": "stdout",
     "output_type": "stream",
     "text": [
      "\n",
      "      Epoch    GPU_mem   box_loss   cls_loss   dfl_loss  Instances       Size\n"
     ]
    },
    {
     "name": "stderr",
     "output_type": "stream",
     "text": [
      "     82/100      8.82G     0.2116     0.1441     0.7664         72        640: 100%|██████████| 1191/1191 [07:43<00:00,  2.57it/s]\n",
      "                 Class     Images  Instances      Box(P          R      mAP50  mAP50-95): 100%|██████████| 66/66 [00:17<00:00,  3.80it/s]"
     ]
    },
    {
     "name": "stdout",
     "output_type": "stream",
     "text": [
      "                   all       1044      16167       0.71      0.482       0.56      0.365\n"
     ]
    },
    {
     "name": "stderr",
     "output_type": "stream",
     "text": [
      "\n"
     ]
    },
    {
     "name": "stdout",
     "output_type": "stream",
     "text": [
      "\n",
      "      Epoch    GPU_mem   box_loss   cls_loss   dfl_loss  Instances       Size\n"
     ]
    },
    {
     "name": "stderr",
     "output_type": "stream",
     "text": [
      "     83/100      8.84G      0.206     0.1404     0.7659         85        640: 100%|██████████| 1191/1191 [07:43<00:00,  2.57it/s]\n",
      "                 Class     Images  Instances      Box(P          R      mAP50  mAP50-95): 100%|██████████| 66/66 [00:17<00:00,  3.80it/s]"
     ]
    },
    {
     "name": "stdout",
     "output_type": "stream",
     "text": [
      "                   all       1044      16167      0.734      0.469      0.559      0.366\n"
     ]
    },
    {
     "name": "stderr",
     "output_type": "stream",
     "text": [
      "\n"
     ]
    },
    {
     "name": "stdout",
     "output_type": "stream",
     "text": [
      "\n",
      "      Epoch    GPU_mem   box_loss   cls_loss   dfl_loss  Instances       Size\n"
     ]
    },
    {
     "name": "stderr",
     "output_type": "stream",
     "text": [
      "     84/100      8.82G     0.2018     0.1379     0.7656         94        640: 100%|██████████| 1191/1191 [07:43<00:00,  2.57it/s]\n",
      "                 Class     Images  Instances      Box(P          R      mAP50  mAP50-95): 100%|██████████| 66/66 [00:17<00:00,  3.81it/s]"
     ]
    },
    {
     "name": "stdout",
     "output_type": "stream",
     "text": [
      "                   all       1044      16167      0.723      0.473       0.56      0.366\n"
     ]
    },
    {
     "name": "stderr",
     "output_type": "stream",
     "text": [
      "\n"
     ]
    },
    {
     "name": "stdout",
     "output_type": "stream",
     "text": [
      "\n",
      "      Epoch    GPU_mem   box_loss   cls_loss   dfl_loss  Instances       Size\n"
     ]
    },
    {
     "name": "stderr",
     "output_type": "stream",
     "text": [
      "     85/100      8.79G     0.1974     0.1354     0.7656         50        640: 100%|██████████| 1191/1191 [07:43<00:00,  2.57it/s]\n",
      "                 Class     Images  Instances      Box(P          R      mAP50  mAP50-95): 100%|██████████| 66/66 [00:17<00:00,  3.81it/s]"
     ]
    },
    {
     "name": "stdout",
     "output_type": "stream",
     "text": [
      "                   all       1044      16167      0.703      0.481      0.557      0.365\n"
     ]
    },
    {
     "name": "stderr",
     "output_type": "stream",
     "text": [
      "\n"
     ]
    },
    {
     "name": "stdout",
     "output_type": "stream",
     "text": [
      "\n",
      "      Epoch    GPU_mem   box_loss   cls_loss   dfl_loss  Instances       Size\n"
     ]
    },
    {
     "name": "stderr",
     "output_type": "stream",
     "text": [
      "     86/100      8.63G     0.1928     0.1325     0.7649         58        640: 100%|██████████| 1191/1191 [07:43<00:00,  2.57it/s]\n",
      "                 Class     Images  Instances      Box(P          R      mAP50  mAP50-95): 100%|██████████| 66/66 [00:17<00:00,  3.80it/s]"
     ]
    },
    {
     "name": "stdout",
     "output_type": "stream",
     "text": [
      "                   all       1044      16167      0.704      0.479      0.556      0.362\n"
     ]
    },
    {
     "name": "stderr",
     "output_type": "stream",
     "text": [
      "\n"
     ]
    },
    {
     "name": "stdout",
     "output_type": "stream",
     "text": [
      "\n",
      "      Epoch    GPU_mem   box_loss   cls_loss   dfl_loss  Instances       Size\n"
     ]
    },
    {
     "name": "stderr",
     "output_type": "stream",
     "text": [
      "     87/100      8.77G     0.1944     0.1333     0.7654         79        640: 100%|██████████| 1191/1191 [07:43<00:00,  2.57it/s]\n",
      "                 Class     Images  Instances      Box(P          R      mAP50  mAP50-95): 100%|██████████| 66/66 [00:17<00:00,  3.81it/s]"
     ]
    },
    {
     "name": "stdout",
     "output_type": "stream",
     "text": [
      "                   all       1044      16167      0.701      0.484      0.555      0.362\n"
     ]
    },
    {
     "name": "stderr",
     "output_type": "stream",
     "text": [
      "\n"
     ]
    },
    {
     "name": "stdout",
     "output_type": "stream",
     "text": [
      "\n",
      "      Epoch    GPU_mem   box_loss   cls_loss   dfl_loss  Instances       Size\n"
     ]
    },
    {
     "name": "stderr",
     "output_type": "stream",
     "text": [
      "     88/100      8.78G     0.1893     0.1305      0.765         77        640: 100%|██████████| 1191/1191 [07:43<00:00,  2.57it/s]\n",
      "                 Class     Images  Instances      Box(P          R      mAP50  mAP50-95): 100%|██████████| 66/66 [00:17<00:00,  3.81it/s]"
     ]
    },
    {
     "name": "stdout",
     "output_type": "stream",
     "text": [
      "                   all       1044      16167      0.707      0.482      0.556      0.362\n"
     ]
    },
    {
     "name": "stderr",
     "output_type": "stream",
     "text": [
      "\n"
     ]
    },
    {
     "name": "stdout",
     "output_type": "stream",
     "text": [
      "\n",
      "      Epoch    GPU_mem   box_loss   cls_loss   dfl_loss  Instances       Size\n"
     ]
    },
    {
     "name": "stderr",
     "output_type": "stream",
     "text": [
      "     89/100      8.81G     0.1866     0.1287     0.7648         64        640: 100%|██████████| 1191/1191 [07:40<00:00,  2.58it/s]\n",
      "                 Class     Images  Instances      Box(P          R      mAP50  mAP50-95): 100%|██████████| 66/66 [00:17<00:00,  3.83it/s]"
     ]
    },
    {
     "name": "stdout",
     "output_type": "stream",
     "text": [
      "                   all       1044      16167       0.71      0.481      0.554      0.362\n"
     ]
    },
    {
     "name": "stderr",
     "output_type": "stream",
     "text": [
      "\n"
     ]
    },
    {
     "name": "stdout",
     "output_type": "stream",
     "text": [
      "\n",
      "      Epoch    GPU_mem   box_loss   cls_loss   dfl_loss  Instances       Size\n"
     ]
    },
    {
     "name": "stderr",
     "output_type": "stream",
     "text": [
      "     90/100      8.79G     0.1837     0.1268     0.7648         77        640: 100%|██████████| 1191/1191 [07:43<00:00,  2.57it/s]\n",
      "                 Class     Images  Instances      Box(P          R      mAP50  mAP50-95): 100%|██████████| 66/66 [00:17<00:00,  3.83it/s]"
     ]
    },
    {
     "name": "stdout",
     "output_type": "stream",
     "text": [
      "                   all       1044      16167      0.698       0.48      0.554      0.361\n"
     ]
    },
    {
     "name": "stderr",
     "output_type": "stream",
     "text": [
      "\n"
     ]
    },
    {
     "name": "stdout",
     "output_type": "stream",
     "text": [
      "Closing dataloader mosaic\n",
      "\u001b[34m\u001b[1malbumentations: \u001b[0mBlur(p=0.01, blur_limit=(3, 7)), MedianBlur(p=0.01, blur_limit=(3, 7)), ToGray(p=0.01, num_output_channels=3, method='weighted_average'), CLAHE(p=0.01, clip_limit=(1.0, 4.0), tile_grid_size=(8, 8))\n",
      "\n",
      "      Epoch    GPU_mem   box_loss   cls_loss   dfl_loss  Instances       Size\n"
     ]
    },
    {
     "name": "stderr",
     "output_type": "stream",
     "text": [
      "     91/100      8.77G     0.1795     0.1248     0.7644         75        640: 100%|██████████| 1191/1191 [07:41<00:00,  2.58it/s]\n",
      "                 Class     Images  Instances      Box(P          R      mAP50  mAP50-95): 100%|██████████| 66/66 [00:17<00:00,  3.81it/s]"
     ]
    },
    {
     "name": "stdout",
     "output_type": "stream",
     "text": [
      "                   all       1044      16167      0.698      0.484      0.552      0.361\n"
     ]
    },
    {
     "name": "stderr",
     "output_type": "stream",
     "text": [
      "\n"
     ]
    },
    {
     "name": "stdout",
     "output_type": "stream",
     "text": [
      "\n",
      "      Epoch    GPU_mem   box_loss   cls_loss   dfl_loss  Instances       Size\n"
     ]
    },
    {
     "name": "stderr",
     "output_type": "stream",
     "text": [
      "     92/100      8.83G     0.1788     0.1238     0.7646         71        640: 100%|██████████| 1191/1191 [07:42<00:00,  2.58it/s]\n",
      "                 Class     Images  Instances      Box(P          R      mAP50  mAP50-95): 100%|██████████| 66/66 [00:17<00:00,  3.81it/s]"
     ]
    },
    {
     "name": "stdout",
     "output_type": "stream",
     "text": [
      "                   all       1044      16167      0.693      0.484      0.553       0.36\n"
     ]
    },
    {
     "name": "stderr",
     "output_type": "stream",
     "text": [
      "\n"
     ]
    },
    {
     "name": "stdout",
     "output_type": "stream",
     "text": [
      "\n",
      "      Epoch    GPU_mem   box_loss   cls_loss   dfl_loss  Instances       Size\n"
     ]
    },
    {
     "name": "stderr",
     "output_type": "stream",
     "text": [
      "     93/100      8.85G     0.1758     0.1221     0.7642         77        640: 100%|██████████| 1191/1191 [07:44<00:00,  2.56it/s]\n",
      "                 Class     Images  Instances      Box(P          R      mAP50  mAP50-95): 100%|██████████| 66/66 [00:17<00:00,  3.79it/s]"
     ]
    },
    {
     "name": "stdout",
     "output_type": "stream",
     "text": [
      "                   all       1044      16167      0.693      0.478      0.552      0.359\n"
     ]
    },
    {
     "name": "stderr",
     "output_type": "stream",
     "text": [
      "\n"
     ]
    },
    {
     "name": "stdout",
     "output_type": "stream",
     "text": [
      "\n",
      "      Epoch    GPU_mem   box_loss   cls_loss   dfl_loss  Instances       Size\n"
     ]
    },
    {
     "name": "stderr",
     "output_type": "stream",
     "text": [
      "     94/100      8.57G     0.1711     0.1196     0.7636         66        640: 100%|██████████| 1191/1191 [07:45<00:00,  2.56it/s]\n",
      "                 Class     Images  Instances      Box(P          R      mAP50  mAP50-95): 100%|██████████| 66/66 [00:17<00:00,  3.80it/s]"
     ]
    },
    {
     "name": "stdout",
     "output_type": "stream",
     "text": [
      "                   all       1044      16167      0.691      0.475      0.551      0.359\n"
     ]
    },
    {
     "name": "stderr",
     "output_type": "stream",
     "text": [
      "\n"
     ]
    },
    {
     "name": "stdout",
     "output_type": "stream",
     "text": [
      "\n",
      "      Epoch    GPU_mem   box_loss   cls_loss   dfl_loss  Instances       Size\n"
     ]
    },
    {
     "name": "stderr",
     "output_type": "stream",
     "text": [
      "     95/100      8.84G     0.1681     0.1182     0.7634         92        640: 100%|██████████| 1191/1191 [07:45<00:00,  2.56it/s]\n",
      "                 Class     Images  Instances      Box(P          R      mAP50  mAP50-95): 100%|██████████| 66/66 [00:17<00:00,  3.80it/s]"
     ]
    },
    {
     "name": "stdout",
     "output_type": "stream",
     "text": [
      "                   all       1044      16167      0.695      0.475       0.55      0.359\n"
     ]
    },
    {
     "name": "stderr",
     "output_type": "stream",
     "text": [
      "\n"
     ]
    },
    {
     "name": "stdout",
     "output_type": "stream",
     "text": [
      "\n",
      "      Epoch    GPU_mem   box_loss   cls_loss   dfl_loss  Instances       Size\n"
     ]
    },
    {
     "name": "stderr",
     "output_type": "stream",
     "text": [
      "     96/100      8.83G     0.1668      0.117     0.7635         53        640: 100%|██████████| 1191/1191 [07:45<00:00,  2.56it/s]\n",
      "                 Class     Images  Instances      Box(P          R      mAP50  mAP50-95): 100%|██████████| 66/66 [00:17<00:00,  3.79it/s]"
     ]
    },
    {
     "name": "stdout",
     "output_type": "stream",
     "text": [
      "                   all       1044      16167      0.695      0.478      0.549      0.358\n"
     ]
    },
    {
     "name": "stderr",
     "output_type": "stream",
     "text": [
      "\n"
     ]
    },
    {
     "name": "stdout",
     "output_type": "stream",
     "text": [
      "\n",
      "      Epoch    GPU_mem   box_loss   cls_loss   dfl_loss  Instances       Size\n"
     ]
    },
    {
     "name": "stderr",
     "output_type": "stream",
     "text": [
      "     97/100      8.81G     0.1655     0.1166     0.7637         20        640: 100%|██████████| 1191/1191 [07:45<00:00,  2.56it/s]\n",
      "                 Class     Images  Instances      Box(P          R      mAP50  mAP50-95): 100%|██████████| 66/66 [00:17<00:00,  3.79it/s]"
     ]
    },
    {
     "name": "stdout",
     "output_type": "stream",
     "text": [
      "                   all       1044      16167      0.694      0.479      0.549      0.358\n"
     ]
    },
    {
     "name": "stderr",
     "output_type": "stream",
     "text": [
      "\n"
     ]
    },
    {
     "name": "stdout",
     "output_type": "stream",
     "text": [
      "\n",
      "      Epoch    GPU_mem   box_loss   cls_loss   dfl_loss  Instances       Size\n"
     ]
    },
    {
     "name": "stderr",
     "output_type": "stream",
     "text": [
      "     98/100      8.79G     0.1642     0.1155     0.7639         43        640: 100%|██████████| 1191/1191 [07:42<00:00,  2.57it/s]\n",
      "                 Class     Images  Instances      Box(P          R      mAP50  mAP50-95): 100%|██████████| 66/66 [00:17<00:00,  3.77it/s]"
     ]
    },
    {
     "name": "stdout",
     "output_type": "stream",
     "text": [
      "                   all       1044      16167      0.692      0.479      0.549      0.358\n"
     ]
    },
    {
     "name": "stderr",
     "output_type": "stream",
     "text": [
      "\n"
     ]
    },
    {
     "name": "stdout",
     "output_type": "stream",
     "text": [
      "\n",
      "      Epoch    GPU_mem   box_loss   cls_loss   dfl_loss  Instances       Size\n"
     ]
    },
    {
     "name": "stderr",
     "output_type": "stream",
     "text": [
      "     99/100      8.84G       0.16     0.1135     0.7632         58        640: 100%|██████████| 1191/1191 [07:47<00:00,  2.55it/s]\n",
      "                 Class     Images  Instances      Box(P          R      mAP50  mAP50-95): 100%|██████████| 66/66 [00:17<00:00,  3.77it/s]"
     ]
    },
    {
     "name": "stdout",
     "output_type": "stream",
     "text": [
      "                   all       1044      16167      0.692      0.479      0.549      0.357\n"
     ]
    },
    {
     "name": "stderr",
     "output_type": "stream",
     "text": [
      "\n"
     ]
    },
    {
     "name": "stdout",
     "output_type": "stream",
     "text": [
      "\n",
      "      Epoch    GPU_mem   box_loss   cls_loss   dfl_loss  Instances       Size\n"
     ]
    },
    {
     "name": "stderr",
     "output_type": "stream",
     "text": [
      "    100/100      8.73G     0.1589     0.1127     0.7634         88        640: 100%|██████████| 1191/1191 [07:47<00:00,  2.55it/s]\n",
      "                 Class     Images  Instances      Box(P          R      mAP50  mAP50-95): 100%|██████████| 66/66 [00:18<00:00,  3.65it/s]"
     ]
    },
    {
     "name": "stdout",
     "output_type": "stream",
     "text": [
      "                   all       1044      16167      0.691      0.478      0.548      0.357\n"
     ]
    },
    {
     "name": "stderr",
     "output_type": "stream",
     "text": [
      "\n"
     ]
    },
    {
     "name": "stdout",
     "output_type": "stream",
     "text": [
      "\n",
      "100 epochs completed in 13.413 hours.\n",
      "Optimizer stripped from runs/detect/train10/weights/last.pt, 114.4MB\n",
      "Optimizer stripped from runs/detect/train10/weights/best.pt, 114.4MB\n",
      "\n",
      "Validating runs/detect/train10/weights/best.pt...\n",
      "WARNING ⚠️ validating an untrained model YAML will result in 0 mAP.\n",
      "Ultralytics 8.3.33 🚀 Python-3.8.20 torch-2.4.1 CUDA:0 (NVIDIA GeForce RTX 4060 Ti, 16073MiB)\n",
      "YOLO11x summary (fused): 464 layers, 56,844,349 parameters, 0 gradients, 194.5 GFLOPs\n"
     ]
    },
    {
     "name": "stderr",
     "output_type": "stream",
     "text": [
      "                 Class     Images  Instances      Box(P          R      mAP50  mAP50-95): 100%|██████████| 66/66 [00:17<00:00,  3.74it/s]\n"
     ]
    },
    {
     "name": "stdout",
     "output_type": "stream",
     "text": [
      "                   all       1044      16167      0.704      0.476       0.56      0.366\n",
      "                Person        620       3106      0.792      0.598      0.711      0.447\n",
      "                  Bike        119        183      0.602      0.446      0.501      0.308\n",
      "                   Car        919       6956      0.839      0.719      0.817      0.627\n",
      "            Motorcycle         56         73      0.792      0.342      0.527      0.324\n",
      "                 Train        141        176      0.752      0.403      0.558      0.441\n",
      "         Traffic light         43         45      0.375      0.333      0.249      0.193\n",
      "           Street Sign        444       2062      0.687      0.506      0.563      0.252\n",
      "                   Dog        124        124      0.755        0.5      0.551      0.325\n",
      "            Skateboard        857       3442      0.739       0.44      0.567       0.38\n",
      "Speed: 0.3ms preprocess, 13.7ms inference, 0.0ms loss, 0.5ms postprocess per image\n",
      "Results saved to \u001b[1mruns/detect/train10\u001b[0m\n"
     ]
    }
   ],
   "source": [
    "from ultralytics import *\n",
    "\n",
    "model = YOLO(\"yolo11x.yaml\").load(\"yolo11x.pt\")  # build from YAML and transfer weights\n",
    "\n",
    "# Train the model\n",
    "results = model.train(data=\"/home/dylan/projects/YOLO-RGB-T/data-RGB.yaml\", epochs=100, imgsz=640, batch=8)"
   ]
  },
  {
   "cell_type": "code",
   "execution_count": null,
   "id": "6de0dcdb",
   "metadata": {},
   "outputs": [],
   "source": []
  }
 ],
 "metadata": {
  "kernelspec": {
   "display_name": "openmmlab",
   "language": "python",
   "name": "python3"
  },
  "language_info": {
   "codemirror_mode": {
    "name": "ipython",
    "version": 3
   },
   "file_extension": ".py",
   "mimetype": "text/x-python",
   "name": "python",
   "nbconvert_exporter": "python",
   "pygments_lexer": "ipython3",
   "version": "3.8.20"
  }
 },
 "nbformat": 4,
 "nbformat_minor": 5
}
