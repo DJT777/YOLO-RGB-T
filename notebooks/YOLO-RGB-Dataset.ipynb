{
 "cells": [
  {
   "cell_type": "code",
   "execution_count": 1,
   "id": "d6af2877-8b6d-4940-be1b-1971c6331460",
   "metadata": {},
   "outputs": [
    {
     "name": "stdout",
     "output_type": "stream",
     "text": [
      "Requirement already satisfied: ultralytics in /home/dylan/miniconda3/envs/openmmlab/lib/python3.8/site-packages (8.3.33)\n",
      "Requirement already satisfied: numpy>=1.23.0 in /home/dylan/miniconda3/envs/openmmlab/lib/python3.8/site-packages (from ultralytics) (1.24.4)\n",
      "Requirement already satisfied: matplotlib>=3.3.0 in /home/dylan/miniconda3/envs/openmmlab/lib/python3.8/site-packages (from ultralytics) (3.7.5)\n",
      "Requirement already satisfied: opencv-python>=4.6.0 in /home/dylan/miniconda3/envs/openmmlab/lib/python3.8/site-packages (from ultralytics) (4.10.0.84)\n",
      "Requirement already satisfied: pillow>=7.1.2 in /home/dylan/miniconda3/envs/openmmlab/lib/python3.8/site-packages (from ultralytics) (10.4.0)\n",
      "Requirement already satisfied: pyyaml>=5.3.1 in /home/dylan/miniconda3/envs/openmmlab/lib/python3.8/site-packages (from ultralytics) (6.0.2)\n",
      "Requirement already satisfied: requests>=2.23.0 in /home/dylan/miniconda3/envs/openmmlab/lib/python3.8/site-packages (from ultralytics) (2.28.2)\n",
      "Requirement already satisfied: scipy>=1.4.1 in /home/dylan/miniconda3/envs/openmmlab/lib/python3.8/site-packages (from ultralytics) (1.10.1)\n",
      "Requirement already satisfied: torch>=1.8.0 in /home/dylan/miniconda3/envs/openmmlab/lib/python3.8/site-packages (from ultralytics) (2.4.1)\n",
      "Requirement already satisfied: torchvision>=0.9.0 in /home/dylan/miniconda3/envs/openmmlab/lib/python3.8/site-packages (from ultralytics) (0.20.0)\n",
      "Requirement already satisfied: tqdm>=4.64.0 in /home/dylan/miniconda3/envs/openmmlab/lib/python3.8/site-packages (from ultralytics) (4.65.2)\n",
      "Requirement already satisfied: psutil in /home/dylan/miniconda3/envs/openmmlab/lib/python3.8/site-packages (from ultralytics) (6.1.0)\n",
      "Requirement already satisfied: py-cpuinfo in /home/dylan/miniconda3/envs/openmmlab/lib/python3.8/site-packages (from ultralytics) (9.0.0)\n",
      "Requirement already satisfied: pandas>=1.1.4 in /home/dylan/miniconda3/envs/openmmlab/lib/python3.8/site-packages (from ultralytics) (2.0.3)\n",
      "Requirement already satisfied: seaborn>=0.11.0 in /home/dylan/miniconda3/envs/openmmlab/lib/python3.8/site-packages (from ultralytics) (0.13.2)\n",
      "Requirement already satisfied: ultralytics-thop>=2.0.0 in /home/dylan/miniconda3/envs/openmmlab/lib/python3.8/site-packages (from ultralytics) (2.0.11)\n",
      "Requirement already satisfied: contourpy>=1.0.1 in /home/dylan/miniconda3/envs/openmmlab/lib/python3.8/site-packages (from matplotlib>=3.3.0->ultralytics) (1.1.1)\n",
      "Requirement already satisfied: cycler>=0.10 in /home/dylan/miniconda3/envs/openmmlab/lib/python3.8/site-packages (from matplotlib>=3.3.0->ultralytics) (0.12.1)\n",
      "Requirement already satisfied: fonttools>=4.22.0 in /home/dylan/miniconda3/envs/openmmlab/lib/python3.8/site-packages (from matplotlib>=3.3.0->ultralytics) (4.55.0)\n",
      "Requirement already satisfied: kiwisolver>=1.0.1 in /home/dylan/miniconda3/envs/openmmlab/lib/python3.8/site-packages (from matplotlib>=3.3.0->ultralytics) (1.4.7)\n",
      "Requirement already satisfied: packaging>=20.0 in /home/dylan/miniconda3/envs/openmmlab/lib/python3.8/site-packages (from matplotlib>=3.3.0->ultralytics) (24.2)\n",
      "Requirement already satisfied: pyparsing>=2.3.1 in /home/dylan/miniconda3/envs/openmmlab/lib/python3.8/site-packages (from matplotlib>=3.3.0->ultralytics) (3.1.4)\n",
      "Requirement already satisfied: python-dateutil>=2.7 in /home/dylan/miniconda3/envs/openmmlab/lib/python3.8/site-packages (from matplotlib>=3.3.0->ultralytics) (2.9.0.post0)\n",
      "Requirement already satisfied: importlib-resources>=3.2.0 in /home/dylan/miniconda3/envs/openmmlab/lib/python3.8/site-packages (from matplotlib>=3.3.0->ultralytics) (6.4.5)\n",
      "Requirement already satisfied: pytz>=2020.1 in /home/dylan/miniconda3/envs/openmmlab/lib/python3.8/site-packages (from pandas>=1.1.4->ultralytics) (2023.4)\n",
      "Requirement already satisfied: tzdata>=2022.1 in /home/dylan/miniconda3/envs/openmmlab/lib/python3.8/site-packages (from pandas>=1.1.4->ultralytics) (2024.2)\n",
      "Requirement already satisfied: charset-normalizer<4,>=2 in /home/dylan/miniconda3/envs/openmmlab/lib/python3.8/site-packages (from requests>=2.23.0->ultralytics) (3.3.2)\n",
      "Requirement already satisfied: idna<4,>=2.5 in /home/dylan/miniconda3/envs/openmmlab/lib/python3.8/site-packages (from requests>=2.23.0->ultralytics) (3.7)\n",
      "Requirement already satisfied: urllib3<1.27,>=1.21.1 in /home/dylan/miniconda3/envs/openmmlab/lib/python3.8/site-packages (from requests>=2.23.0->ultralytics) (1.26.20)\n",
      "Requirement already satisfied: certifi>=2017.4.17 in /home/dylan/miniconda3/envs/openmmlab/lib/python3.8/site-packages (from requests>=2.23.0->ultralytics) (2024.8.30)\n",
      "Requirement already satisfied: filelock in /home/dylan/miniconda3/envs/openmmlab/lib/python3.8/site-packages (from torch>=1.8.0->ultralytics) (3.14.0)\n",
      "Requirement already satisfied: typing-extensions>=4.8.0 in /home/dylan/miniconda3/envs/openmmlab/lib/python3.8/site-packages (from torch>=1.8.0->ultralytics) (4.12.2)\n",
      "Requirement already satisfied: sympy in /home/dylan/miniconda3/envs/openmmlab/lib/python3.8/site-packages (from torch>=1.8.0->ultralytics) (1.13.2)\n",
      "Requirement already satisfied: networkx in /home/dylan/miniconda3/envs/openmmlab/lib/python3.8/site-packages (from torch>=1.8.0->ultralytics) (3.1)\n",
      "Requirement already satisfied: jinja2 in /home/dylan/miniconda3/envs/openmmlab/lib/python3.8/site-packages (from torch>=1.8.0->ultralytics) (3.1.4)\n",
      "Requirement already satisfied: fsspec in /home/dylan/miniconda3/envs/openmmlab/lib/python3.8/site-packages (from torch>=1.8.0->ultralytics) (2024.10.0)\n",
      "Requirement already satisfied: zipp>=3.1.0 in /home/dylan/miniconda3/envs/openmmlab/lib/python3.8/site-packages (from importlib-resources>=3.2.0->matplotlib>=3.3.0->ultralytics) (3.20.2)\n",
      "Requirement already satisfied: six>=1.5 in /home/dylan/miniconda3/envs/openmmlab/lib/python3.8/site-packages (from python-dateutil>=2.7->matplotlib>=3.3.0->ultralytics) (1.16.0)\n",
      "Requirement already satisfied: MarkupSafe>=2.0 in /home/dylan/miniconda3/envs/openmmlab/lib/python3.8/site-packages (from jinja2->torch>=1.8.0->ultralytics) (2.1.3)\n",
      "Requirement already satisfied: mpmath<1.4,>=1.1.0 in /home/dylan/miniconda3/envs/openmmlab/lib/python3.8/site-packages (from sympy->torch>=1.8.0->ultralytics) (1.3.0)\n"
     ]
    }
   ],
   "source": [
    "!pip install ultralytics"
   ]
  },
  {
   "cell_type": "code",
   "execution_count": 21,
   "id": "5ae3186e-357b-4e02-9e74-c53015be8da8",
   "metadata": {},
   "outputs": [],
   "source": [
    "import os\n",
    "import json\n",
    "import shutil\n",
    "from pathlib import Path\n",
    "from tqdm import tqdm\n",
    "from PIL import Image\n",
    "\n",
    "# Define paths\n",
    "coco_json_path = \"/home/dylan/Downloads/FLIR_ADAS_v2/video_rgb_test/coco.json\"  # Path to the COCO JSON file\n",
    "output_dir = \"./FLIR/RGB/images/test\"  # Target YOLO output directory\n",
    "annotations_dir = \"./FLIR/RGB/labels/test\"  # YOLO labels directory\n",
    "images_dir = \"/home/dylan/Downloads/FLIR_ADAS_v2/video_rgb_test/\"  # Source images directory (if different)\n",
    "\n",
    "# Create directories\n",
    "os.makedirs(output_dir, exist_ok=True)\n",
    "os.makedirs(annotations_dir, exist_ok=True)\n"
   ]
  },
  {
   "cell_type": "code",
   "execution_count": 22,
   "id": "e05d5fbd-d620-4435-ab3e-5279cb2d3b9e",
   "metadata": {},
   "outputs": [],
   "source": [
    "# Load the COCO JSON file\n",
    "with open(coco_json_path, 'r') as f:\n",
    "    coco_data = json.load(f)\n",
    "\n",
    "# Extract information from COCO JSON\n",
    "images = coco_data['images']\n",
    "annotations = coco_data['annotations']\n",
    "categories = coco_data['categories']\n",
    "\n",
    "# Map category IDs to names and YOLO class indices\n",
    "category_map = {category['id']: i for i, category in enumerate(categories)}\n"
   ]
  },
  {
   "cell_type": "code",
   "execution_count": 23,
   "id": "66ee0e83-3966-45d1-b4d3-a63841cf5b0d",
   "metadata": {},
   "outputs": [],
   "source": [
    "def convert_bbox_to_yolo_format(bbox, img_width, img_height):\n",
    "    \"\"\"\n",
    "    Convert COCO bbox [x_min, y_min, width, height] to YOLO format [x_center, y_center, width, height]\n",
    "    \"\"\"\n",
    "    x_min, y_min, box_width, box_height = bbox\n",
    "    x_center = x_min + box_width / 2\n",
    "    y_center = y_min + box_height / 2\n",
    "\n",
    "    # Normalize to [0, 1] range\n",
    "    return [\n",
    "        x_center / img_width,\n",
    "        y_center / img_height,\n",
    "        box_width / img_width,\n",
    "        box_height / img_height,\n",
    "    ]\n",
    "\n",
    "# Group annotations by image_id\n",
    "image_annotations = {img['id']: [] for img in images}\n",
    "for annotation in annotations:\n",
    "    image_annotations[annotation['image_id']].append(annotation)\n"
   ]
  },
  {
   "cell_type": "code",
   "execution_count": 24,
   "id": "3443b96b-bdad-492d-bc64-618cfae16cce",
   "metadata": {},
   "outputs": [
    {
     "name": "stderr",
     "output_type": "stream",
     "text": [
      "Processing images: 100%|██████████████████| 3749/3749 [00:00<00:00, 3983.27it/s]\n"
     ]
    }
   ],
   "source": [
    "# Process each image and its annotations\n",
    "for img in tqdm(images, desc=\"Processing images\"):\n",
    "    # Load image metadata\n",
    "    image_id = img['id']\n",
    "    file_name = img['file_name']\n",
    "    width, height = img['width'], img['height']\n",
    "    source_image_path = os.path.join(images_dir, file_name)\n",
    "    target_image_path = os.path.join(output_dir, file_name)\n",
    "    \n",
    "    # Ensure the directory tree exists for the target path\n",
    "    os.makedirs(os.path.dirname(target_image_path), exist_ok=True)\n",
    "\n",
    "    # Copy the image to the output directory\n",
    "    if not os.path.exists(target_image_path):\n",
    "        shutil.copy(source_image_path, target_image_path)\n",
    "\n",
    "    # Create YOLO annotation file\n",
    "    yolo_annotations = []\n",
    "    for annotation in image_annotations[image_id]:\n",
    "        category_id = annotation['category_id']\n",
    "        yolo_class = category_map[category_id]\n",
    "        bbox = annotation['bbox']\n",
    "        yolo_bbox = convert_bbox_to_yolo_format(bbox, width, height)\n",
    "        yolo_annotations.append([yolo_class, *yolo_bbox])\n",
    "\n",
    "    # Ensure the directory tree exists for the annotation path\n",
    "    yolo_label_path = os.path.join(annotations_dir, Path(file_name).stem + \".txt\")\n",
    "    os.makedirs(os.path.dirname(yolo_label_path), exist_ok=True)\n",
    "    \n",
    "    # Save YOLO annotations\n",
    "    with open(yolo_label_path, 'w') as f:\n",
    "        for yolo_annotation in yolo_annotations:\n",
    "            f.write(\" \".join(map(str, yolo_annotation)) + \"\\n\")\n"
   ]
  },
  {
   "cell_type": "code",
   "execution_count": 28,
   "id": "41b7ac40-3e1f-4c12-abd3-56669880eb45",
   "metadata": {},
   "outputs": [
    {
     "name": "stdout",
     "output_type": "stream",
     "text": [
      "Unique class IDs found: []\n"
     ]
    }
   ],
   "source": [
    "print(\"Hello World!\")"
   ]
  },
  {
   "cell_type": "code",
   "execution_count": null,
   "id": "16722115-44af-4b46-82eb-9d617337a27a",
   "metadata": {},
   "outputs": [],
   "source": []
  }
 ],
 "metadata": {
  "kernelspec": {
   "display_name": "Python 3 (ipykernel)",
   "language": "python",
   "name": "python3"
  },
  "language_info": {
   "codemirror_mode": {
    "name": "ipython",
    "version": 3
   },
   "file_extension": ".py",
   "mimetype": "text/x-python",
   "name": "python",
   "nbconvert_exporter": "python",
   "pygments_lexer": "ipython3",
   "version": "3.8.20"
  }
 },
 "nbformat": 4,
 "nbformat_minor": 5
}
