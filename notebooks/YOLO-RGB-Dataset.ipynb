{
 "cells": [
  {
   "cell_type": "code",
   "execution_count": 1,
   "id": "d6af2877-8b6d-4940-be1b-1971c6331460",
   "metadata": {},
   "outputs": [
    {
     "name": "stdout",
     "output_type": "stream",
     "text": [
      "Requirement already satisfied: ultralytics in /home/dylan/miniconda3/envs/openmmlab/lib/python3.8/site-packages (8.3.33)\n",
      "Requirement already satisfied: numpy>=1.23.0 in /home/dylan/miniconda3/envs/openmmlab/lib/python3.8/site-packages (from ultralytics) (1.24.4)\n",
      "Requirement already satisfied: matplotlib>=3.3.0 in /home/dylan/miniconda3/envs/openmmlab/lib/python3.8/site-packages (from ultralytics) (3.7.5)\n",
      "Requirement already satisfied: opencv-python>=4.6.0 in /home/dylan/miniconda3/envs/openmmlab/lib/python3.8/site-packages (from ultralytics) (4.10.0.84)\n",
      "Requirement already satisfied: pillow>=7.1.2 in /home/dylan/miniconda3/envs/openmmlab/lib/python3.8/site-packages (from ultralytics) (10.4.0)\n",
      "Requirement already satisfied: pyyaml>=5.3.1 in /home/dylan/miniconda3/envs/openmmlab/lib/python3.8/site-packages (from ultralytics) (6.0.2)\n",
      "Requirement already satisfied: requests>=2.23.0 in /home/dylan/miniconda3/envs/openmmlab/lib/python3.8/site-packages (from ultralytics) (2.28.2)\n",
      "Requirement already satisfied: scipy>=1.4.1 in /home/dylan/miniconda3/envs/openmmlab/lib/python3.8/site-packages (from ultralytics) (1.10.1)\n",
      "Requirement already satisfied: torch>=1.8.0 in /home/dylan/miniconda3/envs/openmmlab/lib/python3.8/site-packages (from ultralytics) (2.4.1)\n",
      "Requirement already satisfied: torchvision>=0.9.0 in /home/dylan/miniconda3/envs/openmmlab/lib/python3.8/site-packages (from ultralytics) (0.20.0)\n",
      "Requirement already satisfied: tqdm>=4.64.0 in /home/dylan/miniconda3/envs/openmmlab/lib/python3.8/site-packages (from ultralytics) (4.65.2)\n",
      "Requirement already satisfied: psutil in /home/dylan/miniconda3/envs/openmmlab/lib/python3.8/site-packages (from ultralytics) (6.1.0)\n",
      "Requirement already satisfied: py-cpuinfo in /home/dylan/miniconda3/envs/openmmlab/lib/python3.8/site-packages (from ultralytics) (9.0.0)\n",
      "Requirement already satisfied: pandas>=1.1.4 in /home/dylan/miniconda3/envs/openmmlab/lib/python3.8/site-packages (from ultralytics) (2.0.3)\n",
      "Requirement already satisfied: seaborn>=0.11.0 in /home/dylan/miniconda3/envs/openmmlab/lib/python3.8/site-packages (from ultralytics) (0.13.2)\n",
      "Requirement already satisfied: ultralytics-thop>=2.0.0 in /home/dylan/miniconda3/envs/openmmlab/lib/python3.8/site-packages (from ultralytics) (2.0.11)\n",
      "Requirement already satisfied: contourpy>=1.0.1 in /home/dylan/miniconda3/envs/openmmlab/lib/python3.8/site-packages (from matplotlib>=3.3.0->ultralytics) (1.1.1)\n",
      "Requirement already satisfied: cycler>=0.10 in /home/dylan/miniconda3/envs/openmmlab/lib/python3.8/site-packages (from matplotlib>=3.3.0->ultralytics) (0.12.1)\n",
      "Requirement already satisfied: fonttools>=4.22.0 in /home/dylan/miniconda3/envs/openmmlab/lib/python3.8/site-packages (from matplotlib>=3.3.0->ultralytics) (4.55.0)\n",
      "Requirement already satisfied: kiwisolver>=1.0.1 in /home/dylan/miniconda3/envs/openmmlab/lib/python3.8/site-packages (from matplotlib>=3.3.0->ultralytics) (1.4.7)\n",
      "Requirement already satisfied: packaging>=20.0 in /home/dylan/miniconda3/envs/openmmlab/lib/python3.8/site-packages (from matplotlib>=3.3.0->ultralytics) (24.2)\n",
      "Requirement already satisfied: pyparsing>=2.3.1 in /home/dylan/miniconda3/envs/openmmlab/lib/python3.8/site-packages (from matplotlib>=3.3.0->ultralytics) (3.1.4)\n",
      "Requirement already satisfied: python-dateutil>=2.7 in /home/dylan/miniconda3/envs/openmmlab/lib/python3.8/site-packages (from matplotlib>=3.3.0->ultralytics) (2.9.0.post0)\n",
      "Requirement already satisfied: importlib-resources>=3.2.0 in /home/dylan/miniconda3/envs/openmmlab/lib/python3.8/site-packages (from matplotlib>=3.3.0->ultralytics) (6.4.5)\n",
      "Requirement already satisfied: pytz>=2020.1 in /home/dylan/miniconda3/envs/openmmlab/lib/python3.8/site-packages (from pandas>=1.1.4->ultralytics) (2023.4)\n",
      "Requirement already satisfied: tzdata>=2022.1 in /home/dylan/miniconda3/envs/openmmlab/lib/python3.8/site-packages (from pandas>=1.1.4->ultralytics) (2024.2)\n",
      "Requirement already satisfied: charset-normalizer<4,>=2 in /home/dylan/miniconda3/envs/openmmlab/lib/python3.8/site-packages (from requests>=2.23.0->ultralytics) (3.3.2)\n",
      "Requirement already satisfied: idna<4,>=2.5 in /home/dylan/miniconda3/envs/openmmlab/lib/python3.8/site-packages (from requests>=2.23.0->ultralytics) (3.7)\n",
      "Requirement already satisfied: urllib3<1.27,>=1.21.1 in /home/dylan/miniconda3/envs/openmmlab/lib/python3.8/site-packages (from requests>=2.23.0->ultralytics) (1.26.20)\n",
      "Requirement already satisfied: certifi>=2017.4.17 in /home/dylan/miniconda3/envs/openmmlab/lib/python3.8/site-packages (from requests>=2.23.0->ultralytics) (2024.8.30)\n",
      "Requirement already satisfied: filelock in /home/dylan/miniconda3/envs/openmmlab/lib/python3.8/site-packages (from torch>=1.8.0->ultralytics) (3.14.0)\n",
      "Requirement already satisfied: typing-extensions>=4.8.0 in /home/dylan/miniconda3/envs/openmmlab/lib/python3.8/site-packages (from torch>=1.8.0->ultralytics) (4.12.2)\n",
      "Requirement already satisfied: sympy in /home/dylan/miniconda3/envs/openmmlab/lib/python3.8/site-packages (from torch>=1.8.0->ultralytics) (1.13.2)\n",
      "Requirement already satisfied: networkx in /home/dylan/miniconda3/envs/openmmlab/lib/python3.8/site-packages (from torch>=1.8.0->ultralytics) (3.1)\n",
      "Requirement already satisfied: jinja2 in /home/dylan/miniconda3/envs/openmmlab/lib/python3.8/site-packages (from torch>=1.8.0->ultralytics) (3.1.4)\n",
      "Requirement already satisfied: fsspec in /home/dylan/miniconda3/envs/openmmlab/lib/python3.8/site-packages (from torch>=1.8.0->ultralytics) (2024.10.0)\n",
      "Requirement already satisfied: zipp>=3.1.0 in /home/dylan/miniconda3/envs/openmmlab/lib/python3.8/site-packages (from importlib-resources>=3.2.0->matplotlib>=3.3.0->ultralytics) (3.20.2)\n",
      "Requirement already satisfied: six>=1.5 in /home/dylan/miniconda3/envs/openmmlab/lib/python3.8/site-packages (from python-dateutil>=2.7->matplotlib>=3.3.0->ultralytics) (1.16.0)\n",
      "Requirement already satisfied: MarkupSafe>=2.0 in /home/dylan/miniconda3/envs/openmmlab/lib/python3.8/site-packages (from jinja2->torch>=1.8.0->ultralytics) (2.1.3)\n",
      "Requirement already satisfied: mpmath<1.4,>=1.1.0 in /home/dylan/miniconda3/envs/openmmlab/lib/python3.8/site-packages (from sympy->torch>=1.8.0->ultralytics) (1.3.0)\n"
     ]
    }
   ],
   "source": [
    "!pip install ultralytics"
   ]
  },
  {
   "cell_type": "code",
   "execution_count": null,
   "id": "5ae3186e-357b-4e02-9e74-c53015be8da8",
   "metadata": {},
   "outputs": [],
   "source": [
    "from ultralytics import YOLO\n",
    "\n",
    "\n",
    "model = YOLO(\"yolo11n.yaml\").load(\"yolo11n.pt\")  # build from YAML and transfer weights\n",
    "\n",
    "# Train the model\n",
    "results = model.train(data=\"coco8.yaml\", epochs=100, imgsz=640)"
   ]
  }
 ],
 "metadata": {
  "kernelspec": {
   "display_name": "Python 3 (ipykernel)",
   "language": "python",
   "name": "python3"
  },
  "language_info": {
   "codemirror_mode": {
    "name": "ipython",
    "version": 3
   },
   "file_extension": ".py",
   "mimetype": "text/x-python",
   "name": "python",
   "nbconvert_exporter": "python",
   "pygments_lexer": "ipython3",
   "version": "3.8.20"
  }
 },
 "nbformat": 4,
 "nbformat_minor": 5
}
